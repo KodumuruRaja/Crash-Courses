{
  "nbformat": 4,
  "nbformat_minor": 0,
  "metadata": {
    "colab": {
      "name": "Matplotlib (KGP Talkie) Crash Course.ipynb",
      "provenance": [],
      "collapsed_sections": [],
      "authorship_tag": "ABX9TyPqicROIk3bJWpTodEW/jmo",
      "include_colab_link": true
    },
    "kernelspec": {
      "name": "python3",
      "display_name": "Python 3"
    }
  },
  "cells": [
    {
      "cell_type": "markdown",
      "metadata": {
        "id": "view-in-github",
        "colab_type": "text"
      },
      "source": [
        "<a href=\"https://colab.research.google.com/github/KodumuruRaja/Crash-Courses/blob/main/Matplotlib-(Crash-Course).ipynb\" target=\"_parent\"><img src=\"https://colab.research.google.com/assets/colab-badge.svg\" alt=\"Open In Colab\"/></a>"
      ]
    },
    {
      "cell_type": "code",
      "metadata": {
        "id": "1ROb8xJNVHN7"
      },
      "source": [
        "import numpy as np\r\n",
        "import matplotlib.pyplot as plt\r\n",
        "from numpy.random import randint"
      ],
      "execution_count": null,
      "outputs": []
    },
    {
      "cell_type": "code",
      "metadata": {
        "colab": {
          "base_uri": "https://localhost:8080/"
        },
        "id": "9jkupMXfVPNG",
        "outputId": "f736ad9c-e277-4319-8eab-80e97b2d52cf"
      },
      "source": [
        "x=np.linspace(0,10,20)\r\n",
        "x"
      ],
      "execution_count": null,
      "outputs": [
        {
          "output_type": "execute_result",
          "data": {
            "text/plain": [
              "array([ 0.        ,  0.52631579,  1.05263158,  1.57894737,  2.10526316,\n",
              "        2.63157895,  3.15789474,  3.68421053,  4.21052632,  4.73684211,\n",
              "        5.26315789,  5.78947368,  6.31578947,  6.84210526,  7.36842105,\n",
              "        7.89473684,  8.42105263,  8.94736842,  9.47368421, 10.        ])"
            ]
          },
          "metadata": {
            "tags": []
          },
          "execution_count": 2
        }
      ]
    },
    {
      "cell_type": "code",
      "metadata": {
        "colab": {
          "base_uri": "https://localhost:8080/"
        },
        "id": "k2z9e9PcVX3J",
        "outputId": "1fa1affa-91dc-45cb-fa18-ecb4883e921e"
      },
      "source": [
        "y=randint(0,50,20)\r\n",
        "y"
      ],
      "execution_count": null,
      "outputs": [
        {
          "output_type": "execute_result",
          "data": {
            "text/plain": [
              "array([47, 28, 16, 28, 38, 46, 32, 28, 18, 10, 28, 48, 35, 49, 16, 26, 20,\n",
              "        4, 40,  1])"
            ]
          },
          "metadata": {
            "tags": []
          },
          "execution_count": 3
        }
      ]
    },
    {
      "cell_type": "code",
      "metadata": {
        "colab": {
          "base_uri": "https://localhost:8080/"
        },
        "id": "XtpMDyRaVudV",
        "outputId": "ad1bf7bb-43b9-40ae-960d-edae7dc770ef"
      },
      "source": [
        "x.size,y.size"
      ],
      "execution_count": null,
      "outputs": [
        {
          "output_type": "execute_result",
          "data": {
            "text/plain": [
              "(20, 20)"
            ]
          },
          "metadata": {
            "tags": []
          },
          "execution_count": 4
        }
      ]
    },
    {
      "cell_type": "code",
      "metadata": {
        "colab": {
          "base_uri": "https://localhost:8080/"
        },
        "id": "QcQBaanQV5p7",
        "outputId": "1d685d7d-90b6-47b4-f798-a74b36c701ac"
      },
      "source": [
        "plt"
      ],
      "execution_count": null,
      "outputs": [
        {
          "output_type": "execute_result",
          "data": {
            "text/plain": [
              "<module 'matplotlib.pyplot' from '/usr/local/lib/python3.6/dist-packages/matplotlib/pyplot.py'>"
            ]
          },
          "metadata": {
            "tags": []
          },
          "execution_count": 5
        }
      ]
    },
    {
      "cell_type": "code",
      "metadata": {
        "colab": {
          "base_uri": "https://localhost:8080/"
        },
        "id": "Er5dhTXZWBsy",
        "outputId": "38c5fb2c-d7f9-42f0-da91-df7890ba36ef"
      },
      "source": [
        "dir(plt)"
      ],
      "execution_count": null,
      "outputs": [
        {
          "output_type": "execute_result",
          "data": {
            "text/plain": [
              "['Annotation',\n",
              " 'Arrow',\n",
              " 'Artist',\n",
              " 'AutoLocator',\n",
              " 'Axes',\n",
              " 'Button',\n",
              " 'Circle',\n",
              " 'Figure',\n",
              " 'FigureCanvasBase',\n",
              " 'FixedFormatter',\n",
              " 'FixedLocator',\n",
              " 'FormatStrFormatter',\n",
              " 'Formatter',\n",
              " 'FuncFormatter',\n",
              " 'GridSpec',\n",
              " 'IndexLocator',\n",
              " 'Line2D',\n",
              " 'LinearLocator',\n",
              " 'Locator',\n",
              " 'LogFormatter',\n",
              " 'LogFormatterExponent',\n",
              " 'LogFormatterMathtext',\n",
              " 'LogLocator',\n",
              " 'MaxNLocator',\n",
              " 'MultipleLocator',\n",
              " 'Normalize',\n",
              " 'NullFormatter',\n",
              " 'NullLocator',\n",
              " 'Number',\n",
              " 'PolarAxes',\n",
              " 'Polygon',\n",
              " 'Rectangle',\n",
              " 'ScalarFormatter',\n",
              " 'Slider',\n",
              " 'Subplot',\n",
              " 'SubplotTool',\n",
              " 'Text',\n",
              " 'TickHelper',\n",
              " 'Widget',\n",
              " '_INSTALL_FIG_OBSERVER',\n",
              " '_IP_REGISTERED',\n",
              " '__builtins__',\n",
              " '__cached__',\n",
              " '__doc__',\n",
              " '__file__',\n",
              " '__loader__',\n",
              " '__name__',\n",
              " '__package__',\n",
              " '__spec__',\n",
              " '_auto_draw_if_interactive',\n",
              " '_backend_mod',\n",
              " '_get_running_interactive_framework',\n",
              " '_interactive_bk',\n",
              " '_log',\n",
              " '_pylab_helpers',\n",
              " '_setp',\n",
              " '_setup_pyplot_info_docstrings',\n",
              " '_show',\n",
              " 'acorr',\n",
              " 'angle_spectrum',\n",
              " 'annotate',\n",
              " 'arrow',\n",
              " 'autoscale',\n",
              " 'autumn',\n",
              " 'axes',\n",
              " 'axhline',\n",
              " 'axhspan',\n",
              " 'axis',\n",
              " 'axvline',\n",
              " 'axvspan',\n",
              " 'bar',\n",
              " 'barbs',\n",
              " 'barh',\n",
              " 'bone',\n",
              " 'box',\n",
              " 'boxplot',\n",
              " 'broken_barh',\n",
              " 'cbook',\n",
              " 'cla',\n",
              " 'clabel',\n",
              " 'clf',\n",
              " 'clim',\n",
              " 'close',\n",
              " 'cm',\n",
              " 'cohere',\n",
              " 'colorbar',\n",
              " 'colormaps',\n",
              " 'connect',\n",
              " 'contour',\n",
              " 'contourf',\n",
              " 'cool',\n",
              " 'copper',\n",
              " 'csd',\n",
              " 'cycler',\n",
              " 'dedent',\n",
              " 'delaxes',\n",
              " 'deprecated',\n",
              " 'disconnect',\n",
              " 'docstring',\n",
              " 'draw',\n",
              " 'draw_all',\n",
              " 'draw_if_interactive',\n",
              " 'errorbar',\n",
              " 'eventplot',\n",
              " 'figaspect',\n",
              " 'figimage',\n",
              " 'figlegend',\n",
              " 'fignum_exists',\n",
              " 'figtext',\n",
              " 'figure',\n",
              " 'fill',\n",
              " 'fill_between',\n",
              " 'fill_betweenx',\n",
              " 'findobj',\n",
              " 'flag',\n",
              " 'functools',\n",
              " 'gca',\n",
              " 'gcf',\n",
              " 'gci',\n",
              " 'get',\n",
              " 'get_backend',\n",
              " 'get_cmap',\n",
              " 'get_current_fig_manager',\n",
              " 'get_figlabels',\n",
              " 'get_fignums',\n",
              " 'get_plot_commands',\n",
              " 'get_scale_docs',\n",
              " 'get_scale_names',\n",
              " 'getp',\n",
              " 'ginput',\n",
              " 'gray',\n",
              " 'grid',\n",
              " 'hexbin',\n",
              " 'hist',\n",
              " 'hist2d',\n",
              " 'hlines',\n",
              " 'hot',\n",
              " 'hsv',\n",
              " 'importlib',\n",
              " 'imread',\n",
              " 'imsave',\n",
              " 'imshow',\n",
              " 'inferno',\n",
              " 'inspect',\n",
              " 'install_repl_displayhook',\n",
              " 'interactive',\n",
              " 'ioff',\n",
              " 'ion',\n",
              " 'isinteractive',\n",
              " 'jet',\n",
              " 'legend',\n",
              " 'locator_params',\n",
              " 'logging',\n",
              " 'loglog',\n",
              " 'magma',\n",
              " 'magnitude_spectrum',\n",
              " 'margins',\n",
              " 'matplotlib',\n",
              " 'matshow',\n",
              " 'minorticks_off',\n",
              " 'minorticks_on',\n",
              " 'mlab',\n",
              " 'new_figure_manager',\n",
              " 'nipy_spectral',\n",
              " 'np',\n",
              " 'pause',\n",
              " 'pcolor',\n",
              " 'pcolormesh',\n",
              " 'phase_spectrum',\n",
              " 'pie',\n",
              " 'pink',\n",
              " 'plasma',\n",
              " 'plot',\n",
              " 'plot_date',\n",
              " 'plotfile',\n",
              " 'plotting',\n",
              " 'polar',\n",
              " 'prism',\n",
              " 'psd',\n",
              " 'quiver',\n",
              " 'quiverkey',\n",
              " 'rc',\n",
              " 'rcParams',\n",
              " 'rcParamsDefault',\n",
              " 'rcParamsOrig',\n",
              " 'rc_context',\n",
              " 'rcdefaults',\n",
              " 'rcsetup',\n",
              " 're',\n",
              " 'register_cmap',\n",
              " 'rgrids',\n",
              " 'savefig',\n",
              " 'sca',\n",
              " 'scatter',\n",
              " 'sci',\n",
              " 'semilogx',\n",
              " 'semilogy',\n",
              " 'set_cmap',\n",
              " 'set_loglevel',\n",
              " 'setp',\n",
              " 'show',\n",
              " 'silent_list',\n",
              " 'specgram',\n",
              " 'spring',\n",
              " 'spy',\n",
              " 'stackplot',\n",
              " 'stem',\n",
              " 'step',\n",
              " 'streamplot',\n",
              " 'style',\n",
              " 'subplot',\n",
              " 'subplot2grid',\n",
              " 'subplot_tool',\n",
              " 'subplots',\n",
              " 'subplots_adjust',\n",
              " 'summer',\n",
              " 'suptitle',\n",
              " 'switch_backend',\n",
              " 'sys',\n",
              " 'table',\n",
              " 'text',\n",
              " 'thetagrids',\n",
              " 'tick_params',\n",
              " 'ticklabel_format',\n",
              " 'tight_layout',\n",
              " 'time',\n",
              " 'title',\n",
              " 'tricontour',\n",
              " 'tricontourf',\n",
              " 'tripcolor',\n",
              " 'triplot',\n",
              " 'twinx',\n",
              " 'twiny',\n",
              " 'uninstall_repl_displayhook',\n",
              " 'violinplot',\n",
              " 'viridis',\n",
              " 'vlines',\n",
              " 'waitforbuttonpress',\n",
              " 'warn_deprecated',\n",
              " 'winter',\n",
              " 'xcorr',\n",
              " 'xkcd',\n",
              " 'xlabel',\n",
              " 'xlim',\n",
              " 'xscale',\n",
              " 'xticks',\n",
              " 'ylabel',\n",
              " 'ylim',\n",
              " 'yscale',\n",
              " 'yticks']"
            ]
          },
          "metadata": {
            "tags": []
          },
          "execution_count": 6
        }
      ]
    },
    {
      "cell_type": "code",
      "metadata": {
        "colab": {
          "base_uri": "https://localhost:8080/",
          "height": 282
        },
        "id": "zGUj_2g8WFXo",
        "outputId": "0392598f-998a-4ce3-8c64-147247863775"
      },
      "source": [
        "plt.plot(y)"
      ],
      "execution_count": null,
      "outputs": [
        {
          "output_type": "execute_result",
          "data": {
            "text/plain": [
              "[<matplotlib.lines.Line2D at 0x7fa6747b36d8>]"
            ]
          },
          "metadata": {
            "tags": []
          },
          "execution_count": 7
        },
        {
          "output_type": "display_data",
          "data": {
            "image/png": "[encoded data removed]",
            "text/plain": [
              "<Figure size 432x288 with 1 Axes>"
            ]
          },
          "metadata": {
            "tags": [],
            "needs_background": "light"
          }
        }
      ]
    },
    {
      "cell_type": "code",
      "metadata": {
        "colab": {
          "base_uri": "https://localhost:8080/",
          "height": 282
        },
        "id": "OFU3jGCgWaFX",
        "outputId": "a2c1464f-ad39-4fa1-e598-6d2037636091"
      },
      "source": [
        "plt.plot(x)"
      ],
      "execution_count": null,
      "outputs": [
        {
          "output_type": "execute_result",
          "data": {
            "text/plain": [
              "[<matplotlib.lines.Line2D at 0x7fa6747200f0>]"
            ]
          },
          "metadata": {
            "tags": []
          },
          "execution_count": 8
        },
        {
          "output_type": "display_data",
          "data": {
            "image/png": "[encoded data removed]",
            "text/plain": [
              "<Figure size 432x288 with 1 Axes>"
            ]
          },
          "metadata": {
            "tags": [],
            "needs_background": "light"
          }
        }
      ]
    },
    {
      "cell_type": "code",
      "metadata": {
        "id": "Rma_bPI1Wb0L"
      },
      "source": [
        "y=np.sort(y)"
      ],
      "execution_count": null,
      "outputs": []
    },
    {
      "cell_type": "code",
      "metadata": {
        "colab": {
          "base_uri": "https://localhost:8080/",
          "height": 282
        },
        "id": "eWUv-4F0WkAq",
        "outputId": "59c4f227-69b4-47fe-d588-910772ab7195"
      },
      "source": [
        "plt.plot(y)"
      ],
      "execution_count": null,
      "outputs": [
        {
          "output_type": "execute_result",
          "data": {
            "text/plain": [
              "[<matplotlib.lines.Line2D at 0x7fa67426ee48>]"
            ]
          },
          "metadata": {
            "tags": []
          },
          "execution_count": 10
        },
        {
          "output_type": "display_data",
          "data": {
            "image/png": "[encoded data removed]",
            "text/plain": [
              "<Figure size 432x288 with 1 Axes>"
            ]
          },
          "metadata": {
            "tags": [],
            "needs_background": "light"
          }
        }
      ]
    },
    {
      "cell_type": "code",
      "metadata": {
        "colab": {
          "base_uri": "https://localhost:8080/",
          "height": 282
        },
        "id": "upypDqRVWoR1",
        "outputId": "670c775f-df9b-42e9-fb48-cec5aec3ff1c"
      },
      "source": [
        "plt.plot(x,y)"
      ],
      "execution_count": null,
      "outputs": [
        {
          "output_type": "execute_result",
          "data": {
            "text/plain": [
              "[<matplotlib.lines.Line2D at 0x7fa6741d4dd8>]"
            ]
          },
          "metadata": {
            "tags": []
          },
          "execution_count": 11
        },
        {
          "output_type": "display_data",
          "data": {
            "image/png": "[encoded data removed]",
            "text/plain": [
              "<Figure size 432x288 with 1 Axes>"
            ]
          },
          "metadata": {
            "tags": [],
            "needs_background": "light"
          }
        }
      ]
    },
    {
      "cell_type": "code",
      "metadata": {
        "colab": {
          "base_uri": "https://localhost:8080/",
          "height": 282
        },
        "id": "EebW8pK1WuOv",
        "outputId": "81676656-6a57-41c7-fa00-855af2ed90eb"
      },
      "source": [
        "plt.plot(x,y,'r')"
      ],
      "execution_count": null,
      "outputs": [
        {
          "output_type": "execute_result",
          "data": {
            "text/plain": [
              "[<matplotlib.lines.Line2D at 0x7fa6741b3f28>]"
            ]
          },
          "metadata": {
            "tags": []
          },
          "execution_count": 12
        },
        {
          "output_type": "display_data",
          "data": {
            "image/png": "[encoded data removed]",
            "text/plain": [
              "<Figure size 432x288 with 1 Axes>"
            ]
          },
          "metadata": {
            "tags": [],
            "needs_background": "light"
          }
        }
      ]
    },
    {
      "cell_type": "code",
      "metadata": {
        "colab": {
          "base_uri": "https://localhost:8080/",
          "height": 282
        },
        "id": "OmpJ2_01XBdf",
        "outputId": "1b146b53-c81b-447e-c633-aec27b1c3bf5"
      },
      "source": [
        "plt.plot(x,y,color='b')"
      ],
      "execution_count": null,
      "outputs": [
        {
          "output_type": "execute_result",
          "data": {
            "text/plain": [
              "[<matplotlib.lines.Line2D at 0x7fa6741200b8>]"
            ]
          },
          "metadata": {
            "tags": []
          },
          "execution_count": 13
        },
        {
          "output_type": "display_data",
          "data": {
            "image/png": "[encoded data removed]",
            "text/plain": [
              "<Figure size 432x288 with 1 Axes>"
            ]
          },
          "metadata": {
            "tags": [],
            "needs_background": "light"
          }
        }
      ]
    },
    {
      "cell_type": "code",
      "metadata": {
        "colab": {
          "base_uri": "https://localhost:8080/",
          "height": 295
        },
        "id": "zrBw2087XSzR",
        "outputId": "ee7bfbea-ea1e-43c5-af19-f4b5567e163a"
      },
      "source": [
        "plt.plot(x,y,color='g')\r\n",
        "plt.xlabel('X axis')\r\n",
        "plt.ylabel('Y axis')\r\n",
        "plt.title('Matplotlib Example')\r\n",
        "plt.show()"
      ],
      "execution_count": null,
      "outputs": [
        {
          "output_type": "display_data",
          "data": {
            "image/png": "[encoded data removed]",
            "text/plain": [
              "<Figure size 432x288 with 1 Axes>"
            ]
          },
          "metadata": {
            "tags": [],
            "needs_background": "light"
          }
        }
      ]
    },
    {
      "cell_type": "code",
      "metadata": {
        "colab": {
          "base_uri": "https://localhost:8080/",
          "height": 286
        },
        "id": "sauMyxDlXwej",
        "outputId": "6ad142c2-77ec-4011-ff20-e61848d9454e"
      },
      "source": [
        "#creating multiple plots\r\n",
        "plt.subplot(1,2,1)\r\n",
        "plt.subplot(1,2,2)"
      ],
      "execution_count": null,
      "outputs": [
        {
          "output_type": "execute_result",
          "data": {
            "text/plain": [
              "<matplotlib.axes._subplots.AxesSubplot at 0x7fa67412c1d0>"
            ]
          },
          "metadata": {
            "tags": []
          },
          "execution_count": 15
        },
        {
          "output_type": "display_data",
          "data": {
            "image/png": "[encoded data removed]",
            "text/plain": [
              "<Figure size 432x288 with 2 Axes>"
            ]
          },
          "metadata": {
            "tags": [],
            "needs_background": "light"
          }
        }
      ]
    },
    {
      "cell_type": "code",
      "metadata": {
        "id": "txkhNXj5YtEb"
      },
      "source": [
        "y2=y*x"
      ],
      "execution_count": null,
      "outputs": []
    },
    {
      "cell_type": "code",
      "metadata": {
        "colab": {
          "base_uri": "https://localhost:8080/",
          "height": 282
        },
        "id": "eE54YpCLYOko",
        "outputId": "3366d930-67e8-4bc4-a268-11bdfd09f5c2"
      },
      "source": [
        "plt.subplot(1,2,1)\r\n",
        "plt.plot(x,y,'r')\r\n",
        "plt.subplot(1,2,2)\r\n",
        "plt.plot(x,y2,'b')"
      ],
      "execution_count": null,
      "outputs": [
        {
          "output_type": "execute_result",
          "data": {
            "text/plain": [
              "[<matplotlib.lines.Line2D at 0x7fa674006a90>]"
            ]
          },
          "metadata": {
            "tags": []
          },
          "execution_count": 17
        },
        {
          "output_type": "display_data",
          "data": {
            "image/png": "[encoded data removed]",
            "text/plain": [
              "<Figure size 432x288 with 2 Axes>"
            ]
          },
          "metadata": {
            "tags": [],
            "needs_background": "light"
          }
        }
      ]
    },
    {
      "cell_type": "code",
      "metadata": {
        "colab": {
          "base_uri": "https://localhost:8080/",
          "height": 282
        },
        "id": "2dUij-HeYpCb",
        "outputId": "0d7cd566-02d9-4389-dd3e-20c355b4da2e"
      },
      "source": [
        "plt.subplot(1,2,1)\r\n",
        "plt.plot(x,y,'ro-')\r\n",
        "plt.subplot(1,2,2)\r\n",
        "plt.plot(x,y2,'b')"
      ],
      "execution_count": null,
      "outputs": [
        {
          "output_type": "execute_result",
          "data": {
            "text/plain": [
              "[<matplotlib.lines.Line2D at 0x7fa673f3fa58>]"
            ]
          },
          "metadata": {
            "tags": []
          },
          "execution_count": 18
        },
        {
          "output_type": "display_data",
          "data": {
            "image/png": "[encoded data removed]",
            "text/plain": [
              "<Figure size 432x288 with 2 Axes>"
            ]
          },
          "metadata": {
            "tags": [],
            "needs_background": "light"
          }
        }
      ]
    },
    {
      "cell_type": "code",
      "metadata": {
        "colab": {
          "base_uri": "https://localhost:8080/",
          "height": 282
        },
        "id": "8TMLgNbxZDXf",
        "outputId": "71f900ac-1403-4b2c-f97f-62faa3784e9e"
      },
      "source": [
        "plt.subplot(1,2,1)\r\n",
        "plt.plot(x,y,'ro')\r\n",
        "plt.subplot(1,2,2)\r\n",
        "plt.plot(x,y2,'b')"
      ],
      "execution_count": null,
      "outputs": [
        {
          "output_type": "execute_result",
          "data": {
            "text/plain": [
              "[<matplotlib.lines.Line2D at 0x7fa673e78a90>]"
            ]
          },
          "metadata": {
            "tags": []
          },
          "execution_count": 19
        },
        {
          "output_type": "display_data",
          "data": {
            "image/png": "[encoded data removed]",
            "text/plain": [
              "<Figure size 432x288 with 2 Axes>"
            ]
          },
          "metadata": {
            "tags": [],
            "needs_background": "light"
          }
        }
      ]
    },
    {
      "cell_type": "code",
      "metadata": {
        "colab": {
          "base_uri": "https://localhost:8080/",
          "height": 282
        },
        "id": "od6VH8yfZHt0",
        "outputId": "c31ed3a4-57d7-4a12-a34b-eaecfae1cd71"
      },
      "source": [
        "plt.subplot(1,2,1)\r\n",
        "plt.plot(x,y,'ro')\r\n",
        "plt.subplot(1,2,2)\r\n",
        "plt.plot(x,y2,'b*-')"
      ],
      "execution_count": null,
      "outputs": [
        {
          "output_type": "execute_result",
          "data": {
            "text/plain": [
              "[<matplotlib.lines.Line2D at 0x7fa673db20b8>]"
            ]
          },
          "metadata": {
            "tags": []
          },
          "execution_count": 20
        },
        {
          "output_type": "display_data",
          "data": {
            "image/png": "[encoded data removed]",
            "text/plain": [
              "<Figure size 432x288 with 2 Axes>"
            ]
          },
          "metadata": {
            "tags": [],
            "needs_background": "light"
          }
        }
      ]
    },
    {
      "cell_type": "code",
      "metadata": {
        "colab": {
          "base_uri": "https://localhost:8080/",
          "height": 282
        },
        "id": "e36bvXGfZNvq",
        "outputId": "ef9dad24-87e0-4991-d150-a3dc5792007c"
      },
      "source": [
        "plt.subplot(1,2,1)\r\n",
        "plt.plot(x,y,'ro')\r\n",
        "plt.subplot(1,2,2)\r\n",
        "plt.plot(x,y2,'b*')"
      ],
      "execution_count": null,
      "outputs": [
        {
          "output_type": "execute_result",
          "data": {
            "text/plain": [
              "[<matplotlib.lines.Line2D at 0x7fa67420ac18>]"
            ]
          },
          "metadata": {
            "tags": []
          },
          "execution_count": 21
        },
        {
          "output_type": "display_data",
          "data": {
            "image/png": "[encoded data removed]",
            "text/plain": [
              "<Figure size 432x288 with 2 Axes>"
            ]
          },
          "metadata": {
            "tags": [],
            "needs_background": "light"
          }
        }
      ]
    },
    {
      "cell_type": "code",
      "metadata": {
        "colab": {
          "base_uri": "https://localhost:8080/",
          "height": 282
        },
        "id": "KosxdaQBZSax",
        "outputId": "08e223a1-44eb-4403-a740-054268b37d14"
      },
      "source": [
        "plt.subplot(1,2,1)\r\n",
        "plt.plot(x,y,'ro',markersize=10)\r\n",
        "plt.subplot(1,2,2)\r\n",
        "plt.plot(x,y2,'b')"
      ],
      "execution_count": null,
      "outputs": [
        {
          "output_type": "execute_result",
          "data": {
            "text/plain": [
              "[<matplotlib.lines.Line2D at 0x7fa6740918d0>]"
            ]
          },
          "metadata": {
            "tags": []
          },
          "execution_count": 22
        },
        {
          "output_type": "display_data",
          "data": {
            "image/png": "[encoded data removed]",
            "text/plain": [
              "<Figure size 432x288 with 2 Axes>"
            ]
          },
          "metadata": {
            "tags": [],
            "needs_background": "light"
          }
        }
      ]
    },
    {
      "cell_type": "markdown",
      "metadata": {
        "id": "jxCA3uWUZjY4"
      },
      "source": [
        "# **matlab vs matplotlib**"
      ]
    },
    {
      "cell_type": "code",
      "metadata": {
        "id": "-RkdxCceZeE5"
      },
      "source": [
        "#object oriented method"
      ],
      "execution_count": null,
      "outputs": []
    },
    {
      "cell_type": "code",
      "metadata": {
        "colab": {
          "base_uri": "https://localhost:8080/",
          "height": 383
        },
        "id": "DzgscvDgZ34W",
        "outputId": "dcf85e78-0b9d-49d0-8953-09b564119719"
      },
      "source": [
        "fig=plt.figure()\r\n",
        "axes=fig.add_axes([0.1,0.1,1,1])\r\n",
        "axes.plot(x,y,'r')\r\n",
        "axes.set_xlabel('X')\r\n",
        "axes.set_ylabel('Y')\r\n",
        "axes.set_title('Title')"
      ],
      "execution_count": null,
      "outputs": [
        {
          "output_type": "execute_result",
          "data": {
            "text/plain": [
              "Text(0.5, 1.0, 'Title')"
            ]
          },
          "metadata": {
            "tags": []
          },
          "execution_count": 24
        },
        {
          "output_type": "display_data",
          "data": {
            "image/png": "[encoded data removed]",
            "text/plain": [
              "<Figure size 432x288 with 1 Axes>"
            ]
          },
          "metadata": {
            "tags": [],
            "needs_background": "light"
          }
        }
      ]
    },
    {
      "cell_type": "code",
      "metadata": {
        "colab": {
          "base_uri": "https://localhost:8080/"
        },
        "id": "RTZdO2A0aLOc",
        "outputId": "8bdc1217-0891-482e-f3ac-d0e3d3a455bd"
      },
      "source": [
        "dir(axes)"
      ],
      "execution_count": null,
      "outputs": [
        {
          "output_type": "execute_result",
          "data": {
            "text/plain": [
              "['__class__',\n",
              " '__delattr__',\n",
              " '__dict__',\n",
              " '__dir__',\n",
              " '__doc__',\n",
              " '__eq__',\n",
              " '__format__',\n",
              " '__ge__',\n",
              " '__getattribute__',\n",
              " '__getstate__',\n",
              " '__gt__',\n",
              " '__hash__',\n",
              " '__init__',\n",
              " '__init_subclass__',\n",
              " '__le__',\n",
              " '__lt__',\n",
              " '__module__',\n",
              " '__ne__',\n",
              " '__new__',\n",
              " '__reduce__',\n",
              " '__reduce_ex__',\n",
              " '__repr__',\n",
              " '__setattr__',\n",
              " '__setstate__',\n",
              " '__sizeof__',\n",
              " '__str__',\n",
              " '__subclasshook__',\n",
              " '__weakref__',\n",
              " '_add_text',\n",
              " '_adjustable',\n",
              " '_agg_filter',\n",
              " '_alpha',\n",
              " '_anchor',\n",
              " '_animated',\n",
              " '_aspect',\n",
              " '_autoscaleXon',\n",
              " '_autoscaleYon',\n",
              " '_autotitlepos',\n",
              " '_axes',\n",
              " '_axes_locator',\n",
              " '_axisbelow',\n",
              " '_clipon',\n",
              " '_clippath',\n",
              " '_contains',\n",
              " '_convert_dx',\n",
              " '_current_image',\n",
              " '_default_contains',\n",
              " '_facecolor',\n",
              " '_frameon',\n",
              " '_gci',\n",
              " '_gen_axes_patch',\n",
              " '_gen_axes_spines',\n",
              " '_get_axis_list',\n",
              " '_get_axis_map',\n",
              " '_get_clipping_extent_bbox',\n",
              " '_get_lines',\n",
              " '_get_patches_for_fill',\n",
              " '_get_view',\n",
              " '_gid',\n",
              " '_gridOn',\n",
              " '_in_layout',\n",
              " '_init_axis',\n",
              " '_label',\n",
              " '_layoutbox',\n",
              " '_left_title',\n",
              " '_make_twin_axes',\n",
              " '_mouseover',\n",
              " '_mouseover_set',\n",
              " '_navigate',\n",
              " '_navigate_mode',\n",
              " '_oid',\n",
              " '_on_units_changed',\n",
              " '_originalPosition',\n",
              " '_parse_scatter_color_args',\n",
              " '_path_effects',\n",
              " '_pcolorargs',\n",
              " '_picker',\n",
              " '_position',\n",
              " '_poslayoutbox',\n",
              " '_process_unit_info',\n",
              " '_prop_order',\n",
              " '_propobservers',\n",
              " '_quiver_units',\n",
              " '_rasterization_zorder',\n",
              " '_rasterized',\n",
              " '_remove_legend',\n",
              " '_remove_method',\n",
              " '_request_autoscale_view',\n",
              " '_right_title',\n",
              " '_sci',\n",
              " '_set_artist_props',\n",
              " '_set_gc_clip',\n",
              " '_set_lim_and_transforms',\n",
              " '_set_position',\n",
              " '_set_title_offset_trans',\n",
              " '_set_view',\n",
              " '_set_view_from_bbox',\n",
              " '_shared_x_axes',\n",
              " '_shared_y_axes',\n",
              " '_sharex',\n",
              " '_sharey',\n",
              " '_sketch',\n",
              " '_snap',\n",
              " '_stale',\n",
              " '_stale_viewlim_x',\n",
              " '_stale_viewlim_y',\n",
              " '_sticky_edges',\n",
              " '_tight',\n",
              " '_transform',\n",
              " '_transformSet',\n",
              " '_twinned_axes',\n",
              " '_unstale_viewLim',\n",
              " '_update_image_limits',\n",
              " '_update_line_limits',\n",
              " '_update_patch_limits',\n",
              " '_update_title_position',\n",
              " '_update_transScale',\n",
              " '_url',\n",
              " '_use_sticky_edges',\n",
              " '_validate_converted_limits',\n",
              " '_viewLim',\n",
              " '_visible',\n",
              " '_xaxis_transform',\n",
              " '_xcid',\n",
              " '_xmargin',\n",
              " '_yaxis_transform',\n",
              " '_ycid',\n",
              " '_ymargin',\n",
              " 'acorr',\n",
              " 'add_artist',\n",
              " 'add_callback',\n",
              " 'add_child_axes',\n",
              " 'add_collection',\n",
              " 'add_container',\n",
              " 'add_image',\n",
              " 'add_line',\n",
              " 'add_patch',\n",
              " 'add_table',\n",
              " 'aname',\n",
              " 'angle_spectrum',\n",
              " 'annotate',\n",
              " 'apply_aspect',\n",
              " 'arrow',\n",
              " 'artists',\n",
              " 'autoscale',\n",
              " 'autoscale_view',\n",
              " 'axes',\n",
              " 'axhline',\n",
              " 'axhspan',\n",
              " 'axis',\n",
              " 'axison',\n",
              " 'axvline',\n",
              " 'axvspan',\n",
              " 'bar',\n",
              " 'barbs',\n",
              " 'barh',\n",
              " 'bbox',\n",
              " 'boxplot',\n",
              " 'broken_barh',\n",
              " 'bxp',\n",
              " 'callbacks',\n",
              " 'can_pan',\n",
              " 'can_zoom',\n",
              " 'child_axes',\n",
              " 'cla',\n",
              " 'clabel',\n",
              " 'clear',\n",
              " 'clipbox',\n",
              " 'cohere',\n",
              " 'collections',\n",
              " 'containers',\n",
              " 'contains',\n",
              " 'contains_point',\n",
              " 'contour',\n",
              " 'contourf',\n",
              " 'convert_xunits',\n",
              " 'convert_yunits',\n",
              " 'csd',\n",
              " 'dataLim',\n",
              " 'drag_pan',\n",
              " 'draw',\n",
              " 'draw_artist',\n",
              " 'end_pan',\n",
              " 'errorbar',\n",
              " 'eventplot',\n",
              " 'eventson',\n",
              " 'figure',\n",
              " 'fill',\n",
              " 'fill_between',\n",
              " 'fill_betweenx',\n",
              " 'findobj',\n",
              " 'fmt_xdata',\n",
              " 'fmt_ydata',\n",
              " 'format_coord',\n",
              " 'format_cursor_data',\n",
              " 'format_xdata',\n",
              " 'format_ydata',\n",
              " 'get_adjustable',\n",
              " 'get_agg_filter',\n",
              " 'get_alpha',\n",
              " 'get_anchor',\n",
              " 'get_animated',\n",
              " 'get_aspect',\n",
              " 'get_autoscale_on',\n",
              " 'get_autoscalex_on',\n",
              " 'get_autoscaley_on',\n",
              " 'get_axes_locator',\n",
              " 'get_axisbelow',\n",
              " 'get_children',\n",
              " 'get_clip_box',\n",
              " 'get_clip_on',\n",
              " 'get_clip_path',\n",
              " 'get_contains',\n",
              " 'get_cursor_data',\n",
              " 'get_data_ratio',\n",
              " 'get_data_ratio_log',\n",
              " 'get_default_bbox_extra_artists',\n",
              " 'get_facecolor',\n",
              " 'get_fc',\n",
              " 'get_figure',\n",
              " 'get_frame_on',\n",
              " 'get_gid',\n",
              " 'get_images',\n",
              " 'get_in_layout',\n",
              " 'get_label',\n",
              " 'get_legend',\n",
              " 'get_legend_handles_labels',\n",
              " 'get_lines',\n",
              " 'get_navigate',\n",
              " 'get_navigate_mode',\n",
              " 'get_path_effects',\n",
              " 'get_picker',\n",
              " 'get_position',\n",
              " 'get_rasterization_zorder',\n",
              " 'get_rasterized',\n",
              " 'get_renderer_cache',\n",
              " 'get_shared_x_axes',\n",
              " 'get_shared_y_axes',\n",
              " 'get_sketch_params',\n",
              " 'get_snap',\n",
              " 'get_tightbbox',\n",
              " 'get_title',\n",
              " 'get_transform',\n",
              " 'get_transformed_clip_path_and_affine',\n",
              " 'get_url',\n",
              " 'get_visible',\n",
              " 'get_window_extent',\n",
              " 'get_xaxis',\n",
              " 'get_xaxis_text1_transform',\n",
              " 'get_xaxis_text2_transform',\n",
              " 'get_xaxis_transform',\n",
              " 'get_xbound',\n",
              " 'get_xgridlines',\n",
              " 'get_xlabel',\n",
              " 'get_xlim',\n",
              " 'get_xmajorticklabels',\n",
              " 'get_xminorticklabels',\n",
              " 'get_xscale',\n",
              " 'get_xticklabels',\n",
              " 'get_xticklines',\n",
              " 'get_xticks',\n",
              " 'get_yaxis',\n",
              " 'get_yaxis_text1_transform',\n",
              " 'get_yaxis_text2_transform',\n",
              " 'get_yaxis_transform',\n",
              " 'get_ybound',\n",
              " 'get_ygridlines',\n",
              " 'get_ylabel',\n",
              " 'get_ylim',\n",
              " 'get_ymajorticklabels',\n",
              " 'get_yminorticklabels',\n",
              " 'get_yscale',\n",
              " 'get_yticklabels',\n",
              " 'get_yticklines',\n",
              " 'get_yticks',\n",
              " 'get_zorder',\n",
              " 'grid',\n",
              " 'has_data',\n",
              " 'have_units',\n",
              " 'hexbin',\n",
              " 'hist',\n",
              " 'hist2d',\n",
              " 'hlines',\n",
              " 'ignore_existing_data_limits',\n",
              " 'images',\n",
              " 'imshow',\n",
              " 'in_axes',\n",
              " 'indicate_inset',\n",
              " 'indicate_inset_zoom',\n",
              " 'inset_axes',\n",
              " 'invert_xaxis',\n",
              " 'invert_yaxis',\n",
              " 'is_transform_set',\n",
              " 'legend',\n",
              " 'legend_',\n",
              " 'lines',\n",
              " 'locator_params',\n",
              " 'loglog',\n",
              " 'magnitude_spectrum',\n",
              " 'margins',\n",
              " 'matshow',\n",
              " 'minorticks_off',\n",
              " 'minorticks_on',\n",
              " 'mouseover',\n",
              " 'name',\n",
              " 'patch',\n",
              " 'patches',\n",
              " 'pchanged',\n",
              " 'pcolor',\n",
              " 'pcolorfast',\n",
              " 'pcolormesh',\n",
              " 'phase_spectrum',\n",
              " 'pick',\n",
              " 'pickable',\n",
              " 'pie',\n",
              " 'plot',\n",
              " 'plot_date',\n",
              " 'properties',\n",
              " 'psd',\n",
              " 'quiver',\n",
              " 'quiverkey',\n",
              " 'redraw_in_frame',\n",
              " 'relim',\n",
              " 'remove',\n",
              " 'remove_callback',\n",
              " 'reset_position',\n",
              " 'scatter',\n",
              " 'secondary_xaxis',\n",
              " 'secondary_yaxis',\n",
              " 'semilogx',\n",
              " 'semilogy',\n",
              " 'set',\n",
              " 'set_adjustable',\n",
              " 'set_agg_filter',\n",
              " 'set_alpha',\n",
              " 'set_anchor',\n",
              " 'set_animated',\n",
              " 'set_aspect',\n",
              " 'set_autoscale_on',\n",
              " 'set_autoscalex_on',\n",
              " 'set_autoscaley_on',\n",
              " 'set_axes_locator',\n",
              " 'set_axis_off',\n",
              " 'set_axis_on',\n",
              " 'set_axisbelow',\n",
              " 'set_clip_box',\n",
              " 'set_clip_on',\n",
              " 'set_clip_path',\n",
              " 'set_contains',\n",
              " 'set_facecolor',\n",
              " 'set_fc',\n",
              " 'set_figure',\n",
              " 'set_frame_on',\n",
              " 'set_gid',\n",
              " 'set_in_layout',\n",
              " 'set_label',\n",
              " 'set_navigate',\n",
              " 'set_navigate_mode',\n",
              " 'set_path_effects',\n",
              " 'set_picker',\n",
              " 'set_position',\n",
              " 'set_prop_cycle',\n",
              " 'set_rasterization_zorder',\n",
              " 'set_rasterized',\n",
              " 'set_sketch_params',\n",
              " 'set_snap',\n",
              " 'set_title',\n",
              " 'set_transform',\n",
              " 'set_url',\n",
              " 'set_visible',\n",
              " 'set_xbound',\n",
              " 'set_xlabel',\n",
              " 'set_xlim',\n",
              " 'set_xmargin',\n",
              " 'set_xscale',\n",
              " 'set_xticklabels',\n",
              " 'set_xticks',\n",
              " 'set_ybound',\n",
              " 'set_ylabel',\n",
              " 'set_ylim',\n",
              " 'set_ymargin',\n",
              " 'set_yscale',\n",
              " 'set_yticklabels',\n",
              " 'set_yticks',\n",
              " 'set_zorder',\n",
              " 'specgram',\n",
              " 'spines',\n",
              " 'spy',\n",
              " 'stackplot',\n",
              " 'stale',\n",
              " 'stale_callback',\n",
              " 'start_pan',\n",
              " 'stem',\n",
              " 'step',\n",
              " 'sticky_edges',\n",
              " 'streamplot',\n",
              " 'table',\n",
              " 'tables',\n",
              " 'text',\n",
              " 'texts',\n",
              " 'tick_params',\n",
              " 'ticklabel_format',\n",
              " 'title',\n",
              " 'titleOffsetTrans',\n",
              " 'transAxes',\n",
              " 'transData',\n",
              " 'transLimits',\n",
              " 'transScale',\n",
              " 'tricontour',\n",
              " 'tricontourf',\n",
              " 'tripcolor',\n",
              " 'triplot',\n",
              " 'twinx',\n",
              " 'twiny',\n",
              " 'update',\n",
              " 'update_datalim',\n",
              " 'update_datalim_bounds',\n",
              " 'update_from',\n",
              " 'use_sticky_edges',\n",
              " 'viewLim',\n",
              " 'violin',\n",
              " 'violinplot',\n",
              " 'vlines',\n",
              " 'xaxis',\n",
              " 'xaxis_date',\n",
              " 'xaxis_inverted',\n",
              " 'xcorr',\n",
              " 'yaxis',\n",
              " 'yaxis_date',\n",
              " 'yaxis_inverted',\n",
              " 'zorder']"
            ]
          },
          "metadata": {
            "tags": []
          },
          "execution_count": 25
        }
      ]
    },
    {
      "cell_type": "code",
      "metadata": {
        "colab": {
          "base_uri": "https://localhost:8080/",
          "height": 383
        },
        "id": "wHqqXX33a9Mx",
        "outputId": "c0fb710b-9873-4514-bb3d-a7f2d3843c32"
      },
      "source": [
        "fig=plt.figure()\r\n",
        "ax1=fig.add_axes([0,0,1,1])\r\n",
        "ax2=fig.add_axes([0.1,0.6,0.4,0.3])\r\n",
        "ax1.plot(x,y,'r')\r\n",
        "ax1.set_xlabel('X')\r\n",
        "ax1.set_ylabel('Y')\r\n",
        "ax1.set_title('Y.Plot')\r\n",
        "ax2.plot(x,y2,'g')\r\n",
        "ax2.set_xlabel('X')\r\n",
        "ax2.set_ylabel('Y')\r\n",
        "ax2.set_title('Y2.Plot')"
      ],
      "execution_count": null,
      "outputs": [
        {
          "output_type": "execute_result",
          "data": {
            "text/plain": [
              "Text(0.5, 1.0, 'Y2.Plot')"
            ]
          },
          "metadata": {
            "tags": []
          },
          "execution_count": 26
        },
        {
          "output_type": "display_data",
          "data": {
            "image/png": "[encoded data removed]",
            "text/plain": [
              "<Figure size 432x288 with 2 Axes>"
            ]
          },
          "metadata": {
            "tags": [],
            "needs_background": "light"
          }
        }
      ]
    },
    {
      "cell_type": "code",
      "metadata": {
        "id": "d9U5R_zxbrKd"
      },
      "source": [
        "#plt.subplot()\r\n",
        "#plt.subplots()"
      ],
      "execution_count": null,
      "outputs": []
    },
    {
      "cell_type": "code",
      "metadata": {
        "colab": {
          "base_uri": "https://localhost:8080/",
          "height": 269
        },
        "id": "MfB0KRJ6czi6",
        "outputId": "6443c44c-7db3-46a5-ffbf-ff2a9bdb8817"
      },
      "source": [
        "fig,ax=plt.subplots(1,2)"
      ],
      "execution_count": null,
      "outputs": [
        {
          "output_type": "display_data",
          "data": {
            "image/png": "[encoded data removed]",
            "text/plain": [
              "<Figure size 432x288 with 2 Axes>"
            ]
          },
          "metadata": {
            "tags": [],
            "needs_background": "light"
          }
        }
      ]
    },
    {
      "cell_type": "code",
      "metadata": {
        "colab": {
          "base_uri": "https://localhost:8080/"
        },
        "id": "XfD9Lqmqc2uI",
        "outputId": "a9a0606b-c221-4e8c-a612-208643134ec3"
      },
      "source": [
        "ax"
      ],
      "execution_count": null,
      "outputs": [
        {
          "output_type": "execute_result",
          "data": {
            "text/plain": [
              "array([<matplotlib.axes._subplots.AxesSubplot object at 0x7fa673b81470>,\n",
              "       <matplotlib.axes._subplots.AxesSubplot object at 0x7fa673adc5c0>],\n",
              "      dtype=object)"
            ]
          },
          "metadata": {
            "tags": []
          },
          "execution_count": 29
        }
      ]
    },
    {
      "cell_type": "code",
      "metadata": {
        "colab": {
          "base_uri": "https://localhost:8080/",
          "height": 269
        },
        "id": "GDw7N0k1c39h",
        "outputId": "decef0fc-b51a-4cc8-8b10-f60af551b770"
      },
      "source": [
        "fig"
      ],
      "execution_count": null,
      "outputs": [
        {
          "output_type": "execute_result",
          "data": {
            "image/png": "[encoded data removed]",
            "text/plain": [
              "<Figure size 432x288 with 2 Axes>"
            ]
          },
          "metadata": {
            "tags": []
          },
          "execution_count": 30
        }
      ]
    },
    {
      "cell_type": "code",
      "metadata": {
        "colab": {
          "base_uri": "https://localhost:8080/"
        },
        "id": "ycMy5MAzc6cv",
        "outputId": "157bd5ed-dfe5-46d0-e7c5-4cdb0d1d6b69"
      },
      "source": [
        "ax[0]"
      ],
      "execution_count": null,
      "outputs": [
        {
          "output_type": "execute_result",
          "data": {
            "text/plain": [
              "<matplotlib.axes._subplots.AxesSubplot at 0x7fa673b81470>"
            ]
          },
          "metadata": {
            "tags": []
          },
          "execution_count": 31
        }
      ]
    },
    {
      "cell_type": "code",
      "metadata": {
        "colab": {
          "base_uri": "https://localhost:8080/"
        },
        "id": "iLAXXvqDc_iM",
        "outputId": "d0e3d8f5-8d15-46ef-9dec-6d3667afe286"
      },
      "source": [
        "ax[1]"
      ],
      "execution_count": null,
      "outputs": [
        {
          "output_type": "execute_result",
          "data": {
            "text/plain": [
              "<matplotlib.axes._subplots.AxesSubplot at 0x7fa673adc5c0>"
            ]
          },
          "metadata": {
            "tags": []
          },
          "execution_count": 32
        }
      ]
    },
    {
      "cell_type": "code",
      "metadata": {
        "colab": {
          "base_uri": "https://localhost:8080/",
          "height": 282
        },
        "id": "x1PytSj1dBbR",
        "outputId": "95117f66-afa3-4c75-ae7a-b1866f8cceae"
      },
      "source": [
        "fig,ax=plt.subplots(1,2)\r\n",
        "ax[0].plot(x,y,'b')\r\n",
        "ax[1].plot(x,y,'r')"
      ],
      "execution_count": null,
      "outputs": [
        {
          "output_type": "execute_result",
          "data": {
            "text/plain": [
              "[<matplotlib.lines.Line2D at 0x7fa673a40080>]"
            ]
          },
          "metadata": {
            "tags": []
          },
          "execution_count": 33
        },
        {
          "output_type": "display_data",
          "data": {
            "image/png": "[encoded data removed]",
            "text/plain": [
              "<Figure size 432x288 with 2 Axes>"
            ]
          },
          "metadata": {
            "tags": [],
            "needs_background": "light"
          }
        }
      ]
    },
    {
      "cell_type": "code",
      "metadata": {
        "colab": {
          "base_uri": "https://localhost:8080/",
          "height": 265
        },
        "id": "E1jNijYkdNqA",
        "outputId": "f4bf3fda-db96-49a8-adcc-ef3cdd59d20e"
      },
      "source": [
        "fig,ax=plt.subplots(1,2)\r\n",
        "for axes in ax:\r\n",
        "  axes.plot(x,y,'g') "
      ],
      "execution_count": null,
      "outputs": [
        {
          "output_type": "display_data",
          "data": {
            "image/png": "[encoded data removed]",
            "text/plain": [
              "<Figure size 432x288 with 2 Axes>"
            ]
          },
          "metadata": {
            "tags": [],
            "needs_background": "light"
          }
        }
      ]
    },
    {
      "cell_type": "code",
      "metadata": {
        "colab": {
          "base_uri": "https://localhost:8080/",
          "height": 265
        },
        "id": "pf-YEDmldg-i",
        "outputId": "a60c9d4e-ccfc-4f69-c9a3-4f95d20240b5"
      },
      "source": [
        "fig,ax=plt.subplots(1,2)\r\n",
        "col=['r','g']\r\n",
        "data=[y,y2]\r\n",
        "for i,axes in enumerate(ax):\r\n",
        "  axes.plot(x,data[i],col[i]) "
      ],
      "execution_count": null,
      "outputs": [
        {
          "output_type": "display_data",
          "data": {
            "image/png": "[encoded data removed]",
            "text/plain": [
              "<Figure size 432x288 with 2 Axes>"
            ]
          },
          "metadata": {
            "tags": [],
            "needs_background": "light"
          }
        }
      ]
    },
    {
      "cell_type": "code",
      "metadata": {
        "colab": {
          "base_uri": "https://localhost:8080/",
          "height": 297
        },
        "id": "Bv714muSdsBn",
        "outputId": "f256492f-d53f-4efd-9663-9dbce9379c92"
      },
      "source": [
        "fig,ax=plt.subplots(1,2)\r\n",
        "col=['r','g']\r\n",
        "data=[y,y2]\r\n",
        "for i,axes in enumerate(ax):\r\n",
        "  axes.plot(x,data[i],col[i]) \r\n",
        "fig.tight_layout()"
      ],
      "execution_count": null,
      "outputs": [
        {
          "output_type": "display_data",
          "data": {
            "image/png": "[encoded data removed]",
            "text/plain": [
              "<Figure size 432x288 with 2 Axes>"
            ]
          },
          "metadata": {
            "tags": [],
            "needs_background": "light"
          }
        }
      ]
    },
    {
      "cell_type": "code",
      "metadata": {
        "colab": {
          "base_uri": "https://localhost:8080/",
          "height": 404
        },
        "id": "CfEnr4A9eQsu",
        "outputId": "fbd40d7a-b493-4f7c-f0c0-37fc4113d729"
      },
      "source": [
        "fig,ax=plt.subplots(figsize=(8,4),dpi=100)\r\n",
        "ax.plot(x,y,'r',label='Raja')\r\n",
        "ax.set_xlabel('X')\r\n",
        "ax.set_ylabel('Y')\r\n",
        "ax.set_title(\"Random Number Plot\")\r\n",
        "ax.legend()\r\n",
        "fig.savefig('Matplotlib.png',dpi=300)"
      ],
      "execution_count": null,
      "outputs": [
        {
          "output_type": "display_data",
          "data": {
            "image/png": "[encoded data removed]",
            "text/plain": [
              "<Figure size 800x400 with 1 Axes>"
            ]
          },
          "metadata": {
            "tags": [],
            "needs_background": "light"
          }
        }
      ]
    },
    {
      "cell_type": "code",
      "metadata": {
        "colab": {
          "base_uri": "https://localhost:8080/",
          "height": 404
        },
        "id": "nUyYkJPbvGD4",
        "outputId": "3b09dfa9-cfe1-4b2a-c077-21c048a605ac"
      },
      "source": [
        "fig,ax=plt.subplots(figsize=(8,4),dpi=100)\r\n",
        "ax.plot(x,y,'r',label='Raja')\r\n",
        "ax.plot(x,y2,'b',label='Nivi')\r\n",
        "ax.set_xlabel('X')\r\n",
        "ax.set_ylabel('Y')\r\n",
        "ax.set_title(\"Random Number Plot\")\r\n",
        "ax.legend()\r\n",
        "fig.savefig('Matplotlib.png',dpi=300)"
      ],
      "execution_count": null,
      "outputs": [
        {
          "output_type": "display_data",
          "data": {
            "image/png": "[encoded data removed]",
            "text/plain": [
              "<Figure size 800x400 with 1 Axes>"
            ]
          },
          "metadata": {
            "tags": [],
            "needs_background": "light"
          }
        }
      ]
    },
    {
      "cell_type": "code",
      "metadata": {
        "colab": {
          "base_uri": "https://localhost:8080/",
          "height": 404
        },
        "id": "_oq-JKNgwoIa",
        "outputId": "d19dcefa-ba49-4730-89eb-ecb9bfd12c7a"
      },
      "source": [
        "fig,ax=plt.subplots(figsize=(8,4),dpi=100)\r\n",
        "ax.plot(x,y,'r',label='Raja')\r\n",
        "ax.plot(x,y2,'b',label='Nivi')\r\n",
        "ax.set_xlabel('X')\r\n",
        "ax.set_ylabel('Y')\r\n",
        "ax.set_title(\"Random Number Plot\")\r\n",
        "ax.legend(loc=3)\r\n",
        "fig.savefig('Matplotlib.png',dpi=300)"
      ],
      "execution_count": null,
      "outputs": [
        {
          "output_type": "display_data",
          "data": {
            "image/png": "[encoded data removed]",
            "text/plain": [
              "<Figure size 800x400 with 1 Axes>"
            ]
          },
          "metadata": {
            "tags": [],
            "needs_background": "light"
          }
        }
      ]
    },
    {
      "cell_type": "code",
      "metadata": {
        "colab": {
          "base_uri": "https://localhost:8080/",
          "height": 282
        },
        "id": "4sHJ2TExw4qD",
        "outputId": "54788c24-5014-4fb1-92cf-fa7fc9fc145d"
      },
      "source": [
        "fig,ax=plt.subplots()\r\n",
        "ax.plot(x,y,'b--')"
      ],
      "execution_count": null,
      "outputs": [
        {
          "output_type": "execute_result",
          "data": {
            "text/plain": [
              "[<matplotlib.lines.Line2D at 0x7fa6741609b0>]"
            ]
          },
          "metadata": {
            "tags": []
          },
          "execution_count": 40
        },
        {
          "output_type": "display_data",
          "data": {
            "image/png": "[encoded data removed]",
            "text/plain": [
              "<Figure size 432x288 with 1 Axes>"
            ]
          },
          "metadata": {
            "tags": [],
            "needs_background": "light"
          }
        }
      ]
    },
    {
      "cell_type": "code",
      "metadata": {
        "colab": {
          "base_uri": "https://localhost:8080/",
          "height": 282
        },
        "id": "aRLoqt7hxNpX",
        "outputId": "ab8907fa-3be1-427d-8eb8-4aba5bc7c4ef"
      },
      "source": [
        "fig,ax=plt.subplots()\r\n",
        "ax.plot(x,y,'b2--')"
      ],
      "execution_count": null,
      "outputs": [
        {
          "output_type": "execute_result",
          "data": {
            "text/plain": [
              "[<matplotlib.lines.Line2D at 0x7fa6738c8ac8>]"
            ]
          },
          "metadata": {
            "tags": []
          },
          "execution_count": 41
        },
        {
          "output_type": "display_data",
          "data": {
            "image/png": "[encoded data removed]",
            "text/plain": [
              "<Figure size 432x288 with 1 Axes>"
            ]
          },
          "metadata": {
            "tags": [],
            "needs_background": "light"
          }
        }
      ]
    },
    {
      "cell_type": "code",
      "metadata": {
        "colab": {
          "base_uri": "https://localhost:8080/",
          "height": 282
        },
        "id": "rk0OjZCSxgik",
        "outputId": "210b6541-fcea-41bc-d6f8-f57d5360bf0e"
      },
      "source": [
        "fig,ax=plt.subplots()\r\n",
        "ax.plot(x,y,'b--',markersize=12,linewidth=4)"
      ],
      "execution_count": null,
      "outputs": [
        {
          "output_type": "execute_result",
          "data": {
            "text/plain": [
              "[<matplotlib.lines.Line2D at 0x7fa67399d198>]"
            ]
          },
          "metadata": {
            "tags": []
          },
          "execution_count": 42
        },
        {
          "output_type": "display_data",
          "data": {
            "image/png": "[encoded data removed]",
            "text/plain": [
              "<Figure size 432x288 with 1 Axes>"
            ]
          },
          "metadata": {
            "tags": [],
            "needs_background": "light"
          }
        }
      ]
    },
    {
      "cell_type": "code",
      "metadata": {
        "colab": {
          "base_uri": "https://localhost:8080/",
          "height": 282
        },
        "id": "iWj_CvVtxmaK",
        "outputId": "fa836137-a2e3-4ba1-a95d-53672d94edc2"
      },
      "source": [
        "fig,ax=plt.subplots()\r\n",
        "ax.plot(x,y,'b--',markersize=12,linewidth=4,color='y')"
      ],
      "execution_count": null,
      "outputs": [
        {
          "output_type": "execute_result",
          "data": {
            "text/plain": [
              "[<matplotlib.lines.Line2D at 0x7fa673912400>]"
            ]
          },
          "metadata": {
            "tags": []
          },
          "execution_count": 43
        },
        {
          "output_type": "display_data",
          "data": {
            "image/png": "[encoded data removed]",
            "text/plain": [
              "<Figure size 432x288 with 1 Axes>"
            ]
          },
          "metadata": {
            "tags": [],
            "needs_background": "light"
          }
        }
      ]
    },
    {
      "cell_type": "code",
      "metadata": {
        "colab": {
          "base_uri": "https://localhost:8080/",
          "height": 286
        },
        "id": "xU8E8yY1xw_g",
        "outputId": "b9ba7b16-4293-4e7f-8b3c-f012c894b002"
      },
      "source": [
        "fig,ax=plt.subplots(1,3,figsize=(12,4))\r\n",
        "ax[0].plot(x,y,x,y2)\r\n",
        "ax[1].plot(x,y**2,'k')"
      ],
      "execution_count": null,
      "outputs": [
        {
          "output_type": "execute_result",
          "data": {
            "text/plain": [
              "[<matplotlib.lines.Line2D at 0x7fa66ae09da0>]"
            ]
          },
          "metadata": {
            "tags": []
          },
          "execution_count": 44
        },
        {
          "output_type": "display_data",
          "data": {
            "image/png": "[encoded data removed]",
            "text/plain": [
              "<Figure size 864x288 with 3 Axes>"
            ]
          },
          "metadata": {
            "tags": [],
            "needs_background": "light"
          }
        }
      ]
    },
    {
      "cell_type": "code",
      "metadata": {
        "colab": {
          "base_uri": "https://localhost:8080/",
          "height": 286
        },
        "id": "CvyXj8ZAyBIt",
        "outputId": "972034b7-b250-449c-9186-c007fcbcb220"
      },
      "source": [
        "fig,ax=plt.subplots(1,3,figsize=(12,4))\r\n",
        "ax[0].plot(x,y,x,y2)\r\n",
        "ax[1].plot(x,y**2,'k')\r\n",
        "ax[1].set_ylim([0,500])\r\n",
        "ax[2].plot(x,y,x,y2)\r\n",
        "ax[2].set_ylim()"
      ],
      "execution_count": null,
      "outputs": [
        {
          "output_type": "execute_result",
          "data": {
            "text/plain": [
              "(-24.5, 514.5)"
            ]
          },
          "metadata": {
            "tags": []
          },
          "execution_count": 45
        },
        {
          "output_type": "display_data",
          "data": {
            "image/png": "[encoded data removed]",
            "text/plain": [
              "<Figure size 864x288 with 3 Axes>"
            ]
          },
          "metadata": {
            "tags": [],
            "needs_background": "light"
          }
        }
      ]
    },
    {
      "cell_type": "code",
      "metadata": {
        "colab": {
          "base_uri": "https://localhost:8080/"
        },
        "id": "AQFZZ7X9y28I",
        "outputId": "3071febf-b673-4c6b-bcba-0c5a84ddd3f2"
      },
      "source": [
        "dir(ax)"
      ],
      "execution_count": null,
      "outputs": [
        {
          "output_type": "execute_result",
          "data": {
            "text/plain": [
              "['T',\n",
              " '__abs__',\n",
              " '__add__',\n",
              " '__and__',\n",
              " '__array__',\n",
              " '__array_finalize__',\n",
              " '__array_function__',\n",
              " '__array_interface__',\n",
              " '__array_prepare__',\n",
              " '__array_priority__',\n",
              " '__array_struct__',\n",
              " '__array_ufunc__',\n",
              " '__array_wrap__',\n",
              " '__bool__',\n",
              " '__class__',\n",
              " '__complex__',\n",
              " '__contains__',\n",
              " '__copy__',\n",
              " '__deepcopy__',\n",
              " '__delattr__',\n",
              " '__delitem__',\n",
              " '__dir__',\n",
              " '__divmod__',\n",
              " '__doc__',\n",
              " '__eq__',\n",
              " '__float__',\n",
              " '__floordiv__',\n",
              " '__format__',\n",
              " '__ge__',\n",
              " '__getattribute__',\n",
              " '__getitem__',\n",
              " '__gt__',\n",
              " '__hash__',\n",
              " '__iadd__',\n",
              " '__iand__',\n",
              " '__ifloordiv__',\n",
              " '__ilshift__',\n",
              " '__imatmul__',\n",
              " '__imod__',\n",
              " '__imul__',\n",
              " '__index__',\n",
              " '__init__',\n",
              " '__init_subclass__',\n",
              " '__int__',\n",
              " '__invert__',\n",
              " '__ior__',\n",
              " '__ipow__',\n",
              " '__irshift__',\n",
              " '__isub__',\n",
              " '__iter__',\n",
              " '__itruediv__',\n",
              " '__ixor__',\n",
              " '__le__',\n",
              " '__len__',\n",
              " '__lshift__',\n",
              " '__lt__',\n",
              " '__matmul__',\n",
              " '__mod__',\n",
              " '__mul__',\n",
              " '__ne__',\n",
              " '__neg__',\n",
              " '__new__',\n",
              " '__or__',\n",
              " '__pos__',\n",
              " '__pow__',\n",
              " '__radd__',\n",
              " '__rand__',\n",
              " '__rdivmod__',\n",
              " '__reduce__',\n",
              " '__reduce_ex__',\n",
              " '__repr__',\n",
              " '__rfloordiv__',\n",
              " '__rlshift__',\n",
              " '__rmatmul__',\n",
              " '__rmod__',\n",
              " '__rmul__',\n",
              " '__ror__',\n",
              " '__rpow__',\n",
              " '__rrshift__',\n",
              " '__rshift__',\n",
              " '__rsub__',\n",
              " '__rtruediv__',\n",
              " '__rxor__',\n",
              " '__setattr__',\n",
              " '__setitem__',\n",
              " '__setstate__',\n",
              " '__sizeof__',\n",
              " '__str__',\n",
              " '__sub__',\n",
              " '__subclasshook__',\n",
              " '__truediv__',\n",
              " '__xor__',\n",
              " 'all',\n",
              " 'any',\n",
              " 'argmax',\n",
              " 'argmin',\n",
              " 'argpartition',\n",
              " 'argsort',\n",
              " 'astype',\n",
              " 'base',\n",
              " 'byteswap',\n",
              " 'choose',\n",
              " 'clip',\n",
              " 'compress',\n",
              " 'conj',\n",
              " 'conjugate',\n",
              " 'copy',\n",
              " 'ctypes',\n",
              " 'cumprod',\n",
              " 'cumsum',\n",
              " 'data',\n",
              " 'diagonal',\n",
              " 'dot',\n",
              " 'dtype',\n",
              " 'dump',\n",
              " 'dumps',\n",
              " 'fill',\n",
              " 'flags',\n",
              " 'flat',\n",
              " 'flatten',\n",
              " 'getfield',\n",
              " 'imag',\n",
              " 'item',\n",
              " 'itemset',\n",
              " 'itemsize',\n",
              " 'max',\n",
              " 'mean',\n",
              " 'min',\n",
              " 'nbytes',\n",
              " 'ndim',\n",
              " 'newbyteorder',\n",
              " 'nonzero',\n",
              " 'partition',\n",
              " 'prod',\n",
              " 'ptp',\n",
              " 'put',\n",
              " 'ravel',\n",
              " 'real',\n",
              " 'repeat',\n",
              " 'reshape',\n",
              " 'resize',\n",
              " 'round',\n",
              " 'searchsorted',\n",
              " 'setfield',\n",
              " 'setflags',\n",
              " 'shape',\n",
              " 'size',\n",
              " 'sort',\n",
              " 'squeeze',\n",
              " 'std',\n",
              " 'strides',\n",
              " 'sum',\n",
              " 'swapaxes',\n",
              " 'take',\n",
              " 'tobytes',\n",
              " 'tofile',\n",
              " 'tolist',\n",
              " 'tostring',\n",
              " 'trace',\n",
              " 'transpose',\n",
              " 'var',\n",
              " 'view']"
            ]
          },
          "metadata": {
            "tags": []
          },
          "execution_count": 46
        }
      ]
    },
    {
      "cell_type": "code",
      "metadata": {
        "colab": {
          "base_uri": "https://localhost:8080/"
        },
        "id": "ly56U6aJy4VQ",
        "outputId": "301f8365-fb43-46d9-97d3-8c90b5d60386"
      },
      "source": [
        "dir(ax[0])"
      ],
      "execution_count": null,
      "outputs": [
        {
          "output_type": "execute_result",
          "data": {
            "text/plain": [
              "['__class__',\n",
              " '__delattr__',\n",
              " '__dict__',\n",
              " '__dir__',\n",
              " '__doc__',\n",
              " '__eq__',\n",
              " '__format__',\n",
              " '__ge__',\n",
              " '__getattribute__',\n",
              " '__getstate__',\n",
              " '__gt__',\n",
              " '__hash__',\n",
              " '__init__',\n",
              " '__init_subclass__',\n",
              " '__le__',\n",
              " '__lt__',\n",
              " '__module__',\n",
              " '__ne__',\n",
              " '__new__',\n",
              " '__reduce__',\n",
              " '__reduce_ex__',\n",
              " '__repr__',\n",
              " '__setattr__',\n",
              " '__setstate__',\n",
              " '__sizeof__',\n",
              " '__str__',\n",
              " '__subclasshook__',\n",
              " '__weakref__',\n",
              " '_add_text',\n",
              " '_adjustable',\n",
              " '_agg_filter',\n",
              " '_alpha',\n",
              " '_anchor',\n",
              " '_animated',\n",
              " '_aspect',\n",
              " '_autoscaleXon',\n",
              " '_autoscaleYon',\n",
              " '_autotitlepos',\n",
              " '_axes',\n",
              " '_axes_class',\n",
              " '_axes_locator',\n",
              " '_axisbelow',\n",
              " '_clipon',\n",
              " '_clippath',\n",
              " '_contains',\n",
              " '_convert_dx',\n",
              " '_current_image',\n",
              " '_default_contains',\n",
              " '_facecolor',\n",
              " '_frameon',\n",
              " '_gci',\n",
              " '_gen_axes_patch',\n",
              " '_gen_axes_spines',\n",
              " '_get_axis_list',\n",
              " '_get_axis_map',\n",
              " '_get_clipping_extent_bbox',\n",
              " '_get_lines',\n",
              " '_get_patches_for_fill',\n",
              " '_get_view',\n",
              " '_gid',\n",
              " '_gridOn',\n",
              " '_in_layout',\n",
              " '_init_axis',\n",
              " '_label',\n",
              " '_layoutbox',\n",
              " '_left_title',\n",
              " '_make_twin_axes',\n",
              " '_mouseover',\n",
              " '_mouseover_set',\n",
              " '_navigate',\n",
              " '_navigate_mode',\n",
              " '_oid',\n",
              " '_on_units_changed',\n",
              " '_originalPosition',\n",
              " '_parse_scatter_color_args',\n",
              " '_path_effects',\n",
              " '_pcolorargs',\n",
              " '_picker',\n",
              " '_position',\n",
              " '_poslayoutbox',\n",
              " '_process_unit_info',\n",
              " '_prop_order',\n",
              " '_propobservers',\n",
              " '_quiver_units',\n",
              " '_rasterization_zorder',\n",
              " '_rasterized',\n",
              " '_remove_legend',\n",
              " '_remove_method',\n",
              " '_request_autoscale_view',\n",
              " '_right_title',\n",
              " '_sci',\n",
              " '_set_artist_props',\n",
              " '_set_gc_clip',\n",
              " '_set_lim_and_transforms',\n",
              " '_set_position',\n",
              " '_set_title_offset_trans',\n",
              " '_set_view',\n",
              " '_set_view_from_bbox',\n",
              " '_shared_x_axes',\n",
              " '_shared_y_axes',\n",
              " '_sharex',\n",
              " '_sharey',\n",
              " '_sketch',\n",
              " '_snap',\n",
              " '_stale',\n",
              " '_stale_viewlim_x',\n",
              " '_stale_viewlim_y',\n",
              " '_sticky_edges',\n",
              " '_subplotspec',\n",
              " '_tight',\n",
              " '_transform',\n",
              " '_transformSet',\n",
              " '_twinned_axes',\n",
              " '_unstale_viewLim',\n",
              " '_update_image_limits',\n",
              " '_update_line_limits',\n",
              " '_update_patch_limits',\n",
              " '_update_title_position',\n",
              " '_update_transScale',\n",
              " '_url',\n",
              " '_use_sticky_edges',\n",
              " '_validate_converted_limits',\n",
              " '_viewLim',\n",
              " '_visible',\n",
              " '_xaxis_transform',\n",
              " '_xcid',\n",
              " '_xmargin',\n",
              " '_yaxis_transform',\n",
              " '_ycid',\n",
              " '_ymargin',\n",
              " 'acorr',\n",
              " 'add_artist',\n",
              " 'add_callback',\n",
              " 'add_child_axes',\n",
              " 'add_collection',\n",
              " 'add_container',\n",
              " 'add_image',\n",
              " 'add_line',\n",
              " 'add_patch',\n",
              " 'add_table',\n",
              " 'aname',\n",
              " 'angle_spectrum',\n",
              " 'annotate',\n",
              " 'apply_aspect',\n",
              " 'arrow',\n",
              " 'artists',\n",
              " 'autoscale',\n",
              " 'autoscale_view',\n",
              " 'axes',\n",
              " 'axhline',\n",
              " 'axhspan',\n",
              " 'axis',\n",
              " 'axison',\n",
              " 'axvline',\n",
              " 'axvspan',\n",
              " 'bar',\n",
              " 'barbs',\n",
              " 'barh',\n",
              " 'bbox',\n",
              " 'boxplot',\n",
              " 'broken_barh',\n",
              " 'bxp',\n",
              " 'callbacks',\n",
              " 'can_pan',\n",
              " 'can_zoom',\n",
              " 'change_geometry',\n",
              " 'child_axes',\n",
              " 'cla',\n",
              " 'clabel',\n",
              " 'clear',\n",
              " 'clipbox',\n",
              " 'cohere',\n",
              " 'colNum',\n",
              " 'collections',\n",
              " 'containers',\n",
              " 'contains',\n",
              " 'contains_point',\n",
              " 'contour',\n",
              " 'contourf',\n",
              " 'convert_xunits',\n",
              " 'convert_yunits',\n",
              " 'csd',\n",
              " 'dataLim',\n",
              " 'drag_pan',\n",
              " 'draw',\n",
              " 'draw_artist',\n",
              " 'end_pan',\n",
              " 'errorbar',\n",
              " 'eventplot',\n",
              " 'eventson',\n",
              " 'figbox',\n",
              " 'figure',\n",
              " 'fill',\n",
              " 'fill_between',\n",
              " 'fill_betweenx',\n",
              " 'findobj',\n",
              " 'fmt_xdata',\n",
              " 'fmt_ydata',\n",
              " 'format_coord',\n",
              " 'format_cursor_data',\n",
              " 'format_xdata',\n",
              " 'format_ydata',\n",
              " 'get_adjustable',\n",
              " 'get_agg_filter',\n",
              " 'get_alpha',\n",
              " 'get_anchor',\n",
              " 'get_animated',\n",
              " 'get_aspect',\n",
              " 'get_autoscale_on',\n",
              " 'get_autoscalex_on',\n",
              " 'get_autoscaley_on',\n",
              " 'get_axes_locator',\n",
              " 'get_axisbelow',\n",
              " 'get_children',\n",
              " 'get_clip_box',\n",
              " 'get_clip_on',\n",
              " 'get_clip_path',\n",
              " 'get_contains',\n",
              " 'get_cursor_data',\n",
              " 'get_data_ratio',\n",
              " 'get_data_ratio_log',\n",
              " 'get_default_bbox_extra_artists',\n",
              " 'get_facecolor',\n",
              " 'get_fc',\n",
              " 'get_figure',\n",
              " 'get_frame_on',\n",
              " 'get_geometry',\n",
              " 'get_gid',\n",
              " 'get_gridspec',\n",
              " 'get_images',\n",
              " 'get_in_layout',\n",
              " 'get_label',\n",
              " 'get_legend',\n",
              " 'get_legend_handles_labels',\n",
              " 'get_lines',\n",
              " 'get_navigate',\n",
              " 'get_navigate_mode',\n",
              " 'get_path_effects',\n",
              " 'get_picker',\n",
              " 'get_position',\n",
              " 'get_rasterization_zorder',\n",
              " 'get_rasterized',\n",
              " 'get_renderer_cache',\n",
              " 'get_shared_x_axes',\n",
              " 'get_shared_y_axes',\n",
              " 'get_sketch_params',\n",
              " 'get_snap',\n",
              " 'get_subplotspec',\n",
              " 'get_tightbbox',\n",
              " 'get_title',\n",
              " 'get_transform',\n",
              " 'get_transformed_clip_path_and_affine',\n",
              " 'get_url',\n",
              " 'get_visible',\n",
              " 'get_window_extent',\n",
              " 'get_xaxis',\n",
              " 'get_xaxis_text1_transform',\n",
              " 'get_xaxis_text2_transform',\n",
              " 'get_xaxis_transform',\n",
              " 'get_xbound',\n",
              " 'get_xgridlines',\n",
              " 'get_xlabel',\n",
              " 'get_xlim',\n",
              " 'get_xmajorticklabels',\n",
              " 'get_xminorticklabels',\n",
              " 'get_xscale',\n",
              " 'get_xticklabels',\n",
              " 'get_xticklines',\n",
              " 'get_xticks',\n",
              " 'get_yaxis',\n",
              " 'get_yaxis_text1_transform',\n",
              " 'get_yaxis_text2_transform',\n",
              " 'get_yaxis_transform',\n",
              " 'get_ybound',\n",
              " 'get_ygridlines',\n",
              " 'get_ylabel',\n",
              " 'get_ylim',\n",
              " 'get_ymajorticklabels',\n",
              " 'get_yminorticklabels',\n",
              " 'get_yscale',\n",
              " 'get_yticklabels',\n",
              " 'get_yticklines',\n",
              " 'get_yticks',\n",
              " 'get_zorder',\n",
              " 'grid',\n",
              " 'has_data',\n",
              " 'have_units',\n",
              " 'hexbin',\n",
              " 'hist',\n",
              " 'hist2d',\n",
              " 'hlines',\n",
              " 'ignore_existing_data_limits',\n",
              " 'images',\n",
              " 'imshow',\n",
              " 'in_axes',\n",
              " 'indicate_inset',\n",
              " 'indicate_inset_zoom',\n",
              " 'inset_axes',\n",
              " 'invert_xaxis',\n",
              " 'invert_yaxis',\n",
              " 'is_first_col',\n",
              " 'is_first_row',\n",
              " 'is_last_col',\n",
              " 'is_last_row',\n",
              " 'is_transform_set',\n",
              " 'label_outer',\n",
              " 'legend',\n",
              " 'legend_',\n",
              " 'lines',\n",
              " 'locator_params',\n",
              " 'loglog',\n",
              " 'magnitude_spectrum',\n",
              " 'margins',\n",
              " 'matshow',\n",
              " 'minorticks_off',\n",
              " 'minorticks_on',\n",
              " 'mouseover',\n",
              " 'name',\n",
              " 'numCols',\n",
              " 'numRows',\n",
              " 'patch',\n",
              " 'patches',\n",
              " 'pchanged',\n",
              " 'pcolor',\n",
              " 'pcolorfast',\n",
              " 'pcolormesh',\n",
              " 'phase_spectrum',\n",
              " 'pick',\n",
              " 'pickable',\n",
              " 'pie',\n",
              " 'plot',\n",
              " 'plot_date',\n",
              " 'properties',\n",
              " 'psd',\n",
              " 'quiver',\n",
              " 'quiverkey',\n",
              " 'redraw_in_frame',\n",
              " 'relim',\n",
              " 'remove',\n",
              " 'remove_callback',\n",
              " 'reset_position',\n",
              " 'rowNum',\n",
              " 'scatter',\n",
              " 'secondary_xaxis',\n",
              " 'secondary_yaxis',\n",
              " 'semilogx',\n",
              " 'semilogy',\n",
              " 'set',\n",
              " 'set_adjustable',\n",
              " 'set_agg_filter',\n",
              " 'set_alpha',\n",
              " 'set_anchor',\n",
              " 'set_animated',\n",
              " 'set_aspect',\n",
              " 'set_autoscale_on',\n",
              " 'set_autoscalex_on',\n",
              " 'set_autoscaley_on',\n",
              " 'set_axes_locator',\n",
              " 'set_axis_off',\n",
              " 'set_axis_on',\n",
              " 'set_axisbelow',\n",
              " 'set_clip_box',\n",
              " 'set_clip_on',\n",
              " 'set_clip_path',\n",
              " 'set_contains',\n",
              " 'set_facecolor',\n",
              " 'set_fc',\n",
              " 'set_figure',\n",
              " 'set_frame_on',\n",
              " 'set_gid',\n",
              " 'set_in_layout',\n",
              " 'set_label',\n",
              " 'set_navigate',\n",
              " 'set_navigate_mode',\n",
              " 'set_path_effects',\n",
              " 'set_picker',\n",
              " 'set_position',\n",
              " 'set_prop_cycle',\n",
              " 'set_rasterization_zorder',\n",
              " 'set_rasterized',\n",
              " 'set_sketch_params',\n",
              " 'set_snap',\n",
              " 'set_subplotspec',\n",
              " 'set_title',\n",
              " 'set_transform',\n",
              " 'set_url',\n",
              " 'set_visible',\n",
              " 'set_xbound',\n",
              " 'set_xlabel',\n",
              " 'set_xlim',\n",
              " 'set_xmargin',\n",
              " 'set_xscale',\n",
              " 'set_xticklabels',\n",
              " 'set_xticks',\n",
              " 'set_ybound',\n",
              " 'set_ylabel',\n",
              " 'set_ylim',\n",
              " 'set_ymargin',\n",
              " 'set_yscale',\n",
              " 'set_yticklabels',\n",
              " 'set_yticks',\n",
              " 'set_zorder',\n",
              " 'specgram',\n",
              " 'spines',\n",
              " 'spy',\n",
              " 'stackplot',\n",
              " 'stale',\n",
              " 'stale_callback',\n",
              " 'start_pan',\n",
              " 'stem',\n",
              " 'step',\n",
              " 'sticky_edges',\n",
              " 'streamplot',\n",
              " 'table',\n",
              " 'tables',\n",
              " 'text',\n",
              " 'texts',\n",
              " 'tick_params',\n",
              " 'ticklabel_format',\n",
              " 'title',\n",
              " 'titleOffsetTrans',\n",
              " 'transAxes',\n",
              " 'transData',\n",
              " 'transLimits',\n",
              " 'transScale',\n",
              " 'tricontour',\n",
              " 'tricontourf',\n",
              " 'tripcolor',\n",
              " 'triplot',\n",
              " 'twinx',\n",
              " 'twiny',\n",
              " 'update',\n",
              " 'update_datalim',\n",
              " 'update_datalim_bounds',\n",
              " 'update_from',\n",
              " 'update_params',\n",
              " 'use_sticky_edges',\n",
              " 'viewLim',\n",
              " 'violin',\n",
              " 'violinplot',\n",
              " 'vlines',\n",
              " 'xaxis',\n",
              " 'xaxis_date',\n",
              " 'xaxis_inverted',\n",
              " 'xcorr',\n",
              " 'yaxis',\n",
              " 'yaxis_date',\n",
              " 'yaxis_inverted',\n",
              " 'zorder']"
            ]
          },
          "metadata": {
            "tags": []
          },
          "execution_count": 47
        }
      ]
    },
    {
      "cell_type": "code",
      "metadata": {
        "colab": {
          "base_uri": "https://localhost:8080/",
          "height": 286
        },
        "id": "gqpvs5ORzDKa",
        "outputId": "23674f65-65a5-43b2-87f6-79f6087869b0"
      },
      "source": [
        "fig,ax=plt.subplots(1,3,figsize=(12,4))\r\n",
        "ax[0].plot(x,y,x,y2)\r\n",
        "ax[1].plot(x,y**2,'k')\r\n",
        "ax[1].set_ylim([0,500])\r\n",
        "ax[2].plot(x,y,x,y2)\r\n",
        "ax[2].set_ylim(0,100)\r\n",
        "ax[2].set_xlim(1,4)"
      ],
      "execution_count": null,
      "outputs": [
        {
          "output_type": "execute_result",
          "data": {
            "text/plain": [
              "(1.0, 4.0)"
            ]
          },
          "metadata": {
            "tags": []
          },
          "execution_count": 48
        },
        {
          "output_type": "display_data",
          "data": {
            "image/png": "[encoded data removed]",
            "text/plain": [
              "<Figure size 864x288 with 3 Axes>"
            ]
          },
          "metadata": {
            "tags": [],
            "needs_background": "light"
          }
        }
      ]
    },
    {
      "cell_type": "code",
      "metadata": {
        "colab": {
          "base_uri": "https://localhost:8080/"
        },
        "id": "ofk05Z6izU-z",
        "outputId": "2eb57137-746f-490c-d3b2-eb99cfa6a416"
      },
      "source": [
        "dir(plt)"
      ],
      "execution_count": null,
      "outputs": [
        {
          "output_type": "execute_result",
          "data": {
            "text/plain": [
              "['Annotation',\n",
              " 'Arrow',\n",
              " 'Artist',\n",
              " 'AutoLocator',\n",
              " 'Axes',\n",
              " 'Button',\n",
              " 'Circle',\n",
              " 'Figure',\n",
              " 'FigureCanvasBase',\n",
              " 'FixedFormatter',\n",
              " 'FixedLocator',\n",
              " 'FormatStrFormatter',\n",
              " 'Formatter',\n",
              " 'FuncFormatter',\n",
              " 'GridSpec',\n",
              " 'IndexLocator',\n",
              " 'Line2D',\n",
              " 'LinearLocator',\n",
              " 'Locator',\n",
              " 'LogFormatter',\n",
              " 'LogFormatterExponent',\n",
              " 'LogFormatterMathtext',\n",
              " 'LogLocator',\n",
              " 'MaxNLocator',\n",
              " 'MultipleLocator',\n",
              " 'Normalize',\n",
              " 'NullFormatter',\n",
              " 'NullLocator',\n",
              " 'Number',\n",
              " 'PolarAxes',\n",
              " 'Polygon',\n",
              " 'Rectangle',\n",
              " 'ScalarFormatter',\n",
              " 'Slider',\n",
              " 'Subplot',\n",
              " 'SubplotTool',\n",
              " 'Text',\n",
              " 'TickHelper',\n",
              " 'Widget',\n",
              " '_INSTALL_FIG_OBSERVER',\n",
              " '_IP_REGISTERED',\n",
              " '__builtins__',\n",
              " '__cached__',\n",
              " '__doc__',\n",
              " '__file__',\n",
              " '__loader__',\n",
              " '__name__',\n",
              " '__package__',\n",
              " '__spec__',\n",
              " '_auto_draw_if_interactive',\n",
              " '_backend_mod',\n",
              " '_get_running_interactive_framework',\n",
              " '_interactive_bk',\n",
              " '_log',\n",
              " '_pylab_helpers',\n",
              " '_setp',\n",
              " '_setup_pyplot_info_docstrings',\n",
              " '_show',\n",
              " 'acorr',\n",
              " 'angle_spectrum',\n",
              " 'annotate',\n",
              " 'arrow',\n",
              " 'autoscale',\n",
              " 'autumn',\n",
              " 'axes',\n",
              " 'axhline',\n",
              " 'axhspan',\n",
              " 'axis',\n",
              " 'axvline',\n",
              " 'axvspan',\n",
              " 'bar',\n",
              " 'barbs',\n",
              " 'barh',\n",
              " 'bone',\n",
              " 'box',\n",
              " 'boxplot',\n",
              " 'broken_barh',\n",
              " 'cbook',\n",
              " 'cla',\n",
              " 'clabel',\n",
              " 'clf',\n",
              " 'clim',\n",
              " 'close',\n",
              " 'cm',\n",
              " 'cohere',\n",
              " 'colorbar',\n",
              " 'colormaps',\n",
              " 'connect',\n",
              " 'contour',\n",
              " 'contourf',\n",
              " 'cool',\n",
              " 'copper',\n",
              " 'csd',\n",
              " 'cycler',\n",
              " 'dedent',\n",
              " 'delaxes',\n",
              " 'deprecated',\n",
              " 'disconnect',\n",
              " 'docstring',\n",
              " 'draw',\n",
              " 'draw_all',\n",
              " 'draw_if_interactive',\n",
              " 'errorbar',\n",
              " 'eventplot',\n",
              " 'figaspect',\n",
              " 'figimage',\n",
              " 'figlegend',\n",
              " 'fignum_exists',\n",
              " 'figtext',\n",
              " 'figure',\n",
              " 'fill',\n",
              " 'fill_between',\n",
              " 'fill_betweenx',\n",
              " 'findobj',\n",
              " 'flag',\n",
              " 'functools',\n",
              " 'gca',\n",
              " 'gcf',\n",
              " 'gci',\n",
              " 'get',\n",
              " 'get_backend',\n",
              " 'get_cmap',\n",
              " 'get_current_fig_manager',\n",
              " 'get_figlabels',\n",
              " 'get_fignums',\n",
              " 'get_plot_commands',\n",
              " 'get_scale_docs',\n",
              " 'get_scale_names',\n",
              " 'getp',\n",
              " 'ginput',\n",
              " 'gray',\n",
              " 'grid',\n",
              " 'hexbin',\n",
              " 'hist',\n",
              " 'hist2d',\n",
              " 'hlines',\n",
              " 'hot',\n",
              " 'hsv',\n",
              " 'importlib',\n",
              " 'imread',\n",
              " 'imsave',\n",
              " 'imshow',\n",
              " 'inferno',\n",
              " 'inspect',\n",
              " 'install_repl_displayhook',\n",
              " 'interactive',\n",
              " 'ioff',\n",
              " 'ion',\n",
              " 'isinteractive',\n",
              " 'jet',\n",
              " 'legend',\n",
              " 'locator_params',\n",
              " 'logging',\n",
              " 'loglog',\n",
              " 'magma',\n",
              " 'magnitude_spectrum',\n",
              " 'margins',\n",
              " 'matplotlib',\n",
              " 'matshow',\n",
              " 'minorticks_off',\n",
              " 'minorticks_on',\n",
              " 'mlab',\n",
              " 'new_figure_manager',\n",
              " 'nipy_spectral',\n",
              " 'np',\n",
              " 'pause',\n",
              " 'pcolor',\n",
              " 'pcolormesh',\n",
              " 'phase_spectrum',\n",
              " 'pie',\n",
              " 'pink',\n",
              " 'plasma',\n",
              " 'plot',\n",
              " 'plot_date',\n",
              " 'plotfile',\n",
              " 'plotting',\n",
              " 'polar',\n",
              " 'prism',\n",
              " 'psd',\n",
              " 'quiver',\n",
              " 'quiverkey',\n",
              " 'rc',\n",
              " 'rcParams',\n",
              " 'rcParamsDefault',\n",
              " 'rcParamsOrig',\n",
              " 'rc_context',\n",
              " 'rcdefaults',\n",
              " 'rcsetup',\n",
              " 're',\n",
              " 'register_cmap',\n",
              " 'rgrids',\n",
              " 'savefig',\n",
              " 'sca',\n",
              " 'scatter',\n",
              " 'sci',\n",
              " 'semilogx',\n",
              " 'semilogy',\n",
              " 'set_cmap',\n",
              " 'set_loglevel',\n",
              " 'setp',\n",
              " 'show',\n",
              " 'silent_list',\n",
              " 'specgram',\n",
              " 'spring',\n",
              " 'spy',\n",
              " 'stackplot',\n",
              " 'stem',\n",
              " 'step',\n",
              " 'streamplot',\n",
              " 'style',\n",
              " 'subplot',\n",
              " 'subplot2grid',\n",
              " 'subplot_tool',\n",
              " 'subplots',\n",
              " 'subplots_adjust',\n",
              " 'summer',\n",
              " 'suptitle',\n",
              " 'switch_backend',\n",
              " 'sys',\n",
              " 'table',\n",
              " 'text',\n",
              " 'thetagrids',\n",
              " 'tick_params',\n",
              " 'ticklabel_format',\n",
              " 'tight_layout',\n",
              " 'time',\n",
              " 'title',\n",
              " 'tricontour',\n",
              " 'tricontourf',\n",
              " 'tripcolor',\n",
              " 'triplot',\n",
              " 'twinx',\n",
              " 'twiny',\n",
              " 'uninstall_repl_displayhook',\n",
              " 'violinplot',\n",
              " 'viridis',\n",
              " 'vlines',\n",
              " 'waitforbuttonpress',\n",
              " 'warn_deprecated',\n",
              " 'winter',\n",
              " 'xcorr',\n",
              " 'xkcd',\n",
              " 'xlabel',\n",
              " 'xlim',\n",
              " 'xscale',\n",
              " 'xticks',\n",
              " 'ylabel',\n",
              " 'ylim',\n",
              " 'yscale',\n",
              " 'yticks']"
            ]
          },
          "metadata": {
            "tags": []
          },
          "execution_count": 49
        }
      ]
    },
    {
      "cell_type": "code",
      "metadata": {
        "colab": {
          "base_uri": "https://localhost:8080/",
          "height": 282
        },
        "id": "KE0uA86hzbnP",
        "outputId": "c06dcae6-0367-4777-efcd-6f5d9984f2db"
      },
      "source": [
        "plt.scatter(x,y)"
      ],
      "execution_count": null,
      "outputs": [
        {
          "output_type": "execute_result",
          "data": {
            "text/plain": [
              "<matplotlib.collections.PathCollection at 0x7fa66aadaf60>"
            ]
          },
          "metadata": {
            "tags": []
          },
          "execution_count": 50
        },
        {
          "output_type": "display_data",
          "data": {
            "image/png": "[encoded data removed]",
            "text/plain": [
              "<Figure size 432x288 with 1 Axes>"
            ]
          },
          "metadata": {
            "tags": [],
            "needs_background": "light"
          }
        }
      ]
    },
    {
      "cell_type": "code",
      "metadata": {
        "colab": {
          "base_uri": "https://localhost:8080/",
          "height": 282
        },
        "id": "ovsYOOJm0OHc",
        "outputId": "0e64947d-a111-4be4-e6d8-9a43cc4b2b60"
      },
      "source": [
        "plt.bar(x,y)"
      ],
      "execution_count": null,
      "outputs": [
        {
          "output_type": "execute_result",
          "data": {
            "text/plain": [
              "<BarContainer object of 20 artists>"
            ]
          },
          "metadata": {
            "tags": []
          },
          "execution_count": 51
        },
        {
          "output_type": "display_data",
          "data": {
            "image/png": "[encoded data removed]",
            "text/plain": [
              "<Figure size 432x288 with 1 Axes>"
            ]
          },
          "metadata": {
            "tags": [],
            "needs_background": "light"
          }
        }
      ]
    },
    {
      "cell_type": "code",
      "metadata": {
        "colab": {
          "base_uri": "https://localhost:8080/",
          "height": 282
        },
        "id": "N2I77ZgrznZ4",
        "outputId": "a98fa863-0ff3-4dbd-8e99-4b44cfd271eb"
      },
      "source": [
        "plt.bar(x,y,width=0.5)"
      ],
      "execution_count": null,
      "outputs": [
        {
          "output_type": "execute_result",
          "data": {
            "text/plain": [
              "<BarContainer object of 20 artists>"
            ]
          },
          "metadata": {
            "tags": []
          },
          "execution_count": 52
        },
        {
          "output_type": "display_data",
          "data": {
            "image/png": "[encoded data removed]",
            "text/plain": [
              "<Figure size 432x288 with 1 Axes>"
            ]
          },
          "metadata": {
            "tags": [],
            "needs_background": "light"
          }
        }
      ]
    },
    {
      "cell_type": "code",
      "metadata": {
        "colab": {
          "base_uri": "https://localhost:8080/",
          "height": 349
        },
        "id": "S1ZIbfrQzqXX",
        "outputId": "a4c0992c-54d7-4d06-d908-2f376ba68e74"
      },
      "source": [
        "plt.hist(x,y)"
      ],
      "execution_count": null,
      "outputs": [
        {
          "output_type": "execute_result",
          "data": {
            "text/plain": [
              "(array([ 6., 11.,  1.,  0.,  0.,  0.,  0.,  0.,  0.,  0.,  0.,  0.,  0.,\n",
              "         0.,  0.,  0.,  0.,  0.,  0.]),\n",
              " array([ 1,  4, 10, 16, 16, 18, 20, 26, 28, 28, 28, 28, 32, 35, 38, 40, 46,\n",
              "        47, 48, 49]),\n",
              " <a list of 19 Patch objects>)"
            ]
          },
          "metadata": {
            "tags": []
          },
          "execution_count": 53
        },
        {
          "output_type": "display_data",
          "data": {
            "image/png": "[encoded data removed]",
            "text/plain": [
              "<Figure size 432x288 with 1 Axes>"
            ]
          },
          "metadata": {
            "tags": [],
            "needs_background": "light"
          }
        }
      ]
    },
    {
      "cell_type": "code",
      "metadata": {
        "colab": {
          "base_uri": "https://localhost:8080/",
          "height": 483
        },
        "id": "OLslqtpyzuQB",
        "outputId": "f2b52140-889f-4863-aff7-7467f195cd57"
      },
      "source": [
        "plt.hist2d(x,y)"
      ],
      "execution_count": null,
      "outputs": [
        {
          "output_type": "execute_result",
          "data": {
            "text/plain": [
              "(array([[2., 0., 0., 0., 0., 0., 0., 0., 0., 0.],\n",
              "        [0., 1., 0., 1., 0., 0., 0., 0., 0., 0.],\n",
              "        [0., 0., 0., 2., 0., 0., 0., 0., 0., 0.],\n",
              "        [0., 0., 0., 1., 0., 1., 0., 0., 0., 0.],\n",
              "        [0., 0., 0., 0., 0., 2., 0., 0., 0., 0.],\n",
              "        [0., 0., 0., 0., 0., 2., 0., 0., 0., 0.],\n",
              "        [0., 0., 0., 0., 0., 0., 1., 1., 0., 0.],\n",
              "        [0., 0., 0., 0., 0., 0., 0., 1., 1., 0.],\n",
              "        [0., 0., 0., 0., 0., 0., 0., 0., 0., 2.],\n",
              "        [0., 0., 0., 0., 0., 0., 0., 0., 0., 2.]]),\n",
              " array([ 0.,  1.,  2.,  3.,  4.,  5.,  6.,  7.,  8.,  9., 10.]),\n",
              " array([ 1. ,  5.8, 10.6, 15.4, 20.2, 25. , 29.8, 34.6, 39.4, 44.2, 49. ]),\n",
              " <matplotlib.collections.QuadMesh at 0x7fa673933668>)"
            ]
          },
          "metadata": {
            "tags": []
          },
          "execution_count": 54
        },
        {
          "output_type": "display_data",
          "data": {
            "image/png": "[encoded data removed]",
            "text/plain": [
              "<Figure size 432x288 with 1 Axes>"
            ]
          },
          "metadata": {
            "tags": [],
            "needs_background": "light"
          }
        }
      ]
    },
    {
      "cell_type": "code",
      "metadata": {
        "id": "WkcKca--zwEH"
      },
      "source": [
        "from random import sample"
      ],
      "execution_count": null,
      "outputs": []
    },
    {
      "cell_type": "code",
      "metadata": {
        "colab": {
          "base_uri": "https://localhost:8080/"
        },
        "id": "4w2B2f0B0WVG",
        "outputId": "431d2bea-607d-4e55-986d-4ed670091467"
      },
      "source": [
        "data=sample(range(1,10000),10)\r\n",
        "data"
      ],
      "execution_count": null,
      "outputs": [
        {
          "output_type": "execute_result",
          "data": {
            "text/plain": [
              "[9332, 3782, 4406, 3055, 2406, 624, 4272, 3219, 7117, 4885]"
            ]
          },
          "metadata": {
            "tags": []
          },
          "execution_count": 56
        }
      ]
    },
    {
      "cell_type": "code",
      "metadata": {
        "colab": {
          "base_uri": "https://localhost:8080/",
          "height": 332
        },
        "id": "Z1RDLfhZ0cCn",
        "outputId": "6388f622-9190-4786-d63f-a4296984fddf"
      },
      "source": [
        "plt.hist(data,rwidth=0.8)"
      ],
      "execution_count": null,
      "outputs": [
        {
          "output_type": "execute_result",
          "data": {
            "text/plain": [
              "(array([1., 0., 3., 1., 3., 0., 0., 1., 0., 1.]),\n",
              " array([ 624. , 1494.8, 2365.6, 3236.4, 4107.2, 4978. , 5848.8, 6719.6,\n",
              "        7590.4, 8461.2, 9332. ]),\n",
              " <a list of 10 Patch objects>)"
            ]
          },
          "metadata": {
            "tags": []
          },
          "execution_count": 57
        },
        {
          "output_type": "display_data",
          "data": {
            "image/png": "[encoded data removed]",
            "text/plain": [
              "<Figure size 432x288 with 1 Axes>"
            ]
          },
          "metadata": {
            "tags": [],
            "needs_background": "light"
          }
        }
      ]
    },
    {
      "cell_type": "code",
      "metadata": {
        "id": "FdcOzmPE0hSo"
      },
      "source": [
        "data=[np.random.normal(0,std,100) for std in range(1,10)]"
      ],
      "execution_count": null,
      "outputs": []
    },
    {
      "cell_type": "code",
      "metadata": {
        "colab": {
          "base_uri": "https://localhost:8080/",
          "height": 1000
        },
        "id": "9ETOnJCP1Ik7",
        "outputId": "a5ca5e69-a85e-40e9-85c0-d1099a16589f"
      },
      "source": [
        "plt.boxplot(data,vert=True,patch_artist=True)"
      ],
      "execution_count": null,
      "outputs": [
        {
          "output_type": "execute_result",
          "data": {
            "text/plain": [
              "{'boxes': [<matplotlib.patches.PathPatch at 0x7fa66afa9128>,\n",
              "  <matplotlib.patches.PathPatch at 0x7fa6737e4320>,\n",
              "  <matplotlib.patches.PathPatch at 0x7fa66af27898>,\n",
              "  <matplotlib.patches.PathPatch at 0x7fa66ad14390>,\n",
              "  <matplotlib.patches.PathPatch at 0x7fa673aa07f0>,\n",
              "  <matplotlib.patches.PathPatch at 0x7fa66afbe400>,\n",
              "  <matplotlib.patches.PathPatch at 0x7fa66a9ce518>,\n",
              "  <matplotlib.patches.PathPatch at 0x7fa66a9dbd68>,\n",
              "  <matplotlib.patches.PathPatch at 0x7fa66a9ef518>],\n",
              " 'caps': [<matplotlib.lines.Line2D at 0x7fa66afb71d0>,\n",
              "  <matplotlib.lines.Line2D at 0x7fa66afb7b70>,\n",
              "  <matplotlib.lines.Line2D at 0x7fa66af17550>,\n",
              "  <matplotlib.lines.Line2D at 0x7fa66af17ef0>,\n",
              "  <matplotlib.lines.Line2D at 0x7fa66af27e48>,\n",
              "  <matplotlib.lines.Line2D at 0x7fa6737fe860>,\n",
              "  <matplotlib.lines.Line2D at 0x7fa66ad77320>,\n",
              "  <matplotlib.lines.Line2D at 0x7fa66ad77668>,\n",
              "  <matplotlib.lines.Line2D at 0x7fa673997940>,\n",
              "  <matplotlib.lines.Line2D at 0x7fa673997748>,\n",
              "  <matplotlib.lines.Line2D at 0x7fa66afbe8d0>,\n",
              "  <matplotlib.lines.Line2D at 0x7fa66aa3d860>,\n",
              "  <matplotlib.lines.Line2D at 0x7fa66a9cecc0>,\n",
              "  <matplotlib.lines.Line2D at 0x7fa66a9db080>,\n",
              "  <matplotlib.lines.Line2D at 0x7fa66a9e74e0>,\n",
              "  <matplotlib.lines.Line2D at 0x7fa66a9e7860>,\n",
              "  <matplotlib.lines.Line2D at 0x7fa66a9efcc0>,\n",
              "  <matplotlib.lines.Line2D at 0x7fa66a9fd080>],\n",
              " 'fliers': [<matplotlib.lines.Line2D at 0x7fa66af955c0>,\n",
              "  <matplotlib.lines.Line2D at 0x7fa66af17eb8>,\n",
              "  <matplotlib.lines.Line2D at 0x7fa66ad14080>,\n",
              "  <matplotlib.lines.Line2D at 0x7fa66ad77630>,\n",
              "  <matplotlib.lines.Line2D at 0x7fa66afbe5c0>,\n",
              "  <matplotlib.lines.Line2D at 0x7fa66aa3df60>,\n",
              "  <matplotlib.lines.Line2D at 0x7fa66a9db780>,\n",
              "  <matplotlib.lines.Line2D at 0x7fa66a9e7f60>,\n",
              "  <matplotlib.lines.Line2D at 0x7fa66a9fd780>],\n",
              " 'means': [],\n",
              " 'medians': [<matplotlib.lines.Line2D at 0x7fa66afb7470>,\n",
              "  <matplotlib.lines.Line2D at 0x7fa66af17a58>,\n",
              "  <matplotlib.lines.Line2D at 0x7fa6737fe390>,\n",
              "  <matplotlib.lines.Line2D at 0x7fa66ad77978>,\n",
              "  <matplotlib.lines.Line2D at 0x7fa66af8e940>,\n",
              "  <matplotlib.lines.Line2D at 0x7fa66aa3dbe0>,\n",
              "  <matplotlib.lines.Line2D at 0x7fa66a9db400>,\n",
              "  <matplotlib.lines.Line2D at 0x7fa66a9e7be0>,\n",
              "  <matplotlib.lines.Line2D at 0x7fa66a9fd400>],\n",
              " 'whiskers': [<matplotlib.lines.Line2D at 0x7fa66afa9f98>,\n",
              "  <matplotlib.lines.Line2D at 0x7fa66afb75f8>,\n",
              "  <matplotlib.lines.Line2D at 0x7fa6737d7da0>,\n",
              "  <matplotlib.lines.Line2D at 0x7fa66af175c0>,\n",
              "  <matplotlib.lines.Line2D at 0x7fa66af276a0>,\n",
              "  <matplotlib.lines.Line2D at 0x7fa66af27ac8>,\n",
              "  <matplotlib.lines.Line2D at 0x7fa66ad14c50>,\n",
              "  <matplotlib.lines.Line2D at 0x7fa66ad14208>,\n",
              "  <matplotlib.lines.Line2D at 0x7fa673aa0208>,\n",
              "  <matplotlib.lines.Line2D at 0x7fa6740d83c8>,\n",
              "  <matplotlib.lines.Line2D at 0x7fa66afbe630>,\n",
              "  <matplotlib.lines.Line2D at 0x7fa66afbe588>,\n",
              "  <matplotlib.lines.Line2D at 0x7fa66a9ce828>,\n",
              "  <matplotlib.lines.Line2D at 0x7fa66a9ce940>,\n",
              "  <matplotlib.lines.Line2D at 0x7fa66a9dbfd0>,\n",
              "  <matplotlib.lines.Line2D at 0x7fa66a9e7160>,\n",
              "  <matplotlib.lines.Line2D at 0x7fa66a9ef828>,\n",
              "  <matplotlib.lines.Line2D at 0x7fa66a9ef940>]}"
            ]
          },
          "metadata": {
            "tags": []
          },
          "execution_count": 59
        },
        {
          "output_type": "display_data",
          "data": {
            "image/png": "[encoded data removed]",
            "text/plain": [
              "<Figure size 432x288 with 1 Axes>"
            ]
          },
          "metadata": {
            "tags": [],
            "needs_background": "light"
          }
        }
      ]
    },
    {
      "cell_type": "code",
      "metadata": {
        "colab": {
          "base_uri": "https://localhost:8080/",
          "height": 265
        },
        "id": "hva2jJQz1mOG",
        "outputId": "28fd325f-f142-492d-b053-5d406e2d6444"
      },
      "source": [
        "plt.boxplot(data,vert=True,patch_artist=True)\r\n",
        "plt.show()"
      ],
      "execution_count": null,
      "outputs": [
        {
          "output_type": "display_data",
          "data": {
            "image/png": "[encoded data removed]",
            "text/plain": [
              "<Figure size 432x288 with 1 Axes>"
            ]
          },
          "metadata": {
            "tags": [],
            "needs_background": "light"
          }
        }
      ]
    },
    {
      "cell_type": "code",
      "metadata": {
        "colab": {
          "base_uri": "https://localhost:8080/",
          "height": 297
        },
        "id": "qTElyqAX1tAj",
        "outputId": "61877a44-093d-48ce-9ac1-7d821629515f"
      },
      "source": [
        "fig,ax=plt.subplots(1,2,figsize=(10,4))\r\n",
        "ax[0].plot(x,y,x,y2)\r\n",
        "ax[1].plot(x,np.exp(x))\r\n",
        "fig.tight_layout()"
      ],
      "execution_count": null,
      "outputs": [
        {
          "output_type": "display_data",
          "data": {
            "image/png": "[encoded data removed]",
            "text/plain": [
              "<Figure size 720x288 with 2 Axes>"
            ]
          },
          "metadata": {
            "tags": [],
            "needs_background": "light"
          }
        }
      ]
    },
    {
      "cell_type": "code",
      "metadata": {
        "colab": {
          "base_uri": "https://localhost:8080/",
          "height": 297
        },
        "id": "toRoei9p2Htu",
        "outputId": "15a5e050-ea74-4e58-d2b3-81700b9ba978"
      },
      "source": [
        "fig,ax=plt.subplots(1,2,figsize=(10,4))\r\n",
        "ax[0].plot(x,y,x,y2)\r\n",
        "ax[1].plot(x,np.exp(x))\r\n",
        "ax[1].set_yscale('log')\r\n",
        "fig.tight_layout()"
      ],
      "execution_count": null,
      "outputs": [
        {
          "output_type": "display_data",
          "data": {
            "image/png": "[encoded data removed]",
            "text/plain": [
              "<Figure size 720x288 with 2 Axes>"
            ]
          },
          "metadata": {
            "tags": [],
            "needs_background": "light"
          }
        }
      ]
    },
    {
      "cell_type": "code",
      "metadata": {
        "colab": {
          "base_uri": "https://localhost:8080/",
          "height": 337
        },
        "id": "kPURF5W22j3G",
        "outputId": "13ffaab5-dfce-4364-bbcc-83998dc0f912"
      },
      "source": [
        "fig,ax=plt.subplots(figsize=(10,5))\r\n",
        "ax.plot(x,y2,lw=2)"
      ],
      "execution_count": null,
      "outputs": [
        {
          "output_type": "execute_result",
          "data": {
            "text/plain": [
              "[<matplotlib.lines.Line2D at 0x7fa673ec9b00>]"
            ]
          },
          "metadata": {
            "tags": []
          },
          "execution_count": 63
        },
        {
          "output_type": "display_data",
          "data": {
            "image/png": "[encoded data removed]",
            "text/plain": [
              "<Figure size 720x360 with 1 Axes>"
            ]
          },
          "metadata": {
            "tags": [],
            "needs_background": "light"
          }
        }
      ]
    },
    {
      "cell_type": "code",
      "metadata": {
        "colab": {
          "base_uri": "https://localhost:8080/",
          "height": 387
        },
        "id": "NqroP3923AZN",
        "outputId": "9587aedb-404a-4fdb-a3f7-1004190e0e71"
      },
      "source": [
        "fig,ax=plt.subplots(figsize=(10,5))\r\n",
        "ax.plot(x,y2,lw=2)\r\n",
        "ax.set_xticks([1,3,5,10])"
      ],
      "execution_count": null,
      "outputs": [
        {
          "output_type": "execute_result",
          "data": {
            "text/plain": [
              "[<matplotlib.axis.XTick at 0x7fa66a9ad7b8>,\n",
              " <matplotlib.axis.XTick at 0x7fa66a9ad5c0>,\n",
              " <matplotlib.axis.XTick at 0x7fa66a9ad128>,\n",
              " <matplotlib.axis.XTick at 0x7fa66aa182b0>]"
            ]
          },
          "metadata": {
            "tags": []
          },
          "execution_count": 64
        },
        {
          "output_type": "display_data",
          "data": {
            "image/png": "[encoded data removed]",
            "text/plain": [
              "<Figure size 720x360 with 1 Axes>"
            ]
          },
          "metadata": {
            "tags": [],
            "needs_background": "light"
          }
        }
      ]
    },
    {
      "cell_type": "code",
      "metadata": {
        "colab": {
          "base_uri": "https://localhost:8080/",
          "height": 342
        },
        "id": "-nvcmv2s3ZcB",
        "outputId": "b8b52fb2-2f04-44ae-b48b-572339f9444a"
      },
      "source": [
        "fig,ax=plt.subplots(figsize=(10,5))\r\n",
        "ax.plot(x,y2,lw=2)\r\n",
        "ax.set_xticks([1,3,5,10])\r\n",
        "ax.set_xticklabels(['a','b','c','d'],fontsize=15)\r\n",
        "ax.set_yticks([0,100,500])\r\n",
        "ax.set_yticklabels(['e','f','g','h'],fontsize=12)"
      ],
      "execution_count": null,
      "outputs": [
        {
          "output_type": "execute_result",
          "data": {
            "text/plain": [
              "[Text(0, 0, 'e'), Text(0, 0, 'f'), Text(0, 0, 'g')]"
            ]
          },
          "metadata": {
            "tags": []
          },
          "execution_count": 65
        },
        {
          "output_type": "display_data",
          "data": {
            "image/png": "[encoded data removed]",
            "text/plain": [
              "<Figure size 720x360 with 1 Axes>"
            ]
          },
          "metadata": {
            "tags": [],
            "needs_background": "light"
          }
        }
      ]
    },
    {
      "cell_type": "code",
      "metadata": {
        "id": "f64Bg45w31nN"
      },
      "source": [
        "from matplotlib import ticker"
      ],
      "execution_count": null,
      "outputs": []
    },
    {
      "cell_type": "code",
      "metadata": {
        "colab": {
          "base_uri": "https://localhost:8080/",
          "height": 281
        },
        "id": "RIpLMvPS4qJY",
        "outputId": "467c70f7-c2da-4fea-89be-c575add8a2fb"
      },
      "source": [
        "fig,ax=plt.subplots()\r\n",
        "ax.plot(x,y2)\r\n",
        "ax.set_title('Scientific Notation')\r\n",
        "fm=ticker.ScalarFormatter(useMathText=True)\r\n",
        "fm.set_scientific(True)\r\n",
        "fm.set_powerlimits((-1,-1))\r\n",
        "ax.yaxis.set_major_formatter(fm)"
      ],
      "execution_count": null,
      "outputs": [
        {
          "output_type": "display_data",
          "data": {
            "image/png": "[encoded data removed]",
            "text/plain": [
              "<Figure size 432x288 with 1 Axes>"
            ]
          },
          "metadata": {
            "tags": [],
            "needs_background": "light"
          }
        }
      ]
    },
    {
      "cell_type": "code",
      "metadata": {
        "id": "hMJ5HrHJ5P-r"
      },
      "source": [
        ""
      ],
      "execution_count": null,
      "outputs": []
    }
  ]
}