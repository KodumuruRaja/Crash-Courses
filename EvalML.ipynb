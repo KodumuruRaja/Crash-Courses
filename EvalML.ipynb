{
  "nbformat": 4,
  "nbformat_minor": 0,
  "metadata": {
    "colab": {
      "name": "EvalML.ipynb",
      "provenance": [],
      "collapsed_sections": [],
      "authorship_tag": "ABX9TyNzoHMZfmCBdqi10isUfDn1",
      "include_colab_link": true
    },
    "kernelspec": {
      "name": "python3",
      "display_name": "Python 3"
    },
    "language_info": {
      "name": "python"
    },
    "widgets": {
      "application/vnd.jupyter.widget-state+json": {
        "2695ec3c60af47b295c11fbd40a612c9": {
          "model_module": "jupyterlab-plotly",
          "model_name": "FigureModel",
          "model_module_version": "^5.1.0",
          "state": {
            "_view_name": "FigureView",
            "_py2js_animate": {},
            "_py2js_removeLayoutProps": {},
            "_last_trace_edit_id": 37,
            "_view_module": "jupyterlab-plotly",
            "_model_module_version": "^5.1.0",
            "_view_count": 0,
            "_js2py_relayout": {},
            "_py2js_moveTraces": {},
            "_py2js_addTraces": {},
            "_model_module": "jupyterlab-plotly",
            "_py2js_relayout": null,
            "_js2py_pointsCallback": {},
            "_js2py_update": {},
            "_js2py_restyle": {},
            "_py2js_removeTraceProps": {},
            "_py2js_deleteTraces": {},
            "_dom_classes": [],
            "_model_name": "FigureModel",
            "_layout": {
              "yaxis": {
                "title": {
                  "text": "Score"
                }
              },
              "xaxis": {
                "title": {
                  "text": "Iteration"
                },
                "rangemode": "tozero"
              },
              "title": {
                "text": "Pipeline Search: Iteration vs. Log Loss Binary<br><sub>Gray marker indicates the score at current iteration</sub>"
              }
            },
            "_js2py_layoutDelta": {},
            "_py2js_update": null,
            "_data": [
              {
                "uid": "595a6cf2-59e2-49f2-bea9-9fc998835719",
                "mode": "lines+markers",
                "y": [],
                "x": [],
                "type": "scatter",
                "name": "Best Score"
              },
              {
                "name": "Iter score",
                "y": [],
                "mode": "markers",
                "marker": {
                  "color": "gray"
                },
                "x": [],
                "type": "scatter",
                "uid": "5749910f-5659-4fcb-82b8-6505c71587dc"
              }
            ],
            "_config": {
              "plotlyServerURL": "https://plot.ly"
            },
            "_py2js_restyle": null,
            "_view_module_version": "^5.1.0",
            "_last_layout_edit_id": 37,
            "_js2py_traceDeltas": {}
          }
        },
        "d0e0b214bba44a5cbd408fd37d14f19f": {
          "model_module": "jupyterlab-plotly",
          "model_name": "FigureModel",
          "model_module_version": "^5.1.0",
          "state": {
            "_view_name": "FigureView",
            "_py2js_animate": {},
            "_py2js_removeLayoutProps": {},
            "_last_trace_edit_id": 37,
            "_view_module": "jupyterlab-plotly",
            "_model_module_version": "^5.1.0",
            "_view_count": 0,
            "_js2py_relayout": {},
            "_py2js_moveTraces": {},
            "_py2js_addTraces": {},
            "_model_module": "jupyterlab-plotly",
            "_py2js_relayout": null,
            "_js2py_pointsCallback": {},
            "_js2py_update": {},
            "_js2py_restyle": {},
            "_py2js_removeTraceProps": {},
            "_py2js_deleteTraces": {},
            "_dom_classes": [],
            "_model_name": "FigureModel",
            "_layout": {
              "yaxis": {
                "title": {
                  "text": "Score"
                }
              },
              "xaxis": {
                "title": {
                  "text": "Iteration"
                },
                "rangemode": "tozero"
              },
              "title": {
                "text": "Pipeline Search: Iteration vs. AUC<br><sub>Gray marker indicates the score at current iteration</sub>"
              }
            },
            "_js2py_layoutDelta": {},
            "_py2js_update": null,
            "_data": [
              {
                "uid": "ecc88558-4897-49ae-a3bd-d3bcbdfc013e",
                "mode": "lines+markers",
                "y": [],
                "x": [],
                "type": "scatter",
                "name": "Best Score"
              },
              {
                "name": "Iter score",
                "y": [],
                "mode": "markers",
                "marker": {
                  "color": "gray"
                },
                "x": [],
                "type": "scatter",
                "uid": "bd13de01-eb38-4cb2-81ef-349905c355e9"
              }
            ],
            "_config": {
              "plotlyServerURL": "https://plot.ly"
            },
            "_py2js_restyle": null,
            "_view_module_version": "^5.1.0",
            "_last_layout_edit_id": 37,
            "_js2py_traceDeltas": {}
          }
        },
        "f6953027b99a489a9ead34c8675af2bf": {
          "model_module": "jupyterlab-plotly",
          "model_name": "FigureModel",
          "model_module_version": "^5.1.0",
          "state": {
            "_view_name": "FigureView",
            "_py2js_animate": {},
            "_py2js_removeLayoutProps": {},
            "_last_trace_edit_id": 37,
            "_view_module": "jupyterlab-plotly",
            "_model_module_version": "^5.1.0",
            "_view_count": 0,
            "_js2py_relayout": {},
            "_py2js_moveTraces": {},
            "_py2js_addTraces": {},
            "_model_module": "jupyterlab-plotly",
            "_py2js_relayout": null,
            "_js2py_pointsCallback": {},
            "_js2py_update": {},
            "_js2py_restyle": {},
            "_py2js_removeTraceProps": {},
            "_py2js_deleteTraces": {},
            "_dom_classes": [],
            "_model_name": "FigureModel",
            "_layout": {
              "yaxis": {
                "title": {
                  "text": "Score"
                }
              },
              "xaxis": {
                "title": {
                  "text": "Iteration"
                },
                "rangemode": "tozero"
              },
              "title": {
                "text": "Pipeline Search: Iteration vs. Log Loss Binary<br><sub>Gray marker indicates the score at current iteration</sub>"
              }
            },
            "_js2py_layoutDelta": {},
            "_py2js_update": null,
            "_data": [
              {
                "uid": "6b4ebbaa-75a8-4ba8-be66-11d786f952b6",
                "mode": "lines+markers",
                "y": [],
                "x": [],
                "type": "scatter",
                "name": "Best Score"
              },
              {
                "name": "Iter score",
                "y": [],
                "mode": "markers",
                "marker": {
                  "color": "gray"
                },
                "x": [],
                "type": "scatter",
                "uid": "2d1388b0-bfba-49da-bf1f-f17879b838b3"
              }
            ],
            "_config": {
              "plotlyServerURL": "https://plot.ly"
            },
            "_py2js_restyle": null,
            "_view_module_version": "^5.1.0",
            "_last_layout_edit_id": 37,
            "_js2py_traceDeltas": {}
          }
        }
      }
    }
  },
  "cells": [
    {
      "cell_type": "markdown",
      "metadata": {
        "id": "view-in-github",
        "colab_type": "text"
      },
      "source": [
        "<a href=\"https://colab.research.google.com/github/KodumuruRaja/Crash-Courses/blob/main/EvalML.ipynb\" target=\"_parent\"><img src=\"https://colab.research.google.com/assets/colab-badge.svg\" alt=\"Open In Colab\"/></a>"
      ]
    },
    {
      "cell_type": "markdown",
      "metadata": {
        "id": "Nj12n4i87YdP"
      },
      "source": [
        "**ML**"
      ]
    },
    {
      "cell_type": "code",
      "metadata": {
        "id": "8GsYOzTf7Vvu"
      },
      "source": [
        "import evalml"
      ],
      "execution_count": 1,
      "outputs": []
    },
    {
      "cell_type": "code",
      "metadata": {
        "colab": {
          "base_uri": "https://localhost:8080/"
        },
        "id": "VxZmUc7ezsA3",
        "outputId": "f4042ab7-f281-4fc3-da3d-7ff54ca7b90f"
      },
      "source": [
        "x,y=evalml.demos.load_breast_cancer()"
      ],
      "execution_count": 2,
      "outputs": [
        {
          "output_type": "stream",
          "text": [
            "         Number of Features\n",
            "Numeric                  30\n",
            "\n",
            "Number of training examples: 569\n",
            "Targets\n",
            "benign       62.74%\n",
            "malignant    37.26%\n",
            "Name: target, dtype: object\n"
          ],
          "name": "stdout"
        }
      ]
    },
    {
      "cell_type": "code",
      "metadata": {
        "colab": {
          "base_uri": "https://localhost:8080/",
          "height": 469
        },
        "id": "y9sS-7qY0rDX",
        "outputId": "fd796e41-96ff-43c9-8383-669c8592f584"
      },
      "source": [
        "x"
      ],
      "execution_count": 3,
      "outputs": [
        {
          "output_type": "execute_result",
          "data": {
            "text/html": [
              "<div>\n",
              "<style scoped>\n",
              "    .dataframe tbody tr th:only-of-type {\n",
              "        vertical-align: middle;\n",
              "    }\n",
              "\n",
              "    .dataframe tbody tr th {\n",
              "        vertical-align: top;\n",
              "    }\n",
              "\n",
              "    .dataframe thead th {\n",
              "        text-align: right;\n",
              "    }\n",
              "</style>\n",
              "<table border=\"1\" class=\"dataframe\">\n",
              "  <thead>\n",
              "    <tr style=\"text-align: right;\">\n",
              "      <th></th>\n",
              "      <th>mean radius</th>\n",
              "      <th>mean texture</th>\n",
              "      <th>mean perimeter</th>\n",
              "      <th>mean area</th>\n",
              "      <th>mean smoothness</th>\n",
              "      <th>mean compactness</th>\n",
              "      <th>mean concavity</th>\n",
              "      <th>mean concave points</th>\n",
              "      <th>mean symmetry</th>\n",
              "      <th>mean fractal dimension</th>\n",
              "      <th>radius error</th>\n",
              "      <th>texture error</th>\n",
              "      <th>perimeter error</th>\n",
              "      <th>area error</th>\n",
              "      <th>smoothness error</th>\n",
              "      <th>compactness error</th>\n",
              "      <th>concavity error</th>\n",
              "      <th>concave points error</th>\n",
              "      <th>symmetry error</th>\n",
              "      <th>fractal dimension error</th>\n",
              "      <th>worst radius</th>\n",
              "      <th>worst texture</th>\n",
              "      <th>worst perimeter</th>\n",
              "      <th>worst area</th>\n",
              "      <th>worst smoothness</th>\n",
              "      <th>worst compactness</th>\n",
              "      <th>worst concavity</th>\n",
              "      <th>worst concave points</th>\n",
              "      <th>worst symmetry</th>\n",
              "      <th>worst fractal dimension</th>\n",
              "    </tr>\n",
              "  </thead>\n",
              "  <tbody>\n",
              "    <tr>\n",
              "      <th>0</th>\n",
              "      <td>17.99</td>\n",
              "      <td>10.38</td>\n",
              "      <td>122.80</td>\n",
              "      <td>1001.0</td>\n",
              "      <td>0.11840</td>\n",
              "      <td>0.27760</td>\n",
              "      <td>0.30010</td>\n",
              "      <td>0.14710</td>\n",
              "      <td>0.2419</td>\n",
              "      <td>0.07871</td>\n",
              "      <td>1.0950</td>\n",
              "      <td>0.9053</td>\n",
              "      <td>8.589</td>\n",
              "      <td>153.40</td>\n",
              "      <td>0.006399</td>\n",
              "      <td>0.04904</td>\n",
              "      <td>0.05373</td>\n",
              "      <td>0.01587</td>\n",
              "      <td>0.03003</td>\n",
              "      <td>0.006193</td>\n",
              "      <td>25.380</td>\n",
              "      <td>17.33</td>\n",
              "      <td>184.60</td>\n",
              "      <td>2019.0</td>\n",
              "      <td>0.16220</td>\n",
              "      <td>0.66560</td>\n",
              "      <td>0.7119</td>\n",
              "      <td>0.2654</td>\n",
              "      <td>0.4601</td>\n",
              "      <td>0.11890</td>\n",
              "    </tr>\n",
              "    <tr>\n",
              "      <th>1</th>\n",
              "      <td>20.57</td>\n",
              "      <td>17.77</td>\n",
              "      <td>132.90</td>\n",
              "      <td>1326.0</td>\n",
              "      <td>0.08474</td>\n",
              "      <td>0.07864</td>\n",
              "      <td>0.08690</td>\n",
              "      <td>0.07017</td>\n",
              "      <td>0.1812</td>\n",
              "      <td>0.05667</td>\n",
              "      <td>0.5435</td>\n",
              "      <td>0.7339</td>\n",
              "      <td>3.398</td>\n",
              "      <td>74.08</td>\n",
              "      <td>0.005225</td>\n",
              "      <td>0.01308</td>\n",
              "      <td>0.01860</td>\n",
              "      <td>0.01340</td>\n",
              "      <td>0.01389</td>\n",
              "      <td>0.003532</td>\n",
              "      <td>24.990</td>\n",
              "      <td>23.41</td>\n",
              "      <td>158.80</td>\n",
              "      <td>1956.0</td>\n",
              "      <td>0.12380</td>\n",
              "      <td>0.18660</td>\n",
              "      <td>0.2416</td>\n",
              "      <td>0.1860</td>\n",
              "      <td>0.2750</td>\n",
              "      <td>0.08902</td>\n",
              "    </tr>\n",
              "    <tr>\n",
              "      <th>2</th>\n",
              "      <td>19.69</td>\n",
              "      <td>21.25</td>\n",
              "      <td>130.00</td>\n",
              "      <td>1203.0</td>\n",
              "      <td>0.10960</td>\n",
              "      <td>0.15990</td>\n",
              "      <td>0.19740</td>\n",
              "      <td>0.12790</td>\n",
              "      <td>0.2069</td>\n",
              "      <td>0.05999</td>\n",
              "      <td>0.7456</td>\n",
              "      <td>0.7869</td>\n",
              "      <td>4.585</td>\n",
              "      <td>94.03</td>\n",
              "      <td>0.006150</td>\n",
              "      <td>0.04006</td>\n",
              "      <td>0.03832</td>\n",
              "      <td>0.02058</td>\n",
              "      <td>0.02250</td>\n",
              "      <td>0.004571</td>\n",
              "      <td>23.570</td>\n",
              "      <td>25.53</td>\n",
              "      <td>152.50</td>\n",
              "      <td>1709.0</td>\n",
              "      <td>0.14440</td>\n",
              "      <td>0.42450</td>\n",
              "      <td>0.4504</td>\n",
              "      <td>0.2430</td>\n",
              "      <td>0.3613</td>\n",
              "      <td>0.08758</td>\n",
              "    </tr>\n",
              "    <tr>\n",
              "      <th>3</th>\n",
              "      <td>11.42</td>\n",
              "      <td>20.38</td>\n",
              "      <td>77.58</td>\n",
              "      <td>386.1</td>\n",
              "      <td>0.14250</td>\n",
              "      <td>0.28390</td>\n",
              "      <td>0.24140</td>\n",
              "      <td>0.10520</td>\n",
              "      <td>0.2597</td>\n",
              "      <td>0.09744</td>\n",
              "      <td>0.4956</td>\n",
              "      <td>1.1560</td>\n",
              "      <td>3.445</td>\n",
              "      <td>27.23</td>\n",
              "      <td>0.009110</td>\n",
              "      <td>0.07458</td>\n",
              "      <td>0.05661</td>\n",
              "      <td>0.01867</td>\n",
              "      <td>0.05963</td>\n",
              "      <td>0.009208</td>\n",
              "      <td>14.910</td>\n",
              "      <td>26.50</td>\n",
              "      <td>98.87</td>\n",
              "      <td>567.7</td>\n",
              "      <td>0.20980</td>\n",
              "      <td>0.86630</td>\n",
              "      <td>0.6869</td>\n",
              "      <td>0.2575</td>\n",
              "      <td>0.6638</td>\n",
              "      <td>0.17300</td>\n",
              "    </tr>\n",
              "    <tr>\n",
              "      <th>4</th>\n",
              "      <td>20.29</td>\n",
              "      <td>14.34</td>\n",
              "      <td>135.10</td>\n",
              "      <td>1297.0</td>\n",
              "      <td>0.10030</td>\n",
              "      <td>0.13280</td>\n",
              "      <td>0.19800</td>\n",
              "      <td>0.10430</td>\n",
              "      <td>0.1809</td>\n",
              "      <td>0.05883</td>\n",
              "      <td>0.7572</td>\n",
              "      <td>0.7813</td>\n",
              "      <td>5.438</td>\n",
              "      <td>94.44</td>\n",
              "      <td>0.011490</td>\n",
              "      <td>0.02461</td>\n",
              "      <td>0.05688</td>\n",
              "      <td>0.01885</td>\n",
              "      <td>0.01756</td>\n",
              "      <td>0.005115</td>\n",
              "      <td>22.540</td>\n",
              "      <td>16.67</td>\n",
              "      <td>152.20</td>\n",
              "      <td>1575.0</td>\n",
              "      <td>0.13740</td>\n",
              "      <td>0.20500</td>\n",
              "      <td>0.4000</td>\n",
              "      <td>0.1625</td>\n",
              "      <td>0.2364</td>\n",
              "      <td>0.07678</td>\n",
              "    </tr>\n",
              "    <tr>\n",
              "      <th>...</th>\n",
              "      <td>...</td>\n",
              "      <td>...</td>\n",
              "      <td>...</td>\n",
              "      <td>...</td>\n",
              "      <td>...</td>\n",
              "      <td>...</td>\n",
              "      <td>...</td>\n",
              "      <td>...</td>\n",
              "      <td>...</td>\n",
              "      <td>...</td>\n",
              "      <td>...</td>\n",
              "      <td>...</td>\n",
              "      <td>...</td>\n",
              "      <td>...</td>\n",
              "      <td>...</td>\n",
              "      <td>...</td>\n",
              "      <td>...</td>\n",
              "      <td>...</td>\n",
              "      <td>...</td>\n",
              "      <td>...</td>\n",
              "      <td>...</td>\n",
              "      <td>...</td>\n",
              "      <td>...</td>\n",
              "      <td>...</td>\n",
              "      <td>...</td>\n",
              "      <td>...</td>\n",
              "      <td>...</td>\n",
              "      <td>...</td>\n",
              "      <td>...</td>\n",
              "      <td>...</td>\n",
              "    </tr>\n",
              "    <tr>\n",
              "      <th>564</th>\n",
              "      <td>21.56</td>\n",
              "      <td>22.39</td>\n",
              "      <td>142.00</td>\n",
              "      <td>1479.0</td>\n",
              "      <td>0.11100</td>\n",
              "      <td>0.11590</td>\n",
              "      <td>0.24390</td>\n",
              "      <td>0.13890</td>\n",
              "      <td>0.1726</td>\n",
              "      <td>0.05623</td>\n",
              "      <td>1.1760</td>\n",
              "      <td>1.2560</td>\n",
              "      <td>7.673</td>\n",
              "      <td>158.70</td>\n",
              "      <td>0.010300</td>\n",
              "      <td>0.02891</td>\n",
              "      <td>0.05198</td>\n",
              "      <td>0.02454</td>\n",
              "      <td>0.01114</td>\n",
              "      <td>0.004239</td>\n",
              "      <td>25.450</td>\n",
              "      <td>26.40</td>\n",
              "      <td>166.10</td>\n",
              "      <td>2027.0</td>\n",
              "      <td>0.14100</td>\n",
              "      <td>0.21130</td>\n",
              "      <td>0.4107</td>\n",
              "      <td>0.2216</td>\n",
              "      <td>0.2060</td>\n",
              "      <td>0.07115</td>\n",
              "    </tr>\n",
              "    <tr>\n",
              "      <th>565</th>\n",
              "      <td>20.13</td>\n",
              "      <td>28.25</td>\n",
              "      <td>131.20</td>\n",
              "      <td>1261.0</td>\n",
              "      <td>0.09780</td>\n",
              "      <td>0.10340</td>\n",
              "      <td>0.14400</td>\n",
              "      <td>0.09791</td>\n",
              "      <td>0.1752</td>\n",
              "      <td>0.05533</td>\n",
              "      <td>0.7655</td>\n",
              "      <td>2.4630</td>\n",
              "      <td>5.203</td>\n",
              "      <td>99.04</td>\n",
              "      <td>0.005769</td>\n",
              "      <td>0.02423</td>\n",
              "      <td>0.03950</td>\n",
              "      <td>0.01678</td>\n",
              "      <td>0.01898</td>\n",
              "      <td>0.002498</td>\n",
              "      <td>23.690</td>\n",
              "      <td>38.25</td>\n",
              "      <td>155.00</td>\n",
              "      <td>1731.0</td>\n",
              "      <td>0.11660</td>\n",
              "      <td>0.19220</td>\n",
              "      <td>0.3215</td>\n",
              "      <td>0.1628</td>\n",
              "      <td>0.2572</td>\n",
              "      <td>0.06637</td>\n",
              "    </tr>\n",
              "    <tr>\n",
              "      <th>566</th>\n",
              "      <td>16.60</td>\n",
              "      <td>28.08</td>\n",
              "      <td>108.30</td>\n",
              "      <td>858.1</td>\n",
              "      <td>0.08455</td>\n",
              "      <td>0.10230</td>\n",
              "      <td>0.09251</td>\n",
              "      <td>0.05302</td>\n",
              "      <td>0.1590</td>\n",
              "      <td>0.05648</td>\n",
              "      <td>0.4564</td>\n",
              "      <td>1.0750</td>\n",
              "      <td>3.425</td>\n",
              "      <td>48.55</td>\n",
              "      <td>0.005903</td>\n",
              "      <td>0.03731</td>\n",
              "      <td>0.04730</td>\n",
              "      <td>0.01557</td>\n",
              "      <td>0.01318</td>\n",
              "      <td>0.003892</td>\n",
              "      <td>18.980</td>\n",
              "      <td>34.12</td>\n",
              "      <td>126.70</td>\n",
              "      <td>1124.0</td>\n",
              "      <td>0.11390</td>\n",
              "      <td>0.30940</td>\n",
              "      <td>0.3403</td>\n",
              "      <td>0.1418</td>\n",
              "      <td>0.2218</td>\n",
              "      <td>0.07820</td>\n",
              "    </tr>\n",
              "    <tr>\n",
              "      <th>567</th>\n",
              "      <td>20.60</td>\n",
              "      <td>29.33</td>\n",
              "      <td>140.10</td>\n",
              "      <td>1265.0</td>\n",
              "      <td>0.11780</td>\n",
              "      <td>0.27700</td>\n",
              "      <td>0.35140</td>\n",
              "      <td>0.15200</td>\n",
              "      <td>0.2397</td>\n",
              "      <td>0.07016</td>\n",
              "      <td>0.7260</td>\n",
              "      <td>1.5950</td>\n",
              "      <td>5.772</td>\n",
              "      <td>86.22</td>\n",
              "      <td>0.006522</td>\n",
              "      <td>0.06158</td>\n",
              "      <td>0.07117</td>\n",
              "      <td>0.01664</td>\n",
              "      <td>0.02324</td>\n",
              "      <td>0.006185</td>\n",
              "      <td>25.740</td>\n",
              "      <td>39.42</td>\n",
              "      <td>184.60</td>\n",
              "      <td>1821.0</td>\n",
              "      <td>0.16500</td>\n",
              "      <td>0.86810</td>\n",
              "      <td>0.9387</td>\n",
              "      <td>0.2650</td>\n",
              "      <td>0.4087</td>\n",
              "      <td>0.12400</td>\n",
              "    </tr>\n",
              "    <tr>\n",
              "      <th>568</th>\n",
              "      <td>7.76</td>\n",
              "      <td>24.54</td>\n",
              "      <td>47.92</td>\n",
              "      <td>181.0</td>\n",
              "      <td>0.05263</td>\n",
              "      <td>0.04362</td>\n",
              "      <td>0.00000</td>\n",
              "      <td>0.00000</td>\n",
              "      <td>0.1587</td>\n",
              "      <td>0.05884</td>\n",
              "      <td>0.3857</td>\n",
              "      <td>1.4280</td>\n",
              "      <td>2.548</td>\n",
              "      <td>19.15</td>\n",
              "      <td>0.007189</td>\n",
              "      <td>0.00466</td>\n",
              "      <td>0.00000</td>\n",
              "      <td>0.00000</td>\n",
              "      <td>0.02676</td>\n",
              "      <td>0.002783</td>\n",
              "      <td>9.456</td>\n",
              "      <td>30.37</td>\n",
              "      <td>59.16</td>\n",
              "      <td>268.6</td>\n",
              "      <td>0.08996</td>\n",
              "      <td>0.06444</td>\n",
              "      <td>0.0000</td>\n",
              "      <td>0.0000</td>\n",
              "      <td>0.2871</td>\n",
              "      <td>0.07039</td>\n",
              "    </tr>\n",
              "  </tbody>\n",
              "</table>\n",
              "<p>569 rows × 30 columns</p>\n",
              "</div>"
            ],
            "text/plain": [
              "     mean radius  mean texture  ...  worst symmetry  worst fractal dimension\n",
              "0          17.99         10.38  ...          0.4601                  0.11890\n",
              "1          20.57         17.77  ...          0.2750                  0.08902\n",
              "2          19.69         21.25  ...          0.3613                  0.08758\n",
              "3          11.42         20.38  ...          0.6638                  0.17300\n",
              "4          20.29         14.34  ...          0.2364                  0.07678\n",
              "..           ...           ...  ...             ...                      ...\n",
              "564        21.56         22.39  ...          0.2060                  0.07115\n",
              "565        20.13         28.25  ...          0.2572                  0.06637\n",
              "566        16.60         28.08  ...          0.2218                  0.07820\n",
              "567        20.60         29.33  ...          0.4087                  0.12400\n",
              "568         7.76         24.54  ...          0.2871                  0.07039\n",
              "\n",
              "[569 rows x 30 columns]"
            ]
          },
          "metadata": {
            "tags": []
          },
          "execution_count": 3
        }
      ]
    },
    {
      "cell_type": "code",
      "metadata": {
        "colab": {
          "base_uri": "https://localhost:8080/"
        },
        "id": "DGbwfphW0q0r",
        "outputId": "98c42401-8b13-4971-8e2b-94bbd329bea9"
      },
      "source": [
        "y"
      ],
      "execution_count": 4,
      "outputs": [
        {
          "output_type": "execute_result",
          "data": {
            "text/plain": [
              "0      malignant\n",
              "1      malignant\n",
              "2      malignant\n",
              "3      malignant\n",
              "4      malignant\n",
              "         ...    \n",
              "564    malignant\n",
              "565    malignant\n",
              "566    malignant\n",
              "567    malignant\n",
              "568       benign\n",
              "Length: 569, dtype: category\n",
              "Categories (2, object): ['benign', 'malignant']"
            ]
          },
          "metadata": {
            "tags": []
          },
          "execution_count": 4
        }
      ]
    },
    {
      "cell_type": "code",
      "metadata": {
        "id": "HP6eZ3eLzyc9"
      },
      "source": [
        "x_train,x_test,y_train,y_test=evalml.preprocessing.split_data(x,y,problem_type='binary')"
      ],
      "execution_count": 5,
      "outputs": []
    },
    {
      "cell_type": "code",
      "metadata": {
        "colab": {
          "base_uri": "https://localhost:8080/",
          "height": 469
        },
        "id": "1IMy6j960k1E",
        "outputId": "be839d3f-d4ef-45df-b1d5-f6d5f7358a4d"
      },
      "source": [
        "x_train"
      ],
      "execution_count": 6,
      "outputs": [
        {
          "output_type": "execute_result",
          "data": {
            "text/html": [
              "<div>\n",
              "<style scoped>\n",
              "    .dataframe tbody tr th:only-of-type {\n",
              "        vertical-align: middle;\n",
              "    }\n",
              "\n",
              "    .dataframe tbody tr th {\n",
              "        vertical-align: top;\n",
              "    }\n",
              "\n",
              "    .dataframe thead th {\n",
              "        text-align: right;\n",
              "    }\n",
              "</style>\n",
              "<table border=\"1\" class=\"dataframe\">\n",
              "  <thead>\n",
              "    <tr style=\"text-align: right;\">\n",
              "      <th></th>\n",
              "      <th>mean radius</th>\n",
              "      <th>mean texture</th>\n",
              "      <th>mean perimeter</th>\n",
              "      <th>mean area</th>\n",
              "      <th>mean smoothness</th>\n",
              "      <th>mean compactness</th>\n",
              "      <th>mean concavity</th>\n",
              "      <th>mean concave points</th>\n",
              "      <th>mean symmetry</th>\n",
              "      <th>mean fractal dimension</th>\n",
              "      <th>radius error</th>\n",
              "      <th>texture error</th>\n",
              "      <th>perimeter error</th>\n",
              "      <th>area error</th>\n",
              "      <th>smoothness error</th>\n",
              "      <th>compactness error</th>\n",
              "      <th>concavity error</th>\n",
              "      <th>concave points error</th>\n",
              "      <th>symmetry error</th>\n",
              "      <th>fractal dimension error</th>\n",
              "      <th>worst radius</th>\n",
              "      <th>worst texture</th>\n",
              "      <th>worst perimeter</th>\n",
              "      <th>worst area</th>\n",
              "      <th>worst smoothness</th>\n",
              "      <th>worst compactness</th>\n",
              "      <th>worst concavity</th>\n",
              "      <th>worst concave points</th>\n",
              "      <th>worst symmetry</th>\n",
              "      <th>worst fractal dimension</th>\n",
              "    </tr>\n",
              "  </thead>\n",
              "  <tbody>\n",
              "    <tr>\n",
              "      <th>381</th>\n",
              "      <td>11.040</td>\n",
              "      <td>14.93</td>\n",
              "      <td>70.67</td>\n",
              "      <td>372.7</td>\n",
              "      <td>0.07987</td>\n",
              "      <td>0.07079</td>\n",
              "      <td>0.03546</td>\n",
              "      <td>0.020740</td>\n",
              "      <td>0.2003</td>\n",
              "      <td>0.06246</td>\n",
              "      <td>0.1642</td>\n",
              "      <td>1.0310</td>\n",
              "      <td>1.281</td>\n",
              "      <td>11.68</td>\n",
              "      <td>0.005296</td>\n",
              "      <td>0.01903</td>\n",
              "      <td>0.01723</td>\n",
              "      <td>0.006960</td>\n",
              "      <td>0.01880</td>\n",
              "      <td>0.001941</td>\n",
              "      <td>12.090</td>\n",
              "      <td>20.83</td>\n",
              "      <td>79.73</td>\n",
              "      <td>447.1</td>\n",
              "      <td>0.1095</td>\n",
              "      <td>0.19820</td>\n",
              "      <td>0.15530</td>\n",
              "      <td>0.06754</td>\n",
              "      <td>0.3202</td>\n",
              "      <td>0.07287</td>\n",
              "    </tr>\n",
              "    <tr>\n",
              "      <th>144</th>\n",
              "      <td>10.750</td>\n",
              "      <td>14.97</td>\n",
              "      <td>68.26</td>\n",
              "      <td>355.3</td>\n",
              "      <td>0.07793</td>\n",
              "      <td>0.05139</td>\n",
              "      <td>0.02251</td>\n",
              "      <td>0.007875</td>\n",
              "      <td>0.1399</td>\n",
              "      <td>0.05688</td>\n",
              "      <td>0.2525</td>\n",
              "      <td>1.2390</td>\n",
              "      <td>1.806</td>\n",
              "      <td>17.74</td>\n",
              "      <td>0.006547</td>\n",
              "      <td>0.01781</td>\n",
              "      <td>0.02018</td>\n",
              "      <td>0.005612</td>\n",
              "      <td>0.01671</td>\n",
              "      <td>0.002360</td>\n",
              "      <td>11.950</td>\n",
              "      <td>20.72</td>\n",
              "      <td>77.79</td>\n",
              "      <td>441.2</td>\n",
              "      <td>0.1076</td>\n",
              "      <td>0.12230</td>\n",
              "      <td>0.09755</td>\n",
              "      <td>0.03413</td>\n",
              "      <td>0.2300</td>\n",
              "      <td>0.06769</td>\n",
              "    </tr>\n",
              "    <tr>\n",
              "      <th>136</th>\n",
              "      <td>11.710</td>\n",
              "      <td>16.67</td>\n",
              "      <td>74.72</td>\n",
              "      <td>423.6</td>\n",
              "      <td>0.10510</td>\n",
              "      <td>0.06095</td>\n",
              "      <td>0.03592</td>\n",
              "      <td>0.026000</td>\n",
              "      <td>0.1339</td>\n",
              "      <td>0.05945</td>\n",
              "      <td>0.4489</td>\n",
              "      <td>2.5080</td>\n",
              "      <td>3.258</td>\n",
              "      <td>34.37</td>\n",
              "      <td>0.006578</td>\n",
              "      <td>0.01380</td>\n",
              "      <td>0.02662</td>\n",
              "      <td>0.013070</td>\n",
              "      <td>0.01359</td>\n",
              "      <td>0.003707</td>\n",
              "      <td>13.330</td>\n",
              "      <td>25.48</td>\n",
              "      <td>86.16</td>\n",
              "      <td>546.7</td>\n",
              "      <td>0.1271</td>\n",
              "      <td>0.10280</td>\n",
              "      <td>0.10460</td>\n",
              "      <td>0.06968</td>\n",
              "      <td>0.1712</td>\n",
              "      <td>0.07343</td>\n",
              "    </tr>\n",
              "    <tr>\n",
              "      <th>116</th>\n",
              "      <td>8.950</td>\n",
              "      <td>15.76</td>\n",
              "      <td>58.74</td>\n",
              "      <td>245.2</td>\n",
              "      <td>0.09462</td>\n",
              "      <td>0.12430</td>\n",
              "      <td>0.09263</td>\n",
              "      <td>0.023080</td>\n",
              "      <td>0.1305</td>\n",
              "      <td>0.07163</td>\n",
              "      <td>0.3132</td>\n",
              "      <td>0.9789</td>\n",
              "      <td>3.280</td>\n",
              "      <td>16.94</td>\n",
              "      <td>0.018350</td>\n",
              "      <td>0.06760</td>\n",
              "      <td>0.09263</td>\n",
              "      <td>0.023080</td>\n",
              "      <td>0.02384</td>\n",
              "      <td>0.005601</td>\n",
              "      <td>9.414</td>\n",
              "      <td>17.07</td>\n",
              "      <td>63.34</td>\n",
              "      <td>270.0</td>\n",
              "      <td>0.1179</td>\n",
              "      <td>0.18790</td>\n",
              "      <td>0.15440</td>\n",
              "      <td>0.03846</td>\n",
              "      <td>0.1652</td>\n",
              "      <td>0.07722</td>\n",
              "    </tr>\n",
              "    <tr>\n",
              "      <th>567</th>\n",
              "      <td>20.600</td>\n",
              "      <td>29.33</td>\n",
              "      <td>140.10</td>\n",
              "      <td>1265.0</td>\n",
              "      <td>0.11780</td>\n",
              "      <td>0.27700</td>\n",
              "      <td>0.35140</td>\n",
              "      <td>0.152000</td>\n",
              "      <td>0.2397</td>\n",
              "      <td>0.07016</td>\n",
              "      <td>0.7260</td>\n",
              "      <td>1.5950</td>\n",
              "      <td>5.772</td>\n",
              "      <td>86.22</td>\n",
              "      <td>0.006522</td>\n",
              "      <td>0.06158</td>\n",
              "      <td>0.07117</td>\n",
              "      <td>0.016640</td>\n",
              "      <td>0.02324</td>\n",
              "      <td>0.006185</td>\n",
              "      <td>25.740</td>\n",
              "      <td>39.42</td>\n",
              "      <td>184.60</td>\n",
              "      <td>1821.0</td>\n",
              "      <td>0.1650</td>\n",
              "      <td>0.86810</td>\n",
              "      <td>0.93870</td>\n",
              "      <td>0.26500</td>\n",
              "      <td>0.4087</td>\n",
              "      <td>0.12400</td>\n",
              "    </tr>\n",
              "    <tr>\n",
              "      <th>...</th>\n",
              "      <td>...</td>\n",
              "      <td>...</td>\n",
              "      <td>...</td>\n",
              "      <td>...</td>\n",
              "      <td>...</td>\n",
              "      <td>...</td>\n",
              "      <td>...</td>\n",
              "      <td>...</td>\n",
              "      <td>...</td>\n",
              "      <td>...</td>\n",
              "      <td>...</td>\n",
              "      <td>...</td>\n",
              "      <td>...</td>\n",
              "      <td>...</td>\n",
              "      <td>...</td>\n",
              "      <td>...</td>\n",
              "      <td>...</td>\n",
              "      <td>...</td>\n",
              "      <td>...</td>\n",
              "      <td>...</td>\n",
              "      <td>...</td>\n",
              "      <td>...</td>\n",
              "      <td>...</td>\n",
              "      <td>...</td>\n",
              "      <td>...</td>\n",
              "      <td>...</td>\n",
              "      <td>...</td>\n",
              "      <td>...</td>\n",
              "      <td>...</td>\n",
              "      <td>...</td>\n",
              "    </tr>\n",
              "    <tr>\n",
              "      <th>145</th>\n",
              "      <td>11.900</td>\n",
              "      <td>14.65</td>\n",
              "      <td>78.11</td>\n",
              "      <td>432.8</td>\n",
              "      <td>0.11520</td>\n",
              "      <td>0.12960</td>\n",
              "      <td>0.03710</td>\n",
              "      <td>0.030030</td>\n",
              "      <td>0.1995</td>\n",
              "      <td>0.07839</td>\n",
              "      <td>0.3962</td>\n",
              "      <td>0.6538</td>\n",
              "      <td>3.021</td>\n",
              "      <td>25.03</td>\n",
              "      <td>0.010170</td>\n",
              "      <td>0.04741</td>\n",
              "      <td>0.02789</td>\n",
              "      <td>0.011100</td>\n",
              "      <td>0.03127</td>\n",
              "      <td>0.009423</td>\n",
              "      <td>13.150</td>\n",
              "      <td>16.51</td>\n",
              "      <td>86.26</td>\n",
              "      <td>509.6</td>\n",
              "      <td>0.1424</td>\n",
              "      <td>0.25170</td>\n",
              "      <td>0.09420</td>\n",
              "      <td>0.06042</td>\n",
              "      <td>0.2727</td>\n",
              "      <td>0.10360</td>\n",
              "    </tr>\n",
              "    <tr>\n",
              "      <th>244</th>\n",
              "      <td>19.400</td>\n",
              "      <td>23.50</td>\n",
              "      <td>129.10</td>\n",
              "      <td>1155.0</td>\n",
              "      <td>0.10270</td>\n",
              "      <td>0.15580</td>\n",
              "      <td>0.20490</td>\n",
              "      <td>0.088860</td>\n",
              "      <td>0.1978</td>\n",
              "      <td>0.06000</td>\n",
              "      <td>0.5243</td>\n",
              "      <td>1.8020</td>\n",
              "      <td>4.037</td>\n",
              "      <td>60.41</td>\n",
              "      <td>0.010610</td>\n",
              "      <td>0.03252</td>\n",
              "      <td>0.03915</td>\n",
              "      <td>0.015590</td>\n",
              "      <td>0.02186</td>\n",
              "      <td>0.003949</td>\n",
              "      <td>21.650</td>\n",
              "      <td>30.53</td>\n",
              "      <td>144.90</td>\n",
              "      <td>1417.0</td>\n",
              "      <td>0.1463</td>\n",
              "      <td>0.29680</td>\n",
              "      <td>0.34580</td>\n",
              "      <td>0.15640</td>\n",
              "      <td>0.2920</td>\n",
              "      <td>0.07614</td>\n",
              "    </tr>\n",
              "    <tr>\n",
              "      <th>301</th>\n",
              "      <td>12.460</td>\n",
              "      <td>19.89</td>\n",
              "      <td>80.43</td>\n",
              "      <td>471.3</td>\n",
              "      <td>0.08451</td>\n",
              "      <td>0.10140</td>\n",
              "      <td>0.06830</td>\n",
              "      <td>0.030990</td>\n",
              "      <td>0.1781</td>\n",
              "      <td>0.06249</td>\n",
              "      <td>0.3642</td>\n",
              "      <td>1.0400</td>\n",
              "      <td>2.579</td>\n",
              "      <td>28.32</td>\n",
              "      <td>0.006530</td>\n",
              "      <td>0.03369</td>\n",
              "      <td>0.04712</td>\n",
              "      <td>0.014030</td>\n",
              "      <td>0.02740</td>\n",
              "      <td>0.004651</td>\n",
              "      <td>13.460</td>\n",
              "      <td>23.07</td>\n",
              "      <td>88.13</td>\n",
              "      <td>551.3</td>\n",
              "      <td>0.1050</td>\n",
              "      <td>0.21580</td>\n",
              "      <td>0.19040</td>\n",
              "      <td>0.07625</td>\n",
              "      <td>0.2685</td>\n",
              "      <td>0.07764</td>\n",
              "    </tr>\n",
              "    <tr>\n",
              "      <th>314</th>\n",
              "      <td>8.597</td>\n",
              "      <td>18.60</td>\n",
              "      <td>54.09</td>\n",
              "      <td>221.2</td>\n",
              "      <td>0.10740</td>\n",
              "      <td>0.05847</td>\n",
              "      <td>0.00000</td>\n",
              "      <td>0.000000</td>\n",
              "      <td>0.2163</td>\n",
              "      <td>0.07359</td>\n",
              "      <td>0.3368</td>\n",
              "      <td>2.7770</td>\n",
              "      <td>2.222</td>\n",
              "      <td>17.81</td>\n",
              "      <td>0.020750</td>\n",
              "      <td>0.01403</td>\n",
              "      <td>0.00000</td>\n",
              "      <td>0.000000</td>\n",
              "      <td>0.06146</td>\n",
              "      <td>0.006820</td>\n",
              "      <td>8.952</td>\n",
              "      <td>22.44</td>\n",
              "      <td>56.65</td>\n",
              "      <td>240.1</td>\n",
              "      <td>0.1347</td>\n",
              "      <td>0.07767</td>\n",
              "      <td>0.00000</td>\n",
              "      <td>0.00000</td>\n",
              "      <td>0.3142</td>\n",
              "      <td>0.08116</td>\n",
              "    </tr>\n",
              "    <tr>\n",
              "      <th>396</th>\n",
              "      <td>13.510</td>\n",
              "      <td>18.89</td>\n",
              "      <td>88.10</td>\n",
              "      <td>558.1</td>\n",
              "      <td>0.10590</td>\n",
              "      <td>0.11470</td>\n",
              "      <td>0.08580</td>\n",
              "      <td>0.053810</td>\n",
              "      <td>0.1806</td>\n",
              "      <td>0.06079</td>\n",
              "      <td>0.2136</td>\n",
              "      <td>1.3320</td>\n",
              "      <td>1.513</td>\n",
              "      <td>19.29</td>\n",
              "      <td>0.005442</td>\n",
              "      <td>0.01957</td>\n",
              "      <td>0.03304</td>\n",
              "      <td>0.013670</td>\n",
              "      <td>0.01315</td>\n",
              "      <td>0.002464</td>\n",
              "      <td>14.800</td>\n",
              "      <td>27.20</td>\n",
              "      <td>97.33</td>\n",
              "      <td>675.2</td>\n",
              "      <td>0.1428</td>\n",
              "      <td>0.25700</td>\n",
              "      <td>0.34380</td>\n",
              "      <td>0.14530</td>\n",
              "      <td>0.2666</td>\n",
              "      <td>0.07686</td>\n",
              "    </tr>\n",
              "  </tbody>\n",
              "</table>\n",
              "<p>455 rows × 30 columns</p>\n",
              "</div>"
            ],
            "text/plain": [
              "     mean radius  mean texture  ...  worst symmetry  worst fractal dimension\n",
              "381       11.040         14.93  ...          0.3202                  0.07287\n",
              "144       10.750         14.97  ...          0.2300                  0.06769\n",
              "136       11.710         16.67  ...          0.1712                  0.07343\n",
              "116        8.950         15.76  ...          0.1652                  0.07722\n",
              "567       20.600         29.33  ...          0.4087                  0.12400\n",
              "..           ...           ...  ...             ...                      ...\n",
              "145       11.900         14.65  ...          0.2727                  0.10360\n",
              "244       19.400         23.50  ...          0.2920                  0.07614\n",
              "301       12.460         19.89  ...          0.2685                  0.07764\n",
              "314        8.597         18.60  ...          0.3142                  0.08116\n",
              "396       13.510         18.89  ...          0.2666                  0.07686\n",
              "\n",
              "[455 rows x 30 columns]"
            ]
          },
          "metadata": {
            "tags": []
          },
          "execution_count": 6
        }
      ]
    },
    {
      "cell_type": "code",
      "metadata": {
        "colab": {
          "base_uri": "https://localhost:8080/"
        },
        "id": "_7-eASmf0z_a",
        "outputId": "5166c4ab-00de-45d3-b788-b9d6f7bf5e96"
      },
      "source": [
        "y_train"
      ],
      "execution_count": 7,
      "outputs": [
        {
          "output_type": "execute_result",
          "data": {
            "text/plain": [
              "381       benign\n",
              "144       benign\n",
              "136       benign\n",
              "116       benign\n",
              "567    malignant\n",
              "         ...    \n",
              "145       benign\n",
              "244    malignant\n",
              "301       benign\n",
              "314       benign\n",
              "396       benign\n",
              "Length: 455, dtype: category\n",
              "Categories (2, object): ['benign', 'malignant']"
            ]
          },
          "metadata": {
            "tags": []
          },
          "execution_count": 7
        }
      ]
    },
    {
      "cell_type": "markdown",
      "metadata": {
        "id": "TQeemcDt23h0"
      },
      "source": [
        "**Selecting the Best Algorithm using AutoML**"
      ]
    },
    {
      "cell_type": "code",
      "metadata": {
        "colab": {
          "base_uri": "https://localhost:8080/"
        },
        "id": "EoTNgy75000K",
        "outputId": "6bc5377b-6d6a-46c8-f04f-48cc8907954b"
      },
      "source": [
        "evalml.problem_types.ProblemTypes.all_problem_types"
      ],
      "execution_count": 8,
      "outputs": [
        {
          "output_type": "execute_result",
          "data": {
            "text/plain": [
              "[<ProblemTypes.BINARY: 'binary'>,\n",
              " <ProblemTypes.MULTICLASS: 'multiclass'>,\n",
              " <ProblemTypes.REGRESSION: 'regression'>,\n",
              " <ProblemTypes.TIME_SERIES_REGRESSION: 'time series regression'>,\n",
              " <ProblemTypes.TIME_SERIES_BINARY: 'time series binary'>,\n",
              " <ProblemTypes.TIME_SERIES_MULTICLASS: 'time series multiclass'>]"
            ]
          },
          "metadata": {
            "tags": []
          },
          "execution_count": 8
        }
      ]
    },
    {
      "cell_type": "code",
      "metadata": {
        "id": "bM4_mLYf3VTS"
      },
      "source": [
        "from evalml import AutoMLSearch"
      ],
      "execution_count": 9,
      "outputs": []
    },
    {
      "cell_type": "code",
      "metadata": {
        "colab": {
          "base_uri": "https://localhost:8080/",
          "height": 1000,
          "referenced_widgets": [
            "2695ec3c60af47b295c11fbd40a612c9"
          ]
        },
        "id": "DCX3j_Pj3avC",
        "outputId": "4716983a-8714-4bd9-c405-880b91d4351f"
      },
      "source": [
        "automl=AutoMLSearch(X_train=x_train,y_train=y_train,problem_type='binary')\n",
        "automl.search()"
      ],
      "execution_count": 10,
      "outputs": [
        {
          "output_type": "stream",
          "text": [
            "Using default limit of max_batches=1.\n",
            "\n",
            "Generating pipelines to search over...\n",
            "8 pipelines ready for search.\n",
            "\n",
            "*****************************\n",
            "* Beginning pipeline search *\n",
            "*****************************\n",
            "\n",
            "Optimizing for Log Loss Binary. \n",
            "Lower score is better.\n",
            "\n",
            "Using SequentialEngine to train and score pipelines.\n",
            "Searching up to 1 batches for a total of 9 pipelines. \n",
            "Allowed model families: lightgbm, catboost, random_forest, extra_trees, xgboost, decision_tree, linear_model\n",
            "\n"
          ],
          "name": "stdout"
        },
        {
          "output_type": "display_data",
          "data": {
            "application/vnd.jupyter.widget-view+json": {
              "model_id": "2695ec3c60af47b295c11fbd40a612c9",
              "version_minor": 0,
              "version_major": 2
            },
            "text/plain": [
              "FigureWidget({\n",
              "    'data': [{'mode': 'lines+markers',\n",
              "              'name': 'Best Score',\n",
              "              'type'…"
            ]
          },
          "metadata": {
            "tags": []
          }
        },
        {
          "output_type": "stream",
          "text": [
            "Evaluating Baseline Pipeline: Mode Baseline Binary Classification Pipeline\n",
            "Mode Baseline Binary Classification Pipeline:\n",
            "\tStarting cross validation\n",
            "\tFinished cross validation - mean Log Loss Binary: 12.904\n",
            "\n",
            "*****************************\n",
            "* Evaluating Batch Number 1 *\n",
            "*****************************\n",
            "\n",
            "Elastic Net Classifier w/ Imputer + Standard Scaler:\n",
            "\tStarting cross validation\n",
            "\tFinished cross validation - mean Log Loss Binary: 0.081\n",
            "\tHigh coefficient of variation (cv >= 0.2) within cross validation scores.\n",
            "\tElastic Net Classifier w/ Imputer + Standard Scaler may not perform as estimated on unseen data.\n",
            "Decision Tree Classifier w/ Imputer:\n",
            "\tStarting cross validation\n",
            "\tFinished cross validation - mean Log Loss Binary: 3.340\n",
            "Random Forest Classifier w/ Imputer:\n",
            "\tStarting cross validation\n",
            "\tFinished cross validation - mean Log Loss Binary: 0.123\n",
            "LightGBM Classifier w/ Imputer:\n",
            "\tStarting cross validation\n",
            "\tFinished cross validation - mean Log Loss Binary: 0.139\n",
            "\tHigh coefficient of variation (cv >= 0.2) within cross validation scores.\n",
            "\tLightGBM Classifier w/ Imputer may not perform as estimated on unseen data.\n",
            "Logistic Regression Classifier w/ Imputer + Standard Scaler:\n",
            "\tStarting cross validation\n",
            "\tFinished cross validation - mean Log Loss Binary: 0.086\n",
            "\tHigh coefficient of variation (cv >= 0.2) within cross validation scores.\n",
            "\tLogistic Regression Classifier w/ Imputer + Standard Scaler may not perform as estimated on unseen data.\n"
          ],
          "name": "stdout"
        },
        {
          "output_type": "stream",
          "text": [
            "/usr/local/lib/python3.7/dist-packages/xgboost/sklearn.py:1146: UserWarning:\n",
            "\n",
            "The use of label encoder in XGBClassifier is deprecated and will be removed in a future release. To remove this warning, do the following: 1) Pass option use_label_encoder=False when constructing XGBClassifier object; and 2) Encode your labels (y) as integers starting with 0, i.e. 0, 1, 2, ..., [num_class - 1].\n",
            "\n"
          ],
          "name": "stderr"
        },
        {
          "output_type": "stream",
          "text": [
            "[15:01:44] WARNING: ../src/learner.cc:1095: Starting in XGBoost 1.3.0, the default evaluation metric used with the objective 'binary:logistic' was changed from 'error' to 'logloss'. Explicitly set eval_metric if you'd like to restore the old behavior.\n"
          ],
          "name": "stdout"
        },
        {
          "output_type": "stream",
          "text": [
            "/usr/local/lib/python3.7/dist-packages/xgboost/sklearn.py:1146: UserWarning:\n",
            "\n",
            "The use of label encoder in XGBClassifier is deprecated and will be removed in a future release. To remove this warning, do the following: 1) Pass option use_label_encoder=False when constructing XGBClassifier object; and 2) Encode your labels (y) as integers starting with 0, i.e. 0, 1, 2, ..., [num_class - 1].\n",
            "\n"
          ],
          "name": "stderr"
        },
        {
          "output_type": "stream",
          "text": [
            "[15:01:45] WARNING: ../src/learner.cc:1095: Starting in XGBoost 1.3.0, the default evaluation metric used with the objective 'binary:logistic' was changed from 'error' to 'logloss'. Explicitly set eval_metric if you'd like to restore the old behavior.\n"
          ],
          "name": "stdout"
        },
        {
          "output_type": "stream",
          "text": [
            "/usr/local/lib/python3.7/dist-packages/xgboost/sklearn.py:1146: UserWarning:\n",
            "\n",
            "The use of label encoder in XGBClassifier is deprecated and will be removed in a future release. To remove this warning, do the following: 1) Pass option use_label_encoder=False when constructing XGBClassifier object; and 2) Encode your labels (y) as integers starting with 0, i.e. 0, 1, 2, ..., [num_class - 1].\n",
            "\n"
          ],
          "name": "stderr"
        },
        {
          "output_type": "stream",
          "text": [
            "[15:01:46] WARNING: ../src/learner.cc:1095: Starting in XGBoost 1.3.0, the default evaluation metric used with the objective 'binary:logistic' was changed from 'error' to 'logloss'. Explicitly set eval_metric if you'd like to restore the old behavior.\n",
            "XGBoost Classifier w/ Imputer:\n",
            "\tStarting cross validation\n",
            "\tFinished cross validation - mean Log Loss Binary: 0.113\n",
            "\tHigh coefficient of variation (cv >= 0.2) within cross validation scores.\n",
            "\tXGBoost Classifier w/ Imputer may not perform as estimated on unseen data.\n",
            "Extra Trees Classifier w/ Imputer:\n",
            "\tStarting cross validation\n",
            "\tFinished cross validation - mean Log Loss Binary: 0.134\n",
            "CatBoost Classifier w/ Imputer:\n",
            "\tStarting cross validation\n",
            "\tFinished cross validation - mean Log Loss Binary: 0.399\n",
            "\n",
            "Search finished after 00:21            \n",
            "Best pipeline: Elastic Net Classifier w/ Imputer + Standard Scaler\n",
            "Best pipeline Log Loss Binary: 0.081418\n"
          ],
          "name": "stdout"
        }
      ]
    },
    {
      "cell_type": "code",
      "metadata": {
        "colab": {
          "base_uri": "https://localhost:8080/",
          "height": 696
        },
        "id": "Y_wifp493rFe",
        "outputId": "f992fa91-c197-43e5-a99c-e2765e0dd813"
      },
      "source": [
        "automl.rankings"
      ],
      "execution_count": 11,
      "outputs": [
        {
          "output_type": "execute_result",
          "data": {
            "text/html": [
              "<div>\n",
              "<style scoped>\n",
              "    .dataframe tbody tr th:only-of-type {\n",
              "        vertical-align: middle;\n",
              "    }\n",
              "\n",
              "    .dataframe tbody tr th {\n",
              "        vertical-align: top;\n",
              "    }\n",
              "\n",
              "    .dataframe thead th {\n",
              "        text-align: right;\n",
              "    }\n",
              "</style>\n",
              "<table border=\"1\" class=\"dataframe\">\n",
              "  <thead>\n",
              "    <tr style=\"text-align: right;\">\n",
              "      <th></th>\n",
              "      <th>id</th>\n",
              "      <th>pipeline_name</th>\n",
              "      <th>search_order</th>\n",
              "      <th>mean_cv_score</th>\n",
              "      <th>standard_deviation_cv_score</th>\n",
              "      <th>validation_score</th>\n",
              "      <th>percent_better_than_baseline</th>\n",
              "      <th>high_variance_cv</th>\n",
              "      <th>parameters</th>\n",
              "    </tr>\n",
              "  </thead>\n",
              "  <tbody>\n",
              "    <tr>\n",
              "      <th>0</th>\n",
              "      <td>1</td>\n",
              "      <td>Elastic Net Classifier w/ Imputer + Standard S...</td>\n",
              "      <td>1</td>\n",
              "      <td>0.081418</td>\n",
              "      <td>0.021666</td>\n",
              "      <td>0.056533</td>\n",
              "      <td>99.369066</td>\n",
              "      <td>True</td>\n",
              "      <td>{'Imputer': {'categorical_impute_strategy': 'm...</td>\n",
              "    </tr>\n",
              "    <tr>\n",
              "      <th>1</th>\n",
              "      <td>5</td>\n",
              "      <td>Logistic Regression Classifier w/ Imputer + St...</td>\n",
              "      <td>5</td>\n",
              "      <td>0.086498</td>\n",
              "      <td>0.024840</td>\n",
              "      <td>0.058400</td>\n",
              "      <td>99.329702</td>\n",
              "      <td>True</td>\n",
              "      <td>{'Imputer': {'categorical_impute_strategy': 'm...</td>\n",
              "    </tr>\n",
              "    <tr>\n",
              "      <th>2</th>\n",
              "      <td>6</td>\n",
              "      <td>XGBoost Classifier w/ Imputer</td>\n",
              "      <td>6</td>\n",
              "      <td>0.113207</td>\n",
              "      <td>0.035053</td>\n",
              "      <td>0.075787</td>\n",
              "      <td>99.122726</td>\n",
              "      <td>True</td>\n",
              "      <td>{'Imputer': {'categorical_impute_strategy': 'm...</td>\n",
              "    </tr>\n",
              "    <tr>\n",
              "      <th>3</th>\n",
              "      <td>3</td>\n",
              "      <td>Random Forest Classifier w/ Imputer</td>\n",
              "      <td>3</td>\n",
              "      <td>0.122844</td>\n",
              "      <td>0.018427</td>\n",
              "      <td>0.106077</td>\n",
              "      <td>99.048042</td>\n",
              "      <td>False</td>\n",
              "      <td>{'Imputer': {'categorical_impute_strategy': 'm...</td>\n",
              "    </tr>\n",
              "    <tr>\n",
              "      <th>4</th>\n",
              "      <td>7</td>\n",
              "      <td>Extra Trees Classifier w/ Imputer</td>\n",
              "      <td>7</td>\n",
              "      <td>0.134290</td>\n",
              "      <td>0.023928</td>\n",
              "      <td>0.106956</td>\n",
              "      <td>98.959343</td>\n",
              "      <td>False</td>\n",
              "      <td>{'Imputer': {'categorical_impute_strategy': 'm...</td>\n",
              "    </tr>\n",
              "    <tr>\n",
              "      <th>5</th>\n",
              "      <td>4</td>\n",
              "      <td>LightGBM Classifier w/ Imputer</td>\n",
              "      <td>4</td>\n",
              "      <td>0.139108</td>\n",
              "      <td>0.056151</td>\n",
              "      <td>0.091426</td>\n",
              "      <td>98.922009</td>\n",
              "      <td>True</td>\n",
              "      <td>{'Imputer': {'categorical_impute_strategy': 'm...</td>\n",
              "    </tr>\n",
              "    <tr>\n",
              "      <th>6</th>\n",
              "      <td>8</td>\n",
              "      <td>CatBoost Classifier w/ Imputer</td>\n",
              "      <td>8</td>\n",
              "      <td>0.398523</td>\n",
              "      <td>0.014553</td>\n",
              "      <td>0.381786</td>\n",
              "      <td>96.911724</td>\n",
              "      <td>False</td>\n",
              "      <td>{'Imputer': {'categorical_impute_strategy': 'm...</td>\n",
              "    </tr>\n",
              "    <tr>\n",
              "      <th>7</th>\n",
              "      <td>2</td>\n",
              "      <td>Decision Tree Classifier w/ Imputer</td>\n",
              "      <td>2</td>\n",
              "      <td>3.340255</td>\n",
              "      <td>0.138178</td>\n",
              "      <td>3.181235</td>\n",
              "      <td>74.115354</td>\n",
              "      <td>False</td>\n",
              "      <td>{'Imputer': {'categorical_impute_strategy': 'm...</td>\n",
              "    </tr>\n",
              "    <tr>\n",
              "      <th>8</th>\n",
              "      <td>0</td>\n",
              "      <td>Mode Baseline Binary Classification Pipeline</td>\n",
              "      <td>0</td>\n",
              "      <td>12.904388</td>\n",
              "      <td>0.082537</td>\n",
              "      <td>12.952041</td>\n",
              "      <td>0.000000</td>\n",
              "      <td>False</td>\n",
              "      <td>{'Baseline Classifier': {'strategy': 'mode'}}</td>\n",
              "    </tr>\n",
              "  </tbody>\n",
              "</table>\n",
              "</div>"
            ],
            "text/plain": [
              "   id  ...                                         parameters\n",
              "0   1  ...  {'Imputer': {'categorical_impute_strategy': 'm...\n",
              "1   5  ...  {'Imputer': {'categorical_impute_strategy': 'm...\n",
              "2   6  ...  {'Imputer': {'categorical_impute_strategy': 'm...\n",
              "3   3  ...  {'Imputer': {'categorical_impute_strategy': 'm...\n",
              "4   7  ...  {'Imputer': {'categorical_impute_strategy': 'm...\n",
              "5   4  ...  {'Imputer': {'categorical_impute_strategy': 'm...\n",
              "6   8  ...  {'Imputer': {'categorical_impute_strategy': 'm...\n",
              "7   2  ...  {'Imputer': {'categorical_impute_strategy': 'm...\n",
              "8   0  ...      {'Baseline Classifier': {'strategy': 'mode'}}\n",
              "\n",
              "[9 rows x 9 columns]"
            ]
          },
          "metadata": {
            "tags": []
          },
          "execution_count": 11
        }
      ]
    },
    {
      "cell_type": "code",
      "metadata": {
        "colab": {
          "base_uri": "https://localhost:8080/"
        },
        "id": "VGMW5gu44XWT",
        "outputId": "273703c4-2cbc-4176-db14-852333e9456c"
      },
      "source": [
        "best_pipeline=automl.best_pipeline #Best Pipeline\n",
        "best_pipeline"
      ],
      "execution_count": 12,
      "outputs": [
        {
          "output_type": "execute_result",
          "data": {
            "text/plain": [
              "pipeline = BinaryClassificationPipeline(component_graph={'Imputer': ['Imputer', 'X', 'y'], 'Standard Scaler': ['Standard Scaler', 'Imputer.x', 'y'], 'Elastic Net Classifier': ['Elastic Net Classifier', 'Standard Scaler.x', 'y']}, parameters={'Imputer':{'categorical_impute_strategy': 'most_frequent', 'numeric_impute_strategy': 'mean', 'categorical_fill_value': None, 'numeric_fill_value': None}, 'Elastic Net Classifier':{'penalty': 'elasticnet', 'C': 1.0, 'l1_ratio': 0.15, 'n_jobs': -1, 'multi_class': 'auto', 'solver': 'saga'}}, random_seed=0)"
            ]
          },
          "metadata": {
            "tags": []
          },
          "execution_count": 12
        }
      ]
    },
    {
      "cell_type": "code",
      "metadata": {
        "colab": {
          "base_uri": "https://localhost:8080/"
        },
        "id": "yUBx4XMT5DVQ",
        "outputId": "8fce1e7e-52a0-4d49-e4a0-fbfd45f8de11"
      },
      "source": [
        "automl.describe_pipeline(automl.rankings.iloc[0][\"id\"])"
      ],
      "execution_count": 13,
      "outputs": [
        {
          "output_type": "stream",
          "text": [
            "\n",
            "*******************************************************\n",
            "* Elastic Net Classifier w/ Imputer + Standard Scaler *\n",
            "*******************************************************\n",
            "\n",
            "Problem Type: binary\n",
            "Model Family: Linear\n",
            "\n",
            "Pipeline Steps\n",
            "==============\n",
            "1. Imputer\n",
            "\t * categorical_impute_strategy : most_frequent\n",
            "\t * numeric_impute_strategy : mean\n",
            "\t * categorical_fill_value : None\n",
            "\t * numeric_fill_value : None\n",
            "2. Standard Scaler\n",
            "3. Elastic Net Classifier\n",
            "\t * penalty : elasticnet\n",
            "\t * C : 1.0\n",
            "\t * l1_ratio : 0.15\n",
            "\t * n_jobs : -1\n",
            "\t * multi_class : auto\n",
            "\t * solver : saga\n",
            "\n",
            "Training\n",
            "========\n",
            "Training for binary problems.\n",
            "Total training time (including CV): 2.1 seconds\n",
            "\n",
            "Cross Validation\n",
            "----------------\n",
            "             Log Loss Binary  MCC Binary  Gini   AUC  Precision    F1  Balanced Accuracy Binary  Accuracy Binary # Training # Validation\n",
            "0                      0.057       0.972 0.994 0.997      0.982 0.982                     0.986            0.987        303          152\n",
            "1                      0.092       0.930 0.991 0.995      0.981 0.955                     0.960            0.967        303          152\n",
            "2                      0.096       0.958 0.986 0.993      1.000 0.972                     0.973            0.980        304          151\n",
            "mean                   0.081       0.953 0.990 0.995      0.988 0.970                     0.973            0.978          -            -\n",
            "std                    0.022       0.021 0.004 0.002      0.010 0.014                     0.013            0.010          -            -\n",
            "coef of var            0.266       0.022 0.004 0.002      0.011 0.014                     0.014            0.010          -            -\n"
          ],
          "name": "stdout"
        }
      ]
    },
    {
      "cell_type": "code",
      "metadata": {
        "colab": {
          "base_uri": "https://localhost:8080/"
        },
        "id": "Fwa4hgLe6HgD",
        "outputId": "741d3945-bca4-4ac8-c9ef-1e661ffd8164"
      },
      "source": [
        "best_pipeline.score(x_test, y_test, objectives=[\"auc\",\"f1\",\"Precision\",\"Recall\"])"
      ],
      "execution_count": 14,
      "outputs": [
        {
          "output_type": "execute_result",
          "data": {
            "text/plain": [
              "OrderedDict([('AUC', 0.9927248677248677),\n",
              "             ('F1', 0.962962962962963),\n",
              "             ('Precision', 1.0),\n",
              "             ('Recall', 0.9285714285714286)])"
            ]
          },
          "metadata": {
            "tags": []
          },
          "execution_count": 14
        }
      ]
    },
    {
      "cell_type": "code",
      "metadata": {
        "colab": {
          "base_uri": "https://localhost:8080/",
          "height": 1000,
          "referenced_widgets": [
            "d0e0b214bba44a5cbd408fd37d14f19f"
          ]
        },
        "id": "X89ul-4Q6NBI",
        "outputId": "fcd9e494-9395-4b22-9799-ebdd38f32e72"
      },
      "source": [
        "automl_auc=AutoMLSearch(X_train=x_train, y_train=y_train,problem_type='binary',objective='auc',additional_objectives=['f1', 'precision'],max_batches=1,optimize_thresholds=True)\n",
        "automl_auc.search()"
      ],
      "execution_count": 15,
      "outputs": [
        {
          "output_type": "stream",
          "text": [
            "Generating pipelines to search over...\n",
            "8 pipelines ready for search.\n",
            "\n",
            "*****************************\n",
            "* Beginning pipeline search *\n",
            "*****************************\n",
            "\n",
            "Optimizing for AUC. \n",
            "Greater score is better.\n",
            "\n",
            "Using SequentialEngine to train and score pipelines.\n",
            "Searching up to 1 batches for a total of 9 pipelines. \n",
            "Allowed model families: lightgbm, catboost, random_forest, extra_trees, xgboost, decision_tree, linear_model\n",
            "\n"
          ],
          "name": "stdout"
        },
        {
          "output_type": "display_data",
          "data": {
            "application/vnd.jupyter.widget-view+json": {
              "model_id": "d0e0b214bba44a5cbd408fd37d14f19f",
              "version_minor": 0,
              "version_major": 2
            },
            "text/plain": [
              "FigureWidget({\n",
              "    'data': [{'mode': 'lines+markers',\n",
              "              'name': 'Best Score',\n",
              "              'type'…"
            ]
          },
          "metadata": {
            "tags": []
          }
        },
        {
          "output_type": "stream",
          "text": [
            "Evaluating Baseline Pipeline: Mode Baseline Binary Classification Pipeline\n",
            "Mode Baseline Binary Classification Pipeline:\n",
            "\tStarting cross validation\n",
            "\tFinished cross validation - mean AUC: 0.500\n",
            "\n",
            "*****************************\n",
            "* Evaluating Batch Number 1 *\n",
            "*****************************\n",
            "\n",
            "Elastic Net Classifier w/ Imputer + Standard Scaler:\n",
            "\tStarting cross validation\n",
            "\tFinished cross validation - mean AUC: 0.995\n",
            "Decision Tree Classifier w/ Imputer:\n",
            "\tStarting cross validation\n",
            "\tFinished cross validation - mean AUC: 0.899\n",
            "Random Forest Classifier w/ Imputer:\n",
            "\tStarting cross validation\n",
            "\tFinished cross validation - mean AUC: 0.992\n",
            "LightGBM Classifier w/ Imputer:\n",
            "\tStarting cross validation\n",
            "\tFinished cross validation - mean AUC: 0.993\n",
            "Logistic Regression Classifier w/ Imputer + Standard Scaler:\n",
            "\tStarting cross validation\n",
            "\tFinished cross validation - mean AUC: 0.993\n"
          ],
          "name": "stdout"
        },
        {
          "output_type": "stream",
          "text": [
            "/usr/local/lib/python3.7/dist-packages/xgboost/sklearn.py:1146: UserWarning:\n",
            "\n",
            "The use of label encoder in XGBClassifier is deprecated and will be removed in a future release. To remove this warning, do the following: 1) Pass option use_label_encoder=False when constructing XGBClassifier object; and 2) Encode your labels (y) as integers starting with 0, i.e. 0, 1, 2, ..., [num_class - 1].\n",
            "\n"
          ],
          "name": "stderr"
        },
        {
          "output_type": "stream",
          "text": [
            "[15:02:05] WARNING: ../src/learner.cc:1095: Starting in XGBoost 1.3.0, the default evaluation metric used with the objective 'binary:logistic' was changed from 'error' to 'logloss'. Explicitly set eval_metric if you'd like to restore the old behavior.\n"
          ],
          "name": "stdout"
        },
        {
          "output_type": "stream",
          "text": [
            "/usr/local/lib/python3.7/dist-packages/xgboost/sklearn.py:1146: UserWarning:\n",
            "\n",
            "The use of label encoder in XGBClassifier is deprecated and will be removed in a future release. To remove this warning, do the following: 1) Pass option use_label_encoder=False when constructing XGBClassifier object; and 2) Encode your labels (y) as integers starting with 0, i.e. 0, 1, 2, ..., [num_class - 1].\n",
            "\n"
          ],
          "name": "stderr"
        },
        {
          "output_type": "stream",
          "text": [
            "[15:02:05] WARNING: ../src/learner.cc:1095: Starting in XGBoost 1.3.0, the default evaluation metric used with the objective 'binary:logistic' was changed from 'error' to 'logloss'. Explicitly set eval_metric if you'd like to restore the old behavior.\n"
          ],
          "name": "stdout"
        },
        {
          "output_type": "stream",
          "text": [
            "/usr/local/lib/python3.7/dist-packages/xgboost/sklearn.py:1146: UserWarning:\n",
            "\n",
            "The use of label encoder in XGBClassifier is deprecated and will be removed in a future release. To remove this warning, do the following: 1) Pass option use_label_encoder=False when constructing XGBClassifier object; and 2) Encode your labels (y) as integers starting with 0, i.e. 0, 1, 2, ..., [num_class - 1].\n",
            "\n"
          ],
          "name": "stderr"
        },
        {
          "output_type": "stream",
          "text": [
            "[15:02:06] WARNING: ../src/learner.cc:1095: Starting in XGBoost 1.3.0, the default evaluation metric used with the objective 'binary:logistic' was changed from 'error' to 'logloss'. Explicitly set eval_metric if you'd like to restore the old behavior.\n",
            "XGBoost Classifier w/ Imputer:\n",
            "\tStarting cross validation\n",
            "\tFinished cross validation - mean AUC: 0.991\n",
            "Extra Trees Classifier w/ Imputer:\n",
            "\tStarting cross validation\n",
            "\tFinished cross validation - mean AUC: 0.994\n",
            "CatBoost Classifier w/ Imputer:\n",
            "\tStarting cross validation\n",
            "\tFinished cross validation - mean AUC: 0.988\n",
            "\n",
            "Search finished after 00:19            \n",
            "Best pipeline: Elastic Net Classifier w/ Imputer + Standard Scaler\n",
            "Best pipeline AUC: 0.995158\n"
          ],
          "name": "stdout"
        }
      ]
    },
    {
      "cell_type": "code",
      "metadata": {
        "colab": {
          "base_uri": "https://localhost:8080/",
          "height": 696
        },
        "id": "4WStqRTW6mKD",
        "outputId": "515c7942-b501-4b46-847c-3d2085c17920"
      },
      "source": [
        "automl_auc.rankings"
      ],
      "execution_count": 16,
      "outputs": [
        {
          "output_type": "execute_result",
          "data": {
            "text/html": [
              "<div>\n",
              "<style scoped>\n",
              "    .dataframe tbody tr th:only-of-type {\n",
              "        vertical-align: middle;\n",
              "    }\n",
              "\n",
              "    .dataframe tbody tr th {\n",
              "        vertical-align: top;\n",
              "    }\n",
              "\n",
              "    .dataframe thead th {\n",
              "        text-align: right;\n",
              "    }\n",
              "</style>\n",
              "<table border=\"1\" class=\"dataframe\">\n",
              "  <thead>\n",
              "    <tr style=\"text-align: right;\">\n",
              "      <th></th>\n",
              "      <th>id</th>\n",
              "      <th>pipeline_name</th>\n",
              "      <th>search_order</th>\n",
              "      <th>mean_cv_score</th>\n",
              "      <th>standard_deviation_cv_score</th>\n",
              "      <th>validation_score</th>\n",
              "      <th>percent_better_than_baseline</th>\n",
              "      <th>high_variance_cv</th>\n",
              "      <th>parameters</th>\n",
              "    </tr>\n",
              "  </thead>\n",
              "  <tbody>\n",
              "    <tr>\n",
              "      <th>0</th>\n",
              "      <td>1</td>\n",
              "      <td>Elastic Net Classifier w/ Imputer + Standard S...</td>\n",
              "      <td>1</td>\n",
              "      <td>0.995158</td>\n",
              "      <td>0.002010</td>\n",
              "      <td>0.997045</td>\n",
              "      <td>49.515785</td>\n",
              "      <td>False</td>\n",
              "      <td>{'Imputer': {'categorical_impute_strategy': 'm...</td>\n",
              "    </tr>\n",
              "    <tr>\n",
              "      <th>1</th>\n",
              "      <td>7</td>\n",
              "      <td>Extra Trees Classifier w/ Imputer</td>\n",
              "      <td>7</td>\n",
              "      <td>0.993597</td>\n",
              "      <td>0.003806</td>\n",
              "      <td>0.996491</td>\n",
              "      <td>49.359693</td>\n",
              "      <td>False</td>\n",
              "      <td>{'Imputer': {'categorical_impute_strategy': 'm...</td>\n",
              "    </tr>\n",
              "    <tr>\n",
              "      <th>2</th>\n",
              "      <td>5</td>\n",
              "      <td>Logistic Regression Classifier w/ Imputer + St...</td>\n",
              "      <td>5</td>\n",
              "      <td>0.993310</td>\n",
              "      <td>0.003531</td>\n",
              "      <td>0.997045</td>\n",
              "      <td>49.331003</td>\n",
              "      <td>False</td>\n",
              "      <td>{'Imputer': {'categorical_impute_strategy': 'm...</td>\n",
              "    </tr>\n",
              "    <tr>\n",
              "      <th>3</th>\n",
              "      <td>4</td>\n",
              "      <td>LightGBM Classifier w/ Imputer</td>\n",
              "      <td>4</td>\n",
              "      <td>0.992788</td>\n",
              "      <td>0.004551</td>\n",
              "      <td>0.996676</td>\n",
              "      <td>49.278789</td>\n",
              "      <td>False</td>\n",
              "      <td>{'Imputer': {'categorical_impute_strategy': 'm...</td>\n",
              "    </tr>\n",
              "    <tr>\n",
              "      <th>4</th>\n",
              "      <td>3</td>\n",
              "      <td>Random Forest Classifier w/ Imputer</td>\n",
              "      <td>3</td>\n",
              "      <td>0.991616</td>\n",
              "      <td>0.004007</td>\n",
              "      <td>0.992059</td>\n",
              "      <td>49.161610</td>\n",
              "      <td>False</td>\n",
              "      <td>{'Imputer': {'categorical_impute_strategy': 'm...</td>\n",
              "    </tr>\n",
              "    <tr>\n",
              "      <th>5</th>\n",
              "      <td>6</td>\n",
              "      <td>XGBoost Classifier w/ Imputer</td>\n",
              "      <td>6</td>\n",
              "      <td>0.991439</td>\n",
              "      <td>0.002779</td>\n",
              "      <td>0.994275</td>\n",
              "      <td>49.143912</td>\n",
              "      <td>False</td>\n",
              "      <td>{'Imputer': {'categorical_impute_strategy': 'm...</td>\n",
              "    </tr>\n",
              "    <tr>\n",
              "      <th>6</th>\n",
              "      <td>8</td>\n",
              "      <td>CatBoost Classifier w/ Imputer</td>\n",
              "      <td>8</td>\n",
              "      <td>0.988404</td>\n",
              "      <td>0.002658</td>\n",
              "      <td>0.990766</td>\n",
              "      <td>48.840412</td>\n",
              "      <td>False</td>\n",
              "      <td>{'Imputer': {'categorical_impute_strategy': 'm...</td>\n",
              "    </tr>\n",
              "    <tr>\n",
              "      <th>7</th>\n",
              "      <td>2</td>\n",
              "      <td>Decision Tree Classifier w/ Imputer</td>\n",
              "      <td>2</td>\n",
              "      <td>0.899102</td>\n",
              "      <td>0.000878</td>\n",
              "      <td>0.898246</td>\n",
              "      <td>39.910192</td>\n",
              "      <td>False</td>\n",
              "      <td>{'Imputer': {'categorical_impute_strategy': 'm...</td>\n",
              "    </tr>\n",
              "    <tr>\n",
              "      <th>8</th>\n",
              "      <td>0</td>\n",
              "      <td>Mode Baseline Binary Classification Pipeline</td>\n",
              "      <td>0</td>\n",
              "      <td>0.500000</td>\n",
              "      <td>0.000000</td>\n",
              "      <td>0.500000</td>\n",
              "      <td>0.000000</td>\n",
              "      <td>False</td>\n",
              "      <td>{'Baseline Classifier': {'strategy': 'mode'}}</td>\n",
              "    </tr>\n",
              "  </tbody>\n",
              "</table>\n",
              "</div>"
            ],
            "text/plain": [
              "   id  ...                                         parameters\n",
              "0   1  ...  {'Imputer': {'categorical_impute_strategy': 'm...\n",
              "1   7  ...  {'Imputer': {'categorical_impute_strategy': 'm...\n",
              "2   5  ...  {'Imputer': {'categorical_impute_strategy': 'm...\n",
              "3   4  ...  {'Imputer': {'categorical_impute_strategy': 'm...\n",
              "4   3  ...  {'Imputer': {'categorical_impute_strategy': 'm...\n",
              "5   6  ...  {'Imputer': {'categorical_impute_strategy': 'm...\n",
              "6   8  ...  {'Imputer': {'categorical_impute_strategy': 'm...\n",
              "7   2  ...  {'Imputer': {'categorical_impute_strategy': 'm...\n",
              "8   0  ...      {'Baseline Classifier': {'strategy': 'mode'}}\n",
              "\n",
              "[9 rows x 9 columns]"
            ]
          },
          "metadata": {
            "tags": []
          },
          "execution_count": 16
        }
      ]
    },
    {
      "cell_type": "code",
      "metadata": {
        "colab": {
          "base_uri": "https://localhost:8080/"
        },
        "id": "sxq66eI16sg8",
        "outputId": "cc9004a9-3262-47ca-cab4-6586a565c042"
      },
      "source": [
        "automl_auc.describe_pipeline(automl_auc.rankings.iloc[0][\"id\"])"
      ],
      "execution_count": 17,
      "outputs": [
        {
          "output_type": "stream",
          "text": [
            "\n",
            "*******************************************************\n",
            "* Elastic Net Classifier w/ Imputer + Standard Scaler *\n",
            "*******************************************************\n",
            "\n",
            "Problem Type: binary\n",
            "Model Family: Linear\n",
            "\n",
            "Pipeline Steps\n",
            "==============\n",
            "1. Imputer\n",
            "\t * categorical_impute_strategy : most_frequent\n",
            "\t * numeric_impute_strategy : mean\n",
            "\t * categorical_fill_value : None\n",
            "\t * numeric_fill_value : None\n",
            "2. Standard Scaler\n",
            "3. Elastic Net Classifier\n",
            "\t * penalty : elasticnet\n",
            "\t * C : 1.0\n",
            "\t * l1_ratio : 0.15\n",
            "\t * n_jobs : -1\n",
            "\t * multi_class : auto\n",
            "\t * solver : saga\n",
            "\n",
            "Training\n",
            "========\n",
            "Training for binary problems.\n",
            "Total training time (including CV): 2.0 seconds\n",
            "\n",
            "Cross Validation\n",
            "----------------\n",
            "              AUC    F1  Precision # Training # Validation\n",
            "0           0.997 0.982      0.982        303          152\n",
            "1           0.995 0.955      0.981        303          152\n",
            "2           0.993 0.972      1.000        304          151\n",
            "mean        0.995 0.970      0.988          -            -\n",
            "std         0.002 0.014      0.010          -            -\n",
            "coef of var 0.002 0.014      0.011          -            -\n"
          ],
          "name": "stdout"
        }
      ]
    },
    {
      "cell_type": "code",
      "metadata": {
        "id": "N2lwhCh46vls"
      },
      "source": [
        "best_pipeline_auc = automl_auc.best_pipeline"
      ],
      "execution_count": 18,
      "outputs": []
    },
    {
      "cell_type": "code",
      "metadata": {
        "colab": {
          "base_uri": "https://localhost:8080/"
        },
        "id": "7hg4LTv16x_r",
        "outputId": "219f4b6c-034b-4789-e501-6e2f4db628df"
      },
      "source": [
        "best_pipeline_auc.score(x_test, y_test,  objectives=[\"auc\"])"
      ],
      "execution_count": 19,
      "outputs": [
        {
          "output_type": "execute_result",
          "data": {
            "text/plain": [
              "OrderedDict([('AUC', 0.9927248677248677)])"
            ]
          },
          "metadata": {
            "tags": []
          },
          "execution_count": 19
        }
      ]
    },
    {
      "cell_type": "code",
      "metadata": {
        "id": "v5wmLMkP60QU"
      },
      "source": [
        "best_pipeline.save(\"EVALML.pkl\")"
      ],
      "execution_count": 20,
      "outputs": []
    },
    {
      "cell_type": "code",
      "metadata": {
        "id": "vPIZ2tmY66Le"
      },
      "source": [
        "check_model=automl.load('EVALML.pkl')"
      ],
      "execution_count": 21,
      "outputs": []
    },
    {
      "cell_type": "code",
      "metadata": {
        "colab": {
          "base_uri": "https://localhost:8080/",
          "height": 415
        },
        "id": "n-yGnvNK6-ma",
        "outputId": "d505fc91-de6c-402b-d902-d04bbc21cd2e"
      },
      "source": [
        "check_model.predict_proba(x_test)"
      ],
      "execution_count": 22,
      "outputs": [
        {
          "output_type": "execute_result",
          "data": {
            "text/html": [
              "<div>\n",
              "<style scoped>\n",
              "    .dataframe tbody tr th:only-of-type {\n",
              "        vertical-align: middle;\n",
              "    }\n",
              "\n",
              "    .dataframe tbody tr th {\n",
              "        vertical-align: top;\n",
              "    }\n",
              "\n",
              "    .dataframe thead th {\n",
              "        text-align: right;\n",
              "    }\n",
              "</style>\n",
              "<table border=\"1\" class=\"dataframe\">\n",
              "  <thead>\n",
              "    <tr style=\"text-align: right;\">\n",
              "      <th></th>\n",
              "      <th>benign</th>\n",
              "      <th>malignant</th>\n",
              "    </tr>\n",
              "  </thead>\n",
              "  <tbody>\n",
              "    <tr>\n",
              "      <th>0</th>\n",
              "      <td>9.990303e-01</td>\n",
              "      <td>0.000970</td>\n",
              "    </tr>\n",
              "    <tr>\n",
              "      <th>1</th>\n",
              "      <td>9.722545e-01</td>\n",
              "      <td>0.027746</td>\n",
              "    </tr>\n",
              "    <tr>\n",
              "      <th>2</th>\n",
              "      <td>7.212180e-01</td>\n",
              "      <td>0.278782</td>\n",
              "    </tr>\n",
              "    <tr>\n",
              "      <th>3</th>\n",
              "      <td>9.886639e-01</td>\n",
              "      <td>0.011336</td>\n",
              "    </tr>\n",
              "    <tr>\n",
              "      <th>4</th>\n",
              "      <td>9.995264e-01</td>\n",
              "      <td>0.000474</td>\n",
              "    </tr>\n",
              "    <tr>\n",
              "      <th>...</th>\n",
              "      <td>...</td>\n",
              "      <td>...</td>\n",
              "    </tr>\n",
              "    <tr>\n",
              "      <th>109</th>\n",
              "      <td>9.983336e-01</td>\n",
              "      <td>0.001666</td>\n",
              "    </tr>\n",
              "    <tr>\n",
              "      <th>110</th>\n",
              "      <td>7.419928e-01</td>\n",
              "      <td>0.258007</td>\n",
              "    </tr>\n",
              "    <tr>\n",
              "      <th>111</th>\n",
              "      <td>9.999658e-01</td>\n",
              "      <td>0.000034</td>\n",
              "    </tr>\n",
              "    <tr>\n",
              "      <th>112</th>\n",
              "      <td>4.581885e-08</td>\n",
              "      <td>1.000000</td>\n",
              "    </tr>\n",
              "    <tr>\n",
              "      <th>113</th>\n",
              "      <td>9.998435e-01</td>\n",
              "      <td>0.000157</td>\n",
              "    </tr>\n",
              "  </tbody>\n",
              "</table>\n",
              "<p>114 rows × 2 columns</p>\n",
              "</div>"
            ],
            "text/plain": [
              "           benign  malignant\n",
              "0    9.990303e-01   0.000970\n",
              "1    9.722545e-01   0.027746\n",
              "2    7.212180e-01   0.278782\n",
              "3    9.886639e-01   0.011336\n",
              "4    9.995264e-01   0.000474\n",
              "..            ...        ...\n",
              "109  9.983336e-01   0.001666\n",
              "110  7.419928e-01   0.258007\n",
              "111  9.999658e-01   0.000034\n",
              "112  4.581885e-08   1.000000\n",
              "113  9.998435e-01   0.000157\n",
              "\n",
              "[114 rows x 2 columns]"
            ]
          },
          "metadata": {
            "tags": []
          },
          "execution_count": 22
        }
      ]
    },
    {
      "cell_type": "markdown",
      "metadata": {
        "id": "13gcPBzL8VLk"
      },
      "source": [
        "**NLP**"
      ]
    },
    {
      "cell_type": "code",
      "metadata": {
        "id": "RlbLSx-q7BdC"
      },
      "source": [
        "import pandas as pd\n",
        "from urllib.request import urlopen"
      ],
      "execution_count": 23,
      "outputs": []
    },
    {
      "cell_type": "code",
      "metadata": {
        "id": "W4jCjuMJ8hPP"
      },
      "source": [
        "input_data = urlopen('https://featurelabs-static.s3.amazonaws.com/spam_text_messages_modified.csv')\n",
        "data = pd.read_csv(input_data)"
      ],
      "execution_count": 24,
      "outputs": []
    },
    {
      "cell_type": "code",
      "metadata": {
        "colab": {
          "base_uri": "https://localhost:8080/",
          "height": 202
        },
        "id": "8HWp1TFP8ju6",
        "outputId": "882a83a3-7d23-4eb4-df1f-ab22515fa8f3"
      },
      "source": [
        "data.head()"
      ],
      "execution_count": 25,
      "outputs": [
        {
          "output_type": "execute_result",
          "data": {
            "text/html": [
              "<div>\n",
              "<style scoped>\n",
              "    .dataframe tbody tr th:only-of-type {\n",
              "        vertical-align: middle;\n",
              "    }\n",
              "\n",
              "    .dataframe tbody tr th {\n",
              "        vertical-align: top;\n",
              "    }\n",
              "\n",
              "    .dataframe thead th {\n",
              "        text-align: right;\n",
              "    }\n",
              "</style>\n",
              "<table border=\"1\" class=\"dataframe\">\n",
              "  <thead>\n",
              "    <tr style=\"text-align: right;\">\n",
              "      <th></th>\n",
              "      <th>Category</th>\n",
              "      <th>Message</th>\n",
              "    </tr>\n",
              "  </thead>\n",
              "  <tbody>\n",
              "    <tr>\n",
              "      <th>0</th>\n",
              "      <td>spam</td>\n",
              "      <td>Free entry in 2 a wkly comp to win FA Cup fina...</td>\n",
              "    </tr>\n",
              "    <tr>\n",
              "      <th>1</th>\n",
              "      <td>spam</td>\n",
              "      <td>FreeMsg Hey there darling it's been 3 week's n...</td>\n",
              "    </tr>\n",
              "    <tr>\n",
              "      <th>2</th>\n",
              "      <td>spam</td>\n",
              "      <td>WINNER!! As a valued network customer you have...</td>\n",
              "    </tr>\n",
              "    <tr>\n",
              "      <th>3</th>\n",
              "      <td>spam</td>\n",
              "      <td>Had your mobile 11 months or more? U R entitle...</td>\n",
              "    </tr>\n",
              "    <tr>\n",
              "      <th>4</th>\n",
              "      <td>spam</td>\n",
              "      <td>SIX chances to win CASH! From 100 to 20,000 po...</td>\n",
              "    </tr>\n",
              "  </tbody>\n",
              "</table>\n",
              "</div>"
            ],
            "text/plain": [
              "  Category                                            Message\n",
              "0     spam  Free entry in 2 a wkly comp to win FA Cup fina...\n",
              "1     spam  FreeMsg Hey there darling it's been 3 week's n...\n",
              "2     spam  WINNER!! As a valued network customer you have...\n",
              "3     spam  Had your mobile 11 months or more? U R entitle...\n",
              "4     spam  SIX chances to win CASH! From 100 to 20,000 po..."
            ]
          },
          "metadata": {
            "tags": []
          },
          "execution_count": 25
        }
      ]
    },
    {
      "cell_type": "code",
      "metadata": {
        "id": "rU5jjsYc8lIC",
        "colab": {
          "base_uri": "https://localhost:8080/",
          "height": 415
        },
        "outputId": "eefcd2c0-3240-42f1-bba6-dc2a342757b1"
      },
      "source": [
        "x=data.drop('Category',axis=1)\n",
        "x"
      ],
      "execution_count": 26,
      "outputs": [
        {
          "output_type": "execute_result",
          "data": {
            "text/html": [
              "<div>\n",
              "<style scoped>\n",
              "    .dataframe tbody tr th:only-of-type {\n",
              "        vertical-align: middle;\n",
              "    }\n",
              "\n",
              "    .dataframe tbody tr th {\n",
              "        vertical-align: top;\n",
              "    }\n",
              "\n",
              "    .dataframe thead th {\n",
              "        text-align: right;\n",
              "    }\n",
              "</style>\n",
              "<table border=\"1\" class=\"dataframe\">\n",
              "  <thead>\n",
              "    <tr style=\"text-align: right;\">\n",
              "      <th></th>\n",
              "      <th>Message</th>\n",
              "    </tr>\n",
              "  </thead>\n",
              "  <tbody>\n",
              "    <tr>\n",
              "      <th>0</th>\n",
              "      <td>Free entry in 2 a wkly comp to win FA Cup fina...</td>\n",
              "    </tr>\n",
              "    <tr>\n",
              "      <th>1</th>\n",
              "      <td>FreeMsg Hey there darling it's been 3 week's n...</td>\n",
              "    </tr>\n",
              "    <tr>\n",
              "      <th>2</th>\n",
              "      <td>WINNER!! As a valued network customer you have...</td>\n",
              "    </tr>\n",
              "    <tr>\n",
              "      <th>3</th>\n",
              "      <td>Had your mobile 11 months or more? U R entitle...</td>\n",
              "    </tr>\n",
              "    <tr>\n",
              "      <th>4</th>\n",
              "      <td>SIX chances to win CASH! From 100 to 20,000 po...</td>\n",
              "    </tr>\n",
              "    <tr>\n",
              "      <th>...</th>\n",
              "      <td>...</td>\n",
              "    </tr>\n",
              "    <tr>\n",
              "      <th>2984</th>\n",
              "      <td>This is the 2nd time we have tried 2 contact u...</td>\n",
              "    </tr>\n",
              "    <tr>\n",
              "      <th>2985</th>\n",
              "      <td>Will ü b going to esplanade fr home?</td>\n",
              "    </tr>\n",
              "    <tr>\n",
              "      <th>2986</th>\n",
              "      <td>Pity, * was in mood for that. So...any other s...</td>\n",
              "    </tr>\n",
              "    <tr>\n",
              "      <th>2987</th>\n",
              "      <td>The guy did some bitching but I acted like i'd...</td>\n",
              "    </tr>\n",
              "    <tr>\n",
              "      <th>2988</th>\n",
              "      <td>Rofl. Its true to its name</td>\n",
              "    </tr>\n",
              "  </tbody>\n",
              "</table>\n",
              "<p>2989 rows × 1 columns</p>\n",
              "</div>"
            ],
            "text/plain": [
              "                                                Message\n",
              "0     Free entry in 2 a wkly comp to win FA Cup fina...\n",
              "1     FreeMsg Hey there darling it's been 3 week's n...\n",
              "2     WINNER!! As a valued network customer you have...\n",
              "3     Had your mobile 11 months or more? U R entitle...\n",
              "4     SIX chances to win CASH! From 100 to 20,000 po...\n",
              "...                                                 ...\n",
              "2984  This is the 2nd time we have tried 2 contact u...\n",
              "2985               Will ü b going to esplanade fr home?\n",
              "2986  Pity, * was in mood for that. So...any other s...\n",
              "2987  The guy did some bitching but I acted like i'd...\n",
              "2988                         Rofl. Its true to its name\n",
              "\n",
              "[2989 rows x 1 columns]"
            ]
          },
          "metadata": {
            "tags": []
          },
          "execution_count": 26
        }
      ]
    },
    {
      "cell_type": "code",
      "metadata": {
        "id": "rNG8sDNj8p9v",
        "colab": {
          "base_uri": "https://localhost:8080/"
        },
        "outputId": "3bc195ad-9862-47b4-e0a4-dac697b06357"
      },
      "source": [
        "y=data['Category']\n",
        "y"
      ],
      "execution_count": 27,
      "outputs": [
        {
          "output_type": "execute_result",
          "data": {
            "text/plain": [
              "0       spam\n",
              "1       spam\n",
              "2       spam\n",
              "3       spam\n",
              "4       spam\n",
              "        ... \n",
              "2984    spam\n",
              "2985     ham\n",
              "2986     ham\n",
              "2987     ham\n",
              "2988     ham\n",
              "Name: Category, Length: 2989, dtype: object"
            ]
          },
          "metadata": {
            "tags": []
          },
          "execution_count": 27
        }
      ]
    },
    {
      "cell_type": "code",
      "metadata": {
        "id": "AGllDDgK8q09",
        "colab": {
          "base_uri": "https://localhost:8080/"
        },
        "outputId": "e3f00b8c-cccc-4ee8-b318-502f8939d9df"
      },
      "source": [
        "y.value_counts(normalize=True)"
      ],
      "execution_count": 28,
      "outputs": [
        {
          "output_type": "execute_result",
          "data": {
            "text/plain": [
              "ham     0.750084\n",
              "spam    0.249916\n",
              "Name: Category, dtype: float64"
            ]
          },
          "metadata": {
            "tags": []
          },
          "execution_count": 28
        }
      ]
    },
    {
      "cell_type": "code",
      "metadata": {
        "id": "4mGKDfQ4BOK0"
      },
      "source": [
        "x_train,x_test,y_train,y_test=evalml.preprocessing.split_data(x,y,problem_type='binary')"
      ],
      "execution_count": 29,
      "outputs": []
    },
    {
      "cell_type": "code",
      "metadata": {
        "colab": {
          "base_uri": "https://localhost:8080/"
        },
        "id": "0b2nQIoQBYDd",
        "outputId": "38964bd8-28ba-40c4-f370-5720748aa409"
      },
      "source": [
        "evalml.problem_types.ProblemTypes.all_problem_types"
      ],
      "execution_count": 30,
      "outputs": [
        {
          "output_type": "execute_result",
          "data": {
            "text/plain": [
              "[<ProblemTypes.BINARY: 'binary'>,\n",
              " <ProblemTypes.MULTICLASS: 'multiclass'>,\n",
              " <ProblemTypes.REGRESSION: 'regression'>,\n",
              " <ProblemTypes.TIME_SERIES_REGRESSION: 'time series regression'>,\n",
              " <ProblemTypes.TIME_SERIES_BINARY: 'time series binary'>,\n",
              " <ProblemTypes.TIME_SERIES_MULTICLASS: 'time series multiclass'>]"
            ]
          },
          "metadata": {
            "tags": []
          },
          "execution_count": 30
        }
      ]
    },
    {
      "cell_type": "code",
      "metadata": {
        "colab": {
          "base_uri": "https://localhost:8080/",
          "height": 1000,
          "referenced_widgets": [
            "f6953027b99a489a9ead34c8675af2bf"
          ]
        },
        "id": "IPC_8wOGBfWC",
        "outputId": "dc96e560-0eac-442e-f22f-b49eec53498c"
      },
      "source": [
        "automl=AutoMLSearch(X_train=x_train,y_train=y_train,problem_type='binary',max_batches=1,optimize_thresholds=True)\n",
        "automl.search()"
      ],
      "execution_count": 31,
      "outputs": [
        {
          "output_type": "stream",
          "text": [
            "Generating pipelines to search over...\n",
            "Removing columns ['Message'] because they are of 'Unknown' type\n",
            "8 pipelines ready for search.\n",
            "\n",
            "*****************************\n",
            "* Beginning pipeline search *\n",
            "*****************************\n",
            "\n",
            "Optimizing for Log Loss Binary. \n",
            "Lower score is better.\n",
            "\n",
            "Using SequentialEngine to train and score pipelines.\n",
            "Searching up to 1 batches for a total of 9 pipelines. \n",
            "Allowed model families: lightgbm, catboost, random_forest, extra_trees, xgboost, decision_tree, linear_model\n",
            "\n"
          ],
          "name": "stdout"
        },
        {
          "output_type": "display_data",
          "data": {
            "application/vnd.jupyter.widget-view+json": {
              "model_id": "f6953027b99a489a9ead34c8675af2bf",
              "version_minor": 0,
              "version_major": 2
            },
            "text/plain": [
              "FigureWidget({\n",
              "    'data': [{'mode': 'lines+markers',\n",
              "              'name': 'Best Score',\n",
              "              'type'…"
            ]
          },
          "metadata": {
            "tags": []
          }
        },
        {
          "output_type": "stream",
          "text": [
            "Evaluating Baseline Pipeline: Mode Baseline Binary Classification Pipeline\n",
            "Mode Baseline Binary Classification Pipeline:\n",
            "\tStarting cross validation\n",
            "\tFinished cross validation - mean Log Loss Binary: 8.638\n",
            "\n",
            "*****************************\n",
            "* Evaluating Batch Number 1 *\n",
            "*****************************\n",
            "\n",
            "\t\t\tFold 0: Encountered an error.\n",
            "\t\t\tFold 0: All scores will be replaced with nan.\n",
            "\t\t\tFold 0: Please check the log file for the current hyperparameters and stack trace.\n",
            "\t\t\tFold 0: Exception during automl search: at least one array or dtype is required\n",
            "\t\t\tFold 1: Encountered an error.\n",
            "\t\t\tFold 1: All scores will be replaced with nan.\n",
            "\t\t\tFold 1: Please check the log file for the current hyperparameters and stack trace.\n",
            "\t\t\tFold 1: Exception during automl search: at least one array or dtype is required\n",
            "\t\t\tFold 2: Encountered an error.\n",
            "\t\t\tFold 2: All scores will be replaced with nan.\n",
            "\t\t\tFold 2: Please check the log file for the current hyperparameters and stack trace.\n",
            "\t\t\tFold 2: Exception during automl search: at least one array or dtype is required\n",
            "Elastic Net Classifier w/ Drop Columns Transformer + Standard Scaler:\n",
            "\tStarting cross validation\n",
            "\tFinished cross validation - mean Log Loss Binary: nan\n",
            "\t\t\tFold 0: Encountered an error.\n",
            "\t\t\tFold 0: All scores will be replaced with nan.\n",
            "\t\t\tFold 0: Please check the log file for the current hyperparameters and stack trace.\n",
            "\t\t\tFold 0: Exception during automl search: at least one array or dtype is required\n",
            "\t\t\tFold 1: Encountered an error.\n",
            "\t\t\tFold 1: All scores will be replaced with nan.\n",
            "\t\t\tFold 1: Please check the log file for the current hyperparameters and stack trace.\n",
            "\t\t\tFold 1: Exception during automl search: at least one array or dtype is required\n",
            "\t\t\tFold 2: Encountered an error.\n",
            "\t\t\tFold 2: All scores will be replaced with nan.\n",
            "\t\t\tFold 2: Please check the log file for the current hyperparameters and stack trace.\n",
            "\t\t\tFold 2: Exception during automl search: at least one array or dtype is required\n",
            "Decision Tree Classifier w/ Drop Columns Transformer:\n",
            "\tStarting cross validation\n",
            "\tFinished cross validation - mean Log Loss Binary: nan\n",
            "\t\t\tFold 0: Encountered an error.\n",
            "\t\t\tFold 0: All scores will be replaced with nan.\n",
            "\t\t\tFold 0: Please check the log file for the current hyperparameters and stack trace.\n",
            "\t\t\tFold 0: Exception during automl search: at least one array or dtype is required\n",
            "\t\t\tFold 1: Encountered an error.\n",
            "\t\t\tFold 1: All scores will be replaced with nan.\n",
            "\t\t\tFold 1: Please check the log file for the current hyperparameters and stack trace.\n",
            "\t\t\tFold 1: Exception during automl search: at least one array or dtype is required\n",
            "\t\t\tFold 2: Encountered an error.\n",
            "\t\t\tFold 2: All scores will be replaced with nan.\n",
            "\t\t\tFold 2: Please check the log file for the current hyperparameters and stack trace.\n",
            "\t\t\tFold 2: Exception during automl search: at least one array or dtype is required\n",
            "Random Forest Classifier w/ Drop Columns Transformer:\n",
            "\tStarting cross validation\n",
            "\tFinished cross validation - mean Log Loss Binary: nan\n",
            "LightGBM Classifier w/ Drop Columns Transformer:\n",
            "\tStarting cross validation\n",
            "\tFinished cross validation - mean Log Loss Binary: 0.562\n",
            "\t\t\tFold 0: Encountered an error.\n",
            "\t\t\tFold 0: All scores will be replaced with nan.\n",
            "\t\t\tFold 0: Please check the log file for the current hyperparameters and stack trace.\n",
            "\t\t\tFold 0: Exception during automl search: at least one array or dtype is required\n",
            "\t\t\tFold 1: Encountered an error.\n",
            "\t\t\tFold 1: All scores will be replaced with nan.\n",
            "\t\t\tFold 1: Please check the log file for the current hyperparameters and stack trace.\n",
            "\t\t\tFold 1: Exception during automl search: at least one array or dtype is required\n",
            "\t\t\tFold 2: Encountered an error.\n",
            "\t\t\tFold 2: All scores will be replaced with nan.\n",
            "\t\t\tFold 2: Please check the log file for the current hyperparameters and stack trace.\n",
            "\t\t\tFold 2: Exception during automl search: at least one array or dtype is required\n",
            "Logistic Regression Classifier w/ Drop Columns Transformer + Standard Scaler:\n",
            "\tStarting cross validation\n",
            "\tFinished cross validation - mean Log Loss Binary: nan\n",
            "\t\t\tFold 0: Encountered an error.\n",
            "\t\t\tFold 0: All scores will be replaced with nan.\n",
            "\t\t\tFold 0: Please check the log file for the current hyperparameters and stack trace.\n",
            "\t\t\tFold 0: Exception during automl search: [15:02:16] ../src/learner.cc:599: Check failed: mparam_.num_feature != 0 (0 vs. 0) : 0 feature is supplied.  Are you using raw Booster interface?\n",
            "Stack trace:\n",
            "  [bt] (0) /usr/local/lib/python3.7/dist-packages/xgboost/lib/libxgboost.so(+0x9133f) [0x7f922172f33f]\n",
            "  [bt] (1) /usr/local/lib/python3.7/dist-packages/xgboost/lib/libxgboost.so(+0x1c4518) [0x7f9221862518]\n",
            "  [bt] (2) /usr/local/lib/python3.7/dist-packages/xgboost/lib/libxgboost.so(+0x1d21a3) [0x7f92218701a3]\n",
            "  [bt] (3) /usr/local/lib/python3.7/dist-packages/xgboost/lib/libxgboost.so(+0x1b9829) [0x7f9221857829]\n",
            "  [bt] (4) /usr/local/lib/python3.7/dist-packages/xgboost/lib/libxgboost.so(XGBoosterUpdateOneIter+0x50) [0x7f922171eed0]\n",
            "  [bt] (5) /usr/lib/x86_64-linux-gnu/libffi.so.6(ffi_call_unix64+0x4c) [0x7f9332c91dae]\n",
            "  [bt] (6) /usr/lib/x86_64-linux-gnu/libffi.so.6(ffi_call+0x22f) [0x7f9332c9171f]\n",
            "  [bt] (7) /usr/lib/python3.7/lib-dynload/_ctypes.cpython-37m-x86_64-linux-gnu.so(_ctypes_callproc+0x28c) [0x7f9332ea55ac]\n",
            "  [bt] (8) /usr/lib/python3.7/lib-dynload/_ctypes.cpython-37m-x86_64-linux-gnu.so(+0x109e3) [0x7f9332ea49e3]\n",
            "\n",
            "\n",
            "\t\t\tFold 1: Encountered an error.\n",
            "\t\t\tFold 1: All scores will be replaced with nan.\n",
            "\t\t\tFold 1: Please check the log file for the current hyperparameters and stack trace.\n",
            "\t\t\tFold 1: Exception during automl search: [15:02:17] ../src/learner.cc:599: Check failed: mparam_.num_feature != 0 (0 vs. 0) : 0 feature is supplied.  Are you using raw Booster interface?\n",
            "Stack trace:\n",
            "  [bt] (0) /usr/local/lib/python3.7/dist-packages/xgboost/lib/libxgboost.so(+0x9133f) [0x7f922172f33f]\n",
            "  [bt] (1) /usr/local/lib/python3.7/dist-packages/xgboost/lib/libxgboost.so(+0x1c4518) [0x7f9221862518]\n",
            "  [bt] (2) /usr/local/lib/python3.7/dist-packages/xgboost/lib/libxgboost.so(+0x1d21a3) [0x7f92218701a3]\n",
            "  [bt] (3) /usr/local/lib/python3.7/dist-packages/xgboost/lib/libxgboost.so(+0x1b9829) [0x7f9221857829]\n",
            "  [bt] (4) /usr/local/lib/python3.7/dist-packages/xgboost/lib/libxgboost.so(XGBoosterUpdateOneIter+0x50) [0x7f922171eed0]\n",
            "  [bt] (5) /usr/lib/x86_64-linux-gnu/libffi.so.6(ffi_call_unix64+0x4c) [0x7f9332c91dae]\n",
            "  [bt] (6) /usr/lib/x86_64-linux-gnu/libffi.so.6(ffi_call+0x22f) [0x7f9332c9171f]\n",
            "  [bt] (7) /usr/lib/python3.7/lib-dynload/_ctypes.cpython-37m-x86_64-linux-gnu.so(_ctypes_callproc+0x28c) [0x7f9332ea55ac]\n",
            "  [bt] (8) /usr/lib/python3.7/lib-dynload/_ctypes.cpython-37m-x86_64-linux-gnu.so(+0x109e3) [0x7f9332ea49e3]\n",
            "\n",
            "\n",
            "\t\t\tFold 2: Encountered an error.\n",
            "\t\t\tFold 2: All scores will be replaced with nan.\n",
            "\t\t\tFold 2: Please check the log file for the current hyperparameters and stack trace.\n",
            "\t\t\tFold 2: Exception during automl search: [15:02:17] ../src/learner.cc:599: Check failed: mparam_.num_feature != 0 (0 vs. 0) : 0 feature is supplied.  Are you using raw Booster interface?\n",
            "Stack trace:\n",
            "  [bt] (0) /usr/local/lib/python3.7/dist-packages/xgboost/lib/libxgboost.so(+0x9133f) [0x7f922172f33f]\n",
            "  [bt] (1) /usr/local/lib/python3.7/dist-packages/xgboost/lib/libxgboost.so(+0x1c4518) [0x7f9221862518]\n",
            "  [bt] (2) /usr/local/lib/python3.7/dist-packages/xgboost/lib/libxgboost.so(+0x1d21a3) [0x7f92218701a3]\n",
            "  [bt] (3) /usr/local/lib/python3.7/dist-packages/xgboost/lib/libxgboost.so(+0x1b9829) [0x7f9221857829]\n",
            "  [bt] (4) /usr/local/lib/python3.7/dist-packages/xgboost/lib/libxgboost.so(XGBoosterUpdateOneIter+0x50) [0x7f922171eed0]\n",
            "  [bt] (5) /usr/lib/x86_64-linux-gnu/libffi.so.6(ffi_call_unix64+0x4c) [0x7f9332c91dae]\n",
            "  [bt] (6) /usr/lib/x86_64-linux-gnu/libffi.so.6(ffi_call+0x22f) [0x7f9332c9171f]\n",
            "  [bt] (7) /usr/lib/python3.7/lib-dynload/_ctypes.cpython-37m-x86_64-linux-gnu.so(_ctypes_callproc+0x28c) [0x7f9332ea55ac]\n",
            "  [bt] (8) /usr/lib/python3.7/lib-dynload/_ctypes.cpython-37m-x86_64-linux-gnu.so(+0x109e3) [0x7f9332ea49e3]\n",
            "\n",
            "\n",
            "XGBoost Classifier w/ Drop Columns Transformer:\n",
            "\tStarting cross validation\n",
            "\tFinished cross validation - mean Log Loss Binary: nan\n"
          ],
          "name": "stdout"
        },
        {
          "output_type": "stream",
          "text": [
            "/usr/local/lib/python3.7/dist-packages/xgboost/sklearn.py:1146: UserWarning:\n",
            "\n",
            "The use of label encoder in XGBClassifier is deprecated and will be removed in a future release. To remove this warning, do the following: 1) Pass option use_label_encoder=False when constructing XGBClassifier object; and 2) Encode your labels (y) as integers starting with 0, i.e. 0, 1, 2, ..., [num_class - 1].\n",
            "\n",
            "/usr/local/lib/python3.7/dist-packages/xgboost/sklearn.py:1146: UserWarning:\n",
            "\n",
            "The use of label encoder in XGBClassifier is deprecated and will be removed in a future release. To remove this warning, do the following: 1) Pass option use_label_encoder=False when constructing XGBClassifier object; and 2) Encode your labels (y) as integers starting with 0, i.e. 0, 1, 2, ..., [num_class - 1].\n",
            "\n",
            "/usr/local/lib/python3.7/dist-packages/xgboost/sklearn.py:1146: UserWarning:\n",
            "\n",
            "The use of label encoder in XGBClassifier is deprecated and will be removed in a future release. To remove this warning, do the following: 1) Pass option use_label_encoder=False when constructing XGBClassifier object; and 2) Encode your labels (y) as integers starting with 0, i.e. 0, 1, 2, ..., [num_class - 1].\n",
            "\n"
          ],
          "name": "stderr"
        },
        {
          "output_type": "stream",
          "text": [
            "\t\t\tFold 0: Encountered an error.\n",
            "\t\t\tFold 0: All scores will be replaced with nan.\n",
            "\t\t\tFold 0: Please check the log file for the current hyperparameters and stack trace.\n",
            "\t\t\tFold 0: Exception during automl search: at least one array or dtype is required\n",
            "\t\t\tFold 1: Encountered an error.\n",
            "\t\t\tFold 1: All scores will be replaced with nan.\n",
            "\t\t\tFold 1: Please check the log file for the current hyperparameters and stack trace.\n",
            "\t\t\tFold 1: Exception during automl search: at least one array or dtype is required\n",
            "\t\t\tFold 2: Encountered an error.\n",
            "\t\t\tFold 2: All scores will be replaced with nan.\n",
            "\t\t\tFold 2: Please check the log file for the current hyperparameters and stack trace.\n",
            "\t\t\tFold 2: Exception during automl search: at least one array or dtype is required\n",
            "Extra Trees Classifier w/ Drop Columns Transformer:\n",
            "\tStarting cross validation\n",
            "\tFinished cross validation - mean Log Loss Binary: nan\n",
            "\t\t\tFold 0: Encountered an error.\n",
            "\t\t\tFold 0: All scores will be replaced with nan.\n",
            "\t\t\tFold 0: Please check the log file for the current hyperparameters and stack trace.\n",
            "\t\t\tFold 0: Exception during automl search: Input data must have at least one feature\n",
            "\t\t\tFold 1: Encountered an error.\n",
            "\t\t\tFold 1: All scores will be replaced with nan.\n",
            "\t\t\tFold 1: Please check the log file for the current hyperparameters and stack trace.\n",
            "\t\t\tFold 1: Exception during automl search: Input data must have at least one feature\n",
            "\t\t\tFold 2: Encountered an error.\n",
            "\t\t\tFold 2: All scores will be replaced with nan.\n",
            "\t\t\tFold 2: Please check the log file for the current hyperparameters and stack trace.\n",
            "\t\t\tFold 2: Exception during automl search: Input data must have at least one feature\n",
            "CatBoost Classifier w/ Drop Columns Transformer:\n",
            "\tStarting cross validation\n",
            "\tFinished cross validation - mean Log Loss Binary: nan\n",
            "\n",
            "Search finished after 00:03            \n",
            "Best pipeline: LightGBM Classifier w/ Drop Columns Transformer\n",
            "Best pipeline Log Loss Binary: 0.562452\n"
          ],
          "name": "stdout"
        }
      ]
    },
    {
      "cell_type": "code",
      "metadata": {
        "colab": {
          "base_uri": "https://localhost:8080/",
          "height": 643
        },
        "id": "OjcenaD5Bk0e",
        "outputId": "62b495cc-671f-45c6-b2f2-d3d058c571b5"
      },
      "source": [
        "automl.rankings"
      ],
      "execution_count": 32,
      "outputs": [
        {
          "output_type": "execute_result",
          "data": {
            "text/html": [
              "<div>\n",
              "<style scoped>\n",
              "    .dataframe tbody tr th:only-of-type {\n",
              "        vertical-align: middle;\n",
              "    }\n",
              "\n",
              "    .dataframe tbody tr th {\n",
              "        vertical-align: top;\n",
              "    }\n",
              "\n",
              "    .dataframe thead th {\n",
              "        text-align: right;\n",
              "    }\n",
              "</style>\n",
              "<table border=\"1\" class=\"dataframe\">\n",
              "  <thead>\n",
              "    <tr style=\"text-align: right;\">\n",
              "      <th></th>\n",
              "      <th>id</th>\n",
              "      <th>pipeline_name</th>\n",
              "      <th>search_order</th>\n",
              "      <th>mean_cv_score</th>\n",
              "      <th>standard_deviation_cv_score</th>\n",
              "      <th>validation_score</th>\n",
              "      <th>percent_better_than_baseline</th>\n",
              "      <th>high_variance_cv</th>\n",
              "      <th>parameters</th>\n",
              "    </tr>\n",
              "  </thead>\n",
              "  <tbody>\n",
              "    <tr>\n",
              "      <th>0</th>\n",
              "      <td>4</td>\n",
              "      <td>LightGBM Classifier w/ Drop Columns Transformer</td>\n",
              "      <td>4</td>\n",
              "      <td>0.562452</td>\n",
              "      <td>0.000798</td>\n",
              "      <td>0.561991</td>\n",
              "      <td>93.488867</td>\n",
              "      <td>False</td>\n",
              "      <td>{'Drop Columns Transformer': {'columns': ['Mes...</td>\n",
              "    </tr>\n",
              "    <tr>\n",
              "      <th>1</th>\n",
              "      <td>0</td>\n",
              "      <td>Mode Baseline Binary Classification Pipeline</td>\n",
              "      <td>0</td>\n",
              "      <td>8.638305</td>\n",
              "      <td>0.025020</td>\n",
              "      <td>8.623860</td>\n",
              "      <td>0.000000</td>\n",
              "      <td>False</td>\n",
              "      <td>{'Baseline Classifier': {'strategy': 'mode'}}</td>\n",
              "    </tr>\n",
              "    <tr>\n",
              "      <th>2</th>\n",
              "      <td>1</td>\n",
              "      <td>Elastic Net Classifier w/ Drop Columns Transfo...</td>\n",
              "      <td>1</td>\n",
              "      <td>NaN</td>\n",
              "      <td>NaN</td>\n",
              "      <td>NaN</td>\n",
              "      <td>NaN</td>\n",
              "      <td>False</td>\n",
              "      <td>{'Drop Columns Transformer': {'columns': ['Mes...</td>\n",
              "    </tr>\n",
              "    <tr>\n",
              "      <th>3</th>\n",
              "      <td>2</td>\n",
              "      <td>Decision Tree Classifier w/ Drop Columns Trans...</td>\n",
              "      <td>2</td>\n",
              "      <td>NaN</td>\n",
              "      <td>NaN</td>\n",
              "      <td>NaN</td>\n",
              "      <td>NaN</td>\n",
              "      <td>False</td>\n",
              "      <td>{'Drop Columns Transformer': {'columns': ['Mes...</td>\n",
              "    </tr>\n",
              "    <tr>\n",
              "      <th>4</th>\n",
              "      <td>3</td>\n",
              "      <td>Random Forest Classifier w/ Drop Columns Trans...</td>\n",
              "      <td>3</td>\n",
              "      <td>NaN</td>\n",
              "      <td>NaN</td>\n",
              "      <td>NaN</td>\n",
              "      <td>NaN</td>\n",
              "      <td>False</td>\n",
              "      <td>{'Drop Columns Transformer': {'columns': ['Mes...</td>\n",
              "    </tr>\n",
              "    <tr>\n",
              "      <th>5</th>\n",
              "      <td>5</td>\n",
              "      <td>Logistic Regression Classifier w/ Drop Columns...</td>\n",
              "      <td>5</td>\n",
              "      <td>NaN</td>\n",
              "      <td>NaN</td>\n",
              "      <td>NaN</td>\n",
              "      <td>NaN</td>\n",
              "      <td>False</td>\n",
              "      <td>{'Drop Columns Transformer': {'columns': ['Mes...</td>\n",
              "    </tr>\n",
              "    <tr>\n",
              "      <th>6</th>\n",
              "      <td>6</td>\n",
              "      <td>XGBoost Classifier w/ Drop Columns Transformer</td>\n",
              "      <td>6</td>\n",
              "      <td>NaN</td>\n",
              "      <td>NaN</td>\n",
              "      <td>NaN</td>\n",
              "      <td>NaN</td>\n",
              "      <td>False</td>\n",
              "      <td>{'Drop Columns Transformer': {'columns': ['Mes...</td>\n",
              "    </tr>\n",
              "    <tr>\n",
              "      <th>7</th>\n",
              "      <td>7</td>\n",
              "      <td>Extra Trees Classifier w/ Drop Columns Transfo...</td>\n",
              "      <td>7</td>\n",
              "      <td>NaN</td>\n",
              "      <td>NaN</td>\n",
              "      <td>NaN</td>\n",
              "      <td>NaN</td>\n",
              "      <td>False</td>\n",
              "      <td>{'Drop Columns Transformer': {'columns': ['Mes...</td>\n",
              "    </tr>\n",
              "    <tr>\n",
              "      <th>8</th>\n",
              "      <td>8</td>\n",
              "      <td>CatBoost Classifier w/ Drop Columns Transformer</td>\n",
              "      <td>8</td>\n",
              "      <td>NaN</td>\n",
              "      <td>NaN</td>\n",
              "      <td>NaN</td>\n",
              "      <td>NaN</td>\n",
              "      <td>False</td>\n",
              "      <td>{'Drop Columns Transformer': {'columns': ['Mes...</td>\n",
              "    </tr>\n",
              "  </tbody>\n",
              "</table>\n",
              "</div>"
            ],
            "text/plain": [
              "   id  ...                                         parameters\n",
              "0   4  ...  {'Drop Columns Transformer': {'columns': ['Mes...\n",
              "1   0  ...      {'Baseline Classifier': {'strategy': 'mode'}}\n",
              "2   1  ...  {'Drop Columns Transformer': {'columns': ['Mes...\n",
              "3   2  ...  {'Drop Columns Transformer': {'columns': ['Mes...\n",
              "4   3  ...  {'Drop Columns Transformer': {'columns': ['Mes...\n",
              "5   5  ...  {'Drop Columns Transformer': {'columns': ['Mes...\n",
              "6   6  ...  {'Drop Columns Transformer': {'columns': ['Mes...\n",
              "7   7  ...  {'Drop Columns Transformer': {'columns': ['Mes...\n",
              "8   8  ...  {'Drop Columns Transformer': {'columns': ['Mes...\n",
              "\n",
              "[9 rows x 9 columns]"
            ]
          },
          "metadata": {
            "tags": []
          },
          "execution_count": 32
        }
      ]
    },
    {
      "cell_type": "code",
      "metadata": {
        "colab": {
          "base_uri": "https://localhost:8080/"
        },
        "id": "WRnn6rM-BuaG",
        "outputId": "03add0e2-81b0-45a6-d145-55f3468e92f9"
      },
      "source": [
        "best_pipeline = automl.best_pipeline\n",
        "best_pipeline"
      ],
      "execution_count": 33,
      "outputs": [
        {
          "output_type": "execute_result",
          "data": {
            "text/plain": [
              "pipeline = BinaryClassificationPipeline(component_graph={'Drop Columns Transformer': ['Drop Columns Transformer', 'X', 'y'], 'LightGBM Classifier': ['LightGBM Classifier', 'Drop Columns Transformer.x', 'y']}, parameters={'Drop Columns Transformer':{'columns': ['Message']}, 'LightGBM Classifier':{'boosting_type': 'gbdt', 'learning_rate': 0.1, 'n_estimators': 100, 'max_depth': 0, 'num_leaves': 31, 'min_child_samples': 20, 'n_jobs': -1, 'bagging_freq': 0, 'bagging_fraction': 0.9}}, random_seed=0)"
            ]
          },
          "metadata": {
            "tags": []
          },
          "execution_count": 33
        }
      ]
    },
    {
      "cell_type": "code",
      "metadata": {
        "colab": {
          "base_uri": "https://localhost:8080/"
        },
        "id": "AHncINEJByIZ",
        "outputId": "8c530e49-65a2-4901-bac1-eb379d18954a"
      },
      "source": [
        "automl.describe_pipeline(automl.rankings.iloc[0][\"id\"])"
      ],
      "execution_count": 34,
      "outputs": [
        {
          "output_type": "stream",
          "text": [
            "\n",
            "***************************************************\n",
            "* LightGBM Classifier w/ Drop Columns Transformer *\n",
            "***************************************************\n",
            "\n",
            "Problem Type: binary\n",
            "Model Family: LightGBM\n",
            "\n",
            "Pipeline Steps\n",
            "==============\n",
            "1. Drop Columns Transformer\n",
            "\t * columns : ['Message']\n",
            "2. LightGBM Classifier\n",
            "\t * boosting_type : gbdt\n",
            "\t * learning_rate : 0.1\n",
            "\t * n_estimators : 100\n",
            "\t * max_depth : 0\n",
            "\t * num_leaves : 31\n",
            "\t * min_child_samples : 20\n",
            "\t * n_jobs : -1\n",
            "\t * bagging_freq : 0\n",
            "\t * bagging_fraction : 0.9\n",
            "\n",
            "Training\n",
            "========\n",
            "Training for binary problems.\n",
            "Total training time (including CV): 0.4 seconds\n",
            "\n",
            "Cross Validation\n",
            "----------------\n",
            "             Log Loss Binary  MCC Binary  Gini   AUC  Precision    F1  Balanced Accuracy Binary  Accuracy Binary # Training # Validation\n",
            "0                      0.562       0.000 0.000 0.500      0.250 0.400                     0.500            0.250      1,594          797\n",
            "1                      0.562       0.000 0.000 0.500      0.250 0.400                     0.500            0.250      1,594          797\n",
            "2                      0.563       0.000 0.000 0.500      0.251 0.401                     0.500            0.251      1,594          797\n",
            "mean                   0.562       0.000 0.000 0.500      0.250 0.400                     0.500            0.250          -            -\n",
            "std                    0.001       0.000 0.000 0.000      0.001 0.001                     0.000            0.001          -            -\n",
            "coef of var            0.001         inf   inf 0.000      0.003 0.002                     0.000            0.003          -            -\n"
          ],
          "name": "stdout"
        }
      ]
    },
    {
      "cell_type": "code",
      "metadata": {
        "colab": {
          "base_uri": "https://localhost:8080/"
        },
        "id": "L-ZpeqOGB2qR",
        "outputId": "e4ea8b01-7ae9-411e-ae99-98fe96c4a412"
      },
      "source": [
        "scores = best_pipeline.score(x_test, y_test,  objectives=evalml.objectives.get_core_objectives('binary'))\n",
        "print(f'Accuracy Binary: {scores[\"Accuracy Binary\"]}')"
      ],
      "execution_count": 35,
      "outputs": [
        {
          "output_type": "stream",
          "text": [
            "Accuracy Binary: 0.2491638795986622\n"
          ],
          "name": "stdout"
        }
      ]
    },
    {
      "cell_type": "code",
      "metadata": {
        "id": "Rf_SD0ajB5Dj"
      },
      "source": [
        ""
      ],
      "execution_count": 35,
      "outputs": []
    }
  ]
}