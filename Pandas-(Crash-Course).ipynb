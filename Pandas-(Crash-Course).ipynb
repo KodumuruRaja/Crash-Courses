{
  "nbformat": 4,
  "nbformat_minor": 0,
  "metadata": {
    "colab": {
      "name": "Pandas Crash Course (KGP Talkie).ipynb",
      "provenance": [],
      "collapsed_sections": [],
      "authorship_tag": "ABX9TyPEJCoLv1TMiehWubwbWYCP",
      "include_colab_link": true
    },
    "kernelspec": {
      "name": "python3",
      "display_name": "Python 3"
    }
  },
  "cells": [
    {
      "cell_type": "markdown",
      "metadata": {
        "id": "view-in-github",
        "colab_type": "text"
      },
      "source": [
        "<a href=\"https://colab.research.google.com/github/KodumuruRaja/Crash-Courses/blob/main/Pandas-(Crash-Course).ipynb\" target=\"_parent\"><img src=\"https://colab.research.google.com/assets/colab-badge.svg\" alt=\"Open In Colab\"/></a>"
      ]
    },
    {
      "cell_type": "code",
      "metadata": {
        "id": "mL4hem3OIZOO"
      },
      "source": [
        "import pandas as pd"
      ],
      "execution_count": null,
      "outputs": []
    },
    {
      "cell_type": "code",
      "metadata": {
        "id": "v_dvgNLSJ8dd"
      },
      "source": [
        "#Series\r\n",
        "#DataFrame"
      ],
      "execution_count": null,
      "outputs": []
    },
    {
      "cell_type": "code",
      "metadata": {
        "id": "dfdxuVyKKnHL"
      },
      "source": [
        "data={'apple':[3,1,4,5],\r\n",
        "      'orange':[1,5,6,8]}"
      ],
      "execution_count": null,
      "outputs": []
    },
    {
      "cell_type": "code",
      "metadata": {
        "colab": {
          "base_uri": "https://localhost:8080/"
        },
        "id": "Mo4TBEUOK-w9",
        "outputId": "e3eda7e3-dd4d-4768-93e3-1926377cabdd"
      },
      "source": [
        "data"
      ],
      "execution_count": null,
      "outputs": [
        {
          "output_type": "execute_result",
          "data": {
            "text/plain": [
              "{'apple': [3, 1, 4, 5], 'orange': [1, 5, 6, 8]}"
            ]
          },
          "metadata": {
            "tags": []
          },
          "execution_count": 4
        }
      ]
    },
    {
      "cell_type": "code",
      "metadata": {
        "colab": {
          "base_uri": "https://localhost:8080/"
        },
        "id": "lOpvGVBWLAKS",
        "outputId": "c624defe-5d9f-4e32-884e-5b8e0a657e27"
      },
      "source": [
        "type(data)"
      ],
      "execution_count": null,
      "outputs": [
        {
          "output_type": "execute_result",
          "data": {
            "text/plain": [
              "dict"
            ]
          },
          "metadata": {
            "tags": []
          },
          "execution_count": 5
        }
      ]
    },
    {
      "cell_type": "code",
      "metadata": {
        "id": "mRNmXFEoLDJi"
      },
      "source": [
        "df=pd.DataFrame(data)"
      ],
      "execution_count": null,
      "outputs": []
    },
    {
      "cell_type": "code",
      "metadata": {
        "colab": {
          "base_uri": "https://localhost:8080/",
          "height": 166
        },
        "id": "iUWlw8gGLG8i",
        "outputId": "916ca1ee-2288-4a3c-e706-4ffe6863a292"
      },
      "source": [
        "df"
      ],
      "execution_count": null,
      "outputs": [
        {
          "output_type": "execute_result",
          "data": {
            "text/html": [
              "<div>\n",
              "<style scoped>\n",
              "    .dataframe tbody tr th:only-of-type {\n",
              "        vertical-align: middle;\n",
              "    }\n",
              "\n",
              "    .dataframe tbody tr th {\n",
              "        vertical-align: top;\n",
              "    }\n",
              "\n",
              "    .dataframe thead th {\n",
              "        text-align: right;\n",
              "    }\n",
              "</style>\n",
              "<table border=\"1\" class=\"dataframe\">\n",
              "  <thead>\n",
              "    <tr style=\"text-align: right;\">\n",
              "      <th></th>\n",
              "      <th>apple</th>\n",
              "      <th>orange</th>\n",
              "    </tr>\n",
              "  </thead>\n",
              "  <tbody>\n",
              "    <tr>\n",
              "      <th>0</th>\n",
              "      <td>3</td>\n",
              "      <td>1</td>\n",
              "    </tr>\n",
              "    <tr>\n",
              "      <th>1</th>\n",
              "      <td>1</td>\n",
              "      <td>5</td>\n",
              "    </tr>\n",
              "    <tr>\n",
              "      <th>2</th>\n",
              "      <td>4</td>\n",
              "      <td>6</td>\n",
              "    </tr>\n",
              "    <tr>\n",
              "      <th>3</th>\n",
              "      <td>5</td>\n",
              "      <td>8</td>\n",
              "    </tr>\n",
              "  </tbody>\n",
              "</table>\n",
              "</div>"
            ],
            "text/plain": [
              "   apple  orange\n",
              "0      3       1\n",
              "1      1       5\n",
              "2      4       6\n",
              "3      5       8"
            ]
          },
          "metadata": {
            "tags": []
          },
          "execution_count": 7
        }
      ]
    },
    {
      "cell_type": "code",
      "metadata": {
        "colab": {
          "base_uri": "https://localhost:8080/"
        },
        "id": "YZtSGGcBLHvH",
        "outputId": "d808639a-e265-45c4-9704-d286abaea9ef"
      },
      "source": [
        "df['apple']"
      ],
      "execution_count": null,
      "outputs": [
        {
          "output_type": "execute_result",
          "data": {
            "text/plain": [
              "0    3\n",
              "1    1\n",
              "2    4\n",
              "3    5\n",
              "Name: apple, dtype: int64"
            ]
          },
          "metadata": {
            "tags": []
          },
          "execution_count": 8
        }
      ]
    },
    {
      "cell_type": "code",
      "metadata": {
        "colab": {
          "base_uri": "https://localhost:8080/"
        },
        "id": "HrZEQ3tDLcSX",
        "outputId": "6107cf00-f9ef-41ba-e931-5e1ae587da21"
      },
      "source": [
        "type(df['apple'])"
      ],
      "execution_count": null,
      "outputs": [
        {
          "output_type": "execute_result",
          "data": {
            "text/plain": [
              "pandas.core.series.Series"
            ]
          },
          "metadata": {
            "tags": []
          },
          "execution_count": 9
        }
      ]
    },
    {
      "cell_type": "code",
      "metadata": {
        "id": "KSn2W2K2LfJZ"
      },
      "source": [
        "df=pd.read_csv(\"/content/nba.csv\")"
      ],
      "execution_count": null,
      "outputs": []
    },
    {
      "cell_type": "code",
      "metadata": {
        "colab": {
          "base_uri": "https://localhost:8080/",
          "height": 402
        },
        "id": "SRAP1qKLPfpG",
        "outputId": "9ca5443d-83dc-4171-e9ee-19e495c894a1"
      },
      "source": [
        "df"
      ],
      "execution_count": null,
      "outputs": [
        {
          "output_type": "execute_result",
          "data": {
            "text/html": [
              "<div>\n",
              "<style scoped>\n",
              "    .dataframe tbody tr th:only-of-type {\n",
              "        vertical-align: middle;\n",
              "    }\n",
              "\n",
              "    .dataframe tbody tr th {\n",
              "        vertical-align: top;\n",
              "    }\n",
              "\n",
              "    .dataframe thead th {\n",
              "        text-align: right;\n",
              "    }\n",
              "</style>\n",
              "<table border=\"1\" class=\"dataframe\">\n",
              "  <thead>\n",
              "    <tr style=\"text-align: right;\">\n",
              "      <th></th>\n",
              "      <th>Name</th>\n",
              "      <th>Team</th>\n",
              "      <th>Number</th>\n",
              "      <th>Position</th>\n",
              "      <th>Age</th>\n",
              "      <th>Height</th>\n",
              "      <th>Weight</th>\n",
              "      <th>College</th>\n",
              "      <th>Salary</th>\n",
              "    </tr>\n",
              "  </thead>\n",
              "  <tbody>\n",
              "    <tr>\n",
              "      <th>0</th>\n",
              "      <td>Avery Bradley</td>\n",
              "      <td>Boston Celtics</td>\n",
              "      <td>0.0</td>\n",
              "      <td>PG</td>\n",
              "      <td>25.0</td>\n",
              "      <td>6-2</td>\n",
              "      <td>180.0</td>\n",
              "      <td>Texas</td>\n",
              "      <td>7730337.0</td>\n",
              "    </tr>\n",
              "    <tr>\n",
              "      <th>1</th>\n",
              "      <td>Jae Crowder</td>\n",
              "      <td>Boston Celtics</td>\n",
              "      <td>99.0</td>\n",
              "      <td>SF</td>\n",
              "      <td>25.0</td>\n",
              "      <td>6-6</td>\n",
              "      <td>235.0</td>\n",
              "      <td>Marquette</td>\n",
              "      <td>6796117.0</td>\n",
              "    </tr>\n",
              "    <tr>\n",
              "      <th>2</th>\n",
              "      <td>John Holland</td>\n",
              "      <td>Boston Celtics</td>\n",
              "      <td>30.0</td>\n",
              "      <td>SG</td>\n",
              "      <td>27.0</td>\n",
              "      <td>6-5</td>\n",
              "      <td>205.0</td>\n",
              "      <td>Boston University</td>\n",
              "      <td>NaN</td>\n",
              "    </tr>\n",
              "    <tr>\n",
              "      <th>3</th>\n",
              "      <td>R.J. Hunter</td>\n",
              "      <td>Boston Celtics</td>\n",
              "      <td>28.0</td>\n",
              "      <td>SG</td>\n",
              "      <td>22.0</td>\n",
              "      <td>6-5</td>\n",
              "      <td>185.0</td>\n",
              "      <td>Georgia State</td>\n",
              "      <td>1148640.0</td>\n",
              "    </tr>\n",
              "    <tr>\n",
              "      <th>4</th>\n",
              "      <td>Jonas Jerebko</td>\n",
              "      <td>Boston Celtics</td>\n",
              "      <td>8.0</td>\n",
              "      <td>PF</td>\n",
              "      <td>29.0</td>\n",
              "      <td>6-10</td>\n",
              "      <td>231.0</td>\n",
              "      <td>NaN</td>\n",
              "      <td>5000000.0</td>\n",
              "    </tr>\n",
              "    <tr>\n",
              "      <th>...</th>\n",
              "      <td>...</td>\n",
              "      <td>...</td>\n",
              "      <td>...</td>\n",
              "      <td>...</td>\n",
              "      <td>...</td>\n",
              "      <td>...</td>\n",
              "      <td>...</td>\n",
              "      <td>...</td>\n",
              "      <td>...</td>\n",
              "    </tr>\n",
              "    <tr>\n",
              "      <th>453</th>\n",
              "      <td>Shelvin Mack</td>\n",
              "      <td>Utah Jazz</td>\n",
              "      <td>8.0</td>\n",
              "      <td>PG</td>\n",
              "      <td>26.0</td>\n",
              "      <td>6-3</td>\n",
              "      <td>203.0</td>\n",
              "      <td>Butler</td>\n",
              "      <td>2433333.0</td>\n",
              "    </tr>\n",
              "    <tr>\n",
              "      <th>454</th>\n",
              "      <td>Raul Neto</td>\n",
              "      <td>Utah Jazz</td>\n",
              "      <td>25.0</td>\n",
              "      <td>PG</td>\n",
              "      <td>24.0</td>\n",
              "      <td>6-1</td>\n",
              "      <td>179.0</td>\n",
              "      <td>NaN</td>\n",
              "      <td>900000.0</td>\n",
              "    </tr>\n",
              "    <tr>\n",
              "      <th>455</th>\n",
              "      <td>Tibor Pleiss</td>\n",
              "      <td>Utah Jazz</td>\n",
              "      <td>21.0</td>\n",
              "      <td>C</td>\n",
              "      <td>26.0</td>\n",
              "      <td>7-3</td>\n",
              "      <td>256.0</td>\n",
              "      <td>NaN</td>\n",
              "      <td>2900000.0</td>\n",
              "    </tr>\n",
              "    <tr>\n",
              "      <th>456</th>\n",
              "      <td>Jeff Withey</td>\n",
              "      <td>Utah Jazz</td>\n",
              "      <td>24.0</td>\n",
              "      <td>C</td>\n",
              "      <td>26.0</td>\n",
              "      <td>7-0</td>\n",
              "      <td>231.0</td>\n",
              "      <td>Kansas</td>\n",
              "      <td>947276.0</td>\n",
              "    </tr>\n",
              "    <tr>\n",
              "      <th>457</th>\n",
              "      <td>NaN</td>\n",
              "      <td>NaN</td>\n",
              "      <td>NaN</td>\n",
              "      <td>NaN</td>\n",
              "      <td>NaN</td>\n",
              "      <td>NaN</td>\n",
              "      <td>NaN</td>\n",
              "      <td>NaN</td>\n",
              "      <td>NaN</td>\n",
              "    </tr>\n",
              "  </tbody>\n",
              "</table>\n",
              "<p>458 rows × 9 columns</p>\n",
              "</div>"
            ],
            "text/plain": [
              "              Name            Team  ...            College     Salary\n",
              "0    Avery Bradley  Boston Celtics  ...              Texas  7730337.0\n",
              "1      Jae Crowder  Boston Celtics  ...          Marquette  6796117.0\n",
              "2     John Holland  Boston Celtics  ...  Boston University        NaN\n",
              "3      R.J. Hunter  Boston Celtics  ...      Georgia State  1148640.0\n",
              "4    Jonas Jerebko  Boston Celtics  ...                NaN  5000000.0\n",
              "..             ...             ...  ...                ...        ...\n",
              "453   Shelvin Mack       Utah Jazz  ...             Butler  2433333.0\n",
              "454      Raul Neto       Utah Jazz  ...                NaN   900000.0\n",
              "455   Tibor Pleiss       Utah Jazz  ...                NaN  2900000.0\n",
              "456    Jeff Withey       Utah Jazz  ...             Kansas   947276.0\n",
              "457            NaN             NaN  ...                NaN        NaN\n",
              "\n",
              "[458 rows x 9 columns]"
            ]
          },
          "metadata": {
            "tags": []
          },
          "execution_count": 11
        }
      ]
    },
    {
      "cell_type": "code",
      "metadata": {
        "colab": {
          "base_uri": "https://localhost:8080/",
          "height": 195
        },
        "id": "7IRpfO30PgGh",
        "outputId": "ea3a122c-a7cf-4854-e90b-cf006285c400"
      },
      "source": [
        "df.head()"
      ],
      "execution_count": null,
      "outputs": [
        {
          "output_type": "execute_result",
          "data": {
            "text/html": [
              "<div>\n",
              "<style scoped>\n",
              "    .dataframe tbody tr th:only-of-type {\n",
              "        vertical-align: middle;\n",
              "    }\n",
              "\n",
              "    .dataframe tbody tr th {\n",
              "        vertical-align: top;\n",
              "    }\n",
              "\n",
              "    .dataframe thead th {\n",
              "        text-align: right;\n",
              "    }\n",
              "</style>\n",
              "<table border=\"1\" class=\"dataframe\">\n",
              "  <thead>\n",
              "    <tr style=\"text-align: right;\">\n",
              "      <th></th>\n",
              "      <th>Name</th>\n",
              "      <th>Team</th>\n",
              "      <th>Number</th>\n",
              "      <th>Position</th>\n",
              "      <th>Age</th>\n",
              "      <th>Height</th>\n",
              "      <th>Weight</th>\n",
              "      <th>College</th>\n",
              "      <th>Salary</th>\n",
              "    </tr>\n",
              "  </thead>\n",
              "  <tbody>\n",
              "    <tr>\n",
              "      <th>0</th>\n",
              "      <td>Avery Bradley</td>\n",
              "      <td>Boston Celtics</td>\n",
              "      <td>0.0</td>\n",
              "      <td>PG</td>\n",
              "      <td>25.0</td>\n",
              "      <td>6-2</td>\n",
              "      <td>180.0</td>\n",
              "      <td>Texas</td>\n",
              "      <td>7730337.0</td>\n",
              "    </tr>\n",
              "    <tr>\n",
              "      <th>1</th>\n",
              "      <td>Jae Crowder</td>\n",
              "      <td>Boston Celtics</td>\n",
              "      <td>99.0</td>\n",
              "      <td>SF</td>\n",
              "      <td>25.0</td>\n",
              "      <td>6-6</td>\n",
              "      <td>235.0</td>\n",
              "      <td>Marquette</td>\n",
              "      <td>6796117.0</td>\n",
              "    </tr>\n",
              "    <tr>\n",
              "      <th>2</th>\n",
              "      <td>John Holland</td>\n",
              "      <td>Boston Celtics</td>\n",
              "      <td>30.0</td>\n",
              "      <td>SG</td>\n",
              "      <td>27.0</td>\n",
              "      <td>6-5</td>\n",
              "      <td>205.0</td>\n",
              "      <td>Boston University</td>\n",
              "      <td>NaN</td>\n",
              "    </tr>\n",
              "    <tr>\n",
              "      <th>3</th>\n",
              "      <td>R.J. Hunter</td>\n",
              "      <td>Boston Celtics</td>\n",
              "      <td>28.0</td>\n",
              "      <td>SG</td>\n",
              "      <td>22.0</td>\n",
              "      <td>6-5</td>\n",
              "      <td>185.0</td>\n",
              "      <td>Georgia State</td>\n",
              "      <td>1148640.0</td>\n",
              "    </tr>\n",
              "    <tr>\n",
              "      <th>4</th>\n",
              "      <td>Jonas Jerebko</td>\n",
              "      <td>Boston Celtics</td>\n",
              "      <td>8.0</td>\n",
              "      <td>PF</td>\n",
              "      <td>29.0</td>\n",
              "      <td>6-10</td>\n",
              "      <td>231.0</td>\n",
              "      <td>NaN</td>\n",
              "      <td>5000000.0</td>\n",
              "    </tr>\n",
              "  </tbody>\n",
              "</table>\n",
              "</div>"
            ],
            "text/plain": [
              "            Name            Team  Number  ... Weight            College     Salary\n",
              "0  Avery Bradley  Boston Celtics     0.0  ...  180.0              Texas  7730337.0\n",
              "1    Jae Crowder  Boston Celtics    99.0  ...  235.0          Marquette  6796117.0\n",
              "2   John Holland  Boston Celtics    30.0  ...  205.0  Boston University        NaN\n",
              "3    R.J. Hunter  Boston Celtics    28.0  ...  185.0      Georgia State  1148640.0\n",
              "4  Jonas Jerebko  Boston Celtics     8.0  ...  231.0                NaN  5000000.0\n",
              "\n",
              "[5 rows x 9 columns]"
            ]
          },
          "metadata": {
            "tags": []
          },
          "execution_count": 12
        }
      ]
    },
    {
      "cell_type": "code",
      "metadata": {
        "colab": {
          "base_uri": "https://localhost:8080/",
          "height": 195
        },
        "id": "gzNfjrFrPkDa",
        "outputId": "c5184e31-fefb-4013-cce7-82a91e50492c"
      },
      "source": [
        "df.tail()"
      ],
      "execution_count": null,
      "outputs": [
        {
          "output_type": "execute_result",
          "data": {
            "text/html": [
              "<div>\n",
              "<style scoped>\n",
              "    .dataframe tbody tr th:only-of-type {\n",
              "        vertical-align: middle;\n",
              "    }\n",
              "\n",
              "    .dataframe tbody tr th {\n",
              "        vertical-align: top;\n",
              "    }\n",
              "\n",
              "    .dataframe thead th {\n",
              "        text-align: right;\n",
              "    }\n",
              "</style>\n",
              "<table border=\"1\" class=\"dataframe\">\n",
              "  <thead>\n",
              "    <tr style=\"text-align: right;\">\n",
              "      <th></th>\n",
              "      <th>Name</th>\n",
              "      <th>Team</th>\n",
              "      <th>Number</th>\n",
              "      <th>Position</th>\n",
              "      <th>Age</th>\n",
              "      <th>Height</th>\n",
              "      <th>Weight</th>\n",
              "      <th>College</th>\n",
              "      <th>Salary</th>\n",
              "    </tr>\n",
              "  </thead>\n",
              "  <tbody>\n",
              "    <tr>\n",
              "      <th>453</th>\n",
              "      <td>Shelvin Mack</td>\n",
              "      <td>Utah Jazz</td>\n",
              "      <td>8.0</td>\n",
              "      <td>PG</td>\n",
              "      <td>26.0</td>\n",
              "      <td>6-3</td>\n",
              "      <td>203.0</td>\n",
              "      <td>Butler</td>\n",
              "      <td>2433333.0</td>\n",
              "    </tr>\n",
              "    <tr>\n",
              "      <th>454</th>\n",
              "      <td>Raul Neto</td>\n",
              "      <td>Utah Jazz</td>\n",
              "      <td>25.0</td>\n",
              "      <td>PG</td>\n",
              "      <td>24.0</td>\n",
              "      <td>6-1</td>\n",
              "      <td>179.0</td>\n",
              "      <td>NaN</td>\n",
              "      <td>900000.0</td>\n",
              "    </tr>\n",
              "    <tr>\n",
              "      <th>455</th>\n",
              "      <td>Tibor Pleiss</td>\n",
              "      <td>Utah Jazz</td>\n",
              "      <td>21.0</td>\n",
              "      <td>C</td>\n",
              "      <td>26.0</td>\n",
              "      <td>7-3</td>\n",
              "      <td>256.0</td>\n",
              "      <td>NaN</td>\n",
              "      <td>2900000.0</td>\n",
              "    </tr>\n",
              "    <tr>\n",
              "      <th>456</th>\n",
              "      <td>Jeff Withey</td>\n",
              "      <td>Utah Jazz</td>\n",
              "      <td>24.0</td>\n",
              "      <td>C</td>\n",
              "      <td>26.0</td>\n",
              "      <td>7-0</td>\n",
              "      <td>231.0</td>\n",
              "      <td>Kansas</td>\n",
              "      <td>947276.0</td>\n",
              "    </tr>\n",
              "    <tr>\n",
              "      <th>457</th>\n",
              "      <td>NaN</td>\n",
              "      <td>NaN</td>\n",
              "      <td>NaN</td>\n",
              "      <td>NaN</td>\n",
              "      <td>NaN</td>\n",
              "      <td>NaN</td>\n",
              "      <td>NaN</td>\n",
              "      <td>NaN</td>\n",
              "      <td>NaN</td>\n",
              "    </tr>\n",
              "  </tbody>\n",
              "</table>\n",
              "</div>"
            ],
            "text/plain": [
              "             Name       Team  Number Position  ...  Height Weight  College     Salary\n",
              "453  Shelvin Mack  Utah Jazz     8.0       PG  ...     6-3  203.0   Butler  2433333.0\n",
              "454     Raul Neto  Utah Jazz    25.0       PG  ...     6-1  179.0      NaN   900000.0\n",
              "455  Tibor Pleiss  Utah Jazz    21.0        C  ...     7-3  256.0      NaN  2900000.0\n",
              "456   Jeff Withey  Utah Jazz    24.0        C  ...     7-0  231.0   Kansas   947276.0\n",
              "457           NaN        NaN     NaN      NaN  ...     NaN    NaN      NaN        NaN\n",
              "\n",
              "[5 rows x 9 columns]"
            ]
          },
          "metadata": {
            "tags": []
          },
          "execution_count": 13
        }
      ]
    },
    {
      "cell_type": "code",
      "metadata": {
        "colab": {
          "base_uri": "https://localhost:8080/",
          "height": 343
        },
        "id": "-LeLc3wdPlKW",
        "outputId": "d9aeb3c1-8b5c-41de-accd-8fc7e7c04d6f"
      },
      "source": [
        "df.head(10)"
      ],
      "execution_count": null,
      "outputs": [
        {
          "output_type": "execute_result",
          "data": {
            "text/html": [
              "<div>\n",
              "<style scoped>\n",
              "    .dataframe tbody tr th:only-of-type {\n",
              "        vertical-align: middle;\n",
              "    }\n",
              "\n",
              "    .dataframe tbody tr th {\n",
              "        vertical-align: top;\n",
              "    }\n",
              "\n",
              "    .dataframe thead th {\n",
              "        text-align: right;\n",
              "    }\n",
              "</style>\n",
              "<table border=\"1\" class=\"dataframe\">\n",
              "  <thead>\n",
              "    <tr style=\"text-align: right;\">\n",
              "      <th></th>\n",
              "      <th>Name</th>\n",
              "      <th>Team</th>\n",
              "      <th>Number</th>\n",
              "      <th>Position</th>\n",
              "      <th>Age</th>\n",
              "      <th>Height</th>\n",
              "      <th>Weight</th>\n",
              "      <th>College</th>\n",
              "      <th>Salary</th>\n",
              "    </tr>\n",
              "  </thead>\n",
              "  <tbody>\n",
              "    <tr>\n",
              "      <th>0</th>\n",
              "      <td>Avery Bradley</td>\n",
              "      <td>Boston Celtics</td>\n",
              "      <td>0.0</td>\n",
              "      <td>PG</td>\n",
              "      <td>25.0</td>\n",
              "      <td>6-2</td>\n",
              "      <td>180.0</td>\n",
              "      <td>Texas</td>\n",
              "      <td>7730337.0</td>\n",
              "    </tr>\n",
              "    <tr>\n",
              "      <th>1</th>\n",
              "      <td>Jae Crowder</td>\n",
              "      <td>Boston Celtics</td>\n",
              "      <td>99.0</td>\n",
              "      <td>SF</td>\n",
              "      <td>25.0</td>\n",
              "      <td>6-6</td>\n",
              "      <td>235.0</td>\n",
              "      <td>Marquette</td>\n",
              "      <td>6796117.0</td>\n",
              "    </tr>\n",
              "    <tr>\n",
              "      <th>2</th>\n",
              "      <td>John Holland</td>\n",
              "      <td>Boston Celtics</td>\n",
              "      <td>30.0</td>\n",
              "      <td>SG</td>\n",
              "      <td>27.0</td>\n",
              "      <td>6-5</td>\n",
              "      <td>205.0</td>\n",
              "      <td>Boston University</td>\n",
              "      <td>NaN</td>\n",
              "    </tr>\n",
              "    <tr>\n",
              "      <th>3</th>\n",
              "      <td>R.J. Hunter</td>\n",
              "      <td>Boston Celtics</td>\n",
              "      <td>28.0</td>\n",
              "      <td>SG</td>\n",
              "      <td>22.0</td>\n",
              "      <td>6-5</td>\n",
              "      <td>185.0</td>\n",
              "      <td>Georgia State</td>\n",
              "      <td>1148640.0</td>\n",
              "    </tr>\n",
              "    <tr>\n",
              "      <th>4</th>\n",
              "      <td>Jonas Jerebko</td>\n",
              "      <td>Boston Celtics</td>\n",
              "      <td>8.0</td>\n",
              "      <td>PF</td>\n",
              "      <td>29.0</td>\n",
              "      <td>6-10</td>\n",
              "      <td>231.0</td>\n",
              "      <td>NaN</td>\n",
              "      <td>5000000.0</td>\n",
              "    </tr>\n",
              "    <tr>\n",
              "      <th>5</th>\n",
              "      <td>Amir Johnson</td>\n",
              "      <td>Boston Celtics</td>\n",
              "      <td>90.0</td>\n",
              "      <td>PF</td>\n",
              "      <td>29.0</td>\n",
              "      <td>6-9</td>\n",
              "      <td>240.0</td>\n",
              "      <td>NaN</td>\n",
              "      <td>12000000.0</td>\n",
              "    </tr>\n",
              "    <tr>\n",
              "      <th>6</th>\n",
              "      <td>Jordan Mickey</td>\n",
              "      <td>Boston Celtics</td>\n",
              "      <td>55.0</td>\n",
              "      <td>PF</td>\n",
              "      <td>21.0</td>\n",
              "      <td>6-8</td>\n",
              "      <td>235.0</td>\n",
              "      <td>LSU</td>\n",
              "      <td>1170960.0</td>\n",
              "    </tr>\n",
              "    <tr>\n",
              "      <th>7</th>\n",
              "      <td>Kelly Olynyk</td>\n",
              "      <td>Boston Celtics</td>\n",
              "      <td>41.0</td>\n",
              "      <td>C</td>\n",
              "      <td>25.0</td>\n",
              "      <td>7-0</td>\n",
              "      <td>238.0</td>\n",
              "      <td>Gonzaga</td>\n",
              "      <td>2165160.0</td>\n",
              "    </tr>\n",
              "    <tr>\n",
              "      <th>8</th>\n",
              "      <td>Terry Rozier</td>\n",
              "      <td>Boston Celtics</td>\n",
              "      <td>12.0</td>\n",
              "      <td>PG</td>\n",
              "      <td>22.0</td>\n",
              "      <td>6-2</td>\n",
              "      <td>190.0</td>\n",
              "      <td>Louisville</td>\n",
              "      <td>1824360.0</td>\n",
              "    </tr>\n",
              "    <tr>\n",
              "      <th>9</th>\n",
              "      <td>Marcus Smart</td>\n",
              "      <td>Boston Celtics</td>\n",
              "      <td>36.0</td>\n",
              "      <td>PG</td>\n",
              "      <td>22.0</td>\n",
              "      <td>6-4</td>\n",
              "      <td>220.0</td>\n",
              "      <td>Oklahoma State</td>\n",
              "      <td>3431040.0</td>\n",
              "    </tr>\n",
              "  </tbody>\n",
              "</table>\n",
              "</div>"
            ],
            "text/plain": [
              "            Name            Team  Number  ... Weight            College      Salary\n",
              "0  Avery Bradley  Boston Celtics     0.0  ...  180.0              Texas   7730337.0\n",
              "1    Jae Crowder  Boston Celtics    99.0  ...  235.0          Marquette   6796117.0\n",
              "2   John Holland  Boston Celtics    30.0  ...  205.0  Boston University         NaN\n",
              "3    R.J. Hunter  Boston Celtics    28.0  ...  185.0      Georgia State   1148640.0\n",
              "4  Jonas Jerebko  Boston Celtics     8.0  ...  231.0                NaN   5000000.0\n",
              "5   Amir Johnson  Boston Celtics    90.0  ...  240.0                NaN  12000000.0\n",
              "6  Jordan Mickey  Boston Celtics    55.0  ...  235.0                LSU   1170960.0\n",
              "7   Kelly Olynyk  Boston Celtics    41.0  ...  238.0            Gonzaga   2165160.0\n",
              "8   Terry Rozier  Boston Celtics    12.0  ...  190.0         Louisville   1824360.0\n",
              "9   Marcus Smart  Boston Celtics    36.0  ...  220.0     Oklahoma State   3431040.0\n",
              "\n",
              "[10 rows x 9 columns]"
            ]
          },
          "metadata": {
            "tags": []
          },
          "execution_count": 14
        }
      ]
    },
    {
      "cell_type": "code",
      "metadata": {
        "colab": {
          "base_uri": "https://localhost:8080/",
          "height": 106
        },
        "id": "q2s-3xrEP3A4",
        "outputId": "adf4a69b-559d-4046-8e6e-049b1cd7ae68"
      },
      "source": [
        "df.tail(2)"
      ],
      "execution_count": null,
      "outputs": [
        {
          "output_type": "execute_result",
          "data": {
            "text/html": [
              "<div>\n",
              "<style scoped>\n",
              "    .dataframe tbody tr th:only-of-type {\n",
              "        vertical-align: middle;\n",
              "    }\n",
              "\n",
              "    .dataframe tbody tr th {\n",
              "        vertical-align: top;\n",
              "    }\n",
              "\n",
              "    .dataframe thead th {\n",
              "        text-align: right;\n",
              "    }\n",
              "</style>\n",
              "<table border=\"1\" class=\"dataframe\">\n",
              "  <thead>\n",
              "    <tr style=\"text-align: right;\">\n",
              "      <th></th>\n",
              "      <th>Name</th>\n",
              "      <th>Team</th>\n",
              "      <th>Number</th>\n",
              "      <th>Position</th>\n",
              "      <th>Age</th>\n",
              "      <th>Height</th>\n",
              "      <th>Weight</th>\n",
              "      <th>College</th>\n",
              "      <th>Salary</th>\n",
              "    </tr>\n",
              "  </thead>\n",
              "  <tbody>\n",
              "    <tr>\n",
              "      <th>456</th>\n",
              "      <td>Jeff Withey</td>\n",
              "      <td>Utah Jazz</td>\n",
              "      <td>24.0</td>\n",
              "      <td>C</td>\n",
              "      <td>26.0</td>\n",
              "      <td>7-0</td>\n",
              "      <td>231.0</td>\n",
              "      <td>Kansas</td>\n",
              "      <td>947276.0</td>\n",
              "    </tr>\n",
              "    <tr>\n",
              "      <th>457</th>\n",
              "      <td>NaN</td>\n",
              "      <td>NaN</td>\n",
              "      <td>NaN</td>\n",
              "      <td>NaN</td>\n",
              "      <td>NaN</td>\n",
              "      <td>NaN</td>\n",
              "      <td>NaN</td>\n",
              "      <td>NaN</td>\n",
              "      <td>NaN</td>\n",
              "    </tr>\n",
              "  </tbody>\n",
              "</table>\n",
              "</div>"
            ],
            "text/plain": [
              "            Name       Team  Number Position  ...  Height Weight  College    Salary\n",
              "456  Jeff Withey  Utah Jazz    24.0        C  ...     7-0  231.0   Kansas  947276.0\n",
              "457          NaN        NaN     NaN      NaN  ...     NaN    NaN      NaN       NaN\n",
              "\n",
              "[2 rows x 9 columns]"
            ]
          },
          "metadata": {
            "tags": []
          },
          "execution_count": 15
        }
      ]
    },
    {
      "cell_type": "code",
      "metadata": {
        "id": "Qdc15T6jP4Lz"
      },
      "source": [
        "df=pd.read_csv(\"/content/nba.csv\",index_col='Name')"
      ],
      "execution_count": null,
      "outputs": []
    },
    {
      "cell_type": "code",
      "metadata": {
        "colab": {
          "base_uri": "https://localhost:8080/",
          "height": 225
        },
        "id": "y_f36EYBQDJz",
        "outputId": "be7dc10e-d660-42be-9f90-0035ba896f96"
      },
      "source": [
        "df.head()"
      ],
      "execution_count": null,
      "outputs": [
        {
          "output_type": "execute_result",
          "data": {
            "text/html": [
              "<div>\n",
              "<style scoped>\n",
              "    .dataframe tbody tr th:only-of-type {\n",
              "        vertical-align: middle;\n",
              "    }\n",
              "\n",
              "    .dataframe tbody tr th {\n",
              "        vertical-align: top;\n",
              "    }\n",
              "\n",
              "    .dataframe thead th {\n",
              "        text-align: right;\n",
              "    }\n",
              "</style>\n",
              "<table border=\"1\" class=\"dataframe\">\n",
              "  <thead>\n",
              "    <tr style=\"text-align: right;\">\n",
              "      <th></th>\n",
              "      <th>Team</th>\n",
              "      <th>Number</th>\n",
              "      <th>Position</th>\n",
              "      <th>Age</th>\n",
              "      <th>Height</th>\n",
              "      <th>Weight</th>\n",
              "      <th>College</th>\n",
              "      <th>Salary</th>\n",
              "    </tr>\n",
              "    <tr>\n",
              "      <th>Name</th>\n",
              "      <th></th>\n",
              "      <th></th>\n",
              "      <th></th>\n",
              "      <th></th>\n",
              "      <th></th>\n",
              "      <th></th>\n",
              "      <th></th>\n",
              "      <th></th>\n",
              "    </tr>\n",
              "  </thead>\n",
              "  <tbody>\n",
              "    <tr>\n",
              "      <th>Avery Bradley</th>\n",
              "      <td>Boston Celtics</td>\n",
              "      <td>0.0</td>\n",
              "      <td>PG</td>\n",
              "      <td>25.0</td>\n",
              "      <td>6-2</td>\n",
              "      <td>180.0</td>\n",
              "      <td>Texas</td>\n",
              "      <td>7730337.0</td>\n",
              "    </tr>\n",
              "    <tr>\n",
              "      <th>Jae Crowder</th>\n",
              "      <td>Boston Celtics</td>\n",
              "      <td>99.0</td>\n",
              "      <td>SF</td>\n",
              "      <td>25.0</td>\n",
              "      <td>6-6</td>\n",
              "      <td>235.0</td>\n",
              "      <td>Marquette</td>\n",
              "      <td>6796117.0</td>\n",
              "    </tr>\n",
              "    <tr>\n",
              "      <th>John Holland</th>\n",
              "      <td>Boston Celtics</td>\n",
              "      <td>30.0</td>\n",
              "      <td>SG</td>\n",
              "      <td>27.0</td>\n",
              "      <td>6-5</td>\n",
              "      <td>205.0</td>\n",
              "      <td>Boston University</td>\n",
              "      <td>NaN</td>\n",
              "    </tr>\n",
              "    <tr>\n",
              "      <th>R.J. Hunter</th>\n",
              "      <td>Boston Celtics</td>\n",
              "      <td>28.0</td>\n",
              "      <td>SG</td>\n",
              "      <td>22.0</td>\n",
              "      <td>6-5</td>\n",
              "      <td>185.0</td>\n",
              "      <td>Georgia State</td>\n",
              "      <td>1148640.0</td>\n",
              "    </tr>\n",
              "    <tr>\n",
              "      <th>Jonas Jerebko</th>\n",
              "      <td>Boston Celtics</td>\n",
              "      <td>8.0</td>\n",
              "      <td>PF</td>\n",
              "      <td>29.0</td>\n",
              "      <td>6-10</td>\n",
              "      <td>231.0</td>\n",
              "      <td>NaN</td>\n",
              "      <td>5000000.0</td>\n",
              "    </tr>\n",
              "  </tbody>\n",
              "</table>\n",
              "</div>"
            ],
            "text/plain": [
              "                         Team  Number  ...            College     Salary\n",
              "Name                                   ...                              \n",
              "Avery Bradley  Boston Celtics     0.0  ...              Texas  7730337.0\n",
              "Jae Crowder    Boston Celtics    99.0  ...          Marquette  6796117.0\n",
              "John Holland   Boston Celtics    30.0  ...  Boston University        NaN\n",
              "R.J. Hunter    Boston Celtics    28.0  ...      Georgia State  1148640.0\n",
              "Jonas Jerebko  Boston Celtics     8.0  ...                NaN  5000000.0\n",
              "\n",
              "[5 rows x 8 columns]"
            ]
          },
          "metadata": {
            "tags": []
          },
          "execution_count": 17
        }
      ]
    },
    {
      "cell_type": "code",
      "metadata": {
        "id": "CenofcCNQLPn"
      },
      "source": [
        "df=pd.read_csv(\"/content/IMDB-Movie-Data.csv\",index_col='Rank')"
      ],
      "execution_count": null,
      "outputs": []
    },
    {
      "cell_type": "code",
      "metadata": {
        "colab": {
          "base_uri": "https://localhost:8080/",
          "height": 326
        },
        "id": "vh4cYJqvQxwL",
        "outputId": "e82776a2-bb11-4e08-e96b-06b1017dcc4a"
      },
      "source": [
        "df.head()"
      ],
      "execution_count": null,
      "outputs": [
        {
          "output_type": "execute_result",
          "data": {
            "text/html": [
              "<div>\n",
              "<style scoped>\n",
              "    .dataframe tbody tr th:only-of-type {\n",
              "        vertical-align: middle;\n",
              "    }\n",
              "\n",
              "    .dataframe tbody tr th {\n",
              "        vertical-align: top;\n",
              "    }\n",
              "\n",
              "    .dataframe thead th {\n",
              "        text-align: right;\n",
              "    }\n",
              "</style>\n",
              "<table border=\"1\" class=\"dataframe\">\n",
              "  <thead>\n",
              "    <tr style=\"text-align: right;\">\n",
              "      <th></th>\n",
              "      <th>Title</th>\n",
              "      <th>Genre</th>\n",
              "      <th>Description</th>\n",
              "      <th>Director</th>\n",
              "      <th>Actors</th>\n",
              "      <th>Year</th>\n",
              "      <th>Runtime (Minutes)</th>\n",
              "      <th>Rating</th>\n",
              "      <th>Votes</th>\n",
              "      <th>Revenue (Millions)</th>\n",
              "      <th>Metascore</th>\n",
              "    </tr>\n",
              "    <tr>\n",
              "      <th>Rank</th>\n",
              "      <th></th>\n",
              "      <th></th>\n",
              "      <th></th>\n",
              "      <th></th>\n",
              "      <th></th>\n",
              "      <th></th>\n",
              "      <th></th>\n",
              "      <th></th>\n",
              "      <th></th>\n",
              "      <th></th>\n",
              "      <th></th>\n",
              "    </tr>\n",
              "  </thead>\n",
              "  <tbody>\n",
              "    <tr>\n",
              "      <th>1</th>\n",
              "      <td>Guardians of the Galaxy</td>\n",
              "      <td>Action,Adventure,Sci-Fi</td>\n",
              "      <td>A group of intergalactic criminals are forced ...</td>\n",
              "      <td>James Gunn</td>\n",
              "      <td>Chris Pratt, Vin Diesel, Bradley Cooper, Zoe S...</td>\n",
              "      <td>2014</td>\n",
              "      <td>121</td>\n",
              "      <td>8.1</td>\n",
              "      <td>757074</td>\n",
              "      <td>333.13</td>\n",
              "      <td>76.0</td>\n",
              "    </tr>\n",
              "    <tr>\n",
              "      <th>2</th>\n",
              "      <td>Prometheus</td>\n",
              "      <td>Adventure,Mystery,Sci-Fi</td>\n",
              "      <td>Following clues to the origin of mankind, a te...</td>\n",
              "      <td>Ridley Scott</td>\n",
              "      <td>Noomi Rapace, Logan Marshall-Green, Michael Fa...</td>\n",
              "      <td>2012</td>\n",
              "      <td>124</td>\n",
              "      <td>7.0</td>\n",
              "      <td>485820</td>\n",
              "      <td>126.46</td>\n",
              "      <td>65.0</td>\n",
              "    </tr>\n",
              "    <tr>\n",
              "      <th>3</th>\n",
              "      <td>Split</td>\n",
              "      <td>Horror,Thriller</td>\n",
              "      <td>Three girls are kidnapped by a man with a diag...</td>\n",
              "      <td>M. Night Shyamalan</td>\n",
              "      <td>James McAvoy, Anya Taylor-Joy, Haley Lu Richar...</td>\n",
              "      <td>2016</td>\n",
              "      <td>117</td>\n",
              "      <td>7.3</td>\n",
              "      <td>157606</td>\n",
              "      <td>138.12</td>\n",
              "      <td>62.0</td>\n",
              "    </tr>\n",
              "    <tr>\n",
              "      <th>4</th>\n",
              "      <td>Sing</td>\n",
              "      <td>Animation,Comedy,Family</td>\n",
              "      <td>In a city of humanoid animals, a hustling thea...</td>\n",
              "      <td>Christophe Lourdelet</td>\n",
              "      <td>Matthew McConaughey,Reese Witherspoon, Seth Ma...</td>\n",
              "      <td>2016</td>\n",
              "      <td>108</td>\n",
              "      <td>7.2</td>\n",
              "      <td>60545</td>\n",
              "      <td>270.32</td>\n",
              "      <td>59.0</td>\n",
              "    </tr>\n",
              "    <tr>\n",
              "      <th>5</th>\n",
              "      <td>Suicide Squad</td>\n",
              "      <td>Action,Adventure,Fantasy</td>\n",
              "      <td>A secret government agency recruits some of th...</td>\n",
              "      <td>David Ayer</td>\n",
              "      <td>Will Smith, Jared Leto, Margot Robbie, Viola D...</td>\n",
              "      <td>2016</td>\n",
              "      <td>123</td>\n",
              "      <td>6.2</td>\n",
              "      <td>393727</td>\n",
              "      <td>325.02</td>\n",
              "      <td>40.0</td>\n",
              "    </tr>\n",
              "  </tbody>\n",
              "</table>\n",
              "</div>"
            ],
            "text/plain": [
              "                        Title  ... Metascore\n",
              "Rank                           ...          \n",
              "1     Guardians of the Galaxy  ...      76.0\n",
              "2                  Prometheus  ...      65.0\n",
              "3                       Split  ...      62.0\n",
              "4                        Sing  ...      59.0\n",
              "5               Suicide Squad  ...      40.0\n",
              "\n",
              "[5 rows x 11 columns]"
            ]
          },
          "metadata": {
            "tags": []
          },
          "execution_count": 19
        }
      ]
    },
    {
      "cell_type": "code",
      "metadata": {
        "colab": {
          "base_uri": "https://localhost:8080/",
          "height": 326
        },
        "id": "65W_5V4VQyrA",
        "outputId": "9a898290-f905-4450-b7e6-faa11564e051"
      },
      "source": [
        "df.tail()"
      ],
      "execution_count": null,
      "outputs": [
        {
          "output_type": "execute_result",
          "data": {
            "text/html": [
              "<div>\n",
              "<style scoped>\n",
              "    .dataframe tbody tr th:only-of-type {\n",
              "        vertical-align: middle;\n",
              "    }\n",
              "\n",
              "    .dataframe tbody tr th {\n",
              "        vertical-align: top;\n",
              "    }\n",
              "\n",
              "    .dataframe thead th {\n",
              "        text-align: right;\n",
              "    }\n",
              "</style>\n",
              "<table border=\"1\" class=\"dataframe\">\n",
              "  <thead>\n",
              "    <tr style=\"text-align: right;\">\n",
              "      <th></th>\n",
              "      <th>Title</th>\n",
              "      <th>Genre</th>\n",
              "      <th>Description</th>\n",
              "      <th>Director</th>\n",
              "      <th>Actors</th>\n",
              "      <th>Year</th>\n",
              "      <th>Runtime (Minutes)</th>\n",
              "      <th>Rating</th>\n",
              "      <th>Votes</th>\n",
              "      <th>Revenue (Millions)</th>\n",
              "      <th>Metascore</th>\n",
              "    </tr>\n",
              "    <tr>\n",
              "      <th>Rank</th>\n",
              "      <th></th>\n",
              "      <th></th>\n",
              "      <th></th>\n",
              "      <th></th>\n",
              "      <th></th>\n",
              "      <th></th>\n",
              "      <th></th>\n",
              "      <th></th>\n",
              "      <th></th>\n",
              "      <th></th>\n",
              "      <th></th>\n",
              "    </tr>\n",
              "  </thead>\n",
              "  <tbody>\n",
              "    <tr>\n",
              "      <th>996</th>\n",
              "      <td>Secret in Their Eyes</td>\n",
              "      <td>Crime,Drama,Mystery</td>\n",
              "      <td>A tight-knit team of rising investigators, alo...</td>\n",
              "      <td>Billy Ray</td>\n",
              "      <td>Chiwetel Ejiofor, Nicole Kidman, Julia Roberts...</td>\n",
              "      <td>2015</td>\n",
              "      <td>111</td>\n",
              "      <td>6.2</td>\n",
              "      <td>27585</td>\n",
              "      <td>NaN</td>\n",
              "      <td>45.0</td>\n",
              "    </tr>\n",
              "    <tr>\n",
              "      <th>997</th>\n",
              "      <td>Hostel: Part II</td>\n",
              "      <td>Horror</td>\n",
              "      <td>Three American college students studying abroa...</td>\n",
              "      <td>Eli Roth</td>\n",
              "      <td>Lauren German, Heather Matarazzo, Bijou Philli...</td>\n",
              "      <td>2007</td>\n",
              "      <td>94</td>\n",
              "      <td>5.5</td>\n",
              "      <td>73152</td>\n",
              "      <td>17.54</td>\n",
              "      <td>46.0</td>\n",
              "    </tr>\n",
              "    <tr>\n",
              "      <th>998</th>\n",
              "      <td>Step Up 2: The Streets</td>\n",
              "      <td>Drama,Music,Romance</td>\n",
              "      <td>Romantic sparks occur between two dance studen...</td>\n",
              "      <td>Jon M. Chu</td>\n",
              "      <td>Robert Hoffman, Briana Evigan, Cassie Ventura,...</td>\n",
              "      <td>2008</td>\n",
              "      <td>98</td>\n",
              "      <td>6.2</td>\n",
              "      <td>70699</td>\n",
              "      <td>58.01</td>\n",
              "      <td>50.0</td>\n",
              "    </tr>\n",
              "    <tr>\n",
              "      <th>999</th>\n",
              "      <td>Search Party</td>\n",
              "      <td>Adventure,Comedy</td>\n",
              "      <td>A pair of friends embark on a mission to reuni...</td>\n",
              "      <td>Scot Armstrong</td>\n",
              "      <td>Adam Pally, T.J. Miller, Thomas Middleditch,Sh...</td>\n",
              "      <td>2014</td>\n",
              "      <td>93</td>\n",
              "      <td>5.6</td>\n",
              "      <td>4881</td>\n",
              "      <td>NaN</td>\n",
              "      <td>22.0</td>\n",
              "    </tr>\n",
              "    <tr>\n",
              "      <th>1000</th>\n",
              "      <td>Nine Lives</td>\n",
              "      <td>Comedy,Family,Fantasy</td>\n",
              "      <td>A stuffy businessman finds himself trapped ins...</td>\n",
              "      <td>Barry Sonnenfeld</td>\n",
              "      <td>Kevin Spacey, Jennifer Garner, Robbie Amell,Ch...</td>\n",
              "      <td>2016</td>\n",
              "      <td>87</td>\n",
              "      <td>5.3</td>\n",
              "      <td>12435</td>\n",
              "      <td>19.64</td>\n",
              "      <td>11.0</td>\n",
              "    </tr>\n",
              "  </tbody>\n",
              "</table>\n",
              "</div>"
            ],
            "text/plain": [
              "                       Title  ... Metascore\n",
              "Rank                          ...          \n",
              "996     Secret in Their Eyes  ...      45.0\n",
              "997          Hostel: Part II  ...      46.0\n",
              "998   Step Up 2: The Streets  ...      50.0\n",
              "999             Search Party  ...      22.0\n",
              "1000              Nine Lives  ...      11.0\n",
              "\n",
              "[5 rows x 11 columns]"
            ]
          },
          "metadata": {
            "tags": []
          },
          "execution_count": 20
        }
      ]
    },
    {
      "cell_type": "code",
      "metadata": {
        "colab": {
          "base_uri": "https://localhost:8080/"
        },
        "id": "vZTD_BoFRAFo",
        "outputId": "23e31e20-06b5-41b4-e054-601e44d8e1c8"
      },
      "source": [
        "df.info()"
      ],
      "execution_count": null,
      "outputs": [
        {
          "output_type": "stream",
          "text": [
            "<class 'pandas.core.frame.DataFrame'>\n",
            "Int64Index: 1000 entries, 1 to 1000\n",
            "Data columns (total 11 columns):\n",
            " #   Column              Non-Null Count  Dtype  \n",
            "---  ------              --------------  -----  \n",
            " 0   Title               1000 non-null   object \n",
            " 1   Genre               1000 non-null   object \n",
            " 2   Description         1000 non-null   object \n",
            " 3   Director            1000 non-null   object \n",
            " 4   Actors              1000 non-null   object \n",
            " 5   Year                1000 non-null   int64  \n",
            " 6   Runtime (Minutes)   1000 non-null   int64  \n",
            " 7   Rating              1000 non-null   float64\n",
            " 8   Votes               1000 non-null   int64  \n",
            " 9   Revenue (Millions)  872 non-null    float64\n",
            " 10  Metascore           936 non-null    float64\n",
            "dtypes: float64(3), int64(3), object(5)\n",
            "memory usage: 93.8+ KB\n"
          ],
          "name": "stdout"
        }
      ]
    },
    {
      "cell_type": "code",
      "metadata": {
        "colab": {
          "base_uri": "https://localhost:8080/"
        },
        "id": "kMs3IWJYRGPF",
        "outputId": "4ea286b4-e367-4c51-86f5-c00a88c8a14f"
      },
      "source": [
        "df.shape"
      ],
      "execution_count": null,
      "outputs": [
        {
          "output_type": "execute_result",
          "data": {
            "text/plain": [
              "(1000, 11)"
            ]
          },
          "metadata": {
            "tags": []
          },
          "execution_count": 22
        }
      ]
    },
    {
      "cell_type": "code",
      "metadata": {
        "colab": {
          "base_uri": "https://localhost:8080/"
        },
        "id": "WlJrEOGBRXf0",
        "outputId": "6c77fa97-ca89-44ba-a78e-d22acdaf3085"
      },
      "source": [
        "# it tells about duplicates present in rows\r\n",
        "df.duplicated()"
      ],
      "execution_count": null,
      "outputs": [
        {
          "output_type": "execute_result",
          "data": {
            "text/plain": [
              "Rank\n",
              "1       False\n",
              "2       False\n",
              "3       False\n",
              "4       False\n",
              "5       False\n",
              "        ...  \n",
              "996     False\n",
              "997     False\n",
              "998     False\n",
              "999     False\n",
              "1000    False\n",
              "Length: 1000, dtype: bool"
            ]
          },
          "metadata": {
            "tags": []
          },
          "execution_count": 23
        }
      ]
    },
    {
      "cell_type": "code",
      "metadata": {
        "colab": {
          "base_uri": "https://localhost:8080/"
        },
        "id": "ybcTLi0tRpsV",
        "outputId": "2c74d6e1-9046-40e3-8e57-73ebf6c36155"
      },
      "source": [
        "sum(df.duplicated())"
      ],
      "execution_count": null,
      "outputs": [
        {
          "output_type": "execute_result",
          "data": {
            "text/plain": [
              "0"
            ]
          },
          "metadata": {
            "tags": []
          },
          "execution_count": 24
        }
      ]
    },
    {
      "cell_type": "code",
      "metadata": {
        "colab": {
          "base_uri": "https://localhost:8080/"
        },
        "id": "6pU7LmMiRyoz",
        "outputId": "4091b2f8-3e7c-40fe-d6cb-276f075d5c4d"
      },
      "source": [
        "# we doubled the dataset\r\n",
        "df1=df.append(df)\r\n",
        "df1.shape"
      ],
      "execution_count": null,
      "outputs": [
        {
          "output_type": "execute_result",
          "data": {
            "text/plain": [
              "(2000, 11)"
            ]
          },
          "metadata": {
            "tags": []
          },
          "execution_count": 25
        }
      ]
    },
    {
      "cell_type": "code",
      "metadata": {
        "colab": {
          "base_uri": "https://localhost:8080/"
        },
        "id": "GMxZ4RIFR3Ky",
        "outputId": "ef660e6b-d051-4468-fa9c-213a5baf8966"
      },
      "source": [
        "df1.duplicated()"
      ],
      "execution_count": null,
      "outputs": [
        {
          "output_type": "execute_result",
          "data": {
            "text/plain": [
              "Rank\n",
              "1       False\n",
              "2       False\n",
              "3       False\n",
              "4       False\n",
              "5       False\n",
              "        ...  \n",
              "996      True\n",
              "997      True\n",
              "998      True\n",
              "999      True\n",
              "1000     True\n",
              "Length: 2000, dtype: bool"
            ]
          },
          "metadata": {
            "tags": []
          },
          "execution_count": 26
        }
      ]
    },
    {
      "cell_type": "code",
      "metadata": {
        "colab": {
          "base_uri": "https://localhost:8080/"
        },
        "id": "o2AVnrgKR-A9",
        "outputId": "b29f161a-d9fd-46d0-90dc-5e38fe2120d9"
      },
      "source": [
        "sum(df1.duplicated()) #1000 rows duplicated as we doubled the dataset"
      ],
      "execution_count": null,
      "outputs": [
        {
          "output_type": "execute_result",
          "data": {
            "text/plain": [
              "1000"
            ]
          },
          "metadata": {
            "tags": []
          },
          "execution_count": 27
        }
      ]
    },
    {
      "cell_type": "code",
      "metadata": {
        "id": "u-330F0tSBYU"
      },
      "source": [
        "#we remove duplicates\r\n",
        "df2=df1.drop_duplicates()"
      ],
      "execution_count": null,
      "outputs": []
    },
    {
      "cell_type": "code",
      "metadata": {
        "colab": {
          "base_uri": "https://localhost:8080/"
        },
        "id": "Wra576DxSRAf",
        "outputId": "73e8dac3-0e08-4cef-ae12-33a7259974ef"
      },
      "source": [
        "df2.shape"
      ],
      "execution_count": null,
      "outputs": [
        {
          "output_type": "execute_result",
          "data": {
            "text/plain": [
              "(1000, 11)"
            ]
          },
          "metadata": {
            "tags": []
          },
          "execution_count": 29
        }
      ]
    },
    {
      "cell_type": "code",
      "metadata": {
        "colab": {
          "base_uri": "https://localhost:8080/"
        },
        "id": "3Mamm1VpSSMY",
        "outputId": "7396ae58-9026-4fd3-c932-a2be4d970321"
      },
      "source": [
        "df1.shape"
      ],
      "execution_count": null,
      "outputs": [
        {
          "output_type": "execute_result",
          "data": {
            "text/plain": [
              "(2000, 11)"
            ]
          },
          "metadata": {
            "tags": []
          },
          "execution_count": 30
        }
      ]
    },
    {
      "cell_type": "code",
      "metadata": {
        "colab": {
          "base_uri": "https://localhost:8080/",
          "height": 616
        },
        "id": "X-v8BnOlSTmr",
        "outputId": "debbda10-5aa5-475a-d7ab-bcbe7229f2a3"
      },
      "source": [
        "df1.drop_duplicates()"
      ],
      "execution_count": null,
      "outputs": [
        {
          "output_type": "execute_result",
          "data": {
            "text/html": [
              "<div>\n",
              "<style scoped>\n",
              "    .dataframe tbody tr th:only-of-type {\n",
              "        vertical-align: middle;\n",
              "    }\n",
              "\n",
              "    .dataframe tbody tr th {\n",
              "        vertical-align: top;\n",
              "    }\n",
              "\n",
              "    .dataframe thead th {\n",
              "        text-align: right;\n",
              "    }\n",
              "</style>\n",
              "<table border=\"1\" class=\"dataframe\">\n",
              "  <thead>\n",
              "    <tr style=\"text-align: right;\">\n",
              "      <th></th>\n",
              "      <th>Title</th>\n",
              "      <th>Genre</th>\n",
              "      <th>Description</th>\n",
              "      <th>Director</th>\n",
              "      <th>Actors</th>\n",
              "      <th>Year</th>\n",
              "      <th>Runtime (Minutes)</th>\n",
              "      <th>Rating</th>\n",
              "      <th>Votes</th>\n",
              "      <th>Revenue (Millions)</th>\n",
              "      <th>Metascore</th>\n",
              "    </tr>\n",
              "    <tr>\n",
              "      <th>Rank</th>\n",
              "      <th></th>\n",
              "      <th></th>\n",
              "      <th></th>\n",
              "      <th></th>\n",
              "      <th></th>\n",
              "      <th></th>\n",
              "      <th></th>\n",
              "      <th></th>\n",
              "      <th></th>\n",
              "      <th></th>\n",
              "      <th></th>\n",
              "    </tr>\n",
              "  </thead>\n",
              "  <tbody>\n",
              "    <tr>\n",
              "      <th>1</th>\n",
              "      <td>Guardians of the Galaxy</td>\n",
              "      <td>Action,Adventure,Sci-Fi</td>\n",
              "      <td>A group of intergalactic criminals are forced ...</td>\n",
              "      <td>James Gunn</td>\n",
              "      <td>Chris Pratt, Vin Diesel, Bradley Cooper, Zoe S...</td>\n",
              "      <td>2014</td>\n",
              "      <td>121</td>\n",
              "      <td>8.1</td>\n",
              "      <td>757074</td>\n",
              "      <td>333.13</td>\n",
              "      <td>76.0</td>\n",
              "    </tr>\n",
              "    <tr>\n",
              "      <th>2</th>\n",
              "      <td>Prometheus</td>\n",
              "      <td>Adventure,Mystery,Sci-Fi</td>\n",
              "      <td>Following clues to the origin of mankind, a te...</td>\n",
              "      <td>Ridley Scott</td>\n",
              "      <td>Noomi Rapace, Logan Marshall-Green, Michael Fa...</td>\n",
              "      <td>2012</td>\n",
              "      <td>124</td>\n",
              "      <td>7.0</td>\n",
              "      <td>485820</td>\n",
              "      <td>126.46</td>\n",
              "      <td>65.0</td>\n",
              "    </tr>\n",
              "    <tr>\n",
              "      <th>3</th>\n",
              "      <td>Split</td>\n",
              "      <td>Horror,Thriller</td>\n",
              "      <td>Three girls are kidnapped by a man with a diag...</td>\n",
              "      <td>M. Night Shyamalan</td>\n",
              "      <td>James McAvoy, Anya Taylor-Joy, Haley Lu Richar...</td>\n",
              "      <td>2016</td>\n",
              "      <td>117</td>\n",
              "      <td>7.3</td>\n",
              "      <td>157606</td>\n",
              "      <td>138.12</td>\n",
              "      <td>62.0</td>\n",
              "    </tr>\n",
              "    <tr>\n",
              "      <th>4</th>\n",
              "      <td>Sing</td>\n",
              "      <td>Animation,Comedy,Family</td>\n",
              "      <td>In a city of humanoid animals, a hustling thea...</td>\n",
              "      <td>Christophe Lourdelet</td>\n",
              "      <td>Matthew McConaughey,Reese Witherspoon, Seth Ma...</td>\n",
              "      <td>2016</td>\n",
              "      <td>108</td>\n",
              "      <td>7.2</td>\n",
              "      <td>60545</td>\n",
              "      <td>270.32</td>\n",
              "      <td>59.0</td>\n",
              "    </tr>\n",
              "    <tr>\n",
              "      <th>5</th>\n",
              "      <td>Suicide Squad</td>\n",
              "      <td>Action,Adventure,Fantasy</td>\n",
              "      <td>A secret government agency recruits some of th...</td>\n",
              "      <td>David Ayer</td>\n",
              "      <td>Will Smith, Jared Leto, Margot Robbie, Viola D...</td>\n",
              "      <td>2016</td>\n",
              "      <td>123</td>\n",
              "      <td>6.2</td>\n",
              "      <td>393727</td>\n",
              "      <td>325.02</td>\n",
              "      <td>40.0</td>\n",
              "    </tr>\n",
              "    <tr>\n",
              "      <th>...</th>\n",
              "      <td>...</td>\n",
              "      <td>...</td>\n",
              "      <td>...</td>\n",
              "      <td>...</td>\n",
              "      <td>...</td>\n",
              "      <td>...</td>\n",
              "      <td>...</td>\n",
              "      <td>...</td>\n",
              "      <td>...</td>\n",
              "      <td>...</td>\n",
              "      <td>...</td>\n",
              "    </tr>\n",
              "    <tr>\n",
              "      <th>996</th>\n",
              "      <td>Secret in Their Eyes</td>\n",
              "      <td>Crime,Drama,Mystery</td>\n",
              "      <td>A tight-knit team of rising investigators, alo...</td>\n",
              "      <td>Billy Ray</td>\n",
              "      <td>Chiwetel Ejiofor, Nicole Kidman, Julia Roberts...</td>\n",
              "      <td>2015</td>\n",
              "      <td>111</td>\n",
              "      <td>6.2</td>\n",
              "      <td>27585</td>\n",
              "      <td>NaN</td>\n",
              "      <td>45.0</td>\n",
              "    </tr>\n",
              "    <tr>\n",
              "      <th>997</th>\n",
              "      <td>Hostel: Part II</td>\n",
              "      <td>Horror</td>\n",
              "      <td>Three American college students studying abroa...</td>\n",
              "      <td>Eli Roth</td>\n",
              "      <td>Lauren German, Heather Matarazzo, Bijou Philli...</td>\n",
              "      <td>2007</td>\n",
              "      <td>94</td>\n",
              "      <td>5.5</td>\n",
              "      <td>73152</td>\n",
              "      <td>17.54</td>\n",
              "      <td>46.0</td>\n",
              "    </tr>\n",
              "    <tr>\n",
              "      <th>998</th>\n",
              "      <td>Step Up 2: The Streets</td>\n",
              "      <td>Drama,Music,Romance</td>\n",
              "      <td>Romantic sparks occur between two dance studen...</td>\n",
              "      <td>Jon M. Chu</td>\n",
              "      <td>Robert Hoffman, Briana Evigan, Cassie Ventura,...</td>\n",
              "      <td>2008</td>\n",
              "      <td>98</td>\n",
              "      <td>6.2</td>\n",
              "      <td>70699</td>\n",
              "      <td>58.01</td>\n",
              "      <td>50.0</td>\n",
              "    </tr>\n",
              "    <tr>\n",
              "      <th>999</th>\n",
              "      <td>Search Party</td>\n",
              "      <td>Adventure,Comedy</td>\n",
              "      <td>A pair of friends embark on a mission to reuni...</td>\n",
              "      <td>Scot Armstrong</td>\n",
              "      <td>Adam Pally, T.J. Miller, Thomas Middleditch,Sh...</td>\n",
              "      <td>2014</td>\n",
              "      <td>93</td>\n",
              "      <td>5.6</td>\n",
              "      <td>4881</td>\n",
              "      <td>NaN</td>\n",
              "      <td>22.0</td>\n",
              "    </tr>\n",
              "    <tr>\n",
              "      <th>1000</th>\n",
              "      <td>Nine Lives</td>\n",
              "      <td>Comedy,Family,Fantasy</td>\n",
              "      <td>A stuffy businessman finds himself trapped ins...</td>\n",
              "      <td>Barry Sonnenfeld</td>\n",
              "      <td>Kevin Spacey, Jennifer Garner, Robbie Amell,Ch...</td>\n",
              "      <td>2016</td>\n",
              "      <td>87</td>\n",
              "      <td>5.3</td>\n",
              "      <td>12435</td>\n",
              "      <td>19.64</td>\n",
              "      <td>11.0</td>\n",
              "    </tr>\n",
              "  </tbody>\n",
              "</table>\n",
              "<p>1000 rows × 11 columns</p>\n",
              "</div>"
            ],
            "text/plain": [
              "                        Title  ... Metascore\n",
              "Rank                           ...          \n",
              "1     Guardians of the Galaxy  ...      76.0\n",
              "2                  Prometheus  ...      65.0\n",
              "3                       Split  ...      62.0\n",
              "4                        Sing  ...      59.0\n",
              "5               Suicide Squad  ...      40.0\n",
              "...                       ...  ...       ...\n",
              "996      Secret in Their Eyes  ...      45.0\n",
              "997           Hostel: Part II  ...      46.0\n",
              "998    Step Up 2: The Streets  ...      50.0\n",
              "999              Search Party  ...      22.0\n",
              "1000               Nine Lives  ...      11.0\n",
              "\n",
              "[1000 rows x 11 columns]"
            ]
          },
          "metadata": {
            "tags": []
          },
          "execution_count": 31
        }
      ]
    },
    {
      "cell_type": "code",
      "metadata": {
        "colab": {
          "base_uri": "https://localhost:8080/"
        },
        "id": "2oMhihGiShfG",
        "outputId": "e400c039-1dc5-4dc8-8c1c-72eb890f9b38"
      },
      "source": [
        "df1.shape #even after dropping duplicates it showed 2000 rows because here inplace=False"
      ],
      "execution_count": null,
      "outputs": [
        {
          "output_type": "execute_result",
          "data": {
            "text/plain": [
              "(2000, 11)"
            ]
          },
          "metadata": {
            "tags": []
          },
          "execution_count": 32
        }
      ]
    },
    {
      "cell_type": "code",
      "metadata": {
        "id": "v_d5zyPRSjf_"
      },
      "source": [
        "df1.drop_duplicates(inplace=True)"
      ],
      "execution_count": null,
      "outputs": []
    },
    {
      "cell_type": "code",
      "metadata": {
        "colab": {
          "base_uri": "https://localhost:8080/"
        },
        "id": "WHWPsvWPSzzB",
        "outputId": "6ec5d6aa-e51f-4b2f-b59f-e965f26cb1d3"
      },
      "source": [
        "df1.shape "
      ],
      "execution_count": null,
      "outputs": [
        {
          "output_type": "execute_result",
          "data": {
            "text/plain": [
              "(1000, 11)"
            ]
          },
          "metadata": {
            "tags": []
          },
          "execution_count": 34
        }
      ]
    },
    {
      "cell_type": "code",
      "metadata": {
        "colab": {
          "base_uri": "https://localhost:8080/"
        },
        "id": "YuMCwU0wTAQg",
        "outputId": "31f6267f-d636-4410-8231-2d9101a56a40"
      },
      "source": [
        "# columns cleanup\r\n",
        "# to print all columns\r\n",
        "df.columns"
      ],
      "execution_count": null,
      "outputs": [
        {
          "output_type": "execute_result",
          "data": {
            "text/plain": [
              "Index(['Title', 'Genre', 'Description', 'Director', 'Actors', 'Year',\n",
              "       'Runtime (Minutes)', 'Rating', 'Votes', 'Revenue (Millions)',\n",
              "       'Metascore'],\n",
              "      dtype='object')"
            ]
          },
          "metadata": {
            "tags": []
          },
          "execution_count": 35
        }
      ]
    },
    {
      "cell_type": "code",
      "metadata": {
        "colab": {
          "base_uri": "https://localhost:8080/"
        },
        "id": "k4t0EKurTcf9",
        "outputId": "99dd4f2c-9f23-4837-ce36-17dc0e132801"
      },
      "source": [
        "len(df.columns)"
      ],
      "execution_count": null,
      "outputs": [
        {
          "output_type": "execute_result",
          "data": {
            "text/plain": [
              "11"
            ]
          },
          "metadata": {
            "tags": []
          },
          "execution_count": 36
        }
      ]
    },
    {
      "cell_type": "code",
      "metadata": {
        "colab": {
          "base_uri": "https://localhost:8080/",
          "height": 284
        },
        "id": "W5JAUxU_Tjft",
        "outputId": "b633b10a-7e1f-487b-cdf3-c2c77659dd9f"
      },
      "source": [
        "df.describe()"
      ],
      "execution_count": null,
      "outputs": [
        {
          "output_type": "execute_result",
          "data": {
            "text/html": [
              "<div>\n",
              "<style scoped>\n",
              "    .dataframe tbody tr th:only-of-type {\n",
              "        vertical-align: middle;\n",
              "    }\n",
              "\n",
              "    .dataframe tbody tr th {\n",
              "        vertical-align: top;\n",
              "    }\n",
              "\n",
              "    .dataframe thead th {\n",
              "        text-align: right;\n",
              "    }\n",
              "</style>\n",
              "<table border=\"1\" class=\"dataframe\">\n",
              "  <thead>\n",
              "    <tr style=\"text-align: right;\">\n",
              "      <th></th>\n",
              "      <th>Year</th>\n",
              "      <th>Runtime (Minutes)</th>\n",
              "      <th>Rating</th>\n",
              "      <th>Votes</th>\n",
              "      <th>Revenue (Millions)</th>\n",
              "      <th>Metascore</th>\n",
              "    </tr>\n",
              "  </thead>\n",
              "  <tbody>\n",
              "    <tr>\n",
              "      <th>count</th>\n",
              "      <td>1000.000000</td>\n",
              "      <td>1000.000000</td>\n",
              "      <td>1000.000000</td>\n",
              "      <td>1.000000e+03</td>\n",
              "      <td>872.000000</td>\n",
              "      <td>936.000000</td>\n",
              "    </tr>\n",
              "    <tr>\n",
              "      <th>mean</th>\n",
              "      <td>2012.783000</td>\n",
              "      <td>113.172000</td>\n",
              "      <td>6.723200</td>\n",
              "      <td>1.698083e+05</td>\n",
              "      <td>82.956376</td>\n",
              "      <td>58.985043</td>\n",
              "    </tr>\n",
              "    <tr>\n",
              "      <th>std</th>\n",
              "      <td>3.205962</td>\n",
              "      <td>18.810908</td>\n",
              "      <td>0.945429</td>\n",
              "      <td>1.887626e+05</td>\n",
              "      <td>103.253540</td>\n",
              "      <td>17.194757</td>\n",
              "    </tr>\n",
              "    <tr>\n",
              "      <th>min</th>\n",
              "      <td>2006.000000</td>\n",
              "      <td>66.000000</td>\n",
              "      <td>1.900000</td>\n",
              "      <td>6.100000e+01</td>\n",
              "      <td>0.000000</td>\n",
              "      <td>11.000000</td>\n",
              "    </tr>\n",
              "    <tr>\n",
              "      <th>25%</th>\n",
              "      <td>2010.000000</td>\n",
              "      <td>100.000000</td>\n",
              "      <td>6.200000</td>\n",
              "      <td>3.630900e+04</td>\n",
              "      <td>13.270000</td>\n",
              "      <td>47.000000</td>\n",
              "    </tr>\n",
              "    <tr>\n",
              "      <th>50%</th>\n",
              "      <td>2014.000000</td>\n",
              "      <td>111.000000</td>\n",
              "      <td>6.800000</td>\n",
              "      <td>1.107990e+05</td>\n",
              "      <td>47.985000</td>\n",
              "      <td>59.500000</td>\n",
              "    </tr>\n",
              "    <tr>\n",
              "      <th>75%</th>\n",
              "      <td>2016.000000</td>\n",
              "      <td>123.000000</td>\n",
              "      <td>7.400000</td>\n",
              "      <td>2.399098e+05</td>\n",
              "      <td>113.715000</td>\n",
              "      <td>72.000000</td>\n",
              "    </tr>\n",
              "    <tr>\n",
              "      <th>max</th>\n",
              "      <td>2016.000000</td>\n",
              "      <td>191.000000</td>\n",
              "      <td>9.000000</td>\n",
              "      <td>1.791916e+06</td>\n",
              "      <td>936.630000</td>\n",
              "      <td>100.000000</td>\n",
              "    </tr>\n",
              "  </tbody>\n",
              "</table>\n",
              "</div>"
            ],
            "text/plain": [
              "              Year  Runtime (Minutes)  ...  Revenue (Millions)   Metascore\n",
              "count  1000.000000        1000.000000  ...          872.000000  936.000000\n",
              "mean   2012.783000         113.172000  ...           82.956376   58.985043\n",
              "std       3.205962          18.810908  ...          103.253540   17.194757\n",
              "min    2006.000000          66.000000  ...            0.000000   11.000000\n",
              "25%    2010.000000         100.000000  ...           13.270000   47.000000\n",
              "50%    2014.000000         111.000000  ...           47.985000   59.500000\n",
              "75%    2016.000000         123.000000  ...          113.715000   72.000000\n",
              "max    2016.000000         191.000000  ...          936.630000  100.000000\n",
              "\n",
              "[8 rows x 6 columns]"
            ]
          },
          "metadata": {
            "tags": []
          },
          "execution_count": 37
        }
      ]
    },
    {
      "cell_type": "code",
      "metadata": {
        "id": "oJM038ItTmQH"
      },
      "source": [
        "col=df.columns"
      ],
      "execution_count": null,
      "outputs": []
    },
    {
      "cell_type": "code",
      "metadata": {
        "colab": {
          "base_uri": "https://localhost:8080/"
        },
        "id": "-PCNMoNKTrK0",
        "outputId": "818f2ae7-87a1-471a-d2aa-e78c90eaf175"
      },
      "source": [
        "type(col)"
      ],
      "execution_count": null,
      "outputs": [
        {
          "output_type": "execute_result",
          "data": {
            "text/plain": [
              "pandas.core.indexes.base.Index"
            ]
          },
          "metadata": {
            "tags": []
          },
          "execution_count": 39
        }
      ]
    },
    {
      "cell_type": "code",
      "metadata": {
        "colab": {
          "base_uri": "https://localhost:8080/"
        },
        "id": "fpB3VhUVTsh8",
        "outputId": "aa3ca5a6-7d6c-401c-e93e-f299669bb89b"
      },
      "source": [
        "type(list(col))"
      ],
      "execution_count": null,
      "outputs": [
        {
          "output_type": "execute_result",
          "data": {
            "text/plain": [
              "list"
            ]
          },
          "metadata": {
            "tags": []
          },
          "execution_count": 40
        }
      ]
    },
    {
      "cell_type": "code",
      "metadata": {
        "colab": {
          "base_uri": "https://localhost:8080/"
        },
        "id": "m8My1xqBTxW5",
        "outputId": "c1ced692-f0bb-444c-806b-411799b86cd1"
      },
      "source": [
        "col"
      ],
      "execution_count": null,
      "outputs": [
        {
          "output_type": "execute_result",
          "data": {
            "text/plain": [
              "Index(['Title', 'Genre', 'Description', 'Director', 'Actors', 'Year',\n",
              "       'Runtime (Minutes)', 'Rating', 'Votes', 'Revenue (Millions)',\n",
              "       'Metascore'],\n",
              "      dtype='object')"
            ]
          },
          "metadata": {
            "tags": []
          },
          "execution_count": 41
        }
      ]
    },
    {
      "cell_type": "code",
      "metadata": {
        "id": "uDHwOPRwT0TN"
      },
      "source": [
        "#we rename columns\r\n",
        "col1=['a','b','c','d','e','f','g','h','i','j','k']"
      ],
      "execution_count": null,
      "outputs": []
    },
    {
      "cell_type": "code",
      "metadata": {
        "id": "5IAYy3FLUGpq"
      },
      "source": [
        "df.columns=col1"
      ],
      "execution_count": null,
      "outputs": []
    },
    {
      "cell_type": "code",
      "metadata": {
        "colab": {
          "base_uri": "https://localhost:8080/",
          "height": 582
        },
        "id": "NQIYgox6UInJ",
        "outputId": "9dd6a6ac-d270-453b-e99a-2a23e559b372"
      },
      "source": [
        "df"
      ],
      "execution_count": null,
      "outputs": [
        {
          "output_type": "execute_result",
          "data": {
            "text/html": [
              "<div>\n",
              "<style scoped>\n",
              "    .dataframe tbody tr th:only-of-type {\n",
              "        vertical-align: middle;\n",
              "    }\n",
              "\n",
              "    .dataframe tbody tr th {\n",
              "        vertical-align: top;\n",
              "    }\n",
              "\n",
              "    .dataframe thead th {\n",
              "        text-align: right;\n",
              "    }\n",
              "</style>\n",
              "<table border=\"1\" class=\"dataframe\">\n",
              "  <thead>\n",
              "    <tr style=\"text-align: right;\">\n",
              "      <th></th>\n",
              "      <th>a</th>\n",
              "      <th>b</th>\n",
              "      <th>c</th>\n",
              "      <th>d</th>\n",
              "      <th>e</th>\n",
              "      <th>f</th>\n",
              "      <th>g</th>\n",
              "      <th>h</th>\n",
              "      <th>i</th>\n",
              "      <th>j</th>\n",
              "      <th>k</th>\n",
              "    </tr>\n",
              "    <tr>\n",
              "      <th>Rank</th>\n",
              "      <th></th>\n",
              "      <th></th>\n",
              "      <th></th>\n",
              "      <th></th>\n",
              "      <th></th>\n",
              "      <th></th>\n",
              "      <th></th>\n",
              "      <th></th>\n",
              "      <th></th>\n",
              "      <th></th>\n",
              "      <th></th>\n",
              "    </tr>\n",
              "  </thead>\n",
              "  <tbody>\n",
              "    <tr>\n",
              "      <th>1</th>\n",
              "      <td>Guardians of the Galaxy</td>\n",
              "      <td>Action,Adventure,Sci-Fi</td>\n",
              "      <td>A group of intergalactic criminals are forced ...</td>\n",
              "      <td>James Gunn</td>\n",
              "      <td>Chris Pratt, Vin Diesel, Bradley Cooper, Zoe S...</td>\n",
              "      <td>2014</td>\n",
              "      <td>121</td>\n",
              "      <td>8.1</td>\n",
              "      <td>757074</td>\n",
              "      <td>333.13</td>\n",
              "      <td>76.0</td>\n",
              "    </tr>\n",
              "    <tr>\n",
              "      <th>2</th>\n",
              "      <td>Prometheus</td>\n",
              "      <td>Adventure,Mystery,Sci-Fi</td>\n",
              "      <td>Following clues to the origin of mankind, a te...</td>\n",
              "      <td>Ridley Scott</td>\n",
              "      <td>Noomi Rapace, Logan Marshall-Green, Michael Fa...</td>\n",
              "      <td>2012</td>\n",
              "      <td>124</td>\n",
              "      <td>7.0</td>\n",
              "      <td>485820</td>\n",
              "      <td>126.46</td>\n",
              "      <td>65.0</td>\n",
              "    </tr>\n",
              "    <tr>\n",
              "      <th>3</th>\n",
              "      <td>Split</td>\n",
              "      <td>Horror,Thriller</td>\n",
              "      <td>Three girls are kidnapped by a man with a diag...</td>\n",
              "      <td>M. Night Shyamalan</td>\n",
              "      <td>James McAvoy, Anya Taylor-Joy, Haley Lu Richar...</td>\n",
              "      <td>2016</td>\n",
              "      <td>117</td>\n",
              "      <td>7.3</td>\n",
              "      <td>157606</td>\n",
              "      <td>138.12</td>\n",
              "      <td>62.0</td>\n",
              "    </tr>\n",
              "    <tr>\n",
              "      <th>4</th>\n",
              "      <td>Sing</td>\n",
              "      <td>Animation,Comedy,Family</td>\n",
              "      <td>In a city of humanoid animals, a hustling thea...</td>\n",
              "      <td>Christophe Lourdelet</td>\n",
              "      <td>Matthew McConaughey,Reese Witherspoon, Seth Ma...</td>\n",
              "      <td>2016</td>\n",
              "      <td>108</td>\n",
              "      <td>7.2</td>\n",
              "      <td>60545</td>\n",
              "      <td>270.32</td>\n",
              "      <td>59.0</td>\n",
              "    </tr>\n",
              "    <tr>\n",
              "      <th>5</th>\n",
              "      <td>Suicide Squad</td>\n",
              "      <td>Action,Adventure,Fantasy</td>\n",
              "      <td>A secret government agency recruits some of th...</td>\n",
              "      <td>David Ayer</td>\n",
              "      <td>Will Smith, Jared Leto, Margot Robbie, Viola D...</td>\n",
              "      <td>2016</td>\n",
              "      <td>123</td>\n",
              "      <td>6.2</td>\n",
              "      <td>393727</td>\n",
              "      <td>325.02</td>\n",
              "      <td>40.0</td>\n",
              "    </tr>\n",
              "    <tr>\n",
              "      <th>...</th>\n",
              "      <td>...</td>\n",
              "      <td>...</td>\n",
              "      <td>...</td>\n",
              "      <td>...</td>\n",
              "      <td>...</td>\n",
              "      <td>...</td>\n",
              "      <td>...</td>\n",
              "      <td>...</td>\n",
              "      <td>...</td>\n",
              "      <td>...</td>\n",
              "      <td>...</td>\n",
              "    </tr>\n",
              "    <tr>\n",
              "      <th>996</th>\n",
              "      <td>Secret in Their Eyes</td>\n",
              "      <td>Crime,Drama,Mystery</td>\n",
              "      <td>A tight-knit team of rising investigators, alo...</td>\n",
              "      <td>Billy Ray</td>\n",
              "      <td>Chiwetel Ejiofor, Nicole Kidman, Julia Roberts...</td>\n",
              "      <td>2015</td>\n",
              "      <td>111</td>\n",
              "      <td>6.2</td>\n",
              "      <td>27585</td>\n",
              "      <td>NaN</td>\n",
              "      <td>45.0</td>\n",
              "    </tr>\n",
              "    <tr>\n",
              "      <th>997</th>\n",
              "      <td>Hostel: Part II</td>\n",
              "      <td>Horror</td>\n",
              "      <td>Three American college students studying abroa...</td>\n",
              "      <td>Eli Roth</td>\n",
              "      <td>Lauren German, Heather Matarazzo, Bijou Philli...</td>\n",
              "      <td>2007</td>\n",
              "      <td>94</td>\n",
              "      <td>5.5</td>\n",
              "      <td>73152</td>\n",
              "      <td>17.54</td>\n",
              "      <td>46.0</td>\n",
              "    </tr>\n",
              "    <tr>\n",
              "      <th>998</th>\n",
              "      <td>Step Up 2: The Streets</td>\n",
              "      <td>Drama,Music,Romance</td>\n",
              "      <td>Romantic sparks occur between two dance studen...</td>\n",
              "      <td>Jon M. Chu</td>\n",
              "      <td>Robert Hoffman, Briana Evigan, Cassie Ventura,...</td>\n",
              "      <td>2008</td>\n",
              "      <td>98</td>\n",
              "      <td>6.2</td>\n",
              "      <td>70699</td>\n",
              "      <td>58.01</td>\n",
              "      <td>50.0</td>\n",
              "    </tr>\n",
              "    <tr>\n",
              "      <th>999</th>\n",
              "      <td>Search Party</td>\n",
              "      <td>Adventure,Comedy</td>\n",
              "      <td>A pair of friends embark on a mission to reuni...</td>\n",
              "      <td>Scot Armstrong</td>\n",
              "      <td>Adam Pally, T.J. Miller, Thomas Middleditch,Sh...</td>\n",
              "      <td>2014</td>\n",
              "      <td>93</td>\n",
              "      <td>5.6</td>\n",
              "      <td>4881</td>\n",
              "      <td>NaN</td>\n",
              "      <td>22.0</td>\n",
              "    </tr>\n",
              "    <tr>\n",
              "      <th>1000</th>\n",
              "      <td>Nine Lives</td>\n",
              "      <td>Comedy,Family,Fantasy</td>\n",
              "      <td>A stuffy businessman finds himself trapped ins...</td>\n",
              "      <td>Barry Sonnenfeld</td>\n",
              "      <td>Kevin Spacey, Jennifer Garner, Robbie Amell,Ch...</td>\n",
              "      <td>2016</td>\n",
              "      <td>87</td>\n",
              "      <td>5.3</td>\n",
              "      <td>12435</td>\n",
              "      <td>19.64</td>\n",
              "      <td>11.0</td>\n",
              "    </tr>\n",
              "  </tbody>\n",
              "</table>\n",
              "<p>1000 rows × 11 columns</p>\n",
              "</div>"
            ],
            "text/plain": [
              "                            a                         b  ...       j     k\n",
              "Rank                                                     ...              \n",
              "1     Guardians of the Galaxy   Action,Adventure,Sci-Fi  ...  333.13  76.0\n",
              "2                  Prometheus  Adventure,Mystery,Sci-Fi  ...  126.46  65.0\n",
              "3                       Split           Horror,Thriller  ...  138.12  62.0\n",
              "4                        Sing   Animation,Comedy,Family  ...  270.32  59.0\n",
              "5               Suicide Squad  Action,Adventure,Fantasy  ...  325.02  40.0\n",
              "...                       ...                       ...  ...     ...   ...\n",
              "996      Secret in Their Eyes       Crime,Drama,Mystery  ...     NaN  45.0\n",
              "997           Hostel: Part II                    Horror  ...   17.54  46.0\n",
              "998    Step Up 2: The Streets       Drama,Music,Romance  ...   58.01  50.0\n",
              "999              Search Party          Adventure,Comedy  ...     NaN  22.0\n",
              "1000               Nine Lives     Comedy,Family,Fantasy  ...   19.64  11.0\n",
              "\n",
              "[1000 rows x 11 columns]"
            ]
          },
          "metadata": {
            "tags": []
          },
          "execution_count": 44
        }
      ]
    },
    {
      "cell_type": "code",
      "metadata": {
        "id": "ynAY0J8zUJEb"
      },
      "source": [
        "df.columns=col"
      ],
      "execution_count": null,
      "outputs": []
    },
    {
      "cell_type": "code",
      "metadata": {
        "colab": {
          "base_uri": "https://localhost:8080/",
          "height": 326
        },
        "id": "dOMlikyvUXBs",
        "outputId": "1433b80d-f3e2-45d0-fd52-d7e2068ff14a"
      },
      "source": [
        "df.head()"
      ],
      "execution_count": null,
      "outputs": [
        {
          "output_type": "execute_result",
          "data": {
            "text/html": [
              "<div>\n",
              "<style scoped>\n",
              "    .dataframe tbody tr th:only-of-type {\n",
              "        vertical-align: middle;\n",
              "    }\n",
              "\n",
              "    .dataframe tbody tr th {\n",
              "        vertical-align: top;\n",
              "    }\n",
              "\n",
              "    .dataframe thead th {\n",
              "        text-align: right;\n",
              "    }\n",
              "</style>\n",
              "<table border=\"1\" class=\"dataframe\">\n",
              "  <thead>\n",
              "    <tr style=\"text-align: right;\">\n",
              "      <th></th>\n",
              "      <th>Title</th>\n",
              "      <th>Genre</th>\n",
              "      <th>Description</th>\n",
              "      <th>Director</th>\n",
              "      <th>Actors</th>\n",
              "      <th>Year</th>\n",
              "      <th>Runtime (Minutes)</th>\n",
              "      <th>Rating</th>\n",
              "      <th>Votes</th>\n",
              "      <th>Revenue (Millions)</th>\n",
              "      <th>Metascore</th>\n",
              "    </tr>\n",
              "    <tr>\n",
              "      <th>Rank</th>\n",
              "      <th></th>\n",
              "      <th></th>\n",
              "      <th></th>\n",
              "      <th></th>\n",
              "      <th></th>\n",
              "      <th></th>\n",
              "      <th></th>\n",
              "      <th></th>\n",
              "      <th></th>\n",
              "      <th></th>\n",
              "      <th></th>\n",
              "    </tr>\n",
              "  </thead>\n",
              "  <tbody>\n",
              "    <tr>\n",
              "      <th>1</th>\n",
              "      <td>Guardians of the Galaxy</td>\n",
              "      <td>Action,Adventure,Sci-Fi</td>\n",
              "      <td>A group of intergalactic criminals are forced ...</td>\n",
              "      <td>James Gunn</td>\n",
              "      <td>Chris Pratt, Vin Diesel, Bradley Cooper, Zoe S...</td>\n",
              "      <td>2014</td>\n",
              "      <td>121</td>\n",
              "      <td>8.1</td>\n",
              "      <td>757074</td>\n",
              "      <td>333.13</td>\n",
              "      <td>76.0</td>\n",
              "    </tr>\n",
              "    <tr>\n",
              "      <th>2</th>\n",
              "      <td>Prometheus</td>\n",
              "      <td>Adventure,Mystery,Sci-Fi</td>\n",
              "      <td>Following clues to the origin of mankind, a te...</td>\n",
              "      <td>Ridley Scott</td>\n",
              "      <td>Noomi Rapace, Logan Marshall-Green, Michael Fa...</td>\n",
              "      <td>2012</td>\n",
              "      <td>124</td>\n",
              "      <td>7.0</td>\n",
              "      <td>485820</td>\n",
              "      <td>126.46</td>\n",
              "      <td>65.0</td>\n",
              "    </tr>\n",
              "    <tr>\n",
              "      <th>3</th>\n",
              "      <td>Split</td>\n",
              "      <td>Horror,Thriller</td>\n",
              "      <td>Three girls are kidnapped by a man with a diag...</td>\n",
              "      <td>M. Night Shyamalan</td>\n",
              "      <td>James McAvoy, Anya Taylor-Joy, Haley Lu Richar...</td>\n",
              "      <td>2016</td>\n",
              "      <td>117</td>\n",
              "      <td>7.3</td>\n",
              "      <td>157606</td>\n",
              "      <td>138.12</td>\n",
              "      <td>62.0</td>\n",
              "    </tr>\n",
              "    <tr>\n",
              "      <th>4</th>\n",
              "      <td>Sing</td>\n",
              "      <td>Animation,Comedy,Family</td>\n",
              "      <td>In a city of humanoid animals, a hustling thea...</td>\n",
              "      <td>Christophe Lourdelet</td>\n",
              "      <td>Matthew McConaughey,Reese Witherspoon, Seth Ma...</td>\n",
              "      <td>2016</td>\n",
              "      <td>108</td>\n",
              "      <td>7.2</td>\n",
              "      <td>60545</td>\n",
              "      <td>270.32</td>\n",
              "      <td>59.0</td>\n",
              "    </tr>\n",
              "    <tr>\n",
              "      <th>5</th>\n",
              "      <td>Suicide Squad</td>\n",
              "      <td>Action,Adventure,Fantasy</td>\n",
              "      <td>A secret government agency recruits some of th...</td>\n",
              "      <td>David Ayer</td>\n",
              "      <td>Will Smith, Jared Leto, Margot Robbie, Viola D...</td>\n",
              "      <td>2016</td>\n",
              "      <td>123</td>\n",
              "      <td>6.2</td>\n",
              "      <td>393727</td>\n",
              "      <td>325.02</td>\n",
              "      <td>40.0</td>\n",
              "    </tr>\n",
              "  </tbody>\n",
              "</table>\n",
              "</div>"
            ],
            "text/plain": [
              "                        Title  ... Metascore\n",
              "Rank                           ...          \n",
              "1     Guardians of the Galaxy  ...      76.0\n",
              "2                  Prometheus  ...      65.0\n",
              "3                       Split  ...      62.0\n",
              "4                        Sing  ...      59.0\n",
              "5               Suicide Squad  ...      40.0\n",
              "\n",
              "[5 rows x 11 columns]"
            ]
          },
          "metadata": {
            "tags": []
          },
          "execution_count": 46
        }
      ]
    },
    {
      "cell_type": "code",
      "metadata": {
        "id": "vOSGSkrZUYTD"
      },
      "source": [
        "df.rename(columns={\r\n",
        "    'Runtime (Minutes)':'Runtime',\r\n",
        "    'Revenue (Millions)':'Revenue'\r\n",
        "},inplace=True)"
      ],
      "execution_count": null,
      "outputs": []
    },
    {
      "cell_type": "code",
      "metadata": {
        "colab": {
          "base_uri": "https://localhost:8080/"
        },
        "id": "b9nTPSHZVJX4",
        "outputId": "8f25d3da-6a71-493d-c621-5a24069aa4df"
      },
      "source": [
        "df.columns"
      ],
      "execution_count": null,
      "outputs": [
        {
          "output_type": "execute_result",
          "data": {
            "text/plain": [
              "Index(['Title', 'Genre', 'Description', 'Director', 'Actors', 'Year',\n",
              "       'Runtime', 'Rating', 'Votes', 'Revenue', 'Metascore'],\n",
              "      dtype='object')"
            ]
          },
          "metadata": {
            "tags": []
          },
          "execution_count": 48
        }
      ]
    },
    {
      "cell_type": "code",
      "metadata": {
        "colab": {
          "base_uri": "https://localhost:8080/"
        },
        "id": "zh4cN5r6VKpy",
        "outputId": "32ae917d-5141-4d22-d8a6-6bc4e712cf8c"
      },
      "source": [
        "col"
      ],
      "execution_count": null,
      "outputs": [
        {
          "output_type": "execute_result",
          "data": {
            "text/plain": [
              "Index(['Title', 'Genre', 'Description', 'Director', 'Actors', 'Year',\n",
              "       'Runtime (Minutes)', 'Rating', 'Votes', 'Revenue (Millions)',\n",
              "       'Metascore'],\n",
              "      dtype='object')"
            ]
          },
          "metadata": {
            "tags": []
          },
          "execution_count": 49
        }
      ]
    },
    {
      "cell_type": "code",
      "metadata": {
        "id": "etbhwSA-VM7z"
      },
      "source": [
        "#working with missing values\r\n",
        "import numpy as np"
      ],
      "execution_count": null,
      "outputs": []
    },
    {
      "cell_type": "code",
      "metadata": {
        "colab": {
          "base_uri": "https://localhost:8080/"
        },
        "id": "BcsrzlEXVehN",
        "outputId": "6d9459c1-f32e-467d-ddc6-12ad62bee868"
      },
      "source": [
        "np.nan"
      ],
      "execution_count": null,
      "outputs": [
        {
          "output_type": "execute_result",
          "data": {
            "text/plain": [
              "nan"
            ]
          },
          "metadata": {
            "tags": []
          },
          "execution_count": 51
        }
      ]
    },
    {
      "cell_type": "code",
      "metadata": {
        "colab": {
          "base_uri": "https://localhost:8080/",
          "height": 431
        },
        "id": "ys-ofA4IVfqg",
        "outputId": "66938cb1-0db1-4655-cad5-bbed27db674a"
      },
      "source": [
        "df.isnull()"
      ],
      "execution_count": null,
      "outputs": [
        {
          "output_type": "execute_result",
          "data": {
            "text/html": [
              "<div>\n",
              "<style scoped>\n",
              "    .dataframe tbody tr th:only-of-type {\n",
              "        vertical-align: middle;\n",
              "    }\n",
              "\n",
              "    .dataframe tbody tr th {\n",
              "        vertical-align: top;\n",
              "    }\n",
              "\n",
              "    .dataframe thead th {\n",
              "        text-align: right;\n",
              "    }\n",
              "</style>\n",
              "<table border=\"1\" class=\"dataframe\">\n",
              "  <thead>\n",
              "    <tr style=\"text-align: right;\">\n",
              "      <th></th>\n",
              "      <th>Title</th>\n",
              "      <th>Genre</th>\n",
              "      <th>Description</th>\n",
              "      <th>Director</th>\n",
              "      <th>Actors</th>\n",
              "      <th>Year</th>\n",
              "      <th>Runtime</th>\n",
              "      <th>Rating</th>\n",
              "      <th>Votes</th>\n",
              "      <th>Revenue</th>\n",
              "      <th>Metascore</th>\n",
              "    </tr>\n",
              "    <tr>\n",
              "      <th>Rank</th>\n",
              "      <th></th>\n",
              "      <th></th>\n",
              "      <th></th>\n",
              "      <th></th>\n",
              "      <th></th>\n",
              "      <th></th>\n",
              "      <th></th>\n",
              "      <th></th>\n",
              "      <th></th>\n",
              "      <th></th>\n",
              "      <th></th>\n",
              "    </tr>\n",
              "  </thead>\n",
              "  <tbody>\n",
              "    <tr>\n",
              "      <th>1</th>\n",
              "      <td>False</td>\n",
              "      <td>False</td>\n",
              "      <td>False</td>\n",
              "      <td>False</td>\n",
              "      <td>False</td>\n",
              "      <td>False</td>\n",
              "      <td>False</td>\n",
              "      <td>False</td>\n",
              "      <td>False</td>\n",
              "      <td>False</td>\n",
              "      <td>False</td>\n",
              "    </tr>\n",
              "    <tr>\n",
              "      <th>2</th>\n",
              "      <td>False</td>\n",
              "      <td>False</td>\n",
              "      <td>False</td>\n",
              "      <td>False</td>\n",
              "      <td>False</td>\n",
              "      <td>False</td>\n",
              "      <td>False</td>\n",
              "      <td>False</td>\n",
              "      <td>False</td>\n",
              "      <td>False</td>\n",
              "      <td>False</td>\n",
              "    </tr>\n",
              "    <tr>\n",
              "      <th>3</th>\n",
              "      <td>False</td>\n",
              "      <td>False</td>\n",
              "      <td>False</td>\n",
              "      <td>False</td>\n",
              "      <td>False</td>\n",
              "      <td>False</td>\n",
              "      <td>False</td>\n",
              "      <td>False</td>\n",
              "      <td>False</td>\n",
              "      <td>False</td>\n",
              "      <td>False</td>\n",
              "    </tr>\n",
              "    <tr>\n",
              "      <th>4</th>\n",
              "      <td>False</td>\n",
              "      <td>False</td>\n",
              "      <td>False</td>\n",
              "      <td>False</td>\n",
              "      <td>False</td>\n",
              "      <td>False</td>\n",
              "      <td>False</td>\n",
              "      <td>False</td>\n",
              "      <td>False</td>\n",
              "      <td>False</td>\n",
              "      <td>False</td>\n",
              "    </tr>\n",
              "    <tr>\n",
              "      <th>5</th>\n",
              "      <td>False</td>\n",
              "      <td>False</td>\n",
              "      <td>False</td>\n",
              "      <td>False</td>\n",
              "      <td>False</td>\n",
              "      <td>False</td>\n",
              "      <td>False</td>\n",
              "      <td>False</td>\n",
              "      <td>False</td>\n",
              "      <td>False</td>\n",
              "      <td>False</td>\n",
              "    </tr>\n",
              "    <tr>\n",
              "      <th>...</th>\n",
              "      <td>...</td>\n",
              "      <td>...</td>\n",
              "      <td>...</td>\n",
              "      <td>...</td>\n",
              "      <td>...</td>\n",
              "      <td>...</td>\n",
              "      <td>...</td>\n",
              "      <td>...</td>\n",
              "      <td>...</td>\n",
              "      <td>...</td>\n",
              "      <td>...</td>\n",
              "    </tr>\n",
              "    <tr>\n",
              "      <th>996</th>\n",
              "      <td>False</td>\n",
              "      <td>False</td>\n",
              "      <td>False</td>\n",
              "      <td>False</td>\n",
              "      <td>False</td>\n",
              "      <td>False</td>\n",
              "      <td>False</td>\n",
              "      <td>False</td>\n",
              "      <td>False</td>\n",
              "      <td>True</td>\n",
              "      <td>False</td>\n",
              "    </tr>\n",
              "    <tr>\n",
              "      <th>997</th>\n",
              "      <td>False</td>\n",
              "      <td>False</td>\n",
              "      <td>False</td>\n",
              "      <td>False</td>\n",
              "      <td>False</td>\n",
              "      <td>False</td>\n",
              "      <td>False</td>\n",
              "      <td>False</td>\n",
              "      <td>False</td>\n",
              "      <td>False</td>\n",
              "      <td>False</td>\n",
              "    </tr>\n",
              "    <tr>\n",
              "      <th>998</th>\n",
              "      <td>False</td>\n",
              "      <td>False</td>\n",
              "      <td>False</td>\n",
              "      <td>False</td>\n",
              "      <td>False</td>\n",
              "      <td>False</td>\n",
              "      <td>False</td>\n",
              "      <td>False</td>\n",
              "      <td>False</td>\n",
              "      <td>False</td>\n",
              "      <td>False</td>\n",
              "    </tr>\n",
              "    <tr>\n",
              "      <th>999</th>\n",
              "      <td>False</td>\n",
              "      <td>False</td>\n",
              "      <td>False</td>\n",
              "      <td>False</td>\n",
              "      <td>False</td>\n",
              "      <td>False</td>\n",
              "      <td>False</td>\n",
              "      <td>False</td>\n",
              "      <td>False</td>\n",
              "      <td>True</td>\n",
              "      <td>False</td>\n",
              "    </tr>\n",
              "    <tr>\n",
              "      <th>1000</th>\n",
              "      <td>False</td>\n",
              "      <td>False</td>\n",
              "      <td>False</td>\n",
              "      <td>False</td>\n",
              "      <td>False</td>\n",
              "      <td>False</td>\n",
              "      <td>False</td>\n",
              "      <td>False</td>\n",
              "      <td>False</td>\n",
              "      <td>False</td>\n",
              "      <td>False</td>\n",
              "    </tr>\n",
              "  </tbody>\n",
              "</table>\n",
              "<p>1000 rows × 11 columns</p>\n",
              "</div>"
            ],
            "text/plain": [
              "      Title  Genre  Description  Director  ...  Rating  Votes  Revenue  Metascore\n",
              "Rank                                       ...                                   \n",
              "1     False  False        False     False  ...   False  False    False      False\n",
              "2     False  False        False     False  ...   False  False    False      False\n",
              "3     False  False        False     False  ...   False  False    False      False\n",
              "4     False  False        False     False  ...   False  False    False      False\n",
              "5     False  False        False     False  ...   False  False    False      False\n",
              "...     ...    ...          ...       ...  ...     ...    ...      ...        ...\n",
              "996   False  False        False     False  ...   False  False     True      False\n",
              "997   False  False        False     False  ...   False  False    False      False\n",
              "998   False  False        False     False  ...   False  False    False      False\n",
              "999   False  False        False     False  ...   False  False     True      False\n",
              "1000  False  False        False     False  ...   False  False    False      False\n",
              "\n",
              "[1000 rows x 11 columns]"
            ]
          },
          "metadata": {
            "tags": []
          },
          "execution_count": 52
        }
      ]
    },
    {
      "cell_type": "code",
      "metadata": {
        "colab": {
          "base_uri": "https://localhost:8080/"
        },
        "id": "0SRkxU7kVm9x",
        "outputId": "d60aa3be-786f-4254-db1f-a2dd57e7d50c"
      },
      "source": [
        "df.isnull().sum()"
      ],
      "execution_count": null,
      "outputs": [
        {
          "output_type": "execute_result",
          "data": {
            "text/plain": [
              "Title            0\n",
              "Genre            0\n",
              "Description      0\n",
              "Director         0\n",
              "Actors           0\n",
              "Year             0\n",
              "Runtime          0\n",
              "Rating           0\n",
              "Votes            0\n",
              "Revenue        128\n",
              "Metascore       64\n",
              "dtype: int64"
            ]
          },
          "metadata": {
            "tags": []
          },
          "execution_count": 53
        }
      ]
    },
    {
      "cell_type": "code",
      "metadata": {
        "colab": {
          "base_uri": "https://localhost:8080/"
        },
        "id": "bU3zQA4kVyW7",
        "outputId": "707f1ca3-cfef-4024-a6b4-0b0509456f11"
      },
      "source": [
        "df.isna().sum()"
      ],
      "execution_count": null,
      "outputs": [
        {
          "output_type": "execute_result",
          "data": {
            "text/plain": [
              "Title            0\n",
              "Genre            0\n",
              "Description      0\n",
              "Director         0\n",
              "Actors           0\n",
              "Year             0\n",
              "Runtime          0\n",
              "Rating           0\n",
              "Votes            0\n",
              "Revenue        128\n",
              "Metascore       64\n",
              "dtype: int64"
            ]
          },
          "metadata": {
            "tags": []
          },
          "execution_count": 54
        }
      ]
    },
    {
      "cell_type": "code",
      "metadata": {
        "colab": {
          "base_uri": "https://localhost:8080/"
        },
        "id": "rsVC028tV8dH",
        "outputId": "e727f7e3-66ff-4d38-f8e0-b9f13c6bf8ae"
      },
      "source": [
        "df1=df.dropna()\r\n",
        "df1.shape"
      ],
      "execution_count": null,
      "outputs": [
        {
          "output_type": "execute_result",
          "data": {
            "text/plain": [
              "(838, 11)"
            ]
          },
          "metadata": {
            "tags": []
          },
          "execution_count": 55
        }
      ]
    },
    {
      "cell_type": "code",
      "metadata": {
        "colab": {
          "base_uri": "https://localhost:8080/",
          "height": 309
        },
        "id": "deuwYKHLWECH",
        "outputId": "44c04b0d-75f7-4139-8c18-7f30aa427807"
      },
      "source": [
        "#dropping null columns\r\n",
        "df2=df1.dropna(axis=1)\r\n",
        "df2.head()"
      ],
      "execution_count": null,
      "outputs": [
        {
          "output_type": "execute_result",
          "data": {
            "text/html": [
              "<div>\n",
              "<style scoped>\n",
              "    .dataframe tbody tr th:only-of-type {\n",
              "        vertical-align: middle;\n",
              "    }\n",
              "\n",
              "    .dataframe tbody tr th {\n",
              "        vertical-align: top;\n",
              "    }\n",
              "\n",
              "    .dataframe thead th {\n",
              "        text-align: right;\n",
              "    }\n",
              "</style>\n",
              "<table border=\"1\" class=\"dataframe\">\n",
              "  <thead>\n",
              "    <tr style=\"text-align: right;\">\n",
              "      <th></th>\n",
              "      <th>Title</th>\n",
              "      <th>Genre</th>\n",
              "      <th>Description</th>\n",
              "      <th>Director</th>\n",
              "      <th>Actors</th>\n",
              "      <th>Year</th>\n",
              "      <th>Runtime</th>\n",
              "      <th>Rating</th>\n",
              "      <th>Votes</th>\n",
              "      <th>Revenue</th>\n",
              "      <th>Metascore</th>\n",
              "    </tr>\n",
              "    <tr>\n",
              "      <th>Rank</th>\n",
              "      <th></th>\n",
              "      <th></th>\n",
              "      <th></th>\n",
              "      <th></th>\n",
              "      <th></th>\n",
              "      <th></th>\n",
              "      <th></th>\n",
              "      <th></th>\n",
              "      <th></th>\n",
              "      <th></th>\n",
              "      <th></th>\n",
              "    </tr>\n",
              "  </thead>\n",
              "  <tbody>\n",
              "    <tr>\n",
              "      <th>1</th>\n",
              "      <td>Guardians of the Galaxy</td>\n",
              "      <td>Action,Adventure,Sci-Fi</td>\n",
              "      <td>A group of intergalactic criminals are forced ...</td>\n",
              "      <td>James Gunn</td>\n",
              "      <td>Chris Pratt, Vin Diesel, Bradley Cooper, Zoe S...</td>\n",
              "      <td>2014</td>\n",
              "      <td>121</td>\n",
              "      <td>8.1</td>\n",
              "      <td>757074</td>\n",
              "      <td>333.13</td>\n",
              "      <td>76.0</td>\n",
              "    </tr>\n",
              "    <tr>\n",
              "      <th>2</th>\n",
              "      <td>Prometheus</td>\n",
              "      <td>Adventure,Mystery,Sci-Fi</td>\n",
              "      <td>Following clues to the origin of mankind, a te...</td>\n",
              "      <td>Ridley Scott</td>\n",
              "      <td>Noomi Rapace, Logan Marshall-Green, Michael Fa...</td>\n",
              "      <td>2012</td>\n",
              "      <td>124</td>\n",
              "      <td>7.0</td>\n",
              "      <td>485820</td>\n",
              "      <td>126.46</td>\n",
              "      <td>65.0</td>\n",
              "    </tr>\n",
              "    <tr>\n",
              "      <th>3</th>\n",
              "      <td>Split</td>\n",
              "      <td>Horror,Thriller</td>\n",
              "      <td>Three girls are kidnapped by a man with a diag...</td>\n",
              "      <td>M. Night Shyamalan</td>\n",
              "      <td>James McAvoy, Anya Taylor-Joy, Haley Lu Richar...</td>\n",
              "      <td>2016</td>\n",
              "      <td>117</td>\n",
              "      <td>7.3</td>\n",
              "      <td>157606</td>\n",
              "      <td>138.12</td>\n",
              "      <td>62.0</td>\n",
              "    </tr>\n",
              "    <tr>\n",
              "      <th>4</th>\n",
              "      <td>Sing</td>\n",
              "      <td>Animation,Comedy,Family</td>\n",
              "      <td>In a city of humanoid animals, a hustling thea...</td>\n",
              "      <td>Christophe Lourdelet</td>\n",
              "      <td>Matthew McConaughey,Reese Witherspoon, Seth Ma...</td>\n",
              "      <td>2016</td>\n",
              "      <td>108</td>\n",
              "      <td>7.2</td>\n",
              "      <td>60545</td>\n",
              "      <td>270.32</td>\n",
              "      <td>59.0</td>\n",
              "    </tr>\n",
              "    <tr>\n",
              "      <th>5</th>\n",
              "      <td>Suicide Squad</td>\n",
              "      <td>Action,Adventure,Fantasy</td>\n",
              "      <td>A secret government agency recruits some of th...</td>\n",
              "      <td>David Ayer</td>\n",
              "      <td>Will Smith, Jared Leto, Margot Robbie, Viola D...</td>\n",
              "      <td>2016</td>\n",
              "      <td>123</td>\n",
              "      <td>6.2</td>\n",
              "      <td>393727</td>\n",
              "      <td>325.02</td>\n",
              "      <td>40.0</td>\n",
              "    </tr>\n",
              "  </tbody>\n",
              "</table>\n",
              "</div>"
            ],
            "text/plain": [
              "                        Title                     Genre  ... Revenue Metascore\n",
              "Rank                                                     ...                  \n",
              "1     Guardians of the Galaxy   Action,Adventure,Sci-Fi  ...  333.13      76.0\n",
              "2                  Prometheus  Adventure,Mystery,Sci-Fi  ...  126.46      65.0\n",
              "3                       Split           Horror,Thriller  ...  138.12      62.0\n",
              "4                        Sing   Animation,Comedy,Family  ...  270.32      59.0\n",
              "5               Suicide Squad  Action,Adventure,Fantasy  ...  325.02      40.0\n",
              "\n",
              "[5 rows x 11 columns]"
            ]
          },
          "metadata": {
            "tags": []
          },
          "execution_count": 56
        }
      ]
    },
    {
      "cell_type": "code",
      "metadata": {
        "id": "X8KrQAr6Wb2n"
      },
      "source": [
        "#filling null values with 0\r\n",
        "df3=df.fillna(0)"
      ],
      "execution_count": null,
      "outputs": []
    },
    {
      "cell_type": "code",
      "metadata": {
        "colab": {
          "base_uri": "https://localhost:8080/"
        },
        "id": "fdi3vrjvWhTj",
        "outputId": "b725cadd-a5ec-4af7-e329-b1a2f65a13ed"
      },
      "source": [
        "df3.isnull().sum()"
      ],
      "execution_count": null,
      "outputs": [
        {
          "output_type": "execute_result",
          "data": {
            "text/plain": [
              "Title          0\n",
              "Genre          0\n",
              "Description    0\n",
              "Director       0\n",
              "Actors         0\n",
              "Year           0\n",
              "Runtime        0\n",
              "Rating         0\n",
              "Votes          0\n",
              "Revenue        0\n",
              "Metascore      0\n",
              "dtype: int64"
            ]
          },
          "metadata": {
            "tags": []
          },
          "execution_count": 58
        }
      ]
    },
    {
      "cell_type": "markdown",
      "metadata": {
        "id": "Fx9qo85ZXDFI"
      },
      "source": [
        "# **Imputation**"
      ]
    },
    {
      "cell_type": "code",
      "metadata": {
        "colab": {
          "base_uri": "https://localhost:8080/"
        },
        "id": "QA7d2tJBW0TR",
        "outputId": "0d96ff64-07b5-4f8e-94bb-d6b19ab1986d"
      },
      "source": [
        "#filling null values with parameters\r\n",
        "df.isnull().sum()"
      ],
      "execution_count": null,
      "outputs": [
        {
          "output_type": "execute_result",
          "data": {
            "text/plain": [
              "Title            0\n",
              "Genre            0\n",
              "Description      0\n",
              "Director         0\n",
              "Actors           0\n",
              "Year             0\n",
              "Runtime          0\n",
              "Rating           0\n",
              "Votes            0\n",
              "Revenue        128\n",
              "Metascore       64\n",
              "dtype: int64"
            ]
          },
          "metadata": {
            "tags": []
          },
          "execution_count": 59
        }
      ]
    },
    {
      "cell_type": "code",
      "metadata": {
        "id": "8BvE1WjcXTY4"
      },
      "source": [
        "revenue=df['Revenue']"
      ],
      "execution_count": null,
      "outputs": []
    },
    {
      "cell_type": "code",
      "metadata": {
        "colab": {
          "base_uri": "https://localhost:8080/"
        },
        "id": "8hgyrU-lXa0a",
        "outputId": "a1d8e977-9c7b-4652-e07c-166dff2d3f07"
      },
      "source": [
        "type(revenue)"
      ],
      "execution_count": null,
      "outputs": [
        {
          "output_type": "execute_result",
          "data": {
            "text/plain": [
              "pandas.core.series.Series"
            ]
          },
          "metadata": {
            "tags": []
          },
          "execution_count": 61
        }
      ]
    },
    {
      "cell_type": "code",
      "metadata": {
        "colab": {
          "base_uri": "https://localhost:8080/"
        },
        "id": "39j3GqkJXe-Y",
        "outputId": "d397d1de-a132-4db2-9a95-d09ad72e7d13"
      },
      "source": [
        "revenue.head()"
      ],
      "execution_count": null,
      "outputs": [
        {
          "output_type": "execute_result",
          "data": {
            "text/plain": [
              "Rank\n",
              "1    333.13\n",
              "2    126.46\n",
              "3    138.12\n",
              "4    270.32\n",
              "5    325.02\n",
              "Name: Revenue, dtype: float64"
            ]
          },
          "metadata": {
            "tags": []
          },
          "execution_count": 62
        }
      ]
    },
    {
      "cell_type": "code",
      "metadata": {
        "colab": {
          "base_uri": "https://localhost:8080/"
        },
        "id": "6hLbWkukXkLs",
        "outputId": "90008a42-6c62-4df0-fa4e-f4810045991b"
      },
      "source": [
        "revenue.tail()"
      ],
      "execution_count": null,
      "outputs": [
        {
          "output_type": "execute_result",
          "data": {
            "text/plain": [
              "Rank\n",
              "996       NaN\n",
              "997     17.54\n",
              "998     58.01\n",
              "999       NaN\n",
              "1000    19.64\n",
              "Name: Revenue, dtype: float64"
            ]
          },
          "metadata": {
            "tags": []
          },
          "execution_count": 63
        }
      ]
    },
    {
      "cell_type": "code",
      "metadata": {
        "colab": {
          "base_uri": "https://localhost:8080/"
        },
        "id": "x5-JooUcXmvH",
        "outputId": "07644481-a52e-455f-aae9-6ee07eb4e8be"
      },
      "source": [
        "revenue_mean=revenue.mean()\r\n",
        "revenue_mean"
      ],
      "execution_count": null,
      "outputs": [
        {
          "output_type": "execute_result",
          "data": {
            "text/plain": [
              "82.95637614678897"
            ]
          },
          "metadata": {
            "tags": []
          },
          "execution_count": 64
        }
      ]
    },
    {
      "cell_type": "code",
      "metadata": {
        "id": "ycI9NSYjXuM-"
      },
      "source": [
        "revenue.fillna(revenue_mean,inplace=True)"
      ],
      "execution_count": null,
      "outputs": []
    },
    {
      "cell_type": "code",
      "metadata": {
        "colab": {
          "base_uri": "https://localhost:8080/"
        },
        "id": "uXuLupUhXylE",
        "outputId": "e185ec14-830c-47bb-8967-9a662f070a2c"
      },
      "source": [
        "revenue.tail()"
      ],
      "execution_count": null,
      "outputs": [
        {
          "output_type": "execute_result",
          "data": {
            "text/plain": [
              "Rank\n",
              "996     82.956376\n",
              "997     17.540000\n",
              "998     58.010000\n",
              "999     82.956376\n",
              "1000    19.640000\n",
              "Name: Revenue, dtype: float64"
            ]
          },
          "metadata": {
            "tags": []
          },
          "execution_count": 66
        }
      ]
    },
    {
      "cell_type": "code",
      "metadata": {
        "colab": {
          "base_uri": "https://localhost:8080/"
        },
        "id": "i11YnADIX8KZ",
        "outputId": "1a7411d7-6c12-4e75-f7af-3145e08be711"
      },
      "source": [
        "revenue.isnull().sum()"
      ],
      "execution_count": null,
      "outputs": [
        {
          "output_type": "execute_result",
          "data": {
            "text/plain": [
              "0"
            ]
          },
          "metadata": {
            "tags": []
          },
          "execution_count": 67
        }
      ]
    },
    {
      "cell_type": "code",
      "metadata": {
        "id": "vZz0lWfGYHja"
      },
      "source": [
        "df['Revenue']=revenue"
      ],
      "execution_count": null,
      "outputs": []
    },
    {
      "cell_type": "code",
      "metadata": {
        "colab": {
          "base_uri": "https://localhost:8080/"
        },
        "id": "56r4IvS7YLsA",
        "outputId": "dba4e910-ea64-4dfa-b5ee-0233ff0ffa9e"
      },
      "source": [
        "df.isnull().sum()"
      ],
      "execution_count": null,
      "outputs": [
        {
          "output_type": "execute_result",
          "data": {
            "text/plain": [
              "Title           0\n",
              "Genre           0\n",
              "Description     0\n",
              "Director        0\n",
              "Actors          0\n",
              "Year            0\n",
              "Runtime         0\n",
              "Rating          0\n",
              "Votes           0\n",
              "Revenue         0\n",
              "Metascore      64\n",
              "dtype: int64"
            ]
          },
          "metadata": {
            "tags": []
          },
          "execution_count": 69
        }
      ]
    },
    {
      "cell_type": "code",
      "metadata": {
        "colab": {
          "base_uri": "https://localhost:8080/"
        },
        "id": "59Hbd3YzYOg8",
        "outputId": "cd61de92-0c88-49d5-f902-6a9bc7118e83"
      },
      "source": [
        "metascore=df['Metascore']\r\n",
        "metascore_mean=metascore.mean()\r\n",
        "print(metascore_mean)\r\n",
        "metascore.fillna(metascore_mean,inplace=True)\r\n",
        "df['Metascore']=metascore_mean\r\n",
        "df.isnull().sum()"
      ],
      "execution_count": null,
      "outputs": [
        {
          "output_type": "stream",
          "text": [
            "58.98504273504273\n"
          ],
          "name": "stdout"
        },
        {
          "output_type": "execute_result",
          "data": {
            "text/plain": [
              "Title          0\n",
              "Genre          0\n",
              "Description    0\n",
              "Director       0\n",
              "Actors         0\n",
              "Year           0\n",
              "Runtime        0\n",
              "Rating         0\n",
              "Votes          0\n",
              "Revenue        0\n",
              "Metascore      0\n",
              "dtype: int64"
            ]
          },
          "metadata": {
            "tags": []
          },
          "execution_count": 70
        }
      ]
    },
    {
      "cell_type": "code",
      "metadata": {
        "colab": {
          "base_uri": "https://localhost:8080/",
          "height": 284
        },
        "id": "s6AyN20FYuSa",
        "outputId": "01fe641e-c864-4489-df8e-2cb0566b34c7"
      },
      "source": [
        "df.describe()"
      ],
      "execution_count": null,
      "outputs": [
        {
          "output_type": "execute_result",
          "data": {
            "text/html": [
              "<div>\n",
              "<style scoped>\n",
              "    .dataframe tbody tr th:only-of-type {\n",
              "        vertical-align: middle;\n",
              "    }\n",
              "\n",
              "    .dataframe tbody tr th {\n",
              "        vertical-align: top;\n",
              "    }\n",
              "\n",
              "    .dataframe thead th {\n",
              "        text-align: right;\n",
              "    }\n",
              "</style>\n",
              "<table border=\"1\" class=\"dataframe\">\n",
              "  <thead>\n",
              "    <tr style=\"text-align: right;\">\n",
              "      <th></th>\n",
              "      <th>Year</th>\n",
              "      <th>Runtime</th>\n",
              "      <th>Rating</th>\n",
              "      <th>Votes</th>\n",
              "      <th>Revenue</th>\n",
              "      <th>Metascore</th>\n",
              "    </tr>\n",
              "  </thead>\n",
              "  <tbody>\n",
              "    <tr>\n",
              "      <th>count</th>\n",
              "      <td>1000.000000</td>\n",
              "      <td>1000.000000</td>\n",
              "      <td>1000.000000</td>\n",
              "      <td>1.000000e+03</td>\n",
              "      <td>1000.000000</td>\n",
              "      <td>1.000000e+03</td>\n",
              "    </tr>\n",
              "    <tr>\n",
              "      <th>mean</th>\n",
              "      <td>2012.783000</td>\n",
              "      <td>113.172000</td>\n",
              "      <td>6.723200</td>\n",
              "      <td>1.698083e+05</td>\n",
              "      <td>82.956376</td>\n",
              "      <td>5.898504e+01</td>\n",
              "    </tr>\n",
              "    <tr>\n",
              "      <th>std</th>\n",
              "      <td>3.205962</td>\n",
              "      <td>18.810908</td>\n",
              "      <td>0.945429</td>\n",
              "      <td>1.887626e+05</td>\n",
              "      <td>96.412043</td>\n",
              "      <td>1.407579e-12</td>\n",
              "    </tr>\n",
              "    <tr>\n",
              "      <th>min</th>\n",
              "      <td>2006.000000</td>\n",
              "      <td>66.000000</td>\n",
              "      <td>1.900000</td>\n",
              "      <td>6.100000e+01</td>\n",
              "      <td>0.000000</td>\n",
              "      <td>5.898504e+01</td>\n",
              "    </tr>\n",
              "    <tr>\n",
              "      <th>25%</th>\n",
              "      <td>2010.000000</td>\n",
              "      <td>100.000000</td>\n",
              "      <td>6.200000</td>\n",
              "      <td>3.630900e+04</td>\n",
              "      <td>17.442500</td>\n",
              "      <td>5.898504e+01</td>\n",
              "    </tr>\n",
              "    <tr>\n",
              "      <th>50%</th>\n",
              "      <td>2014.000000</td>\n",
              "      <td>111.000000</td>\n",
              "      <td>6.800000</td>\n",
              "      <td>1.107990e+05</td>\n",
              "      <td>60.375000</td>\n",
              "      <td>5.898504e+01</td>\n",
              "    </tr>\n",
              "    <tr>\n",
              "      <th>75%</th>\n",
              "      <td>2016.000000</td>\n",
              "      <td>123.000000</td>\n",
              "      <td>7.400000</td>\n",
              "      <td>2.399098e+05</td>\n",
              "      <td>99.177500</td>\n",
              "      <td>5.898504e+01</td>\n",
              "    </tr>\n",
              "    <tr>\n",
              "      <th>max</th>\n",
              "      <td>2016.000000</td>\n",
              "      <td>191.000000</td>\n",
              "      <td>9.000000</td>\n",
              "      <td>1.791916e+06</td>\n",
              "      <td>936.630000</td>\n",
              "      <td>5.898504e+01</td>\n",
              "    </tr>\n",
              "  </tbody>\n",
              "</table>\n",
              "</div>"
            ],
            "text/plain": [
              "              Year      Runtime  ...      Revenue     Metascore\n",
              "count  1000.000000  1000.000000  ...  1000.000000  1.000000e+03\n",
              "mean   2012.783000   113.172000  ...    82.956376  5.898504e+01\n",
              "std       3.205962    18.810908  ...    96.412043  1.407579e-12\n",
              "min    2006.000000    66.000000  ...     0.000000  5.898504e+01\n",
              "25%    2010.000000   100.000000  ...    17.442500  5.898504e+01\n",
              "50%    2014.000000   111.000000  ...    60.375000  5.898504e+01\n",
              "75%    2016.000000   123.000000  ...    99.177500  5.898504e+01\n",
              "max    2016.000000   191.000000  ...   936.630000  5.898504e+01\n",
              "\n",
              "[8 rows x 6 columns]"
            ]
          },
          "metadata": {
            "tags": []
          },
          "execution_count": 71
        }
      ]
    },
    {
      "cell_type": "code",
      "metadata": {
        "colab": {
          "base_uri": "https://localhost:8080/"
        },
        "id": "V7f_5CFPZVP7",
        "outputId": "45122dd8-ddaa-4101-d8f9-c8842e2643bc"
      },
      "source": [
        "df.info()"
      ],
      "execution_count": null,
      "outputs": [
        {
          "output_type": "stream",
          "text": [
            "<class 'pandas.core.frame.DataFrame'>\n",
            "Int64Index: 1000 entries, 1 to 1000\n",
            "Data columns (total 11 columns):\n",
            " #   Column       Non-Null Count  Dtype  \n",
            "---  ------       --------------  -----  \n",
            " 0   Title        1000 non-null   object \n",
            " 1   Genre        1000 non-null   object \n",
            " 2   Description  1000 non-null   object \n",
            " 3   Director     1000 non-null   object \n",
            " 4   Actors       1000 non-null   object \n",
            " 5   Year         1000 non-null   int64  \n",
            " 6   Runtime      1000 non-null   int64  \n",
            " 7   Rating       1000 non-null   float64\n",
            " 8   Votes        1000 non-null   int64  \n",
            " 9   Revenue      1000 non-null   float64\n",
            " 10  Metascore    1000 non-null   float64\n",
            "dtypes: float64(3), int64(3), object(5)\n",
            "memory usage: 93.8+ KB\n"
          ],
          "name": "stdout"
        }
      ]
    },
    {
      "cell_type": "code",
      "metadata": {
        "colab": {
          "base_uri": "https://localhost:8080/"
        },
        "id": "kRbqEy5oZcvl",
        "outputId": "8b90651a-0de5-49b9-e36a-b85c0e248890"
      },
      "source": [
        "df['Genre'].describe()"
      ],
      "execution_count": null,
      "outputs": [
        {
          "output_type": "execute_result",
          "data": {
            "text/plain": [
              "count                        1000\n",
              "unique                        207\n",
              "top       Action,Adventure,Sci-Fi\n",
              "freq                           50\n",
              "Name: Genre, dtype: object"
            ]
          },
          "metadata": {
            "tags": []
          },
          "execution_count": 73
        }
      ]
    },
    {
      "cell_type": "code",
      "metadata": {
        "colab": {
          "base_uri": "https://localhost:8080/"
        },
        "id": "OagWNIrsZzhT",
        "outputId": "e2bed87e-a218-4533-e9d7-62e1ef419b31"
      },
      "source": [
        "df['Genre'].value_counts()"
      ],
      "execution_count": null,
      "outputs": [
        {
          "output_type": "execute_result",
          "data": {
            "text/plain": [
              "Action,Adventure,Sci-Fi     50\n",
              "Drama                       48\n",
              "Comedy,Drama,Romance        35\n",
              "Comedy                      32\n",
              "Drama,Romance               31\n",
              "                            ..\n",
              "Mystery,Romance,Sci-Fi       1\n",
              "Action,Biography,Crime       1\n",
              "Drama,Western                1\n",
              "Fantasy,Horror,Thriller      1\n",
              "Mystery,Thriller,Western     1\n",
              "Name: Genre, Length: 207, dtype: int64"
            ]
          },
          "metadata": {
            "tags": []
          },
          "execution_count": 74
        }
      ]
    },
    {
      "cell_type": "code",
      "metadata": {
        "colab": {
          "base_uri": "https://localhost:8080/"
        },
        "id": "Cil_wxg9aB_c",
        "outputId": "cb34a76b-ca14-4937-e379-2373bf583277"
      },
      "source": [
        "df['Genre'].unique()"
      ],
      "execution_count": null,
      "outputs": [
        {
          "output_type": "execute_result",
          "data": {
            "text/plain": [
              "array(['Action,Adventure,Sci-Fi', 'Adventure,Mystery,Sci-Fi',\n",
              "       'Horror,Thriller', 'Animation,Comedy,Family',\n",
              "       'Action,Adventure,Fantasy', 'Comedy,Drama,Music', 'Comedy',\n",
              "       'Action,Adventure,Biography', 'Adventure,Drama,Romance',\n",
              "       'Adventure,Family,Fantasy', 'Biography,Drama,History',\n",
              "       'Animation,Adventure,Comedy', 'Action,Comedy,Drama',\n",
              "       'Action,Thriller', 'Biography,Drama', 'Drama,Mystery,Sci-Fi',\n",
              "       'Adventure,Drama,Thriller', 'Drama', 'Crime,Drama,Horror',\n",
              "       'Action,Adventure,Drama', 'Drama,Thriller',\n",
              "       'Action,Adventure,Comedy', 'Action,Horror,Sci-Fi',\n",
              "       'Adventure,Drama,Sci-Fi', 'Action,Adventure,Western',\n",
              "       'Comedy,Drama', 'Horror', 'Adventure,Drama,Fantasy',\n",
              "       'Action,Crime,Thriller', 'Action,Crime,Drama',\n",
              "       'Adventure,Drama,History', 'Crime,Horror,Thriller',\n",
              "       'Drama,Romance', 'Comedy,Drama,Romance', 'Horror,Mystery,Thriller',\n",
              "       'Crime,Drama,Mystery', 'Drama,Romance,Thriller',\n",
              "       'Drama,History,Thriller', 'Action,Drama,Thriller', 'Drama,History',\n",
              "       'Action,Drama,Romance', 'Drama,Fantasy', 'Action,Sci-Fi',\n",
              "       'Adventure,Drama,War', 'Action,Comedy,Fantasy',\n",
              "       'Biography,Comedy,Crime', 'Crime,Drama', 'Comedy,Crime,Drama',\n",
              "       'Action,Comedy,Crime', 'Animation,Drama,Fantasy',\n",
              "       'Horror,Mystery,Sci-Fi', 'Drama,Mystery,Thriller',\n",
              "       'Crime,Drama,Thriller', 'Biography,Crime,Drama',\n",
              "       'Crime,Mystery,Thriller', 'Action,Horror,Thriller',\n",
              "       'Romance,Sci-Fi', 'Action,Fantasy,War', 'Action,Biography,Drama',\n",
              "       'Drama,Horror,Mystery', 'Adventure,Drama,Family',\n",
              "       'Adventure,Comedy,Romance', 'Action', 'Adventure,Crime,Mystery',\n",
              "       'Comedy,Family,Musical', 'Adventure,Comedy,Drama',\n",
              "       'Drama,Horror,Thriller', 'Drama,Music', 'Mystery,Thriller',\n",
              "       'Mystery,Thriller,Western', 'Comedy,Family',\n",
              "       'Biography,Comedy,Drama', 'Drama,Western', 'Drama,Mystery,Romance',\n",
              "       'Action,Drama,Mystery', 'Action,Adventure,Crime',\n",
              "       'Adventure,Sci-Fi,Thriller', 'Action,Comedy,Mystery',\n",
              "       'Thriller,War', 'Action,Adventure,Thriller',\n",
              "       'Drama,Fantasy,Romance', 'Action,Drama,History',\n",
              "       'Animation,Adventure,Family', 'Adventure,Horror',\n",
              "       'Drama,Romance,Sci-Fi', 'Action,Adventure,Family', 'Action,Comedy',\n",
              "       'Comedy,Romance', 'Horror,Mystery', 'Drama,Family,Fantasy',\n",
              "       'Sci-Fi', 'Drama,War', 'Drama,Fantasy,Horror',\n",
              "       'Crime,Drama,History', 'Horror,Sci-Fi,Thriller',\n",
              "       'Action,Drama,Sport', 'Adventure,Biography,Drama',\n",
              "       'Biography,Drama,Thriller', 'Action,Adventure,Mystery',\n",
              "       'Drama,Horror', 'Comedy,Crime', 'Drama,Fantasy,War',\n",
              "       'Action,Adventure,Romance', 'Action,Drama,War',\n",
              "       'Drama,Musical,Romance', 'Drama,Sci-Fi,Thriller',\n",
              "       'Action,Drama,Sci-Fi', 'Drama,Sci-Fi', 'Adventure,Fantasy',\n",
              "       'Thriller', 'Biography,Drama,Romance', 'Action,Adventure',\n",
              "       'Action,Fantasy', 'Action,Drama,Horror', 'Comedy,Music,Romance',\n",
              "       'Biography,Drama,Sport', 'Action,Horror', 'Comedy,Horror,Thriller',\n",
              "       'Crime,Drama,Music', 'Action,Sci-Fi,Thriller',\n",
              "       'Drama,Horror,Sci-Fi', 'Drama,Sport', 'Comedy,Horror',\n",
              "       'Comedy,Fantasy,Romance', 'Comedy,Fantasy', 'Comedy,Drama,Fantasy',\n",
              "       'Adventure,Comedy,Horror', 'Comedy,Mystery',\n",
              "       'Action,Mystery,Sci-Fi', 'Action,Crime,Fantasy',\n",
              "       'Comedy,Fantasy,Horror', 'Animation,Action,Adventure',\n",
              "       'Action,Comedy,Family', 'Comedy,Sci-Fi', 'Action,Biography,Crime',\n",
              "       'Adventure,Comedy', 'Comedy,Music', 'Comedy,Drama,Horror',\n",
              "       'Action,Horror,Romance', 'Action,Drama,Fantasy',\n",
              "       'Action,Mystery,Thriller', 'Action,Adventure,Horror',\n",
              "       'Animation,Family,Fantasy', 'Adventure,Horror,Mystery',\n",
              "       'Action,Horror,Mystery', 'Adventure,Comedy,Family',\n",
              "       'Action,Crime,Mystery', 'Comedy,Drama,Family',\n",
              "       'Action,Crime,Sport', 'Mystery,Sci-Fi,Thriller', 'Sci-Fi,Thriller',\n",
              "       'Adventure,Drama,Horror', 'Biography,History,Thriller',\n",
              "       'Adventure,Comedy,Sci-Fi', 'Fantasy,Horror',\n",
              "       'Action,Fantasy,Thriller', 'Comedy,Romance,Sport',\n",
              "       'Animation,Action,Comedy', 'Drama,Fantasy,Thriller',\n",
              "       'Action,Comedy,Romance', 'Action,Fantasy,Horror',\n",
              "       'Mystery,Romance,Sci-Fi', 'Comedy,Drama,Thriller',\n",
              "       'Comedy,Western', 'Drama,History,War', 'Fantasy,Horror,Thriller',\n",
              "       'Drama,Horror,Musical', 'Drama,Family', 'Romance,Sci-Fi,Thriller',\n",
              "       'Animation,Fantasy', 'Drama,Mystery,War', 'Action,Drama,Family',\n",
              "       'Adventure,Drama,Western', 'Drama,Music,Romance',\n",
              "       'Comedy,Romance,Western', 'Adventure,Drama', 'Drama,Thriller,War',\n",
              "       'Drama,Fantasy,Mystery', 'Comedy,Crime,Thriller',\n",
              "       'Animation,Comedy,Drama', 'Action,Comedy,Sci-Fi',\n",
              "       'Drama,Romance,War', 'Adventure,Fantasy,Mystery',\n",
              "       'Mystery,Romance,Thriller', 'Biography,Drama,Mystery',\n",
              "       'Animation,Drama,Romance', 'Comedy,Horror,Romance',\n",
              "       'Action,Thriller,War', 'Action,Comedy,Horror',\n",
              "       'Action,Crime,Sci-Fi', 'Crime,Thriller', 'Comedy,Horror,Sci-Fi',\n",
              "       'Crime,Drama,Fantasy', 'Drama,Fantasy,Music',\n",
              "       'Action,Comedy,Sport', 'Fantasy,Mystery,Thriller', 'Adventure',\n",
              "       'Adventure,Biography', 'Adventure,Biography,Crime',\n",
              "       'Comedy,Drama,Musical', 'Comedy,Family,Romance',\n",
              "       'Biography,Drama,Family', 'Drama,Fantasy,Musical',\n",
              "       'Adventure,Family', 'Adventure,Comedy,Fantasy',\n",
              "       'Drama,Family,Music', 'Comedy,Family,Fantasy'], dtype=object)"
            ]
          },
          "metadata": {
            "tags": []
          },
          "execution_count": 75
        }
      ]
    },
    {
      "cell_type": "code",
      "metadata": {
        "colab": {
          "base_uri": "https://localhost:8080/"
        },
        "id": "5zMzxb6-aQ-P",
        "outputId": "d1249011-db05-4ec9-d387-f90f037b507d"
      },
      "source": [
        "len(df['Genre'].unique())"
      ],
      "execution_count": null,
      "outputs": [
        {
          "output_type": "execute_result",
          "data": {
            "text/plain": [
              "207"
            ]
          },
          "metadata": {
            "tags": []
          },
          "execution_count": 76
        }
      ]
    },
    {
      "cell_type": "code",
      "metadata": {
        "id": "KdLZ3N0HaVj3"
      },
      "source": [
        "#correlation between columns\r\n",
        "corrmat=df.corr()"
      ],
      "execution_count": null,
      "outputs": []
    },
    {
      "cell_type": "code",
      "metadata": {
        "colab": {
          "base_uri": "https://localhost:8080/",
          "height": 225
        },
        "id": "A4kuiBHra8Jf",
        "outputId": "91ee6e2b-6593-420c-d2ff-b923bb6ac20e"
      },
      "source": [
        "corrmat"
      ],
      "execution_count": null,
      "outputs": [
        {
          "output_type": "execute_result",
          "data": {
            "text/html": [
              "<div>\n",
              "<style scoped>\n",
              "    .dataframe tbody tr th:only-of-type {\n",
              "        vertical-align: middle;\n",
              "    }\n",
              "\n",
              "    .dataframe tbody tr th {\n",
              "        vertical-align: top;\n",
              "    }\n",
              "\n",
              "    .dataframe thead th {\n",
              "        text-align: right;\n",
              "    }\n",
              "</style>\n",
              "<table border=\"1\" class=\"dataframe\">\n",
              "  <thead>\n",
              "    <tr style=\"text-align: right;\">\n",
              "      <th></th>\n",
              "      <th>Year</th>\n",
              "      <th>Runtime</th>\n",
              "      <th>Rating</th>\n",
              "      <th>Votes</th>\n",
              "      <th>Revenue</th>\n",
              "      <th>Metascore</th>\n",
              "    </tr>\n",
              "  </thead>\n",
              "  <tbody>\n",
              "    <tr>\n",
              "      <th>Year</th>\n",
              "      <td>1.000000e+00</td>\n",
              "      <td>-1.648998e-01</td>\n",
              "      <td>-2.112188e-01</td>\n",
              "      <td>-4.119038e-01</td>\n",
              "      <td>-1.175616e-01</td>\n",
              "      <td>3.081425e-14</td>\n",
              "    </tr>\n",
              "    <tr>\n",
              "      <th>Runtime</th>\n",
              "      <td>-1.648998e-01</td>\n",
              "      <td>1.000000e+00</td>\n",
              "      <td>3.922142e-01</td>\n",
              "      <td>4.070617e-01</td>\n",
              "      <td>2.478340e-01</td>\n",
              "      <td>1.871909e-15</td>\n",
              "    </tr>\n",
              "    <tr>\n",
              "      <th>Rating</th>\n",
              "      <td>-2.112188e-01</td>\n",
              "      <td>3.922142e-01</td>\n",
              "      <td>1.000000e+00</td>\n",
              "      <td>5.115373e-01</td>\n",
              "      <td>1.895274e-01</td>\n",
              "      <td>-3.399948e-15</td>\n",
              "    </tr>\n",
              "    <tr>\n",
              "      <th>Votes</th>\n",
              "      <td>-4.119038e-01</td>\n",
              "      <td>4.070617e-01</td>\n",
              "      <td>5.115373e-01</td>\n",
              "      <td>1.000000e+00</td>\n",
              "      <td>6.079407e-01</td>\n",
              "      <td>4.449848e-15</td>\n",
              "    </tr>\n",
              "    <tr>\n",
              "      <th>Revenue</th>\n",
              "      <td>-1.175616e-01</td>\n",
              "      <td>2.478340e-01</td>\n",
              "      <td>1.895274e-01</td>\n",
              "      <td>6.079407e-01</td>\n",
              "      <td>1.000000e+00</td>\n",
              "      <td>1.989444e-15</td>\n",
              "    </tr>\n",
              "    <tr>\n",
              "      <th>Metascore</th>\n",
              "      <td>3.081425e-14</td>\n",
              "      <td>1.871909e-15</td>\n",
              "      <td>-3.399948e-15</td>\n",
              "      <td>4.449848e-15</td>\n",
              "      <td>1.989444e-15</td>\n",
              "      <td>1.000000e+00</td>\n",
              "    </tr>\n",
              "  </tbody>\n",
              "</table>\n",
              "</div>"
            ],
            "text/plain": [
              "                   Year       Runtime  ...       Revenue     Metascore\n",
              "Year       1.000000e+00 -1.648998e-01  ... -1.175616e-01  3.081425e-14\n",
              "Runtime   -1.648998e-01  1.000000e+00  ...  2.478340e-01  1.871909e-15\n",
              "Rating    -2.112188e-01  3.922142e-01  ...  1.895274e-01 -3.399948e-15\n",
              "Votes     -4.119038e-01  4.070617e-01  ...  6.079407e-01  4.449848e-15\n",
              "Revenue   -1.175616e-01  2.478340e-01  ...  1.000000e+00  1.989444e-15\n",
              "Metascore  3.081425e-14  1.871909e-15  ...  1.989444e-15  1.000000e+00\n",
              "\n",
              "[6 rows x 6 columns]"
            ]
          },
          "metadata": {
            "tags": []
          },
          "execution_count": 78
        }
      ]
    },
    {
      "cell_type": "code",
      "metadata": {
        "id": "z_ywKUcxa9ND"
      },
      "source": [
        "# plotting corrmap using seaborn library\r\n",
        "import seaborn as sns"
      ],
      "execution_count": null,
      "outputs": []
    },
    {
      "cell_type": "code",
      "metadata": {
        "colab": {
          "base_uri": "https://localhost:8080/",
          "height": 328
        },
        "id": "NR-sIp--bkNz",
        "outputId": "12631298-72f1-4b68-8bd1-3c175d51d736"
      },
      "source": [
        "sns.heatmap(corrmat)"
      ],
      "execution_count": null,
      "outputs": [
        {
          "output_type": "execute_result",
          "data": {
            "text/plain": [
              "<matplotlib.axes._subplots.AxesSubplot at 0x7f38b30b3b70>"
            ]
          },
          "metadata": {
            "tags": []
          },
          "execution_count": 80
        },
        {
          "output_type": "display_data",
          "data": {
            "image/png": "[encoded data removed]",
            "text/plain": [
              "<Figure size 432x288 with 2 Axes>"
            ]
          },
          "metadata": {
            "tags": [],
            "needs_background": "light"
          }
        }
      ]
    },
    {
      "cell_type": "code",
      "metadata": {
        "id": "IO-VNJmzbnIm"
      },
      "source": [
        "#plotting using matplotlib\r\n",
        "import matplotlib.pyplot as plt"
      ],
      "execution_count": null,
      "outputs": []
    },
    {
      "cell_type": "code",
      "metadata": {
        "colab": {
          "base_uri": "https://localhost:8080/",
          "height": 296
        },
        "id": "evhkKrjLb06C",
        "outputId": "65e0dd66-42e9-4f23-aaa5-9be9092228e4"
      },
      "source": [
        "df.plot(kind='scatter',x='Rating',y='Revenue')"
      ],
      "execution_count": null,
      "outputs": [
        {
          "output_type": "execute_result",
          "data": {
            "text/plain": [
              "<matplotlib.axes._subplots.AxesSubplot at 0x7f38aa34efd0>"
            ]
          },
          "metadata": {
            "tags": []
          },
          "execution_count": 82
        },
        {
          "output_type": "display_data",
          "data": {
            "image/png": "[encoded data removed]",
            "text/plain": [
              "<Figure size 432x288 with 1 Axes>"
            ]
          },
          "metadata": {
            "tags": [],
            "needs_background": "light"
          }
        }
      ]
    },
    {
      "cell_type": "code",
      "metadata": {
        "colab": {
          "base_uri": "https://localhost:8080/",
          "height": 312
        },
        "id": "3HaL8HQWcQhV",
        "outputId": "3138207e-b9fb-49af-9fe7-a6d9d6e6436a"
      },
      "source": [
        "df.plot(kind='scatter',x='Rating',y='Revenue',title='Revenue VS Rating')"
      ],
      "execution_count": null,
      "outputs": [
        {
          "output_type": "execute_result",
          "data": {
            "text/plain": [
              "<matplotlib.axes._subplots.AxesSubplot at 0x7f38aa2cb6a0>"
            ]
          },
          "metadata": {
            "tags": []
          },
          "execution_count": 83
        },
        {
          "output_type": "display_data",
          "data": {
            "image/png": "[encoded data removed]",
            "text/plain": [
              "<Figure size 432x288 with 1 Axes>"
            ]
          },
          "metadata": {
            "tags": [],
            "needs_background": "light"
          }
        }
      ]
    },
    {
      "cell_type": "code",
      "metadata": {
        "colab": {
          "base_uri": "https://localhost:8080/",
          "height": 298
        },
        "id": "iO_Kr_kVcgft",
        "outputId": "e26eba41-6a2e-40a2-a3d0-0597f6c252fe"
      },
      "source": [
        "df['Rating'].plot(kind='hist',title='Rating')"
      ],
      "execution_count": null,
      "outputs": [
        {
          "output_type": "execute_result",
          "data": {
            "text/plain": [
              "<matplotlib.axes._subplots.AxesSubplot at 0x7f38aa23e748>"
            ]
          },
          "metadata": {
            "tags": []
          },
          "execution_count": 84
        },
        {
          "output_type": "display_data",
          "data": {
            "image/png": "[encoded data removed]",
            "text/plain": [
              "<Figure size 432x288 with 1 Axes>"
            ]
          },
          "metadata": {
            "tags": [],
            "needs_background": "light"
          }
        }
      ]
    },
    {
      "cell_type": "code",
      "metadata": {
        "colab": {
          "base_uri": "https://localhost:8080/"
        },
        "id": "SrwwW4xzcqD8",
        "outputId": "b7175027-2416-4712-f0e3-91125786dd3d"
      },
      "source": [
        "df['Rating'].value_counts()"
      ],
      "execution_count": null,
      "outputs": [
        {
          "output_type": "execute_result",
          "data": {
            "text/plain": [
              "7.1    52\n",
              "6.7    48\n",
              "7.0    46\n",
              "6.3    44\n",
              "6.6    42\n",
              "7.2    42\n",
              "7.3    42\n",
              "6.5    40\n",
              "7.8    40\n",
              "6.2    37\n",
              "6.8    37\n",
              "7.5    35\n",
              "6.4    35\n",
              "7.4    33\n",
              "6.9    31\n",
              "6.1    31\n",
              "7.6    27\n",
              "7.7    27\n",
              "5.8    26\n",
              "6.0    26\n",
              "8.1    26\n",
              "7.9    23\n",
              "5.7    21\n",
              "8.0    19\n",
              "5.9    19\n",
              "5.6    17\n",
              "5.5    14\n",
              "5.3    12\n",
              "5.4    12\n",
              "5.2    11\n",
              "8.2    10\n",
              "4.9     7\n",
              "8.3     7\n",
              "4.7     6\n",
              "8.5     6\n",
              "4.6     5\n",
              "5.1     5\n",
              "5.0     4\n",
              "4.8     4\n",
              "4.3     4\n",
              "8.4     4\n",
              "3.9     3\n",
              "8.6     3\n",
              "8.8     2\n",
              "2.7     2\n",
              "4.2     2\n",
              "3.5     2\n",
              "3.7     2\n",
              "9.0     1\n",
              "3.2     1\n",
              "4.0     1\n",
              "4.5     1\n",
              "4.4     1\n",
              "4.1     1\n",
              "1.9     1\n",
              "Name: Rating, dtype: int64"
            ]
          },
          "metadata": {
            "tags": []
          },
          "execution_count": 85
        }
      ]
    },
    {
      "cell_type": "code",
      "metadata": {
        "colab": {
          "base_uri": "https://localhost:8080/",
          "height": 282
        },
        "id": "eTeptd41c0gA",
        "outputId": "1a5d44af-c378-4323-a3d4-0fff57dbfee8"
      },
      "source": [
        "df['Rating'].plot(kind='box')"
      ],
      "execution_count": null,
      "outputs": [
        {
          "output_type": "execute_result",
          "data": {
            "text/plain": [
              "<matplotlib.axes._subplots.AxesSubplot at 0x7f38aa1bbe80>"
            ]
          },
          "metadata": {
            "tags": []
          },
          "execution_count": 86
        },
        {
          "output_type": "display_data",
          "data": {
            "image/png": "[encoded data removed]",
            "text/plain": [
              "<Figure size 432x288 with 1 Axes>"
            ]
          },
          "metadata": {
            "tags": [],
            "needs_background": "light"
          }
        }
      ]
    },
    {
      "cell_type": "code",
      "metadata": {
        "colab": {
          "base_uri": "https://localhost:8080/",
          "height": 298
        },
        "id": "78nvfLhwdCLo",
        "outputId": "ce8f8d18-43c2-46a9-b259-33328c2b24d8"
      },
      "source": [
        "df['Rating'].plot(kind='kde',title='Rating')"
      ],
      "execution_count": null,
      "outputs": [
        {
          "output_type": "execute_result",
          "data": {
            "text/plain": [
              "<matplotlib.axes._subplots.AxesSubplot at 0x7f38aa196048>"
            ]
          },
          "metadata": {
            "tags": []
          },
          "execution_count": 87
        },
        {
          "output_type": "display_data",
          "data": {
            "image/png": "[encoded data removed]",
            "text/plain": [
              "<Figure size 432x288 with 1 Axes>"
            ]
          },
          "metadata": {
            "tags": [],
            "needs_background": "light"
          }
        }
      ]
    },
    {
      "cell_type": "code",
      "metadata": {
        "colab": {
          "base_uri": "https://localhost:8080/"
        },
        "id": "utvtr2jmdvLp",
        "outputId": "78f6e7d1-2a45-4438-a9f1-8c31313c34ec"
      },
      "source": [
        "df['Rating'].describe()"
      ],
      "execution_count": null,
      "outputs": [
        {
          "output_type": "execute_result",
          "data": {
            "text/plain": [
              "count    1000.000000\n",
              "mean        6.723200\n",
              "std         0.945429\n",
              "min         1.900000\n",
              "25%         6.200000\n",
              "50%         6.800000\n",
              "75%         7.400000\n",
              "max         9.000000\n",
              "Name: Rating, dtype: float64"
            ]
          },
          "metadata": {
            "tags": []
          },
          "execution_count": 88
        }
      ]
    },
    {
      "cell_type": "code",
      "metadata": {
        "id": "Bp3l0N8fd--K"
      },
      "source": [
        "rating_c=[]\r\n",
        "for rate in df['Rating']:\r\n",
        "  if rate>6.2:\r\n",
        "    rating_c.append('Good')\r\n",
        "  else:\r\n",
        "    rating_c.append('Bad')\r\n"
      ],
      "execution_count": null,
      "outputs": []
    },
    {
      "cell_type": "code",
      "metadata": {
        "colab": {
          "base_uri": "https://localhost:8080/"
        },
        "id": "X0DaT6CGedK7",
        "outputId": "d00bb9ea-b88c-4faa-a9f7-c7a8fee7d291"
      },
      "source": [
        "rating_c"
      ],
      "execution_count": null,
      "outputs": [
        {
          "output_type": "execute_result",
          "data": {
            "text/plain": [
              "['Good',\n",
              " 'Good',\n",
              " 'Good',\n",
              " 'Good',\n",
              " 'Bad',\n",
              " 'Bad',\n",
              " 'Good',\n",
              " 'Good',\n",
              " 'Good',\n",
              " 'Good',\n",
              " 'Good',\n",
              " 'Good',\n",
              " 'Good',\n",
              " 'Good',\n",
              " 'Good',\n",
              " 'Good',\n",
              " 'Good',\n",
              " 'Good',\n",
              " 'Good',\n",
              " 'Good',\n",
              " 'Good',\n",
              " 'Good',\n",
              " 'Good',\n",
              " 'Good',\n",
              " 'Bad',\n",
              " 'Good',\n",
              " 'Good',\n",
              " 'Bad',\n",
              " 'Bad',\n",
              " 'Bad',\n",
              " 'Good',\n",
              " 'Good',\n",
              " 'Good',\n",
              " 'Good',\n",
              " 'Bad',\n",
              " 'Good',\n",
              " 'Good',\n",
              " 'Good',\n",
              " 'Good',\n",
              " 'Good',\n",
              " 'Good',\n",
              " 'Good',\n",
              " 'Bad',\n",
              " 'Good',\n",
              " 'Good',\n",
              " 'Good',\n",
              " 'Good',\n",
              " 'Bad',\n",
              " 'Good',\n",
              " 'Bad',\n",
              " 'Good',\n",
              " 'Bad',\n",
              " 'Bad',\n",
              " 'Good',\n",
              " 'Good',\n",
              " 'Good',\n",
              " 'Good',\n",
              " 'Good',\n",
              " 'Good',\n",
              " 'Good',\n",
              " 'Good',\n",
              " 'Good',\n",
              " 'Good',\n",
              " 'Bad',\n",
              " 'Good',\n",
              " 'Good',\n",
              " 'Good',\n",
              " 'Good',\n",
              " 'Good',\n",
              " 'Good',\n",
              " 'Bad',\n",
              " 'Good',\n",
              " 'Good',\n",
              " 'Good',\n",
              " 'Good',\n",
              " 'Good',\n",
              " 'Good',\n",
              " 'Good',\n",
              " 'Good',\n",
              " 'Bad',\n",
              " 'Good',\n",
              " 'Good',\n",
              " 'Good',\n",
              " 'Good',\n",
              " 'Good',\n",
              " 'Good',\n",
              " 'Good',\n",
              " 'Good',\n",
              " 'Good',\n",
              " 'Good',\n",
              " 'Good',\n",
              " 'Good',\n",
              " 'Good',\n",
              " 'Good',\n",
              " 'Good',\n",
              " 'Good',\n",
              " 'Good',\n",
              " 'Bad',\n",
              " 'Good',\n",
              " 'Good',\n",
              " 'Good',\n",
              " 'Good',\n",
              " 'Good',\n",
              " 'Good',\n",
              " 'Good',\n",
              " 'Good',\n",
              " 'Bad',\n",
              " 'Good',\n",
              " 'Bad',\n",
              " 'Good',\n",
              " 'Good',\n",
              " 'Good',\n",
              " 'Bad',\n",
              " 'Good',\n",
              " 'Good',\n",
              " 'Bad',\n",
              " 'Bad',\n",
              " 'Good',\n",
              " 'Good',\n",
              " 'Good',\n",
              " 'Good',\n",
              " 'Good',\n",
              " 'Bad',\n",
              " 'Good',\n",
              " 'Good',\n",
              " 'Good',\n",
              " 'Bad',\n",
              " 'Good',\n",
              " 'Good',\n",
              " 'Good',\n",
              " 'Good',\n",
              " 'Bad',\n",
              " 'Good',\n",
              " 'Good',\n",
              " 'Good',\n",
              " 'Good',\n",
              " 'Good',\n",
              " 'Good',\n",
              " 'Good',\n",
              " 'Good',\n",
              " 'Good',\n",
              " 'Bad',\n",
              " 'Good',\n",
              " 'Good',\n",
              " 'Good',\n",
              " 'Good',\n",
              " 'Good',\n",
              " 'Good',\n",
              " 'Good',\n",
              " 'Bad',\n",
              " 'Good',\n",
              " 'Good',\n",
              " 'Bad',\n",
              " 'Good',\n",
              " 'Good',\n",
              " 'Bad',\n",
              " 'Good',\n",
              " 'Good',\n",
              " 'Good',\n",
              " 'Good',\n",
              " 'Bad',\n",
              " 'Good',\n",
              " 'Good',\n",
              " 'Bad',\n",
              " 'Good',\n",
              " 'Bad',\n",
              " 'Good',\n",
              " 'Good',\n",
              " 'Good',\n",
              " 'Good',\n",
              " 'Good',\n",
              " 'Good',\n",
              " 'Bad',\n",
              " 'Good',\n",
              " 'Good',\n",
              " 'Good',\n",
              " 'Good',\n",
              " 'Good',\n",
              " 'Good',\n",
              " 'Good',\n",
              " 'Good',\n",
              " 'Good',\n",
              " 'Good',\n",
              " 'Bad',\n",
              " 'Good',\n",
              " 'Bad',\n",
              " 'Good',\n",
              " 'Good',\n",
              " 'Good',\n",
              " 'Good',\n",
              " 'Good',\n",
              " 'Bad',\n",
              " 'Good',\n",
              " 'Bad',\n",
              " 'Good',\n",
              " 'Good',\n",
              " 'Good',\n",
              " 'Good',\n",
              " 'Good',\n",
              " 'Good',\n",
              " 'Good',\n",
              " 'Good',\n",
              " 'Good',\n",
              " 'Good',\n",
              " 'Bad',\n",
              " 'Good',\n",
              " 'Good',\n",
              " 'Good',\n",
              " 'Good',\n",
              " 'Good',\n",
              " 'Bad',\n",
              " 'Bad',\n",
              " 'Good',\n",
              " 'Bad',\n",
              " 'Good',\n",
              " 'Bad',\n",
              " 'Good',\n",
              " 'Bad',\n",
              " 'Bad',\n",
              " 'Good',\n",
              " 'Good',\n",
              " 'Good',\n",
              " 'Good',\n",
              " 'Good',\n",
              " 'Good',\n",
              " 'Good',\n",
              " 'Good',\n",
              " 'Good',\n",
              " 'Good',\n",
              " 'Bad',\n",
              " 'Good',\n",
              " 'Bad',\n",
              " 'Good',\n",
              " 'Good',\n",
              " 'Bad',\n",
              " 'Good',\n",
              " 'Good',\n",
              " 'Bad',\n",
              " 'Good',\n",
              " 'Bad',\n",
              " 'Good',\n",
              " 'Good',\n",
              " 'Bad',\n",
              " 'Good',\n",
              " 'Bad',\n",
              " 'Good',\n",
              " 'Good',\n",
              " 'Good',\n",
              " 'Good',\n",
              " 'Good',\n",
              " 'Bad',\n",
              " 'Good',\n",
              " 'Good',\n",
              " 'Good',\n",
              " 'Good',\n",
              " 'Good',\n",
              " 'Bad',\n",
              " 'Good',\n",
              " 'Good',\n",
              " 'Good',\n",
              " 'Good',\n",
              " 'Good',\n",
              " 'Bad',\n",
              " 'Good',\n",
              " 'Bad',\n",
              " 'Bad',\n",
              " 'Bad',\n",
              " 'Good',\n",
              " 'Good',\n",
              " 'Bad',\n",
              " 'Good',\n",
              " 'Good',\n",
              " 'Good',\n",
              " 'Good',\n",
              " 'Good',\n",
              " 'Good',\n",
              " 'Good',\n",
              " 'Good',\n",
              " 'Good',\n",
              " 'Good',\n",
              " 'Good',\n",
              " 'Good',\n",
              " 'Good',\n",
              " 'Good',\n",
              " 'Bad',\n",
              " 'Bad',\n",
              " 'Bad',\n",
              " 'Bad',\n",
              " 'Bad',\n",
              " 'Bad',\n",
              " 'Good',\n",
              " 'Good',\n",
              " 'Bad',\n",
              " 'Good',\n",
              " 'Good',\n",
              " 'Good',\n",
              " 'Bad',\n",
              " 'Good',\n",
              " 'Good',\n",
              " 'Good',\n",
              " 'Good',\n",
              " 'Good',\n",
              " 'Good',\n",
              " 'Bad',\n",
              " 'Good',\n",
              " 'Good',\n",
              " 'Bad',\n",
              " 'Bad',\n",
              " 'Bad',\n",
              " 'Bad',\n",
              " 'Good',\n",
              " 'Good',\n",
              " 'Good',\n",
              " 'Good',\n",
              " 'Good',\n",
              " 'Good',\n",
              " 'Bad',\n",
              " 'Bad',\n",
              " 'Bad',\n",
              " 'Good',\n",
              " 'Good',\n",
              " 'Good',\n",
              " 'Good',\n",
              " 'Good',\n",
              " 'Good',\n",
              " 'Bad',\n",
              " 'Bad',\n",
              " 'Good',\n",
              " 'Good',\n",
              " 'Bad',\n",
              " 'Good',\n",
              " 'Good',\n",
              " 'Good',\n",
              " 'Good',\n",
              " 'Good',\n",
              " 'Bad',\n",
              " 'Good',\n",
              " 'Bad',\n",
              " 'Good',\n",
              " 'Good',\n",
              " 'Good',\n",
              " 'Good',\n",
              " 'Good',\n",
              " 'Good',\n",
              " 'Bad',\n",
              " 'Bad',\n",
              " 'Good',\n",
              " 'Good',\n",
              " 'Bad',\n",
              " 'Good',\n",
              " 'Good',\n",
              " 'Good',\n",
              " 'Good',\n",
              " 'Good',\n",
              " 'Good',\n",
              " 'Bad',\n",
              " 'Good',\n",
              " 'Good',\n",
              " 'Good',\n",
              " 'Good',\n",
              " 'Good',\n",
              " 'Bad',\n",
              " 'Good',\n",
              " 'Good',\n",
              " 'Good',\n",
              " 'Good',\n",
              " 'Bad',\n",
              " 'Good',\n",
              " 'Good',\n",
              " 'Bad',\n",
              " 'Bad',\n",
              " 'Good',\n",
              " 'Good',\n",
              " 'Good',\n",
              " 'Good',\n",
              " 'Bad',\n",
              " 'Good',\n",
              " 'Good',\n",
              " 'Good',\n",
              " 'Bad',\n",
              " 'Good',\n",
              " 'Good',\n",
              " 'Good',\n",
              " 'Good',\n",
              " 'Good',\n",
              " 'Good',\n",
              " 'Bad',\n",
              " 'Good',\n",
              " 'Good',\n",
              " 'Good',\n",
              " 'Good',\n",
              " 'Bad',\n",
              " 'Good',\n",
              " 'Bad',\n",
              " 'Bad',\n",
              " 'Good',\n",
              " 'Good',\n",
              " 'Bad',\n",
              " 'Bad',\n",
              " 'Bad',\n",
              " 'Good',\n",
              " 'Bad',\n",
              " 'Good',\n",
              " 'Good',\n",
              " 'Good',\n",
              " 'Good',\n",
              " 'Good',\n",
              " 'Good',\n",
              " 'Good',\n",
              " 'Bad',\n",
              " 'Good',\n",
              " 'Good',\n",
              " 'Good',\n",
              " 'Good',\n",
              " 'Bad',\n",
              " 'Bad',\n",
              " 'Good',\n",
              " 'Good',\n",
              " 'Good',\n",
              " 'Good',\n",
              " 'Good',\n",
              " 'Bad',\n",
              " 'Bad',\n",
              " 'Bad',\n",
              " 'Bad',\n",
              " 'Good',\n",
              " 'Good',\n",
              " 'Good',\n",
              " 'Bad',\n",
              " 'Bad',\n",
              " 'Good',\n",
              " 'Bad',\n",
              " 'Good',\n",
              " 'Good',\n",
              " 'Good',\n",
              " 'Good',\n",
              " 'Good',\n",
              " 'Good',\n",
              " 'Good',\n",
              " 'Bad',\n",
              " 'Good',\n",
              " 'Good',\n",
              " 'Good',\n",
              " 'Good',\n",
              " 'Bad',\n",
              " 'Good',\n",
              " 'Good',\n",
              " 'Good',\n",
              " 'Good',\n",
              " 'Bad',\n",
              " 'Good',\n",
              " 'Good',\n",
              " 'Good',\n",
              " 'Good',\n",
              " 'Bad',\n",
              " 'Good',\n",
              " 'Good',\n",
              " 'Bad',\n",
              " 'Good',\n",
              " 'Good',\n",
              " 'Good',\n",
              " 'Bad',\n",
              " 'Good',\n",
              " 'Good',\n",
              " 'Good',\n",
              " 'Good',\n",
              " 'Good',\n",
              " 'Good',\n",
              " 'Good',\n",
              " 'Good',\n",
              " 'Good',\n",
              " 'Good',\n",
              " 'Bad',\n",
              " 'Good',\n",
              " 'Good',\n",
              " 'Good',\n",
              " 'Good',\n",
              " 'Bad',\n",
              " 'Good',\n",
              " 'Good',\n",
              " 'Good',\n",
              " 'Good',\n",
              " 'Good',\n",
              " 'Good',\n",
              " 'Good',\n",
              " 'Good',\n",
              " 'Good',\n",
              " 'Good',\n",
              " 'Good',\n",
              " 'Good',\n",
              " 'Good',\n",
              " 'Good',\n",
              " 'Good',\n",
              " 'Bad',\n",
              " 'Good',\n",
              " 'Good',\n",
              " 'Good',\n",
              " 'Good',\n",
              " 'Good',\n",
              " 'Good',\n",
              " 'Good',\n",
              " 'Good',\n",
              " 'Good',\n",
              " 'Good',\n",
              " 'Good',\n",
              " 'Bad',\n",
              " 'Good',\n",
              " 'Good',\n",
              " 'Bad',\n",
              " 'Good',\n",
              " 'Good',\n",
              " 'Good',\n",
              " 'Bad',\n",
              " 'Good',\n",
              " 'Bad',\n",
              " 'Good',\n",
              " 'Bad',\n",
              " 'Good',\n",
              " 'Good',\n",
              " 'Bad',\n",
              " 'Good',\n",
              " 'Bad',\n",
              " 'Bad',\n",
              " 'Good',\n",
              " 'Good',\n",
              " 'Bad',\n",
              " 'Good',\n",
              " 'Bad',\n",
              " 'Good',\n",
              " 'Good',\n",
              " 'Good',\n",
              " 'Bad',\n",
              " 'Good',\n",
              " 'Good',\n",
              " 'Good',\n",
              " 'Good',\n",
              " 'Good',\n",
              " 'Bad',\n",
              " 'Good',\n",
              " 'Bad',\n",
              " 'Good',\n",
              " 'Good',\n",
              " 'Good',\n",
              " 'Good',\n",
              " 'Bad',\n",
              " 'Good',\n",
              " 'Good',\n",
              " 'Good',\n",
              " 'Good',\n",
              " 'Good',\n",
              " 'Bad',\n",
              " 'Good',\n",
              " 'Bad',\n",
              " 'Good',\n",
              " 'Good',\n",
              " 'Bad',\n",
              " 'Good',\n",
              " 'Good',\n",
              " 'Good',\n",
              " 'Good',\n",
              " 'Good',\n",
              " 'Good',\n",
              " 'Good',\n",
              " 'Good',\n",
              " 'Bad',\n",
              " 'Bad',\n",
              " 'Good',\n",
              " 'Good',\n",
              " 'Bad',\n",
              " 'Good',\n",
              " 'Bad',\n",
              " 'Good',\n",
              " 'Good',\n",
              " 'Good',\n",
              " 'Good',\n",
              " 'Bad',\n",
              " 'Good',\n",
              " 'Good',\n",
              " 'Good',\n",
              " 'Good',\n",
              " 'Bad',\n",
              " 'Bad',\n",
              " 'Bad',\n",
              " 'Bad',\n",
              " 'Good',\n",
              " 'Bad',\n",
              " 'Good',\n",
              " 'Bad',\n",
              " 'Good',\n",
              " 'Good',\n",
              " 'Good',\n",
              " 'Bad',\n",
              " 'Good',\n",
              " 'Good',\n",
              " 'Bad',\n",
              " 'Good',\n",
              " 'Good',\n",
              " 'Bad',\n",
              " 'Good',\n",
              " 'Good',\n",
              " 'Good',\n",
              " 'Good',\n",
              " 'Good',\n",
              " 'Good',\n",
              " 'Bad',\n",
              " 'Good',\n",
              " 'Good',\n",
              " 'Good',\n",
              " 'Good',\n",
              " 'Good',\n",
              " 'Bad',\n",
              " 'Good',\n",
              " 'Good',\n",
              " 'Good',\n",
              " 'Good',\n",
              " 'Good',\n",
              " 'Bad',\n",
              " 'Good',\n",
              " 'Good',\n",
              " 'Good',\n",
              " 'Good',\n",
              " 'Good',\n",
              " 'Good',\n",
              " 'Bad',\n",
              " 'Bad',\n",
              " 'Good',\n",
              " 'Good',\n",
              " 'Bad',\n",
              " 'Bad',\n",
              " 'Bad',\n",
              " 'Good',\n",
              " 'Good',\n",
              " 'Good',\n",
              " 'Bad',\n",
              " 'Good',\n",
              " 'Good',\n",
              " 'Good',\n",
              " 'Good',\n",
              " 'Bad',\n",
              " 'Good',\n",
              " 'Good',\n",
              " 'Good',\n",
              " 'Bad',\n",
              " 'Good',\n",
              " 'Bad',\n",
              " 'Good',\n",
              " 'Good',\n",
              " 'Bad',\n",
              " 'Bad',\n",
              " 'Bad',\n",
              " 'Good',\n",
              " 'Good',\n",
              " 'Good',\n",
              " 'Good',\n",
              " 'Good',\n",
              " 'Good',\n",
              " 'Good',\n",
              " 'Bad',\n",
              " 'Good',\n",
              " 'Good',\n",
              " 'Good',\n",
              " 'Good',\n",
              " 'Good',\n",
              " 'Good',\n",
              " 'Good',\n",
              " 'Good',\n",
              " 'Bad',\n",
              " 'Good',\n",
              " 'Good',\n",
              " 'Good',\n",
              " 'Bad',\n",
              " 'Good',\n",
              " 'Good',\n",
              " 'Bad',\n",
              " 'Bad',\n",
              " 'Good',\n",
              " 'Good',\n",
              " 'Good',\n",
              " 'Good',\n",
              " 'Good',\n",
              " 'Good',\n",
              " 'Good',\n",
              " 'Good',\n",
              " 'Bad',\n",
              " 'Good',\n",
              " 'Good',\n",
              " 'Good',\n",
              " 'Bad',\n",
              " 'Good',\n",
              " 'Good',\n",
              " 'Bad',\n",
              " 'Good',\n",
              " 'Good',\n",
              " 'Bad',\n",
              " 'Good',\n",
              " 'Good',\n",
              " 'Bad',\n",
              " 'Good',\n",
              " 'Good',\n",
              " 'Bad',\n",
              " 'Good',\n",
              " 'Good',\n",
              " 'Good',\n",
              " 'Good',\n",
              " 'Good',\n",
              " 'Bad',\n",
              " 'Good',\n",
              " 'Good',\n",
              " 'Good',\n",
              " 'Bad',\n",
              " 'Bad',\n",
              " 'Good',\n",
              " 'Good',\n",
              " 'Good',\n",
              " 'Bad',\n",
              " 'Good',\n",
              " 'Good',\n",
              " 'Bad',\n",
              " 'Bad',\n",
              " 'Good',\n",
              " 'Good',\n",
              " 'Good',\n",
              " 'Bad',\n",
              " 'Bad',\n",
              " 'Bad',\n",
              " 'Bad',\n",
              " 'Good',\n",
              " 'Good',\n",
              " 'Good',\n",
              " 'Good',\n",
              " 'Good',\n",
              " 'Good',\n",
              " 'Good',\n",
              " 'Good',\n",
              " 'Good',\n",
              " 'Good',\n",
              " 'Bad',\n",
              " 'Good',\n",
              " 'Bad',\n",
              " 'Bad',\n",
              " 'Bad',\n",
              " 'Good',\n",
              " 'Good',\n",
              " 'Good',\n",
              " 'Bad',\n",
              " 'Bad',\n",
              " 'Bad',\n",
              " 'Bad',\n",
              " 'Bad',\n",
              " 'Bad',\n",
              " 'Good',\n",
              " 'Good',\n",
              " 'Good',\n",
              " 'Good',\n",
              " 'Bad',\n",
              " 'Good',\n",
              " 'Bad',\n",
              " 'Good',\n",
              " 'Bad',\n",
              " 'Good',\n",
              " 'Good',\n",
              " 'Good',\n",
              " 'Good',\n",
              " 'Good',\n",
              " 'Bad',\n",
              " 'Good',\n",
              " 'Good',\n",
              " 'Bad',\n",
              " 'Good',\n",
              " 'Bad',\n",
              " 'Good',\n",
              " 'Bad',\n",
              " 'Good',\n",
              " 'Bad',\n",
              " 'Good',\n",
              " 'Bad',\n",
              " 'Bad',\n",
              " 'Bad',\n",
              " 'Bad',\n",
              " 'Good',\n",
              " 'Good',\n",
              " 'Good',\n",
              " 'Good',\n",
              " 'Good',\n",
              " 'Good',\n",
              " 'Good',\n",
              " 'Good',\n",
              " 'Bad',\n",
              " 'Good',\n",
              " 'Good',\n",
              " 'Bad',\n",
              " 'Good',\n",
              " 'Good',\n",
              " 'Good',\n",
              " 'Good',\n",
              " 'Bad',\n",
              " 'Good',\n",
              " 'Good',\n",
              " 'Good',\n",
              " 'Good',\n",
              " 'Bad',\n",
              " 'Good',\n",
              " 'Bad',\n",
              " 'Bad',\n",
              " 'Good',\n",
              " 'Bad',\n",
              " 'Good',\n",
              " 'Good',\n",
              " 'Good',\n",
              " 'Bad',\n",
              " 'Good',\n",
              " 'Bad',\n",
              " 'Good',\n",
              " 'Good',\n",
              " 'Good',\n",
              " 'Good',\n",
              " 'Bad',\n",
              " 'Good',\n",
              " 'Bad',\n",
              " 'Bad',\n",
              " 'Good',\n",
              " 'Good',\n",
              " 'Bad',\n",
              " 'Good',\n",
              " 'Bad',\n",
              " 'Bad',\n",
              " 'Bad',\n",
              " 'Bad',\n",
              " 'Good',\n",
              " 'Bad',\n",
              " 'Good',\n",
              " 'Good',\n",
              " 'Good',\n",
              " 'Bad',\n",
              " 'Good',\n",
              " 'Good',\n",
              " 'Good',\n",
              " 'Bad',\n",
              " 'Bad',\n",
              " 'Good',\n",
              " 'Good',\n",
              " 'Good',\n",
              " 'Good',\n",
              " 'Good',\n",
              " 'Good',\n",
              " 'Good',\n",
              " 'Good',\n",
              " 'Good',\n",
              " 'Good',\n",
              " 'Good',\n",
              " 'Good',\n",
              " 'Good',\n",
              " 'Good',\n",
              " 'Good',\n",
              " 'Good',\n",
              " 'Bad',\n",
              " 'Good',\n",
              " 'Good',\n",
              " 'Good',\n",
              " 'Good',\n",
              " 'Good',\n",
              " 'Good',\n",
              " 'Bad',\n",
              " 'Good',\n",
              " 'Good',\n",
              " 'Good',\n",
              " 'Good',\n",
              " 'Good',\n",
              " 'Good',\n",
              " 'Good',\n",
              " 'Good',\n",
              " 'Bad',\n",
              " 'Bad',\n",
              " 'Good',\n",
              " 'Good',\n",
              " 'Good',\n",
              " 'Good',\n",
              " 'Good',\n",
              " 'Bad',\n",
              " 'Bad',\n",
              " 'Good',\n",
              " 'Good',\n",
              " 'Good',\n",
              " 'Good',\n",
              " 'Bad',\n",
              " 'Good',\n",
              " 'Good',\n",
              " 'Good',\n",
              " 'Bad',\n",
              " 'Good',\n",
              " 'Bad',\n",
              " 'Bad',\n",
              " 'Good',\n",
              " 'Bad',\n",
              " 'Good',\n",
              " 'Good',\n",
              " 'Good',\n",
              " 'Good',\n",
              " 'Good',\n",
              " 'Bad',\n",
              " 'Good',\n",
              " 'Bad',\n",
              " 'Good',\n",
              " 'Good',\n",
              " 'Bad',\n",
              " 'Bad',\n",
              " 'Good',\n",
              " 'Good',\n",
              " 'Good',\n",
              " 'Good',\n",
              " 'Good',\n",
              " 'Bad',\n",
              " 'Good',\n",
              " 'Good',\n",
              " 'Good',\n",
              " 'Good',\n",
              " 'Good',\n",
              " 'Good',\n",
              " 'Good',\n",
              " 'Bad',\n",
              " 'Good',\n",
              " 'Good',\n",
              " 'Good',\n",
              " 'Good',\n",
              " 'Bad',\n",
              " 'Bad',\n",
              " 'Good',\n",
              " 'Bad',\n",
              " 'Bad',\n",
              " 'Good',\n",
              " 'Bad',\n",
              " 'Good',\n",
              " 'Bad',\n",
              " 'Good',\n",
              " 'Bad',\n",
              " 'Good',\n",
              " 'Bad',\n",
              " 'Good',\n",
              " 'Good',\n",
              " 'Good',\n",
              " 'Bad',\n",
              " 'Bad',\n",
              " 'Bad',\n",
              " 'Bad',\n",
              " 'Good',\n",
              " 'Good',\n",
              " 'Good',\n",
              " 'Bad',\n",
              " 'Bad',\n",
              " 'Bad',\n",
              " 'Good',\n",
              " 'Good',\n",
              " 'Bad',\n",
              " 'Good',\n",
              " 'Good',\n",
              " 'Bad',\n",
              " 'Bad',\n",
              " 'Good',\n",
              " 'Bad',\n",
              " 'Good',\n",
              " 'Good',\n",
              " 'Bad',\n",
              " 'Good',\n",
              " 'Good',\n",
              " 'Good',\n",
              " 'Good',\n",
              " 'Good',\n",
              " 'Good',\n",
              " 'Bad',\n",
              " 'Good',\n",
              " 'Bad',\n",
              " 'Good',\n",
              " 'Bad',\n",
              " 'Bad',\n",
              " 'Good',\n",
              " 'Bad',\n",
              " 'Bad',\n",
              " 'Bad',\n",
              " 'Good',\n",
              " 'Good',\n",
              " 'Good',\n",
              " 'Bad',\n",
              " 'Good',\n",
              " 'Good',\n",
              " 'Good',\n",
              " 'Bad',\n",
              " 'Bad',\n",
              " 'Good',\n",
              " 'Good',\n",
              " 'Good',\n",
              " 'Good',\n",
              " 'Good',\n",
              " 'Good',\n",
              " 'Bad',\n",
              " 'Good',\n",
              " 'Bad',\n",
              " 'Bad',\n",
              " 'Bad',\n",
              " 'Bad',\n",
              " 'Bad']"
            ]
          },
          "metadata": {
            "tags": []
          },
          "execution_count": 90
        }
      ]
    },
    {
      "cell_type": "code",
      "metadata": {
        "id": "lQFNJP3sekLA"
      },
      "source": [
        "df['Rating Category']=rating_c"
      ],
      "execution_count": null,
      "outputs": []
    },
    {
      "cell_type": "code",
      "metadata": {
        "colab": {
          "base_uri": "https://localhost:8080/",
          "height": 326
        },
        "id": "CEEFgyO-es7r",
        "outputId": "00062c17-e54f-440c-e961-e5e6a44304b0"
      },
      "source": [
        "df.head()"
      ],
      "execution_count": null,
      "outputs": [
        {
          "output_type": "execute_result",
          "data": {
            "text/html": [
              "<div>\n",
              "<style scoped>\n",
              "    .dataframe tbody tr th:only-of-type {\n",
              "        vertical-align: middle;\n",
              "    }\n",
              "\n",
              "    .dataframe tbody tr th {\n",
              "        vertical-align: top;\n",
              "    }\n",
              "\n",
              "    .dataframe thead th {\n",
              "        text-align: right;\n",
              "    }\n",
              "</style>\n",
              "<table border=\"1\" class=\"dataframe\">\n",
              "  <thead>\n",
              "    <tr style=\"text-align: right;\">\n",
              "      <th></th>\n",
              "      <th>Title</th>\n",
              "      <th>Genre</th>\n",
              "      <th>Description</th>\n",
              "      <th>Director</th>\n",
              "      <th>Actors</th>\n",
              "      <th>Year</th>\n",
              "      <th>Runtime</th>\n",
              "      <th>Rating</th>\n",
              "      <th>Votes</th>\n",
              "      <th>Revenue</th>\n",
              "      <th>Metascore</th>\n",
              "      <th>Rating Category</th>\n",
              "    </tr>\n",
              "    <tr>\n",
              "      <th>Rank</th>\n",
              "      <th></th>\n",
              "      <th></th>\n",
              "      <th></th>\n",
              "      <th></th>\n",
              "      <th></th>\n",
              "      <th></th>\n",
              "      <th></th>\n",
              "      <th></th>\n",
              "      <th></th>\n",
              "      <th></th>\n",
              "      <th></th>\n",
              "      <th></th>\n",
              "    </tr>\n",
              "  </thead>\n",
              "  <tbody>\n",
              "    <tr>\n",
              "      <th>1</th>\n",
              "      <td>Guardians of the Galaxy</td>\n",
              "      <td>Action,Adventure,Sci-Fi</td>\n",
              "      <td>A group of intergalactic criminals are forced ...</td>\n",
              "      <td>James Gunn</td>\n",
              "      <td>Chris Pratt, Vin Diesel, Bradley Cooper, Zoe S...</td>\n",
              "      <td>2014</td>\n",
              "      <td>121</td>\n",
              "      <td>8.1</td>\n",
              "      <td>757074</td>\n",
              "      <td>333.13</td>\n",
              "      <td>58.985043</td>\n",
              "      <td>Good</td>\n",
              "    </tr>\n",
              "    <tr>\n",
              "      <th>2</th>\n",
              "      <td>Prometheus</td>\n",
              "      <td>Adventure,Mystery,Sci-Fi</td>\n",
              "      <td>Following clues to the origin of mankind, a te...</td>\n",
              "      <td>Ridley Scott</td>\n",
              "      <td>Noomi Rapace, Logan Marshall-Green, Michael Fa...</td>\n",
              "      <td>2012</td>\n",
              "      <td>124</td>\n",
              "      <td>7.0</td>\n",
              "      <td>485820</td>\n",
              "      <td>126.46</td>\n",
              "      <td>58.985043</td>\n",
              "      <td>Good</td>\n",
              "    </tr>\n",
              "    <tr>\n",
              "      <th>3</th>\n",
              "      <td>Split</td>\n",
              "      <td>Horror,Thriller</td>\n",
              "      <td>Three girls are kidnapped by a man with a diag...</td>\n",
              "      <td>M. Night Shyamalan</td>\n",
              "      <td>James McAvoy, Anya Taylor-Joy, Haley Lu Richar...</td>\n",
              "      <td>2016</td>\n",
              "      <td>117</td>\n",
              "      <td>7.3</td>\n",
              "      <td>157606</td>\n",
              "      <td>138.12</td>\n",
              "      <td>58.985043</td>\n",
              "      <td>Good</td>\n",
              "    </tr>\n",
              "    <tr>\n",
              "      <th>4</th>\n",
              "      <td>Sing</td>\n",
              "      <td>Animation,Comedy,Family</td>\n",
              "      <td>In a city of humanoid animals, a hustling thea...</td>\n",
              "      <td>Christophe Lourdelet</td>\n",
              "      <td>Matthew McConaughey,Reese Witherspoon, Seth Ma...</td>\n",
              "      <td>2016</td>\n",
              "      <td>108</td>\n",
              "      <td>7.2</td>\n",
              "      <td>60545</td>\n",
              "      <td>270.32</td>\n",
              "      <td>58.985043</td>\n",
              "      <td>Good</td>\n",
              "    </tr>\n",
              "    <tr>\n",
              "      <th>5</th>\n",
              "      <td>Suicide Squad</td>\n",
              "      <td>Action,Adventure,Fantasy</td>\n",
              "      <td>A secret government agency recruits some of th...</td>\n",
              "      <td>David Ayer</td>\n",
              "      <td>Will Smith, Jared Leto, Margot Robbie, Viola D...</td>\n",
              "      <td>2016</td>\n",
              "      <td>123</td>\n",
              "      <td>6.2</td>\n",
              "      <td>393727</td>\n",
              "      <td>325.02</td>\n",
              "      <td>58.985043</td>\n",
              "      <td>Bad</td>\n",
              "    </tr>\n",
              "  </tbody>\n",
              "</table>\n",
              "</div>"
            ],
            "text/plain": [
              "                        Title  ... Rating Category\n",
              "Rank                           ...                \n",
              "1     Guardians of the Galaxy  ...            Good\n",
              "2                  Prometheus  ...            Good\n",
              "3                       Split  ...            Good\n",
              "4                        Sing  ...            Good\n",
              "5               Suicide Squad  ...             Bad\n",
              "\n",
              "[5 rows x 12 columns]"
            ]
          },
          "metadata": {
            "tags": []
          },
          "execution_count": 92
        }
      ]
    },
    {
      "cell_type": "code",
      "metadata": {
        "colab": {
          "base_uri": "https://localhost:8080/",
          "height": 371
        },
        "id": "2-GBpVtGdQM1",
        "outputId": "18452586-5d65-42df-9e54-573378b9d5cb"
      },
      "source": [
        "df.boxplot(column='Revenue',by='Rating Category')"
      ],
      "execution_count": null,
      "outputs": [
        {
          "output_type": "stream",
          "text": [
            "/usr/local/lib/python3.6/dist-packages/numpy/core/_asarray.py:83: VisibleDeprecationWarning: Creating an ndarray from ragged nested sequences (which is a list-or-tuple of lists-or-tuples-or ndarrays with different lengths or shapes) is deprecated. If you meant to do this, you must specify 'dtype=object' when creating the ndarray\n",
            "  return array(a, dtype, copy=False, order=order)\n"
          ],
          "name": "stderr"
        },
        {
          "output_type": "execute_result",
          "data": {
            "text/plain": [
              "<matplotlib.axes._subplots.AxesSubplot at 0x7f38aa224a90>"
            ]
          },
          "metadata": {
            "tags": []
          },
          "execution_count": 93
        },
        {
          "output_type": "display_data",
          "data": {
            "image/png": "[encoded data removed]",
            "text/plain": [
              "<Figure size 432x288 with 1 Axes>"
            ]
          },
          "metadata": {
            "tags": [],
            "needs_background": "light"
          }
        }
      ]
    },
    {
      "cell_type": "code",
      "metadata": {
        "id": "qZYNvedZe4u5"
      },
      "source": [
        ""
      ],
      "execution_count": null,
      "outputs": []
    }
  ]
}