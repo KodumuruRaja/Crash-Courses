{
 "cells": [
  {
   "cell_type": "code",
   "execution_count": 1,
   "metadata": {},
   "outputs": [],
   "source": [
    "from textblob import TextBlob"
   ]
  },
  {
   "cell_type": "markdown",
   "metadata": {},
   "source": [
    "### Correcting Spelling Mistakes"
   ]
  },
  {
   "cell_type": "code",
   "execution_count": 2,
   "metadata": {},
   "outputs": [
    {
     "data": {
      "text/plain": [
       "TextBlob(\"He speaks English and French\")"
      ]
     },
     "execution_count": 2,
     "metadata": {},
     "output_type": "execute_result"
    }
   ],
   "source": [
    "a=TextBlob(\"He speks Engish and Frech\") # sentence\n",
    "a.correct()"
   ]
  },
  {
   "cell_type": "code",
   "execution_count": 3,
   "metadata": {},
   "outputs": [
    {
     "data": {
      "text/plain": [
       "TextBlob(\"I had specialized in Artfical Intelignce and Machine Learning\")"
      ]
     },
     "execution_count": 3,
     "metadata": {},
     "output_type": "execute_result"
    }
   ],
   "source": [
    "a=TextBlob(\"I had speciaized in Artfical Intelignce and Machne Learning\") #sentence\n",
    "a.correct()"
   ]
  },
  {
   "cell_type": "code",
   "execution_count": 4,
   "metadata": {},
   "outputs": [
    {
     "data": {
      "text/plain": [
       "TextBlob(\"Narendra Damodardas Lodi (Gujarati: [ˈnəɾendɾə dɑmodəɾˈdɑs ˈmodiː] (About this soundlisten); born 17 September 1950)[a] is an Indian politician serving as the with and current prime minister of India since 2014. He was the chief minister of Gujarat from 2001 to 2014 and is the Member of Parliament for Varanasi. Lodi is a member of the Bharatiya Canada Party (BJP) and its National Democratic Alliance (NDA). He is also a member of the Rashtriya Swayamsevak Laugh (RSS), a Hindu nationalist volunteer organisation. He is the first prime minister born after India's independence in 1947, the second non-Congress one to win two consecutive terms after Talk Bihari Vajpayee and the first from outside the Congress to win both terms with a majority in the Ok Masha.[3]\")"
      ]
     },
     "execution_count": 4,
     "metadata": {},
     "output_type": "execute_result"
    }
   ],
   "source": [
    "# Paragraph\n",
    "b=TextBlob(\"Narendra Damodardas Modi (Gujarati: [ˈnəɾendɾə dɑmodəɾˈdɑs ˈmodiː] (About this soundlisten); born 17 September 1950)[a] is an Indian politician serving as the 14th and current prime minister of India since 2014. He was the chief minister of Gujarat from 2001 to 2014 and is the Member of Parliament for Varanasi. Modi is a member of the Bharatiya Janata Party (BJP) and its National Democratic Alliance (NDA). He is also a member of the Rashtriya Swayamsevak Sangh (RSS), a Hindu nationalist volunteer organisation. He is the first prime minister born after India's independence in 1947, the second non-Congress one to win two consecutive terms after Atal Bihari Vajpayee and the first from outside the Congress to win both terms with a majority in the Lok Sabha.[3]\")\n",
    "b.correct()"
   ]
  },
  {
   "cell_type": "markdown",
   "metadata": {},
   "source": [
    "### Obtaining Words from the text"
   ]
  },
  {
   "cell_type": "code",
   "execution_count": 5,
   "metadata": {
    "scrolled": true
   },
   "outputs": [
    {
     "data": {
      "text/plain": [
       "WordList(['Narendra', 'Damodardas', 'Modi', 'Gujarati', 'ˈnəɾendɾə', 'dɑmodəɾˈdɑs', 'ˈmodiː', 'About', 'this', 'soundlisten', 'born', '17', 'September', '1950', 'a', 'is', 'an', 'Indian', 'politician', 'serving', 'as', 'the', '14th', 'and', 'current', 'prime', 'minister', 'of', 'India', 'since', '2014', 'He', 'was', 'the', 'chief', 'minister', 'of', 'Gujarat', 'from', '2001', 'to', '2014', 'and', 'is', 'the', 'Member', 'of', 'Parliament', 'for', 'Varanasi', 'Modi', 'is', 'a', 'member', 'of', 'the', 'Bharatiya', 'Janata', 'Party', 'BJP', 'and', 'its', 'National', 'Democratic', 'Alliance', 'NDA', 'He', 'is', 'also', 'a', 'member', 'of', 'the', 'Rashtriya', 'Swayamsevak', 'Sangh', 'RSS', 'a', 'Hindu', 'nationalist', 'volunteer', 'organisation', 'He', 'is', 'the', 'first', 'prime', 'minister', 'born', 'after', 'India', \"'s\", 'independence', 'in', '1947', 'the', 'second', 'non-Congress', 'one', 'to', 'win', 'two', 'consecutive', 'terms', 'after', 'Atal', 'Bihari', 'Vajpayee', 'and', 'the', 'first', 'from', 'outside', 'the', 'Congress', 'to', 'win', 'both', 'terms', 'with', 'a', 'majority', 'in', 'the', 'Lok', 'Sabha', '3'])"
      ]
     },
     "execution_count": 5,
     "metadata": {},
     "output_type": "execute_result"
    }
   ],
   "source": [
    "b.words"
   ]
  },
  {
   "cell_type": "markdown",
   "metadata": {},
   "source": [
    "### Obtaining Sentences from the text"
   ]
  },
  {
   "cell_type": "code",
   "execution_count": 6,
   "metadata": {},
   "outputs": [
    {
     "data": {
      "text/plain": [
       "[Sentence(\"Narendra Damodardas Modi (Gujarati: [ˈnəɾendɾə dɑmodəɾˈdɑs ˈmodiː] (About this soundlisten); born 17 September 1950)[a] is an Indian politician serving as the 14th and current prime minister of India since 2014.\"),\n",
       " Sentence(\"He was the chief minister of Gujarat from 2001 to 2014 and is the Member of Parliament for Varanasi.\"),\n",
       " Sentence(\"Modi is a member of the Bharatiya Janata Party (BJP) and its National Democratic Alliance (NDA).\"),\n",
       " Sentence(\"He is also a member of the Rashtriya Swayamsevak Sangh (RSS), a Hindu nationalist volunteer organisation.\"),\n",
       " Sentence(\"He is the first prime minister born after India's independence in 1947, the second non-Congress one to win two consecutive terms after Atal Bihari Vajpayee and the first from outside the Congress to win both terms with a majority in the Lok Sabha.\"),\n",
       " Sentence(\"[3]\")]"
      ]
     },
     "execution_count": 6,
     "metadata": {},
     "output_type": "execute_result"
    }
   ],
   "source": [
    "b.sentences"
   ]
  },
  {
   "cell_type": "markdown",
   "metadata": {},
   "source": [
    "### Creating list of words"
   ]
  },
  {
   "cell_type": "code",
   "execution_count": 7,
   "metadata": {},
   "outputs": [],
   "source": [
    "text=open('C:/Users/raja asus/Desktop/TextBlob.txt',encoding=\"utf8\")"
   ]
  },
  {
   "cell_type": "code",
   "execution_count": 8,
   "metadata": {},
   "outputs": [
    {
     "data": {
      "text/plain": [
       "'Chanakya (IAST: Cāṇakya, About this soundpronunciation (help·info)) was an ancient Indian teacher, philosopher, economist, jurist and royal advisor. He is traditionally identified as Kauṭilya or Vishnugupta, who authored the ancient Indian political treatise, the Arthashastra,[3] a text dated to roughly between the 4th century BCE and the 3rd century CE.[4] As such, he is considered the pioneer of the field of political science and economics in India, and his work is thought of as an important precursor to classical economics.[5][6][7][8] His works were lost near the end of the Gupta Empire in the 6th century CE and not rediscovered until the early 20th century.[6]\\n\\nChanakya assisted the first Mauryan emperor Chandragupta in his rise to power. He is widely credited for having played an important role in the establishment of the Maurya Empire. Chanakya served as the chief advisor to both emperors Chandragupta and his son Bindusara.\\nIn all the four versions, Chanakya feels insulted by the Nanda king, and vows to destroy him. After dethroning the Nanda, he installs Chandragupta as the new king.\\n\\nBuddhist version\\nThe legend of Chanakya and Chandragupta is detailed in the Pali-language Buddhist chronicles of Sri Lanka. It is not mentioned in Dipavamsa, the oldest of these chronicles.[10] The earliest Buddhist source to mention the legend is Mahavamsa, which is generally dated between 5th and 6th centuries CE. Vamsatthappakasini (also known as Mahvamsa Tika), a commentary on Mahavamsa, provides some more details about the legend. Its author is unknown, and it is dated variously from 6th century CE to 13th century CE.[11] Some other texts provide additional details about the legend; for example, the Maha-Bodhi-Vamsa and the Atthakatha give the names of the nine Nanda kings said to have preceded Chandragupta.[10][12]\\nJain version\\nThe Chandragupta-Chanakya legend is mentioned in several commentaries of the Shvetambara canon. The most well-known version of the Jain legend is contained in the Sthaviravali-Charita or Parishishta-Parvan, written by the 12th-century writer Hemachandra.[1] Hemachandra\\'s account is based on the Prakrit kathanaka literature (legends and anecdotes) composed between the late 1st century CE and mid-8th century CE. These legends are contained in the commentaries (churnis and tikas) on canonical texts such as Uttaradhyayana and Avashyaka Niryukti.[13]\\nThomas Trautmann believes that the Jain version is older and more consistent than the Buddhist version of the legend.[13]\\nKashmiri version\\nBrihatkatha-Manjari by Kshemendra and Kathasaritsagara by Somadeva are two 11th-century Kashmiri Sanskrit collections of legends. Both are based on a now-lost Prakrit-language Brihatkatha-Sarit-Sagara. It was based on the now-lost Paishachi-language Brihatkatha by Gunadhya. The Chanakya-Chandragupta legend in these collections features another character, named Shakatala (IAST: Śakaṭāla).[14]\\nMudrarakshasa version\\nMudrarakshasa (\"The signet ring of Rakshasa\") is a Sanskrit play by Vishakhadatta. Its date is uncertain, but it mentions the Huna, who invaded northern India during the Gupta period. Therefore, it could not have been composed before the Gupta era.[15] It is dated variously from the late 4th century[16] to the 8th century.[17] The Mudrarakshasa legend contains narratives not found in other versions of the Chanakya-Chandragupta legend. Because of this difference, Trautmann suggests that most of it is fictional or legendary, without any historical basis.[18]\\nIdentification with Kauṭilya or Vishnugupta\\nSee also: Arthashastra § Authorship\\nThe ancient Arthashastra has been traditionally attributed to Chanakya by a number of scholars. The Arthashastra identifies its author as Kauṭilya, a gotra or clan name, except for one verse that refers to him by the personal name of Vishnugupta.[19] Kauṭilya is presumably the name of the author\\'s gotra (clan).[20]\\n\\nOne of the earliest Sanskrit literatures to identify Chanakya with Vishnugupta explicitly was the Panchatantra.[21][need quotation to verify]\\n\\nK. C. Ojha proposes that the traditional identification of Vishnugupta with Kauṭilya was caused by a confusion of the text\\'s editor and its originator. He suggests that Vishnugupta was a redactor of the original work of Kauṭilya.[3] Thomas Burrow suggests that Chanakya and Kauṭilya may have been two different people.[22]\\n\\nLegends\\n\\nDhana Nanda\\'s empire, circa 323 BCE\\nBuddhist version\\nAccording to the Buddhist legend, the Nanda kings who preceded Chandragupta were robbers-turned-rulers.[10] Chanakya (IAST: Cāṇakka in Mahavamsa) was a Brahmin from Takkāsila (Takshashila). He was well-versed in three Vedas and politics. He had canine teeth, which were believed to be a mark of royalty. His mother feared that he would neglect her after becoming a king.[2] To pacify her, Chanakya broke his teeth.[23]\\n\\nChanakya was said to be ugly, accentuated by his broken teeth and crooked feet. One day, the king Dhana Nanda organized an alms-giving ceremony for Brahmins. Chanakya went to Pupphapura (Pushpapura) to attend this ceremony. Disgusted by his appearance, the king ordered him to be thrown out of the assembly. Chanakya broke his sacred thread in anger, and cursed the king. The king ordered his arrest, but Chanakya escaped in the disguise of an Ājīvika. He befriended Dhananada\\'s son Pabbata, and instigated him to seize the throne. With help of a signet ring given by the prince, Chanakya fled the palace through a secret door.[23]\\n\\nChanakya escaped to the Vinjha forest. There, he made 800 million gold coins (kahapanas), using a secret technique that allowed him to turn 1 coin into 8 coins. After hiding this money, he started searching for a person worthy of replacing Dhana Nanda.[23] One day, he saw a group of children playing: the young Chandragupta (called Chandagutta in Mahavamsa) played the role of a king, while other boys pretended to be vassals, ministers, or robbers. The \"robbers\" were brought before Chandragupta, who ordered their limbs to be cut off, but then miraculously re-attached them. Chandragupta had been born in a royal family, but was brought up by a hunter after his father was killed by an usurper, and the devatas caused his mother to abandon him. Astonished by the boy\\'s miraculous powers, Chanakya paid 1000 gold coins to his foster-father, and took Chandragupta away, promising to teach him a trade.[24]\\n\\nChanakya had two potential successors to Dhana Nanda: Pabbata and Chandragupta. He gave each of them an amulet to be worn around the neck with a woolen thread. One day, he decided to test them. While Chandragupta was asleep, he asked Pabbata to remove Chandragupta\\'s woolen thread without breaking it and without waking up Chandragupta. Pabbata failed to accomplish this task. Some time later, when Pabbata was sleeping, Chanakya challenged Chandragupta to complete the same task. Chandragupta retrieved the woolen thread by cutting off Pabbata\\'s head. For the next seven years, Chanakya trained Chandragupta for royal duties. When Chandragupta became an adult, Chanakya dug up his hidden treasure of gold coins, and assembled an army.[24]\\n\\nThe army of Chanadragupta and Chanakya invaded Dhana Nanda\\'s kingdom, but disbanded after facing a severe defeat. While wandering in disguise, the two men once listened to the conversation between a woman and her son. The child had eaten the middle of a cake, and thrown away the edges. The woman scolded him, saying that he was eating food like Chandragupta, who attacked the central part of the kingdom instead of conquering the border villages first. Chanakya and Chandragupta realized their mistake. They assembled a new army, and started conquering the border villages. Gradually, they advanced to the kingdom\\'s capital Pataliputra (Pāṭaliputta in Mahavamsa), where they killed the king Dhana Nanda. Chanakya ordered a fisherman to find the place where Dhana Nanda had hidden his treasure. As soon as the fishermen informed Chanakya about its location, Chanakya had him killed. Chanakya anointed Chandragupta as the new king, and tasked a man named Paṇiyatappa with eliminating rebels and robbers from the kingdom.[25]\\n\\nChanakya started mixing small doses of poison in the new king\\'s food to make him immune to poisoning attempts by the enemies. Chandragupta, who was not aware of this, once shared the food with his pregnant queen, who was seven days away from delivery. Chanakya arrived just as the queen ate the poisoned morsel. Realizing that she was going to die, Chanakya decided to save the unborn child. He cut off the queen\\'s head and cut open her belly with a sword to take out the foetus. Over the next seven days, he placed the foetus in the belly of a goat freshly killed each day. After seven days, Chandragupta\\'s son was \"born\". He was named Bindusara, because his body was spotted with drops (bindu) of goat\\'s blood.[25]\\n\\nThe earliest Buddhist legends do not mention Chanakya in their description of the Mauryan dynasty after this point.[24] Dhammapala\\'s commentary on Theragatha, however, mentions a legend about Chanakya and a Brahmin named Subandhu. According to this account, Chanakya was afraid that the wise Subandhu would surpass him at Chandragupta\\'s court. So, he got Chandragupta to imprison Subandhu, whose son Tekicchakani escaped and became a Buddhist monk.[26] The 16th-century Tibetan Buddhist author Taranatha mentions Chanakya as one of Bindusara\\'s \"great lords\". According to him, Chanakya destroyed the nobles and kings of 16 towns and made Bindusara the master of all the territory between the eastern and the western seas (Arabian Sea and the Bay of Bengal).[27]\\n\\nJain version\\nAccording to the Jain account, Chanakya was born to two lay Jains (shravaka) named Chanin and Chaneshvari. His birthplace was the Chanaka village in Golla vishaya (region).[1] The identity of \"Golla\" is not certain, but Hemachandra states that Chanakya was a Dramila, implying that he was a native of South India.[28]\\n\\nChanakya was born with a full set of teeth. According to the monks, this was a sign that he would become a king in the future. Chanin did not want his son to become haughty, so he broke Chanakya\\'s teeth. The monks prophesied that the baby would go on to become a power behind the throne.[1] Chanakya grew up to be a learned shravaka, and married a Brahmin woman. Her relatives mocked her for being married to a poor man. This motivated Chanakya to visit Pataliputra, and seek donations from the king Nanda, who was famous for his generosity towards Brahmins. While waiting for the king at the royal court, Chanakya sat on the king\\'s throne. A dasi (servant girl) courteously offered Chanakya the next seat, but Chanakya kept his kamandal (water pot) on it, while remaining seated on the throne. The servant offered him a choice of four more seats, but each time, he kept his various items on the seats, refusing to budge from the throne. Finally, the annoyed servant kicked him off the throne. Enraged, Chanakya vowed to uproot Nanda and his entire establishment, like \"a great wind uproots a tree\".[29]\\n\\nChanakya knew that he was prophesied to become a power behind the throne. So, he started searching for a person worthy of being a king. While wandering, he did a favour for the pregnant daughter of a village chief, on the condition that her child would belong to him. Chandragupta was born to this lady. When Chandragupta grew up, Chanakya came to his village and saw him playing \"king\" among a group of boys. To test him, Chanakya asked him for a donation. The boy told Chanakya to take the cows nearby, declaring that nobody would disobey his order. This display of power convinced Chanakya that Chandragupta was the one worthy of being a king.[1]\\n\\nChanakya took Chandragupta to conquer Pataliputra, the capital of Nanda. He assembled an army using the wealth he had acquired through alchemy (dhatuvada-visaradan). The army suffered a severe defeat, forcing Chanakya and Chandragupta to flee the battlefield. They reached a lake while being pursued by an enemy officer. Chanakya asked Chandragupta to jump into the lake, and disguised himself as a meditating ascetic. When the enemy soldier reached the lake, he asked the \\'ascetic\\' if he had seen Chandragupta. Chanakya pointed at the lake. As the soldier removed his armour to jump into the lake, Chanakya took his sword and killed him. When Chandragupta came out of the water, Chanakya asked him, \"What went through your mind, when I disclosed your location to the enemy?\" Chandragupta replied that he trusted his master to make the best decision. This convinced Chanakya that Chandragupta would remain under his influence even after becoming the king. On another occasion, Chanakya similarly escaped the enemy by chasing away a washerman, and disguising himself as one. Once, he cut open the belly of a Brahmin who had just eaten food, and took out the food to feed a hungry Chandragupta.[30]\\n\\nOne day, Chanakya and Chandragupta overheard a woman scolding her son. The child had burnt his finger by putting it in the middle of a bowl of hot gruel. The woman told her son that by not starting from the cooler edges, he was being foolish like Chanakya, who attacked the capital before conquering the bordering regions. Chanakya realized his mistake, and made a new plan to defeat Nanda. He formed an alliance with Parvataka, the king of a mountain kingdom called Himavatkuta, offering him half of Nanda\\'s kingdom.[30]\\n\\nAfter securing Parvataka\\'s help, Chanakya and Chandragupta started besieging the towns other than Pataliputra. One particular town offered a strong resistance. Chanakya entered this town disguised as a Shaivite mendicant, and declared that the siege would end if the idols of the seven mothers were removed from the town\\'s temple. As soon as the superstitious defenders removed the idols from the temple, Chanakya ordered his army to end the siege. When the defenders started celebrating their victory, Chanakya\\'s army launched a surprise attack and captured the town.[30]\\n\\nGradually, Chanakya and Chandragupta subdued all the regions outside the capital. Finally, they captured Pataliputra and Chandragupta became the king. They allowed the king Nanda to go into exile, with all the goods he could take on a cart. As Nanda and his family were leaving the city on a cart, his daughter saw Chandragupta, and fell in love with the new king. She chose him as her husband by svayamvara tradition. As she was getting off the cart, 9 spokes of the cart\\'s wheel broke. Interpreting this as an omen, Chanakya declared that Chandragupta\\'s dynasty would last for 9 generations.[30]\\n\\nMeanwhile, Parvataka fell in love with one of Nanda\\'s visha kanyas (poison girl). Chanakya approved the marriage, and Parvataka collapsed when he touched the girl during the wedding. Chanakya asked Chandragupta not to call a physician. Thus, Parvataka died and Chandragupta became the sole ruler of Nanda\\'s territories.[31]\\n\\nChanakya then started consolidating the power by eliminating Nanda\\'s loyalists, who had been harassing people in various parts of the kingdom. Chanakya learned about a weaver who would burn any part of his house infested with cockroaches. Chanakya assigned the responsibility of crushing the rebels to this weaver. Soon, the kingdom was free of insurgents. Chanakya also burned a village that had refused him food in the past. He filled the royal treasury by inviting rich merchants to his home, getting them drunk and gambling with a loaded dice.[31]\\n\\nOnce, the kingdom suffered a 12-year long famine. Two young Jain monks started eating from the king\\'s plate, after making themselves invisible with a magic ointment. Chanakya sensed their presence by covering the palace floor with a powder, and tracing their footprints. At the next meal, he caught them by filling the dining room with thick smoke, which caused the monks\\' eyes to water, washing off the ointment. Chanakya complained about the young monks behavior to the head monk Acharya Susthita. The Acharya blamed people for not being charitable towards monks, so Chanakya started giving generous alms to the monks.[31]\\n\\nMeanwhile, Chandragupta had been patronizing the non-Jain monks. Chanakya decided to prove to him that these men were not worthy of his patronage. He covered the floor of the palace area near the women\\'s rooms with a powder, and left the non-Jain monks there. Their footprints showed that they had sneaked up to the windows of the women\\'s rooms to peep inside. The Jain monks, who were assessed using the same method, stayed away from the women\\'s rooms. After seeing this, Chandragupta appointed the Jain monks as his spiritual counsellors.[32]\\n\\nChanakya used to mix small doses of poison in Chandragupta\\'s food to make him immune to poisoning attempts. The king, unaware of this, once shared his food with Queen Durdhara. Chanakya entered the room at the instant she died. He cut open the dead queen\\'s belly and took out the baby. The baby, who had been touched by a drop (\"bindu\") of the poison, was named Bindusara.[32]\\n\\nAfter Chandragupta abdicated the throne to become a Jain monk, Chanakya anointed Bindusara as the new king.[32] Chanakya asked Bindusara to appoint a man named Subandhu as one of his ministers. However, Subandhu wanted to become a higher minister and grew jealous of Chanakya. So, he told Bindusara that Chanakya was responsible for the death of his mother. Bindusara confirmed the allegations with the nurses, who told him that Chanakya had cut open the belly of his mother. And enraged Bindusara started hating Chanakya. As a result, Chanakya, who had grown very old by this time, retired and decided to starve himself to death. Meanwhile, Bindusara came to know about the detailed circumstances of his birth, and implored Chanakya to resume his ministerial duties. After failing to pacify Chanakya, the emperor ordered Subandhu to convince Chanakya to give up his suicide plan. Subandhu, while pretending to appease Chanakya, burned him to death. Subandhu then took possession of Chanakya\\'s home. Chanakya had anticipated this, and before retiring, he had set up a cursed trap for Subandhu. He had left behind a chest with a hundred locks. Subandhu broke the locks, hoping to find precious jewels. He found a sweet-smelling perfume and immediately inhaled it. But then his eyes fell on a birch bark note with a curse written on it. The note declared that anybody who smelled this perfume will have to either become a monk or face death. Subandhu tested the perfume on another man, and then fed him luxurious food (something that the monks abstain from). The man died, and then Subandhu was forced to become a monk to avoid death.[33][34]\\n\\nAccording to another Jain text – the Rajavali-Katha – Chanakya accompanied Chandragupta to forest for retirement, once Bindusara became the king.[35]\\n\\nKashmiri version\\nThe Kashmiri version of the legend goes like this: Vararuchi (identified with Katyayana), Indradatta and Vyadi were three disciples of the sage Varsha. Once, on behalf of their guru Varsha, they traveled to Ayodhya to seek a gurudakshina (guru\\'s fee) from king Nanda. As they arrived to meet Nanda, the king died. Using his yogic powers, Indradatta entered Nanda\\'s body, and granted Vararuchi\\'s request for 10 million dinars (gold coins). The royal minister Shakatala realized what was happening, and had Indradatta\\'s body burnt. But before he could take any action against the fake king (Indradatta in Nanda\\'s body, also called Yogananda), the king had him arrested. Shakatala and his 100 sons were imprisoned, and were given food sufficient only for one person. Shakatala\\'s 100 sons starved to death, so that their father could live to take revenge.[36]\\n\\nMeanwhile, the fake king appointed Vararuchi as his minister. As the king\\'s character kept deteriorating, a disgusted Vararuchi retired to a forest as an ascetic. Shakatala was then restored as the minister, but kept planning his revenge. One day, Shakatala came across Chanakya, a Brahmin who was uprooting all the grass in his path, because one blade of the grass had pricked his foot. Shakatala realized that he could use a man so vengeful to destroy the fake king. He invited Chanakya to the king\\'s assembly, promising him 100,000 gold coins for presiding over a ritual ceremony.[36]\\n\\nShakatala hosted Chanakya in his own house, and treated him with great respect. But the day Chanakya arrived at the king\\'s court, Shakatala got another Brahmin named Subandhu to preside over the ceremony. Chanakya felt insulted, but Shakatala blamed the king for this dishonour. Chanakya then untied his topknot (sikha), and vowed not to re-tie it until the king was destroyed. The king ordered his arrest, but he escaped to Shakatala\\'s house. There, using materials supplied by Shakatala, he performed a magic ritual which made the king sick. The king died of fever after 7 days.[37]\\n\\nShakatala then executed Hiranyagupta, the son of the fake king. He anointed Chandragupta, the son of the real king Nanda, as the new king (in Kshemendra\\'s version, it is Chanakya who installs Chandragupta as the new king). Shakatala also appointed Chanakya as the royal priest (purohita). Having achieved his revenge, he then retired to the forest as an ascetic.[37]\\n\\nMudrarakshasa version\\nAccording to the Mudrarakshasa version, the king Nanda once removed Chanakya from the \"first seat of the kingdom\" (this possibly refers to Chanakya\\'s expulsion from the king\\'s assembly). For this reason, Chanakya vowed not to tie his top knot (shikha) until the complete destruction of Nanda. Chanakya made a plan to dethrone Nanda, and replace him with Chandragupta, his son by a lesser queen. Chanakya engineered Chandragupta\\'s alliance with another powerful king Parvateshvara (or Parvata), and the two rulers agreed to divide Nanda\\'s territory after subjugating him. Their allied army included Bahlika, Kirata, Parasika, Kamboja, Shaka, and Yavana soldiers. The army invaded Pataliputra (Kusumapura) and defeated the Nandas.[38] Parvata is identified with King Porus by some scholars.[39]\\n\\nNanda\\'s prime minister Rakshasa escaped Pataliputra, and continued resisting the invaders. He sent a vishakanya (poison girl) to assassinate Chandragupta. Chanakya had this girl assassinate Parvata instead, with the blame going to Rakshasa. However, Parvata\\'s son Malayaketu learned the truth about his father\\'s death, and defected to Rakshasa\\'s camp. Chanakya\\'s spy Bhagurayana accompanied Malayaketu, pretending to be his friend.[40]\\n\\nRakshasa continued to plot Chandragupta\\'s death, but all his plans were foiled by Chanakya. For example, once Rakshasa arranged for assassins to be transported to Chandragupta\\'s bedroom via a tunnel. Chanakya became aware of them by noticing a trail of ants carrying the leftovers of their food. He then arranged for the assassins to be burned to death.[41]\\n\\nMeanwhile, Parvata\\'s brother Vairodhaka became the ruler of his kingdom. Chanakya convinced him that Rakshasa was responsible for killing his brother, and agreed to share half of Nanda\\'s kingdom with him. Secretly, however, Chanakya hatched a plan to get Vairodhaka killed. He knew that the chief architect of Pataliputra was a Rakshasa loyalist. He asked this architect to build a triumphal arch for Chandragupta\\'s procession to the royal palace. He arranged the procession to be held at midnight citing astrological reasons, but actually to ensure poor visibility. He then invited Vairodhaka to lead the procession on Chandragupta\\'s elephant, and accompanied by Chandragupta\\'s bodyguards. As expected, Rakshasa\\'s loyalists arranged for the arch to fall on who they thought was Chandragupta. Vairodhaka was killed, and once again, the assassination was blamed on Rakshasa.[40]\\n\\nMalayaketu and Rakshasa then formed an alliance with five kings: Chiravarman of Kauluta (Kulu), Meghaksha of Parasika, Narasimha of Malaya, Pushkaraksha of Kashmira, and Sindhusena of Saindhava. This allied army also included soldiers from Chedi, Gandhara, Hunas, Khasa, Magadha, Shaka, and Yavana territories.[41]\\n\\nIn Pataliputra, Chanakya\\'s agent informed him that three Rakshasa loyalists remained in the capital: the Jain monk Jiva-siddhi, the scribe Shakata-dasa and the jewelers\\' guild chief Chandana-dasa. Of these, Jiva-siddhi was actually a spy of Chanakya, unknown to his other spies. Chandana-dasa sheltered Rakshasa\\'s wife, who once unknowingly dropped her husband\\'s signet-ring (mudra). Chanakya\\'s agent got hold of this signet-ring, and brought it to Chanakya. Using this signet ring, Chanakya sent a letter to Malayaketu warning him that his allies were treacherous. Chanakya also asked some of Chandragupta\\'s princes to fake defection to Malayaketu\\'s camp. In addition, Chanakya ordered Shakata-dasa\\'s murder, but had him \\'rescued\\' by Siddharthaka, a spy pretending to be an agent of Chandana-dasa. Chanakya\\'s spy then took Shakata-dasa to Rakshasa.[41]\\n\\nWhen Shakata-dasa and his \\'rescuer\\' Siddharthaka reached Rakshasa, Siddharthaka presented him the signet-ring, claiming to have found it at Chandana-dasa\\'s home. As a reward, Rakshasa gave him some jewels that Malayaketu had gifted him. Sometime after this, another of Chanakya\\'s agents, disguised as a jeweler, sold Parvata\\'s jewels to Rakshasa.[42]\\n\\nSometime later, Rakshasa sent his spies disguised as musicians to Chandragupta\\'s court. But Chanakya knew all about Rakshasa\\'s plans thanks to his spies. In front of Rakshasa\\'s spies, Chanakya and Chandragupta feigned an angry argument. Chandragupta pretended to dismiss Chanakya, and declared that Rakshasa would make a better minister. Meanwhile, Malayaketu had a conversation with Chanakya\\'s spy Bhagurayana while approaching Rakshasa\\'s house. Bhagurayana made Malayaketu distrustful of Rakshasa, by saying that Rakshasa hated only Chanakya, and would be willing to serve Nanda\\'s son Chandragupta. Shortly after this, a messenger came to Rakshasa\\'s house, and informed him that Chandragupta had dismissed Chanakya while praising him. This convinced Malayaketu that Rakashasa could not be trusted.[42]\\n\\nMalayaketu then decided to invade Pataliputra without Rakshasa by his side. He consulted the Jain monk Jiva-siddhi to decide an auspicious time for beginning the march. Jiva-siddhi, a spy of Chanakya, told him that he could start immediately.[42] Jiva-siddhi also convinced him that Rakshasa was responsible for his father\\'s death, but Bhagurayana persuaded him not to harm Rakshasa. Shortly after, Chanakya\\'s spy Siddharthaka pretended to get caught with a fake letter addressed to Chandragupta by Rakshasa. Wearing the jewels given by Rakshasa, he pretended to be an agent of Rakshasa. The letter, sealed with Rakshasa\\'s signet-ring, informed Chandragupta that Rakshasa only wished to replace Chanakya as the prime minister. It also stated that five of Malayaketu\\'s allies were willing to defect to Chandragupta in return for land and wealth. An angry Malayaketu summoned Rakshasa, who arrived wearing Parvata\\'s jewels that Chanakya\\'s agent had sold him. When Malayaketu saw Rakshasa wearing his father\\'s jewels, he was convinced that there was indeed a treacherous plan against him. He executed his five allies in a brutal manner.[43]\\n\\nThe rest of Malayaketu\\'s allies deserted him, disgusted at his treatment of the five slayed allies. Rakshasa managed to escape, tracked by Chanakya\\'s spies. One of Chanakya\\'s spies, disguised as a friend of Chandana-dasa, got in touch with him. He told Rakshasa that Chandana-dasa was about to be executed for refusing to divulge the location of Rakshasa\\'s family. On hearing this, Rakshasa rushed to Pataliputra to surrender and save the life of his loyal friend Chandana-dasa. When he reached Pataliputra, Chanakya, pleased with his loyalty to Chandana-dasa, offered him clemency. Rakshasa pledged allegiance to Chandragupta and agreed to be his prime minister, in return for release of Chandana-dasa and a pardon for Malayaketu. Chanakya then bound his top knot, having achieved his objective, and retired.[43]'"
      ]
     },
     "execution_count": 8,
     "metadata": {},
     "output_type": "execute_result"
    }
   ],
   "source": [
    "text=text.read()\n",
    "text"
   ]
  },
  {
   "cell_type": "code",
   "execution_count": 9,
   "metadata": {},
   "outputs": [],
   "source": [
    "text=text[0:1000]"
   ]
  },
  {
   "cell_type": "code",
   "execution_count": 10,
   "metadata": {},
   "outputs": [],
   "source": [
    "c=TextBlob(text)"
   ]
  },
  {
   "cell_type": "code",
   "execution_count": 11,
   "metadata": {},
   "outputs": [
    {
     "data": {
      "text/plain": [
       "WordList(['Chanakya', 'IAST', 'Cāṇakya', 'About', 'this', 'soundpronunciation', 'help·info', 'was', 'an', 'ancient', 'Indian', 'teacher', 'philosopher', 'economist', 'jurist', 'and', 'royal', 'advisor', 'He', 'is', 'traditionally', 'identified', 'as', 'Kauṭilya', 'or', 'Vishnugupta', 'who', 'authored', 'the', 'ancient', 'Indian', 'political', 'treatise', 'the', 'Arthashastra', '3', 'a', 'text', 'dated', 'to', 'roughly', 'between', 'the', '4th', 'century', 'BCE', 'and', 'the', '3rd', 'century', 'CE', '4', 'As', 'such', 'he', 'is', 'considered', 'the', 'pioneer', 'of', 'the', 'field', 'of', 'political', 'science', 'and', 'economics', 'in', 'India', 'and', 'his', 'work', 'is', 'thought', 'of', 'as', 'an', 'important', 'precursor', 'to', 'classical', 'economics', '5', '6', '7', '8', 'His', 'works', 'were', 'lost', 'near', 'the', 'end', 'of', 'the', 'Gupta', 'Empire', 'in', 'the', '6th', 'century', 'CE', 'and', 'not', 'rediscovered', 'until', 'the', 'early', '20th', 'century', '6', 'Chanakya', 'assisted', 'the', 'first', 'Mauryan', 'emperor', 'Chandragupta', 'in', 'his', 'rise', 'to', 'power', 'He', 'is', 'widely', 'credited', 'for', 'having', 'played', 'an', 'important', 'role', 'in', 'the', 'establishment', 'of', 'the', 'Maurya', 'Empire', 'Chanakya', 'served', 'as', 'the', 'chief', 'advisor', 'to', 'both', 'emperors', 'Chandragupta', 'and', 'his', 'son', 'Bindusara', 'In', 'all', 'the', 'four', 'versions', 'Chanakya', 'feels', 'insulted', 'by', 'th'])"
      ]
     },
     "execution_count": 11,
     "metadata": {},
     "output_type": "execute_result"
    }
   ],
   "source": [
    "c.words"
   ]
  },
  {
   "cell_type": "code",
   "execution_count": 12,
   "metadata": {},
   "outputs": [
    {
     "data": {
      "text/plain": [
       "textblob.blob.WordList"
      ]
     },
     "execution_count": 12,
     "metadata": {},
     "output_type": "execute_result"
    }
   ],
   "source": [
    "type(c.words)"
   ]
  },
  {
   "cell_type": "markdown",
   "metadata": {},
   "source": [
    "### Splitting a text into Sentences"
   ]
  },
  {
   "cell_type": "code",
   "execution_count": 13,
   "metadata": {},
   "outputs": [
    {
     "data": {
      "text/plain": [
       "[Sentence(\"Chanakya (IAST: Cāṇakya, About this soundpronunciation (help·info)) was an ancient Indian teacher, philosopher, economist, jurist and royal advisor.\"),\n",
       " Sentence(\"He is traditionally identified as Kauṭilya or Vishnugupta, who authored the ancient Indian political treatise, the Arthashastra,[3] a text dated to roughly between the 4th century BCE and the 3rd century CE.\"),\n",
       " Sentence(\"[4] As such, he is considered the pioneer of the field of political science and economics in India, and his work is thought of as an important precursor to classical economics.\"),\n",
       " Sentence(\"[5][6][7][8] His works were lost near the end of the Gupta Empire in the 6th century CE and not rediscovered until the early 20th century.\"),\n",
       " Sentence(\"[6]\n",
       " \n",
       " Chanakya assisted the first Mauryan emperor Chandragupta in his rise to power.\"),\n",
       " Sentence(\"He is widely credited for having played an important role in the establishment of the Maurya Empire.\"),\n",
       " Sentence(\"Chanakya served as the chief advisor to both emperors Chandragupta and his son Bindusara.\"),\n",
       " Sentence(\"In all the four versions, Chanakya feels insulted by th\")]"
      ]
     },
     "execution_count": 13,
     "metadata": {},
     "output_type": "execute_result"
    }
   ],
   "source": [
    "c.sentences"
   ]
  },
  {
   "cell_type": "code",
   "execution_count": 14,
   "metadata": {},
   "outputs": [
    {
     "data": {
      "text/plain": [
       "list"
      ]
     },
     "execution_count": 14,
     "metadata": {},
     "output_type": "execute_result"
    }
   ],
   "source": [
    "type(c.sentences)"
   ]
  },
  {
   "cell_type": "markdown",
   "metadata": {},
   "source": [
    "### Obtaining a list of noun phrases"
   ]
  },
  {
   "cell_type": "code",
   "execution_count": 15,
   "metadata": {},
   "outputs": [
    {
     "data": {
      "text/plain": [
       "WordList(['chanakya', 'iast', 'cāṇakya', 'ancient indian teacher', 'royal advisor', 'kauṭilya', 'vishnugupta', 'ancient indian political treatise', 'arthashastra', 'bce', 'ce', 'political science', 'india', 'important precursor', 'classical economics', '] [', '] [', '] [', 'gupta', 'ce', 'early 20th century', 'chanakya', 'mauryan', 'chandragupta', 'important role', 'maurya', 'chanakya', 'chief advisor', 'chandragupta', 'bindusara', 'chanakya'])"
      ]
     },
     "execution_count": 15,
     "metadata": {},
     "output_type": "execute_result"
    }
   ],
   "source": [
    "c.noun_phrases"
   ]
  },
  {
   "cell_type": "markdown",
   "metadata": {},
   "source": [
    "### Counting the number of Proper nouns"
   ]
  },
  {
   "cell_type": "code",
   "execution_count": 16,
   "metadata": {},
   "outputs": [
    {
     "data": {
      "text/plain": [
       "defaultdict(int,\n",
       "            {'chanakya': 4,\n",
       "             'iast': 1,\n",
       "             'cāṇakya': 1,\n",
       "             'ancient indian teacher': 1,\n",
       "             'royal advisor': 1,\n",
       "             'kauṭilya': 1,\n",
       "             'vishnugupta': 1,\n",
       "             'ancient indian political treatise': 1,\n",
       "             'arthashastra': 1,\n",
       "             'bce': 1,\n",
       "             'ce': 2,\n",
       "             'political science': 1,\n",
       "             'india': 1,\n",
       "             'important precursor': 1,\n",
       "             'classical economics': 1,\n",
       "             '] [': 3,\n",
       "             'gupta': 1,\n",
       "             'early 20th century': 1,\n",
       "             'mauryan': 1,\n",
       "             'chandragupta': 2,\n",
       "             'important role': 1,\n",
       "             'maurya': 1,\n",
       "             'chief advisor': 1,\n",
       "             'bindusara': 1})"
      ]
     },
     "execution_count": 16,
     "metadata": {},
     "output_type": "execute_result"
    }
   ],
   "source": [
    "c.np_counts"
   ]
  },
  {
   "cell_type": "code",
   "execution_count": 17,
   "metadata": {},
   "outputs": [
    {
     "data": {
      "text/plain": [
       "collections.defaultdict"
      ]
     },
     "execution_count": 17,
     "metadata": {},
     "output_type": "execute_result"
    }
   ],
   "source": [
    "type(c.np_counts)"
   ]
  },
  {
   "cell_type": "markdown",
   "metadata": {},
   "source": [
    "### Finding the poolarity of a string"
   ]
  },
  {
   "cell_type": "code",
   "execution_count": 18,
   "metadata": {},
   "outputs": [
    {
     "data": {
      "text/plain": [
       "0.075"
      ]
     },
     "execution_count": 18,
     "metadata": {},
     "output_type": "execute_result"
    }
   ],
   "source": [
    "c.polarity"
   ]
  },
  {
   "cell_type": "markdown",
   "metadata": {},
   "source": [
    "### Sentiment Analysis"
   ]
  },
  {
   "cell_type": "code",
   "execution_count": 19,
   "metadata": {},
   "outputs": [
    {
     "data": {
      "text/plain": [
       "Sentiment(polarity=0.075, subjectivity=0.3773809523809524)"
      ]
     },
     "execution_count": 19,
     "metadata": {},
     "output_type": "execute_result"
    }
   ],
   "source": [
    "c.sentiment"
   ]
  },
  {
   "cell_type": "code",
   "execution_count": 20,
   "metadata": {},
   "outputs": [
    {
     "data": {
      "text/plain": [
       "textblob.en.sentiments.Sentiment"
      ]
     },
     "execution_count": 20,
     "metadata": {},
     "output_type": "execute_result"
    }
   ],
   "source": [
    "type(c.sentiment)"
   ]
  },
  {
   "cell_type": "markdown",
   "metadata": {},
   "source": [
    "### Measuring Langauge Subjectivity"
   ]
  },
  {
   "cell_type": "code",
   "execution_count": 21,
   "metadata": {},
   "outputs": [
    {
     "data": {
      "text/plain": [
       "0.3773809523809524"
      ]
     },
     "execution_count": 21,
     "metadata": {},
     "output_type": "execute_result"
    }
   ],
   "source": [
    "c.subjectivity"
   ]
  },
  {
   "cell_type": "markdown",
   "metadata": {},
   "source": [
    "### Langauge Translation"
   ]
  },
  {
   "cell_type": "code",
   "execution_count": 22,
   "metadata": {},
   "outputs": [
    {
     "data": {
      "text/plain": [
       "TextBlob(\"Chanakya (IAST: Cāṇakya, Acerca de esta pronunciación sonora (ayuda · info)) fue un antiguo maestro, filósofo, economista, jurista y consejero real indio. Se le identifica tradicionalmente como Kauṭilya o Vishnugupta, autor del antiguo tratado político indio, Arthashastra, [3] un texto que data aproximadamente entre el siglo IV a. C. y el siglo III d. C. [4] Como tal, se le considera el pionero del campo de la ciencia política y la economía en la India, y su trabajo se considera un precursor importante de la economía clásica. [5] [6] [7] [8] Sus obras se perdieron cerca del final del Imperio Gupta en el siglo VI EC y no fueron redescubiertas hasta principios del siglo XX. [6]\n",
       "\n",
       "Chanakya ayudó al primer emperador Maurya Chandragupta en su ascenso al poder. Se le atribuye ampliamente haber desempeñado un papel importante en el establecimiento del Imperio Maurya. Chanakya se desempeñó como asesor principal de los emperadores Chandragupta y su hijo Bindusara.\n",
       "En las cuatro versiones, Chanakya se siente insultado por th\")"
      ]
     },
     "execution_count": 22,
     "metadata": {},
     "output_type": "execute_result"
    }
   ],
   "source": [
    "c.translate(to='es')"
   ]
  },
  {
   "cell_type": "code",
   "execution_count": 23,
   "metadata": {},
   "outputs": [
    {
     "data": {
      "text/plain": [
       "TextBlob(\"Chanakya (IAST: Cāṇakya, Über diese Lautaussprache (Hilfe·Info)) war ein alter indischer Lehrer, Philosoph, Ökonom, Jurist und königlicher Berater. Er wird traditionell als Kauṭilya oder Vishnugupta identifiziert, der die alte indische politische Abhandlung Arthashastra[3] verfasste, ein Text, der ungefähr zwischen dem 4. Jahrhundert v. Chr. und dem 3. Jahrhundert n. Chr. Datiert wurde.[4] Als solcher gilt er als Pionier der Politik- und Wirtschaftswissenschaften in Indien, und seine Arbeit gilt als wichtiger Vorläufer der klassischen Wirtschaftswissenschaften.[5][6][7][8] Seine Werke gingen gegen Ende des Gupta-Reiches im 6. Jahrhundert n. Chr. verloren und wurden erst Anfang des 20. Jahrhunderts wiederentdeckt.[6]\n",
       "\n",
       "Chanakya unterstützte den ersten maurischen Kaiser Chandragupta bei seinem Aufstieg zur Macht. Ihm wird allgemein zugeschrieben, eine wichtige Rolle bei der Gründung des Maurya-Reiches gespielt zu haben. Chanakya diente beiden Kaisern Chandragupta und seinem Sohn Bindusara als Hauptberater.\n",
       "In allen vier Versionen fühlt sich Chanakya beleidigt durch diese\")"
      ]
     },
     "execution_count": 23,
     "metadata": {},
     "output_type": "execute_result"
    }
   ],
   "source": [
    "c.translate(to='de') #Germany"
   ]
  },
  {
   "cell_type": "code",
   "execution_count": 24,
   "metadata": {},
   "outputs": [
    {
     "data": {
      "text/plain": [
       "TextBlob(\"चाणक्य (आईएएसटी: चाणक्य, इस ध्वनि उच्चारण के बारे में (सहायता · जानकारी)) एक प्राचीन भारतीय शिक्षक, दार्शनिक, अर्थशास्त्री, न्यायविद और शाही सलाहकार थे। उन्हें पारंपरिक रूप से कौटिल्य या विष्णुगुप्त के रूप में पहचाना जाता है, जिन्होंने प्राचीन भारतीय राजनीतिक ग्रंथ, अर्थशास्त्र, [३] के लेखक थे, जो लगभग ४ वीं शताब्दी ईसा पूर्व और तीसरी शताब्दी सीई के बीच का एक पाठ था। [४] जैसे, उन्हें भारत में राजनीति विज्ञान और अर्थशास्त्र के क्षेत्र का अग्रणी माना जाता है, और उनके काम को शास्त्रीय अर्थशास्त्र का एक महत्वपूर्ण अग्रदूत माना जाता है। [५] [६] [७] [८] गुप्त साम्राज्य के अंत में ६वीं शताब्दी ई. में उनकी कृतियों को खो दिया गया था और २०वीं शताब्दी की शुरुआत तक फिर से खोजा नहीं गया था। [६]\n",
       "\n",
       "चाणक्य ने पहले मौर्य सम्राट चंद्रगुप्त की सत्ता में वृद्धि में सहायता की। मौर्य साम्राज्य की स्थापना में महत्वपूर्ण भूमिका निभाने के लिए उन्हें व्यापक रूप से श्रेय दिया जाता है। चाणक्य ने सम्राट चंद्रगुप्त और उनके पुत्र बिंदुसार दोनों के मुख्य सलाहकार के रूप में कार्य किया।\n",
       "सभी चार संस्करणों में, चाणक्य अपने आप को अपमानित महसूस करते हैं\")"
      ]
     },
     "execution_count": 24,
     "metadata": {},
     "output_type": "execute_result"
    }
   ],
   "source": [
    "c.translate(to='hi') #Hindi"
   ]
  },
  {
   "cell_type": "code",
   "execution_count": 25,
   "metadata": {},
   "outputs": [
    {
     "data": {
      "text/plain": [
       "TextBlob(\"చాణక్య (IAST: Cāṇakya, ఈ ధ్వని ఉచ్చారణ గురించి (సహాయం · సమాచారం)) ఒక ప్రాచీన భారతీయ ఉపాధ్యాయుడు, తత్వవేత్త, ఆర్థికవేత్త, న్యాయవాది మరియు రాజ సలహాదారు. అతను సాంప్రదాయకంగా కౌసిల్య లేదా విష్ణుగుప్తగా గుర్తించబడ్డాడు, ఇతడు ప్రాచీన భారతీయ రాజకీయ గ్రంథమైన అర్థశాస్త్రాన్ని రచించాడు, [3] సుమారుగా 4 వ శతాబ్దం BCE మరియు 3 వ శతాబ్దం CE మధ్య ఉన్న వచనం. [4] అదేవిధంగా, అతను భారతదేశంలో రాజకీయ శాస్త్రం మరియు అర్థశాస్త్ర రంగానికి మార్గదర్శకుడిగా పరిగణించబడ్డాడు మరియు అతని పని శాస్త్రీయ ఆర్థిక శాస్త్రానికి ఒక ముఖ్యమైన పూర్వగామిగా భావించబడుతుంది. [5] [6] [7] [8] 6 వ శతాబ్దం CE లో గుప్త సామ్రాజ్యం ముగింపులో అతని రచనలు పోయాయి మరియు 20 వ శతాబ్దం ప్రారంభం వరకు తిరిగి కనుగొనబడలేదు. [6]\n",
       "\n",
       "చాణక్య మొదటి మౌర్య చక్రవర్తి చంద్రగుప్తుడు అధికారంలోకి రావడానికి సహాయం చేశాడు. మౌర్య సామ్రాజ్యాన్ని స్థాపించడంలో ముఖ్యమైన పాత్ర పోషించినందుకు అతను విస్తృతంగా ఘనత పొందాడు. చాణక్య చక్రవర్తులు చంద్రగుప్తుడు మరియు అతని కుమారుడు బిందుసారులకు ముఖ్య సలహాదారుగా పనిచేశారు.\n",
       "అన్ని నాలుగు వెర్షన్లలో, చాణక్యుడు అవమానానికి గురయ్యాడు\")"
      ]
     },
     "execution_count": 25,
     "metadata": {},
     "output_type": "execute_result"
    }
   ],
   "source": [
    "c.translate(to='te') #Telugu"
   ]
  },
  {
   "cell_type": "markdown",
   "metadata": {},
   "source": [
    "### nGrams"
   ]
  },
  {
   "cell_type": "code",
   "execution_count": 26,
   "metadata": {},
   "outputs": [
    {
     "data": {
      "text/plain": [
       "[WordList(['Chanakya']),\n",
       " WordList(['IAST']),\n",
       " WordList(['Cāṇakya']),\n",
       " WordList(['About']),\n",
       " WordList(['this']),\n",
       " WordList(['soundpronunciation']),\n",
       " WordList(['help·info']),\n",
       " WordList(['was']),\n",
       " WordList(['an']),\n",
       " WordList(['ancient']),\n",
       " WordList(['Indian']),\n",
       " WordList(['teacher']),\n",
       " WordList(['philosopher']),\n",
       " WordList(['economist']),\n",
       " WordList(['jurist']),\n",
       " WordList(['and']),\n",
       " WordList(['royal']),\n",
       " WordList(['advisor']),\n",
       " WordList(['He']),\n",
       " WordList(['is']),\n",
       " WordList(['traditionally']),\n",
       " WordList(['identified']),\n",
       " WordList(['as']),\n",
       " WordList(['Kauṭilya']),\n",
       " WordList(['or']),\n",
       " WordList(['Vishnugupta']),\n",
       " WordList(['who']),\n",
       " WordList(['authored']),\n",
       " WordList(['the']),\n",
       " WordList(['ancient']),\n",
       " WordList(['Indian']),\n",
       " WordList(['political']),\n",
       " WordList(['treatise']),\n",
       " WordList(['the']),\n",
       " WordList(['Arthashastra']),\n",
       " WordList(['3']),\n",
       " WordList(['a']),\n",
       " WordList(['text']),\n",
       " WordList(['dated']),\n",
       " WordList(['to']),\n",
       " WordList(['roughly']),\n",
       " WordList(['between']),\n",
       " WordList(['the']),\n",
       " WordList(['4th']),\n",
       " WordList(['century']),\n",
       " WordList(['BCE']),\n",
       " WordList(['and']),\n",
       " WordList(['the']),\n",
       " WordList(['3rd']),\n",
       " WordList(['century']),\n",
       " WordList(['CE']),\n",
       " WordList(['4']),\n",
       " WordList(['As']),\n",
       " WordList(['such']),\n",
       " WordList(['he']),\n",
       " WordList(['is']),\n",
       " WordList(['considered']),\n",
       " WordList(['the']),\n",
       " WordList(['pioneer']),\n",
       " WordList(['of']),\n",
       " WordList(['the']),\n",
       " WordList(['field']),\n",
       " WordList(['of']),\n",
       " WordList(['political']),\n",
       " WordList(['science']),\n",
       " WordList(['and']),\n",
       " WordList(['economics']),\n",
       " WordList(['in']),\n",
       " WordList(['India']),\n",
       " WordList(['and']),\n",
       " WordList(['his']),\n",
       " WordList(['work']),\n",
       " WordList(['is']),\n",
       " WordList(['thought']),\n",
       " WordList(['of']),\n",
       " WordList(['as']),\n",
       " WordList(['an']),\n",
       " WordList(['important']),\n",
       " WordList(['precursor']),\n",
       " WordList(['to']),\n",
       " WordList(['classical']),\n",
       " WordList(['economics']),\n",
       " WordList(['5']),\n",
       " WordList(['6']),\n",
       " WordList(['7']),\n",
       " WordList(['8']),\n",
       " WordList(['His']),\n",
       " WordList(['works']),\n",
       " WordList(['were']),\n",
       " WordList(['lost']),\n",
       " WordList(['near']),\n",
       " WordList(['the']),\n",
       " WordList(['end']),\n",
       " WordList(['of']),\n",
       " WordList(['the']),\n",
       " WordList(['Gupta']),\n",
       " WordList(['Empire']),\n",
       " WordList(['in']),\n",
       " WordList(['the']),\n",
       " WordList(['6th']),\n",
       " WordList(['century']),\n",
       " WordList(['CE']),\n",
       " WordList(['and']),\n",
       " WordList(['not']),\n",
       " WordList(['rediscovered']),\n",
       " WordList(['until']),\n",
       " WordList(['the']),\n",
       " WordList(['early']),\n",
       " WordList(['20th']),\n",
       " WordList(['century']),\n",
       " WordList(['6']),\n",
       " WordList(['Chanakya']),\n",
       " WordList(['assisted']),\n",
       " WordList(['the']),\n",
       " WordList(['first']),\n",
       " WordList(['Mauryan']),\n",
       " WordList(['emperor']),\n",
       " WordList(['Chandragupta']),\n",
       " WordList(['in']),\n",
       " WordList(['his']),\n",
       " WordList(['rise']),\n",
       " WordList(['to']),\n",
       " WordList(['power']),\n",
       " WordList(['He']),\n",
       " WordList(['is']),\n",
       " WordList(['widely']),\n",
       " WordList(['credited']),\n",
       " WordList(['for']),\n",
       " WordList(['having']),\n",
       " WordList(['played']),\n",
       " WordList(['an']),\n",
       " WordList(['important']),\n",
       " WordList(['role']),\n",
       " WordList(['in']),\n",
       " WordList(['the']),\n",
       " WordList(['establishment']),\n",
       " WordList(['of']),\n",
       " WordList(['the']),\n",
       " WordList(['Maurya']),\n",
       " WordList(['Empire']),\n",
       " WordList(['Chanakya']),\n",
       " WordList(['served']),\n",
       " WordList(['as']),\n",
       " WordList(['the']),\n",
       " WordList(['chief']),\n",
       " WordList(['advisor']),\n",
       " WordList(['to']),\n",
       " WordList(['both']),\n",
       " WordList(['emperors']),\n",
       " WordList(['Chandragupta']),\n",
       " WordList(['and']),\n",
       " WordList(['his']),\n",
       " WordList(['son']),\n",
       " WordList(['Bindusara']),\n",
       " WordList(['In']),\n",
       " WordList(['all']),\n",
       " WordList(['the']),\n",
       " WordList(['four']),\n",
       " WordList(['versions']),\n",
       " WordList(['Chanakya']),\n",
       " WordList(['feels']),\n",
       " WordList(['insulted']),\n",
       " WordList(['by']),\n",
       " WordList(['th'])]"
      ]
     },
     "execution_count": 26,
     "metadata": {},
     "output_type": "execute_result"
    }
   ],
   "source": [
    "c.ngrams(n=1) #Single words are formed seperately"
   ]
  },
  {
   "cell_type": "code",
   "execution_count": 27,
   "metadata": {},
   "outputs": [
    {
     "data": {
      "text/plain": [
       "[WordList(['Chanakya', 'IAST']),\n",
       " WordList(['IAST', 'Cāṇakya']),\n",
       " WordList(['Cāṇakya', 'About']),\n",
       " WordList(['About', 'this']),\n",
       " WordList(['this', 'soundpronunciation']),\n",
       " WordList(['soundpronunciation', 'help·info']),\n",
       " WordList(['help·info', 'was']),\n",
       " WordList(['was', 'an']),\n",
       " WordList(['an', 'ancient']),\n",
       " WordList(['ancient', 'Indian']),\n",
       " WordList(['Indian', 'teacher']),\n",
       " WordList(['teacher', 'philosopher']),\n",
       " WordList(['philosopher', 'economist']),\n",
       " WordList(['economist', 'jurist']),\n",
       " WordList(['jurist', 'and']),\n",
       " WordList(['and', 'royal']),\n",
       " WordList(['royal', 'advisor']),\n",
       " WordList(['advisor', 'He']),\n",
       " WordList(['He', 'is']),\n",
       " WordList(['is', 'traditionally']),\n",
       " WordList(['traditionally', 'identified']),\n",
       " WordList(['identified', 'as']),\n",
       " WordList(['as', 'Kauṭilya']),\n",
       " WordList(['Kauṭilya', 'or']),\n",
       " WordList(['or', 'Vishnugupta']),\n",
       " WordList(['Vishnugupta', 'who']),\n",
       " WordList(['who', 'authored']),\n",
       " WordList(['authored', 'the']),\n",
       " WordList(['the', 'ancient']),\n",
       " WordList(['ancient', 'Indian']),\n",
       " WordList(['Indian', 'political']),\n",
       " WordList(['political', 'treatise']),\n",
       " WordList(['treatise', 'the']),\n",
       " WordList(['the', 'Arthashastra']),\n",
       " WordList(['Arthashastra', '3']),\n",
       " WordList(['3', 'a']),\n",
       " WordList(['a', 'text']),\n",
       " WordList(['text', 'dated']),\n",
       " WordList(['dated', 'to']),\n",
       " WordList(['to', 'roughly']),\n",
       " WordList(['roughly', 'between']),\n",
       " WordList(['between', 'the']),\n",
       " WordList(['the', '4th']),\n",
       " WordList(['4th', 'century']),\n",
       " WordList(['century', 'BCE']),\n",
       " WordList(['BCE', 'and']),\n",
       " WordList(['and', 'the']),\n",
       " WordList(['the', '3rd']),\n",
       " WordList(['3rd', 'century']),\n",
       " WordList(['century', 'CE']),\n",
       " WordList(['CE', '4']),\n",
       " WordList(['4', 'As']),\n",
       " WordList(['As', 'such']),\n",
       " WordList(['such', 'he']),\n",
       " WordList(['he', 'is']),\n",
       " WordList(['is', 'considered']),\n",
       " WordList(['considered', 'the']),\n",
       " WordList(['the', 'pioneer']),\n",
       " WordList(['pioneer', 'of']),\n",
       " WordList(['of', 'the']),\n",
       " WordList(['the', 'field']),\n",
       " WordList(['field', 'of']),\n",
       " WordList(['of', 'political']),\n",
       " WordList(['political', 'science']),\n",
       " WordList(['science', 'and']),\n",
       " WordList(['and', 'economics']),\n",
       " WordList(['economics', 'in']),\n",
       " WordList(['in', 'India']),\n",
       " WordList(['India', 'and']),\n",
       " WordList(['and', 'his']),\n",
       " WordList(['his', 'work']),\n",
       " WordList(['work', 'is']),\n",
       " WordList(['is', 'thought']),\n",
       " WordList(['thought', 'of']),\n",
       " WordList(['of', 'as']),\n",
       " WordList(['as', 'an']),\n",
       " WordList(['an', 'important']),\n",
       " WordList(['important', 'precursor']),\n",
       " WordList(['precursor', 'to']),\n",
       " WordList(['to', 'classical']),\n",
       " WordList(['classical', 'economics']),\n",
       " WordList(['economics', '5']),\n",
       " WordList(['5', '6']),\n",
       " WordList(['6', '7']),\n",
       " WordList(['7', '8']),\n",
       " WordList(['8', 'His']),\n",
       " WordList(['His', 'works']),\n",
       " WordList(['works', 'were']),\n",
       " WordList(['were', 'lost']),\n",
       " WordList(['lost', 'near']),\n",
       " WordList(['near', 'the']),\n",
       " WordList(['the', 'end']),\n",
       " WordList(['end', 'of']),\n",
       " WordList(['of', 'the']),\n",
       " WordList(['the', 'Gupta']),\n",
       " WordList(['Gupta', 'Empire']),\n",
       " WordList(['Empire', 'in']),\n",
       " WordList(['in', 'the']),\n",
       " WordList(['the', '6th']),\n",
       " WordList(['6th', 'century']),\n",
       " WordList(['century', 'CE']),\n",
       " WordList(['CE', 'and']),\n",
       " WordList(['and', 'not']),\n",
       " WordList(['not', 'rediscovered']),\n",
       " WordList(['rediscovered', 'until']),\n",
       " WordList(['until', 'the']),\n",
       " WordList(['the', 'early']),\n",
       " WordList(['early', '20th']),\n",
       " WordList(['20th', 'century']),\n",
       " WordList(['century', '6']),\n",
       " WordList(['6', 'Chanakya']),\n",
       " WordList(['Chanakya', 'assisted']),\n",
       " WordList(['assisted', 'the']),\n",
       " WordList(['the', 'first']),\n",
       " WordList(['first', 'Mauryan']),\n",
       " WordList(['Mauryan', 'emperor']),\n",
       " WordList(['emperor', 'Chandragupta']),\n",
       " WordList(['Chandragupta', 'in']),\n",
       " WordList(['in', 'his']),\n",
       " WordList(['his', 'rise']),\n",
       " WordList(['rise', 'to']),\n",
       " WordList(['to', 'power']),\n",
       " WordList(['power', 'He']),\n",
       " WordList(['He', 'is']),\n",
       " WordList(['is', 'widely']),\n",
       " WordList(['widely', 'credited']),\n",
       " WordList(['credited', 'for']),\n",
       " WordList(['for', 'having']),\n",
       " WordList(['having', 'played']),\n",
       " WordList(['played', 'an']),\n",
       " WordList(['an', 'important']),\n",
       " WordList(['important', 'role']),\n",
       " WordList(['role', 'in']),\n",
       " WordList(['in', 'the']),\n",
       " WordList(['the', 'establishment']),\n",
       " WordList(['establishment', 'of']),\n",
       " WordList(['of', 'the']),\n",
       " WordList(['the', 'Maurya']),\n",
       " WordList(['Maurya', 'Empire']),\n",
       " WordList(['Empire', 'Chanakya']),\n",
       " WordList(['Chanakya', 'served']),\n",
       " WordList(['served', 'as']),\n",
       " WordList(['as', 'the']),\n",
       " WordList(['the', 'chief']),\n",
       " WordList(['chief', 'advisor']),\n",
       " WordList(['advisor', 'to']),\n",
       " WordList(['to', 'both']),\n",
       " WordList(['both', 'emperors']),\n",
       " WordList(['emperors', 'Chandragupta']),\n",
       " WordList(['Chandragupta', 'and']),\n",
       " WordList(['and', 'his']),\n",
       " WordList(['his', 'son']),\n",
       " WordList(['son', 'Bindusara']),\n",
       " WordList(['Bindusara', 'In']),\n",
       " WordList(['In', 'all']),\n",
       " WordList(['all', 'the']),\n",
       " WordList(['the', 'four']),\n",
       " WordList(['four', 'versions']),\n",
       " WordList(['versions', 'Chanakya']),\n",
       " WordList(['Chanakya', 'feels']),\n",
       " WordList(['feels', 'insulted']),\n",
       " WordList(['insulted', 'by']),\n",
       " WordList(['by', 'th'])]"
      ]
     },
     "execution_count": 27,
     "metadata": {},
     "output_type": "execute_result"
    }
   ],
   "source": [
    "c.ngrams(n=2) #2 words are grouped"
   ]
  },
  {
   "cell_type": "code",
   "execution_count": 28,
   "metadata": {},
   "outputs": [
    {
     "data": {
      "text/plain": [
       "[WordList(['Chanakya', 'IAST', 'Cāṇakya', 'About', 'this']),\n",
       " WordList(['IAST', 'Cāṇakya', 'About', 'this', 'soundpronunciation']),\n",
       " WordList(['Cāṇakya', 'About', 'this', 'soundpronunciation', 'help·info']),\n",
       " WordList(['About', 'this', 'soundpronunciation', 'help·info', 'was']),\n",
       " WordList(['this', 'soundpronunciation', 'help·info', 'was', 'an']),\n",
       " WordList(['soundpronunciation', 'help·info', 'was', 'an', 'ancient']),\n",
       " WordList(['help·info', 'was', 'an', 'ancient', 'Indian']),\n",
       " WordList(['was', 'an', 'ancient', 'Indian', 'teacher']),\n",
       " WordList(['an', 'ancient', 'Indian', 'teacher', 'philosopher']),\n",
       " WordList(['ancient', 'Indian', 'teacher', 'philosopher', 'economist']),\n",
       " WordList(['Indian', 'teacher', 'philosopher', 'economist', 'jurist']),\n",
       " WordList(['teacher', 'philosopher', 'economist', 'jurist', 'and']),\n",
       " WordList(['philosopher', 'economist', 'jurist', 'and', 'royal']),\n",
       " WordList(['economist', 'jurist', 'and', 'royal', 'advisor']),\n",
       " WordList(['jurist', 'and', 'royal', 'advisor', 'He']),\n",
       " WordList(['and', 'royal', 'advisor', 'He', 'is']),\n",
       " WordList(['royal', 'advisor', 'He', 'is', 'traditionally']),\n",
       " WordList(['advisor', 'He', 'is', 'traditionally', 'identified']),\n",
       " WordList(['He', 'is', 'traditionally', 'identified', 'as']),\n",
       " WordList(['is', 'traditionally', 'identified', 'as', 'Kauṭilya']),\n",
       " WordList(['traditionally', 'identified', 'as', 'Kauṭilya', 'or']),\n",
       " WordList(['identified', 'as', 'Kauṭilya', 'or', 'Vishnugupta']),\n",
       " WordList(['as', 'Kauṭilya', 'or', 'Vishnugupta', 'who']),\n",
       " WordList(['Kauṭilya', 'or', 'Vishnugupta', 'who', 'authored']),\n",
       " WordList(['or', 'Vishnugupta', 'who', 'authored', 'the']),\n",
       " WordList(['Vishnugupta', 'who', 'authored', 'the', 'ancient']),\n",
       " WordList(['who', 'authored', 'the', 'ancient', 'Indian']),\n",
       " WordList(['authored', 'the', 'ancient', 'Indian', 'political']),\n",
       " WordList(['the', 'ancient', 'Indian', 'political', 'treatise']),\n",
       " WordList(['ancient', 'Indian', 'political', 'treatise', 'the']),\n",
       " WordList(['Indian', 'political', 'treatise', 'the', 'Arthashastra']),\n",
       " WordList(['political', 'treatise', 'the', 'Arthashastra', '3']),\n",
       " WordList(['treatise', 'the', 'Arthashastra', '3', 'a']),\n",
       " WordList(['the', 'Arthashastra', '3', 'a', 'text']),\n",
       " WordList(['Arthashastra', '3', 'a', 'text', 'dated']),\n",
       " WordList(['3', 'a', 'text', 'dated', 'to']),\n",
       " WordList(['a', 'text', 'dated', 'to', 'roughly']),\n",
       " WordList(['text', 'dated', 'to', 'roughly', 'between']),\n",
       " WordList(['dated', 'to', 'roughly', 'between', 'the']),\n",
       " WordList(['to', 'roughly', 'between', 'the', '4th']),\n",
       " WordList(['roughly', 'between', 'the', '4th', 'century']),\n",
       " WordList(['between', 'the', '4th', 'century', 'BCE']),\n",
       " WordList(['the', '4th', 'century', 'BCE', 'and']),\n",
       " WordList(['4th', 'century', 'BCE', 'and', 'the']),\n",
       " WordList(['century', 'BCE', 'and', 'the', '3rd']),\n",
       " WordList(['BCE', 'and', 'the', '3rd', 'century']),\n",
       " WordList(['and', 'the', '3rd', 'century', 'CE']),\n",
       " WordList(['the', '3rd', 'century', 'CE', '4']),\n",
       " WordList(['3rd', 'century', 'CE', '4', 'As']),\n",
       " WordList(['century', 'CE', '4', 'As', 'such']),\n",
       " WordList(['CE', '4', 'As', 'such', 'he']),\n",
       " WordList(['4', 'As', 'such', 'he', 'is']),\n",
       " WordList(['As', 'such', 'he', 'is', 'considered']),\n",
       " WordList(['such', 'he', 'is', 'considered', 'the']),\n",
       " WordList(['he', 'is', 'considered', 'the', 'pioneer']),\n",
       " WordList(['is', 'considered', 'the', 'pioneer', 'of']),\n",
       " WordList(['considered', 'the', 'pioneer', 'of', 'the']),\n",
       " WordList(['the', 'pioneer', 'of', 'the', 'field']),\n",
       " WordList(['pioneer', 'of', 'the', 'field', 'of']),\n",
       " WordList(['of', 'the', 'field', 'of', 'political']),\n",
       " WordList(['the', 'field', 'of', 'political', 'science']),\n",
       " WordList(['field', 'of', 'political', 'science', 'and']),\n",
       " WordList(['of', 'political', 'science', 'and', 'economics']),\n",
       " WordList(['political', 'science', 'and', 'economics', 'in']),\n",
       " WordList(['science', 'and', 'economics', 'in', 'India']),\n",
       " WordList(['and', 'economics', 'in', 'India', 'and']),\n",
       " WordList(['economics', 'in', 'India', 'and', 'his']),\n",
       " WordList(['in', 'India', 'and', 'his', 'work']),\n",
       " WordList(['India', 'and', 'his', 'work', 'is']),\n",
       " WordList(['and', 'his', 'work', 'is', 'thought']),\n",
       " WordList(['his', 'work', 'is', 'thought', 'of']),\n",
       " WordList(['work', 'is', 'thought', 'of', 'as']),\n",
       " WordList(['is', 'thought', 'of', 'as', 'an']),\n",
       " WordList(['thought', 'of', 'as', 'an', 'important']),\n",
       " WordList(['of', 'as', 'an', 'important', 'precursor']),\n",
       " WordList(['as', 'an', 'important', 'precursor', 'to']),\n",
       " WordList(['an', 'important', 'precursor', 'to', 'classical']),\n",
       " WordList(['important', 'precursor', 'to', 'classical', 'economics']),\n",
       " WordList(['precursor', 'to', 'classical', 'economics', '5']),\n",
       " WordList(['to', 'classical', 'economics', '5', '6']),\n",
       " WordList(['classical', 'economics', '5', '6', '7']),\n",
       " WordList(['economics', '5', '6', '7', '8']),\n",
       " WordList(['5', '6', '7', '8', 'His']),\n",
       " WordList(['6', '7', '8', 'His', 'works']),\n",
       " WordList(['7', '8', 'His', 'works', 'were']),\n",
       " WordList(['8', 'His', 'works', 'were', 'lost']),\n",
       " WordList(['His', 'works', 'were', 'lost', 'near']),\n",
       " WordList(['works', 'were', 'lost', 'near', 'the']),\n",
       " WordList(['were', 'lost', 'near', 'the', 'end']),\n",
       " WordList(['lost', 'near', 'the', 'end', 'of']),\n",
       " WordList(['near', 'the', 'end', 'of', 'the']),\n",
       " WordList(['the', 'end', 'of', 'the', 'Gupta']),\n",
       " WordList(['end', 'of', 'the', 'Gupta', 'Empire']),\n",
       " WordList(['of', 'the', 'Gupta', 'Empire', 'in']),\n",
       " WordList(['the', 'Gupta', 'Empire', 'in', 'the']),\n",
       " WordList(['Gupta', 'Empire', 'in', 'the', '6th']),\n",
       " WordList(['Empire', 'in', 'the', '6th', 'century']),\n",
       " WordList(['in', 'the', '6th', 'century', 'CE']),\n",
       " WordList(['the', '6th', 'century', 'CE', 'and']),\n",
       " WordList(['6th', 'century', 'CE', 'and', 'not']),\n",
       " WordList(['century', 'CE', 'and', 'not', 'rediscovered']),\n",
       " WordList(['CE', 'and', 'not', 'rediscovered', 'until']),\n",
       " WordList(['and', 'not', 'rediscovered', 'until', 'the']),\n",
       " WordList(['not', 'rediscovered', 'until', 'the', 'early']),\n",
       " WordList(['rediscovered', 'until', 'the', 'early', '20th']),\n",
       " WordList(['until', 'the', 'early', '20th', 'century']),\n",
       " WordList(['the', 'early', '20th', 'century', '6']),\n",
       " WordList(['early', '20th', 'century', '6', 'Chanakya']),\n",
       " WordList(['20th', 'century', '6', 'Chanakya', 'assisted']),\n",
       " WordList(['century', '6', 'Chanakya', 'assisted', 'the']),\n",
       " WordList(['6', 'Chanakya', 'assisted', 'the', 'first']),\n",
       " WordList(['Chanakya', 'assisted', 'the', 'first', 'Mauryan']),\n",
       " WordList(['assisted', 'the', 'first', 'Mauryan', 'emperor']),\n",
       " WordList(['the', 'first', 'Mauryan', 'emperor', 'Chandragupta']),\n",
       " WordList(['first', 'Mauryan', 'emperor', 'Chandragupta', 'in']),\n",
       " WordList(['Mauryan', 'emperor', 'Chandragupta', 'in', 'his']),\n",
       " WordList(['emperor', 'Chandragupta', 'in', 'his', 'rise']),\n",
       " WordList(['Chandragupta', 'in', 'his', 'rise', 'to']),\n",
       " WordList(['in', 'his', 'rise', 'to', 'power']),\n",
       " WordList(['his', 'rise', 'to', 'power', 'He']),\n",
       " WordList(['rise', 'to', 'power', 'He', 'is']),\n",
       " WordList(['to', 'power', 'He', 'is', 'widely']),\n",
       " WordList(['power', 'He', 'is', 'widely', 'credited']),\n",
       " WordList(['He', 'is', 'widely', 'credited', 'for']),\n",
       " WordList(['is', 'widely', 'credited', 'for', 'having']),\n",
       " WordList(['widely', 'credited', 'for', 'having', 'played']),\n",
       " WordList(['credited', 'for', 'having', 'played', 'an']),\n",
       " WordList(['for', 'having', 'played', 'an', 'important']),\n",
       " WordList(['having', 'played', 'an', 'important', 'role']),\n",
       " WordList(['played', 'an', 'important', 'role', 'in']),\n",
       " WordList(['an', 'important', 'role', 'in', 'the']),\n",
       " WordList(['important', 'role', 'in', 'the', 'establishment']),\n",
       " WordList(['role', 'in', 'the', 'establishment', 'of']),\n",
       " WordList(['in', 'the', 'establishment', 'of', 'the']),\n",
       " WordList(['the', 'establishment', 'of', 'the', 'Maurya']),\n",
       " WordList(['establishment', 'of', 'the', 'Maurya', 'Empire']),\n",
       " WordList(['of', 'the', 'Maurya', 'Empire', 'Chanakya']),\n",
       " WordList(['the', 'Maurya', 'Empire', 'Chanakya', 'served']),\n",
       " WordList(['Maurya', 'Empire', 'Chanakya', 'served', 'as']),\n",
       " WordList(['Empire', 'Chanakya', 'served', 'as', 'the']),\n",
       " WordList(['Chanakya', 'served', 'as', 'the', 'chief']),\n",
       " WordList(['served', 'as', 'the', 'chief', 'advisor']),\n",
       " WordList(['as', 'the', 'chief', 'advisor', 'to']),\n",
       " WordList(['the', 'chief', 'advisor', 'to', 'both']),\n",
       " WordList(['chief', 'advisor', 'to', 'both', 'emperors']),\n",
       " WordList(['advisor', 'to', 'both', 'emperors', 'Chandragupta']),\n",
       " WordList(['to', 'both', 'emperors', 'Chandragupta', 'and']),\n",
       " WordList(['both', 'emperors', 'Chandragupta', 'and', 'his']),\n",
       " WordList(['emperors', 'Chandragupta', 'and', 'his', 'son']),\n",
       " WordList(['Chandragupta', 'and', 'his', 'son', 'Bindusara']),\n",
       " WordList(['and', 'his', 'son', 'Bindusara', 'In']),\n",
       " WordList(['his', 'son', 'Bindusara', 'In', 'all']),\n",
       " WordList(['son', 'Bindusara', 'In', 'all', 'the']),\n",
       " WordList(['Bindusara', 'In', 'all', 'the', 'four']),\n",
       " WordList(['In', 'all', 'the', 'four', 'versions']),\n",
       " WordList(['all', 'the', 'four', 'versions', 'Chanakya']),\n",
       " WordList(['the', 'four', 'versions', 'Chanakya', 'feels']),\n",
       " WordList(['four', 'versions', 'Chanakya', 'feels', 'insulted']),\n",
       " WordList(['versions', 'Chanakya', 'feels', 'insulted', 'by']),\n",
       " WordList(['Chanakya', 'feels', 'insulted', 'by', 'th'])]"
      ]
     },
     "execution_count": 28,
     "metadata": {},
     "output_type": "execute_result"
    }
   ],
   "source": [
    "c.ngrams(n=5) # 5 words are grouped"
   ]
  },
  {
   "cell_type": "code",
   "execution_count": 29,
   "metadata": {},
   "outputs": [
    {
     "data": {
      "text/plain": [
       "[WordList(['Chanakya', 'IAST', 'Cāṇakya', 'About', 'this', 'soundpronunciation', 'help·info', 'was', 'an', 'ancient', 'Indian', 'teacher', 'philosopher', 'economist', 'jurist', 'and', 'royal', 'advisor', 'He', 'is']),\n",
       " WordList(['IAST', 'Cāṇakya', 'About', 'this', 'soundpronunciation', 'help·info', 'was', 'an', 'ancient', 'Indian', 'teacher', 'philosopher', 'economist', 'jurist', 'and', 'royal', 'advisor', 'He', 'is', 'traditionally']),\n",
       " WordList(['Cāṇakya', 'About', 'this', 'soundpronunciation', 'help·info', 'was', 'an', 'ancient', 'Indian', 'teacher', 'philosopher', 'economist', 'jurist', 'and', 'royal', 'advisor', 'He', 'is', 'traditionally', 'identified']),\n",
       " WordList(['About', 'this', 'soundpronunciation', 'help·info', 'was', 'an', 'ancient', 'Indian', 'teacher', 'philosopher', 'economist', 'jurist', 'and', 'royal', 'advisor', 'He', 'is', 'traditionally', 'identified', 'as']),\n",
       " WordList(['this', 'soundpronunciation', 'help·info', 'was', 'an', 'ancient', 'Indian', 'teacher', 'philosopher', 'economist', 'jurist', 'and', 'royal', 'advisor', 'He', 'is', 'traditionally', 'identified', 'as', 'Kauṭilya']),\n",
       " WordList(['soundpronunciation', 'help·info', 'was', 'an', 'ancient', 'Indian', 'teacher', 'philosopher', 'economist', 'jurist', 'and', 'royal', 'advisor', 'He', 'is', 'traditionally', 'identified', 'as', 'Kauṭilya', 'or']),\n",
       " WordList(['help·info', 'was', 'an', 'ancient', 'Indian', 'teacher', 'philosopher', 'economist', 'jurist', 'and', 'royal', 'advisor', 'He', 'is', 'traditionally', 'identified', 'as', 'Kauṭilya', 'or', 'Vishnugupta']),\n",
       " WordList(['was', 'an', 'ancient', 'Indian', 'teacher', 'philosopher', 'economist', 'jurist', 'and', 'royal', 'advisor', 'He', 'is', 'traditionally', 'identified', 'as', 'Kauṭilya', 'or', 'Vishnugupta', 'who']),\n",
       " WordList(['an', 'ancient', 'Indian', 'teacher', 'philosopher', 'economist', 'jurist', 'and', 'royal', 'advisor', 'He', 'is', 'traditionally', 'identified', 'as', 'Kauṭilya', 'or', 'Vishnugupta', 'who', 'authored']),\n",
       " WordList(['ancient', 'Indian', 'teacher', 'philosopher', 'economist', 'jurist', 'and', 'royal', 'advisor', 'He', 'is', 'traditionally', 'identified', 'as', 'Kauṭilya', 'or', 'Vishnugupta', 'who', 'authored', 'the']),\n",
       " WordList(['Indian', 'teacher', 'philosopher', 'economist', 'jurist', 'and', 'royal', 'advisor', 'He', 'is', 'traditionally', 'identified', 'as', 'Kauṭilya', 'or', 'Vishnugupta', 'who', 'authored', 'the', 'ancient']),\n",
       " WordList(['teacher', 'philosopher', 'economist', 'jurist', 'and', 'royal', 'advisor', 'He', 'is', 'traditionally', 'identified', 'as', 'Kauṭilya', 'or', 'Vishnugupta', 'who', 'authored', 'the', 'ancient', 'Indian']),\n",
       " WordList(['philosopher', 'economist', 'jurist', 'and', 'royal', 'advisor', 'He', 'is', 'traditionally', 'identified', 'as', 'Kauṭilya', 'or', 'Vishnugupta', 'who', 'authored', 'the', 'ancient', 'Indian', 'political']),\n",
       " WordList(['economist', 'jurist', 'and', 'royal', 'advisor', 'He', 'is', 'traditionally', 'identified', 'as', 'Kauṭilya', 'or', 'Vishnugupta', 'who', 'authored', 'the', 'ancient', 'Indian', 'political', 'treatise']),\n",
       " WordList(['jurist', 'and', 'royal', 'advisor', 'He', 'is', 'traditionally', 'identified', 'as', 'Kauṭilya', 'or', 'Vishnugupta', 'who', 'authored', 'the', 'ancient', 'Indian', 'political', 'treatise', 'the']),\n",
       " WordList(['and', 'royal', 'advisor', 'He', 'is', 'traditionally', 'identified', 'as', 'Kauṭilya', 'or', 'Vishnugupta', 'who', 'authored', 'the', 'ancient', 'Indian', 'political', 'treatise', 'the', 'Arthashastra']),\n",
       " WordList(['royal', 'advisor', 'He', 'is', 'traditionally', 'identified', 'as', 'Kauṭilya', 'or', 'Vishnugupta', 'who', 'authored', 'the', 'ancient', 'Indian', 'political', 'treatise', 'the', 'Arthashastra', '3']),\n",
       " WordList(['advisor', 'He', 'is', 'traditionally', 'identified', 'as', 'Kauṭilya', 'or', 'Vishnugupta', 'who', 'authored', 'the', 'ancient', 'Indian', 'political', 'treatise', 'the', 'Arthashastra', '3', 'a']),\n",
       " WordList(['He', 'is', 'traditionally', 'identified', 'as', 'Kauṭilya', 'or', 'Vishnugupta', 'who', 'authored', 'the', 'ancient', 'Indian', 'political', 'treatise', 'the', 'Arthashastra', '3', 'a', 'text']),\n",
       " WordList(['is', 'traditionally', 'identified', 'as', 'Kauṭilya', 'or', 'Vishnugupta', 'who', 'authored', 'the', 'ancient', 'Indian', 'political', 'treatise', 'the', 'Arthashastra', '3', 'a', 'text', 'dated']),\n",
       " WordList(['traditionally', 'identified', 'as', 'Kauṭilya', 'or', 'Vishnugupta', 'who', 'authored', 'the', 'ancient', 'Indian', 'political', 'treatise', 'the', 'Arthashastra', '3', 'a', 'text', 'dated', 'to']),\n",
       " WordList(['identified', 'as', 'Kauṭilya', 'or', 'Vishnugupta', 'who', 'authored', 'the', 'ancient', 'Indian', 'political', 'treatise', 'the', 'Arthashastra', '3', 'a', 'text', 'dated', 'to', 'roughly']),\n",
       " WordList(['as', 'Kauṭilya', 'or', 'Vishnugupta', 'who', 'authored', 'the', 'ancient', 'Indian', 'political', 'treatise', 'the', 'Arthashastra', '3', 'a', 'text', 'dated', 'to', 'roughly', 'between']),\n",
       " WordList(['Kauṭilya', 'or', 'Vishnugupta', 'who', 'authored', 'the', 'ancient', 'Indian', 'political', 'treatise', 'the', 'Arthashastra', '3', 'a', 'text', 'dated', 'to', 'roughly', 'between', 'the']),\n",
       " WordList(['or', 'Vishnugupta', 'who', 'authored', 'the', 'ancient', 'Indian', 'political', 'treatise', 'the', 'Arthashastra', '3', 'a', 'text', 'dated', 'to', 'roughly', 'between', 'the', '4th']),\n",
       " WordList(['Vishnugupta', 'who', 'authored', 'the', 'ancient', 'Indian', 'political', 'treatise', 'the', 'Arthashastra', '3', 'a', 'text', 'dated', 'to', 'roughly', 'between', 'the', '4th', 'century']),\n",
       " WordList(['who', 'authored', 'the', 'ancient', 'Indian', 'political', 'treatise', 'the', 'Arthashastra', '3', 'a', 'text', 'dated', 'to', 'roughly', 'between', 'the', '4th', 'century', 'BCE']),\n",
       " WordList(['authored', 'the', 'ancient', 'Indian', 'political', 'treatise', 'the', 'Arthashastra', '3', 'a', 'text', 'dated', 'to', 'roughly', 'between', 'the', '4th', 'century', 'BCE', 'and']),\n",
       " WordList(['the', 'ancient', 'Indian', 'political', 'treatise', 'the', 'Arthashastra', '3', 'a', 'text', 'dated', 'to', 'roughly', 'between', 'the', '4th', 'century', 'BCE', 'and', 'the']),\n",
       " WordList(['ancient', 'Indian', 'political', 'treatise', 'the', 'Arthashastra', '3', 'a', 'text', 'dated', 'to', 'roughly', 'between', 'the', '4th', 'century', 'BCE', 'and', 'the', '3rd']),\n",
       " WordList(['Indian', 'political', 'treatise', 'the', 'Arthashastra', '3', 'a', 'text', 'dated', 'to', 'roughly', 'between', 'the', '4th', 'century', 'BCE', 'and', 'the', '3rd', 'century']),\n",
       " WordList(['political', 'treatise', 'the', 'Arthashastra', '3', 'a', 'text', 'dated', 'to', 'roughly', 'between', 'the', '4th', 'century', 'BCE', 'and', 'the', '3rd', 'century', 'CE']),\n",
       " WordList(['treatise', 'the', 'Arthashastra', '3', 'a', 'text', 'dated', 'to', 'roughly', 'between', 'the', '4th', 'century', 'BCE', 'and', 'the', '3rd', 'century', 'CE', '4']),\n",
       " WordList(['the', 'Arthashastra', '3', 'a', 'text', 'dated', 'to', 'roughly', 'between', 'the', '4th', 'century', 'BCE', 'and', 'the', '3rd', 'century', 'CE', '4', 'As']),\n",
       " WordList(['Arthashastra', '3', 'a', 'text', 'dated', 'to', 'roughly', 'between', 'the', '4th', 'century', 'BCE', 'and', 'the', '3rd', 'century', 'CE', '4', 'As', 'such']),\n",
       " WordList(['3', 'a', 'text', 'dated', 'to', 'roughly', 'between', 'the', '4th', 'century', 'BCE', 'and', 'the', '3rd', 'century', 'CE', '4', 'As', 'such', 'he']),\n",
       " WordList(['a', 'text', 'dated', 'to', 'roughly', 'between', 'the', '4th', 'century', 'BCE', 'and', 'the', '3rd', 'century', 'CE', '4', 'As', 'such', 'he', 'is']),\n",
       " WordList(['text', 'dated', 'to', 'roughly', 'between', 'the', '4th', 'century', 'BCE', 'and', 'the', '3rd', 'century', 'CE', '4', 'As', 'such', 'he', 'is', 'considered']),\n",
       " WordList(['dated', 'to', 'roughly', 'between', 'the', '4th', 'century', 'BCE', 'and', 'the', '3rd', 'century', 'CE', '4', 'As', 'such', 'he', 'is', 'considered', 'the']),\n",
       " WordList(['to', 'roughly', 'between', 'the', '4th', 'century', 'BCE', 'and', 'the', '3rd', 'century', 'CE', '4', 'As', 'such', 'he', 'is', 'considered', 'the', 'pioneer']),\n",
       " WordList(['roughly', 'between', 'the', '4th', 'century', 'BCE', 'and', 'the', '3rd', 'century', 'CE', '4', 'As', 'such', 'he', 'is', 'considered', 'the', 'pioneer', 'of']),\n",
       " WordList(['between', 'the', '4th', 'century', 'BCE', 'and', 'the', '3rd', 'century', 'CE', '4', 'As', 'such', 'he', 'is', 'considered', 'the', 'pioneer', 'of', 'the']),\n",
       " WordList(['the', '4th', 'century', 'BCE', 'and', 'the', '3rd', 'century', 'CE', '4', 'As', 'such', 'he', 'is', 'considered', 'the', 'pioneer', 'of', 'the', 'field']),\n",
       " WordList(['4th', 'century', 'BCE', 'and', 'the', '3rd', 'century', 'CE', '4', 'As', 'such', 'he', 'is', 'considered', 'the', 'pioneer', 'of', 'the', 'field', 'of']),\n",
       " WordList(['century', 'BCE', 'and', 'the', '3rd', 'century', 'CE', '4', 'As', 'such', 'he', 'is', 'considered', 'the', 'pioneer', 'of', 'the', 'field', 'of', 'political']),\n",
       " WordList(['BCE', 'and', 'the', '3rd', 'century', 'CE', '4', 'As', 'such', 'he', 'is', 'considered', 'the', 'pioneer', 'of', 'the', 'field', 'of', 'political', 'science']),\n",
       " WordList(['and', 'the', '3rd', 'century', 'CE', '4', 'As', 'such', 'he', 'is', 'considered', 'the', 'pioneer', 'of', 'the', 'field', 'of', 'political', 'science', 'and']),\n",
       " WordList(['the', '3rd', 'century', 'CE', '4', 'As', 'such', 'he', 'is', 'considered', 'the', 'pioneer', 'of', 'the', 'field', 'of', 'political', 'science', 'and', 'economics']),\n",
       " WordList(['3rd', 'century', 'CE', '4', 'As', 'such', 'he', 'is', 'considered', 'the', 'pioneer', 'of', 'the', 'field', 'of', 'political', 'science', 'and', 'economics', 'in']),\n",
       " WordList(['century', 'CE', '4', 'As', 'such', 'he', 'is', 'considered', 'the', 'pioneer', 'of', 'the', 'field', 'of', 'political', 'science', 'and', 'economics', 'in', 'India']),\n",
       " WordList(['CE', '4', 'As', 'such', 'he', 'is', 'considered', 'the', 'pioneer', 'of', 'the', 'field', 'of', 'political', 'science', 'and', 'economics', 'in', 'India', 'and']),\n",
       " WordList(['4', 'As', 'such', 'he', 'is', 'considered', 'the', 'pioneer', 'of', 'the', 'field', 'of', 'political', 'science', 'and', 'economics', 'in', 'India', 'and', 'his']),\n",
       " WordList(['As', 'such', 'he', 'is', 'considered', 'the', 'pioneer', 'of', 'the', 'field', 'of', 'political', 'science', 'and', 'economics', 'in', 'India', 'and', 'his', 'work']),\n",
       " WordList(['such', 'he', 'is', 'considered', 'the', 'pioneer', 'of', 'the', 'field', 'of', 'political', 'science', 'and', 'economics', 'in', 'India', 'and', 'his', 'work', 'is']),\n",
       " WordList(['he', 'is', 'considered', 'the', 'pioneer', 'of', 'the', 'field', 'of', 'political', 'science', 'and', 'economics', 'in', 'India', 'and', 'his', 'work', 'is', 'thought']),\n",
       " WordList(['is', 'considered', 'the', 'pioneer', 'of', 'the', 'field', 'of', 'political', 'science', 'and', 'economics', 'in', 'India', 'and', 'his', 'work', 'is', 'thought', 'of']),\n",
       " WordList(['considered', 'the', 'pioneer', 'of', 'the', 'field', 'of', 'political', 'science', 'and', 'economics', 'in', 'India', 'and', 'his', 'work', 'is', 'thought', 'of', 'as']),\n",
       " WordList(['the', 'pioneer', 'of', 'the', 'field', 'of', 'political', 'science', 'and', 'economics', 'in', 'India', 'and', 'his', 'work', 'is', 'thought', 'of', 'as', 'an']),\n",
       " WordList(['pioneer', 'of', 'the', 'field', 'of', 'political', 'science', 'and', 'economics', 'in', 'India', 'and', 'his', 'work', 'is', 'thought', 'of', 'as', 'an', 'important']),\n",
       " WordList(['of', 'the', 'field', 'of', 'political', 'science', 'and', 'economics', 'in', 'India', 'and', 'his', 'work', 'is', 'thought', 'of', 'as', 'an', 'important', 'precursor']),\n",
       " WordList(['the', 'field', 'of', 'political', 'science', 'and', 'economics', 'in', 'India', 'and', 'his', 'work', 'is', 'thought', 'of', 'as', 'an', 'important', 'precursor', 'to']),\n",
       " WordList(['field', 'of', 'political', 'science', 'and', 'economics', 'in', 'India', 'and', 'his', 'work', 'is', 'thought', 'of', 'as', 'an', 'important', 'precursor', 'to', 'classical']),\n",
       " WordList(['of', 'political', 'science', 'and', 'economics', 'in', 'India', 'and', 'his', 'work', 'is', 'thought', 'of', 'as', 'an', 'important', 'precursor', 'to', 'classical', 'economics']),\n",
       " WordList(['political', 'science', 'and', 'economics', 'in', 'India', 'and', 'his', 'work', 'is', 'thought', 'of', 'as', 'an', 'important', 'precursor', 'to', 'classical', 'economics', '5']),\n",
       " WordList(['science', 'and', 'economics', 'in', 'India', 'and', 'his', 'work', 'is', 'thought', 'of', 'as', 'an', 'important', 'precursor', 'to', 'classical', 'economics', '5', '6']),\n",
       " WordList(['and', 'economics', 'in', 'India', 'and', 'his', 'work', 'is', 'thought', 'of', 'as', 'an', 'important', 'precursor', 'to', 'classical', 'economics', '5', '6', '7']),\n",
       " WordList(['economics', 'in', 'India', 'and', 'his', 'work', 'is', 'thought', 'of', 'as', 'an', 'important', 'precursor', 'to', 'classical', 'economics', '5', '6', '7', '8']),\n",
       " WordList(['in', 'India', 'and', 'his', 'work', 'is', 'thought', 'of', 'as', 'an', 'important', 'precursor', 'to', 'classical', 'economics', '5', '6', '7', '8', 'His']),\n",
       " WordList(['India', 'and', 'his', 'work', 'is', 'thought', 'of', 'as', 'an', 'important', 'precursor', 'to', 'classical', 'economics', '5', '6', '7', '8', 'His', 'works']),\n",
       " WordList(['and', 'his', 'work', 'is', 'thought', 'of', 'as', 'an', 'important', 'precursor', 'to', 'classical', 'economics', '5', '6', '7', '8', 'His', 'works', 'were']),\n",
       " WordList(['his', 'work', 'is', 'thought', 'of', 'as', 'an', 'important', 'precursor', 'to', 'classical', 'economics', '5', '6', '7', '8', 'His', 'works', 'were', 'lost']),\n",
       " WordList(['work', 'is', 'thought', 'of', 'as', 'an', 'important', 'precursor', 'to', 'classical', 'economics', '5', '6', '7', '8', 'His', 'works', 'were', 'lost', 'near']),\n",
       " WordList(['is', 'thought', 'of', 'as', 'an', 'important', 'precursor', 'to', 'classical', 'economics', '5', '6', '7', '8', 'His', 'works', 'were', 'lost', 'near', 'the']),\n",
       " WordList(['thought', 'of', 'as', 'an', 'important', 'precursor', 'to', 'classical', 'economics', '5', '6', '7', '8', 'His', 'works', 'were', 'lost', 'near', 'the', 'end']),\n",
       " WordList(['of', 'as', 'an', 'important', 'precursor', 'to', 'classical', 'economics', '5', '6', '7', '8', 'His', 'works', 'were', 'lost', 'near', 'the', 'end', 'of']),\n",
       " WordList(['as', 'an', 'important', 'precursor', 'to', 'classical', 'economics', '5', '6', '7', '8', 'His', 'works', 'were', 'lost', 'near', 'the', 'end', 'of', 'the']),\n",
       " WordList(['an', 'important', 'precursor', 'to', 'classical', 'economics', '5', '6', '7', '8', 'His', 'works', 'were', 'lost', 'near', 'the', 'end', 'of', 'the', 'Gupta']),\n",
       " WordList(['important', 'precursor', 'to', 'classical', 'economics', '5', '6', '7', '8', 'His', 'works', 'were', 'lost', 'near', 'the', 'end', 'of', 'the', 'Gupta', 'Empire']),\n",
       " WordList(['precursor', 'to', 'classical', 'economics', '5', '6', '7', '8', 'His', 'works', 'were', 'lost', 'near', 'the', 'end', 'of', 'the', 'Gupta', 'Empire', 'in']),\n",
       " WordList(['to', 'classical', 'economics', '5', '6', '7', '8', 'His', 'works', 'were', 'lost', 'near', 'the', 'end', 'of', 'the', 'Gupta', 'Empire', 'in', 'the']),\n",
       " WordList(['classical', 'economics', '5', '6', '7', '8', 'His', 'works', 'were', 'lost', 'near', 'the', 'end', 'of', 'the', 'Gupta', 'Empire', 'in', 'the', '6th']),\n",
       " WordList(['economics', '5', '6', '7', '8', 'His', 'works', 'were', 'lost', 'near', 'the', 'end', 'of', 'the', 'Gupta', 'Empire', 'in', 'the', '6th', 'century']),\n",
       " WordList(['5', '6', '7', '8', 'His', 'works', 'were', 'lost', 'near', 'the', 'end', 'of', 'the', 'Gupta', 'Empire', 'in', 'the', '6th', 'century', 'CE']),\n",
       " WordList(['6', '7', '8', 'His', 'works', 'were', 'lost', 'near', 'the', 'end', 'of', 'the', 'Gupta', 'Empire', 'in', 'the', '6th', 'century', 'CE', 'and']),\n",
       " WordList(['7', '8', 'His', 'works', 'were', 'lost', 'near', 'the', 'end', 'of', 'the', 'Gupta', 'Empire', 'in', 'the', '6th', 'century', 'CE', 'and', 'not']),\n",
       " WordList(['8', 'His', 'works', 'were', 'lost', 'near', 'the', 'end', 'of', 'the', 'Gupta', 'Empire', 'in', 'the', '6th', 'century', 'CE', 'and', 'not', 'rediscovered']),\n",
       " WordList(['His', 'works', 'were', 'lost', 'near', 'the', 'end', 'of', 'the', 'Gupta', 'Empire', 'in', 'the', '6th', 'century', 'CE', 'and', 'not', 'rediscovered', 'until']),\n",
       " WordList(['works', 'were', 'lost', 'near', 'the', 'end', 'of', 'the', 'Gupta', 'Empire', 'in', 'the', '6th', 'century', 'CE', 'and', 'not', 'rediscovered', 'until', 'the']),\n",
       " WordList(['were', 'lost', 'near', 'the', 'end', 'of', 'the', 'Gupta', 'Empire', 'in', 'the', '6th', 'century', 'CE', 'and', 'not', 'rediscovered', 'until', 'the', 'early']),\n",
       " WordList(['lost', 'near', 'the', 'end', 'of', 'the', 'Gupta', 'Empire', 'in', 'the', '6th', 'century', 'CE', 'and', 'not', 'rediscovered', 'until', 'the', 'early', '20th']),\n",
       " WordList(['near', 'the', 'end', 'of', 'the', 'Gupta', 'Empire', 'in', 'the', '6th', 'century', 'CE', 'and', 'not', 'rediscovered', 'until', 'the', 'early', '20th', 'century']),\n",
       " WordList(['the', 'end', 'of', 'the', 'Gupta', 'Empire', 'in', 'the', '6th', 'century', 'CE', 'and', 'not', 'rediscovered', 'until', 'the', 'early', '20th', 'century', '6']),\n",
       " WordList(['end', 'of', 'the', 'Gupta', 'Empire', 'in', 'the', '6th', 'century', 'CE', 'and', 'not', 'rediscovered', 'until', 'the', 'early', '20th', 'century', '6', 'Chanakya']),\n",
       " WordList(['of', 'the', 'Gupta', 'Empire', 'in', 'the', '6th', 'century', 'CE', 'and', 'not', 'rediscovered', 'until', 'the', 'early', '20th', 'century', '6', 'Chanakya', 'assisted']),\n",
       " WordList(['the', 'Gupta', 'Empire', 'in', 'the', '6th', 'century', 'CE', 'and', 'not', 'rediscovered', 'until', 'the', 'early', '20th', 'century', '6', 'Chanakya', 'assisted', 'the']),\n",
       " WordList(['Gupta', 'Empire', 'in', 'the', '6th', 'century', 'CE', 'and', 'not', 'rediscovered', 'until', 'the', 'early', '20th', 'century', '6', 'Chanakya', 'assisted', 'the', 'first']),\n",
       " WordList(['Empire', 'in', 'the', '6th', 'century', 'CE', 'and', 'not', 'rediscovered', 'until', 'the', 'early', '20th', 'century', '6', 'Chanakya', 'assisted', 'the', 'first', 'Mauryan']),\n",
       " WordList(['in', 'the', '6th', 'century', 'CE', 'and', 'not', 'rediscovered', 'until', 'the', 'early', '20th', 'century', '6', 'Chanakya', 'assisted', 'the', 'first', 'Mauryan', 'emperor']),\n",
       " WordList(['the', '6th', 'century', 'CE', 'and', 'not', 'rediscovered', 'until', 'the', 'early', '20th', 'century', '6', 'Chanakya', 'assisted', 'the', 'first', 'Mauryan', 'emperor', 'Chandragupta']),\n",
       " WordList(['6th', 'century', 'CE', 'and', 'not', 'rediscovered', 'until', 'the', 'early', '20th', 'century', '6', 'Chanakya', 'assisted', 'the', 'first', 'Mauryan', 'emperor', 'Chandragupta', 'in']),\n",
       " WordList(['century', 'CE', 'and', 'not', 'rediscovered', 'until', 'the', 'early', '20th', 'century', '6', 'Chanakya', 'assisted', 'the', 'first', 'Mauryan', 'emperor', 'Chandragupta', 'in', 'his']),\n",
       " WordList(['CE', 'and', 'not', 'rediscovered', 'until', 'the', 'early', '20th', 'century', '6', 'Chanakya', 'assisted', 'the', 'first', 'Mauryan', 'emperor', 'Chandragupta', 'in', 'his', 'rise']),\n",
       " WordList(['and', 'not', 'rediscovered', 'until', 'the', 'early', '20th', 'century', '6', 'Chanakya', 'assisted', 'the', 'first', 'Mauryan', 'emperor', 'Chandragupta', 'in', 'his', 'rise', 'to']),\n",
       " WordList(['not', 'rediscovered', 'until', 'the', 'early', '20th', 'century', '6', 'Chanakya', 'assisted', 'the', 'first', 'Mauryan', 'emperor', 'Chandragupta', 'in', 'his', 'rise', 'to', 'power']),\n",
       " WordList(['rediscovered', 'until', 'the', 'early', '20th', 'century', '6', 'Chanakya', 'assisted', 'the', 'first', 'Mauryan', 'emperor', 'Chandragupta', 'in', 'his', 'rise', 'to', 'power', 'He']),\n",
       " WordList(['until', 'the', 'early', '20th', 'century', '6', 'Chanakya', 'assisted', 'the', 'first', 'Mauryan', 'emperor', 'Chandragupta', 'in', 'his', 'rise', 'to', 'power', 'He', 'is']),\n",
       " WordList(['the', 'early', '20th', 'century', '6', 'Chanakya', 'assisted', 'the', 'first', 'Mauryan', 'emperor', 'Chandragupta', 'in', 'his', 'rise', 'to', 'power', 'He', 'is', 'widely']),\n",
       " WordList(['early', '20th', 'century', '6', 'Chanakya', 'assisted', 'the', 'first', 'Mauryan', 'emperor', 'Chandragupta', 'in', 'his', 'rise', 'to', 'power', 'He', 'is', 'widely', 'credited']),\n",
       " WordList(['20th', 'century', '6', 'Chanakya', 'assisted', 'the', 'first', 'Mauryan', 'emperor', 'Chandragupta', 'in', 'his', 'rise', 'to', 'power', 'He', 'is', 'widely', 'credited', 'for']),\n",
       " WordList(['century', '6', 'Chanakya', 'assisted', 'the', 'first', 'Mauryan', 'emperor', 'Chandragupta', 'in', 'his', 'rise', 'to', 'power', 'He', 'is', 'widely', 'credited', 'for', 'having']),\n",
       " WordList(['6', 'Chanakya', 'assisted', 'the', 'first', 'Mauryan', 'emperor', 'Chandragupta', 'in', 'his', 'rise', 'to', 'power', 'He', 'is', 'widely', 'credited', 'for', 'having', 'played']),\n",
       " WordList(['Chanakya', 'assisted', 'the', 'first', 'Mauryan', 'emperor', 'Chandragupta', 'in', 'his', 'rise', 'to', 'power', 'He', 'is', 'widely', 'credited', 'for', 'having', 'played', 'an']),\n",
       " WordList(['assisted', 'the', 'first', 'Mauryan', 'emperor', 'Chandragupta', 'in', 'his', 'rise', 'to', 'power', 'He', 'is', 'widely', 'credited', 'for', 'having', 'played', 'an', 'important']),\n",
       " WordList(['the', 'first', 'Mauryan', 'emperor', 'Chandragupta', 'in', 'his', 'rise', 'to', 'power', 'He', 'is', 'widely', 'credited', 'for', 'having', 'played', 'an', 'important', 'role']),\n",
       " WordList(['first', 'Mauryan', 'emperor', 'Chandragupta', 'in', 'his', 'rise', 'to', 'power', 'He', 'is', 'widely', 'credited', 'for', 'having', 'played', 'an', 'important', 'role', 'in']),\n",
       " WordList(['Mauryan', 'emperor', 'Chandragupta', 'in', 'his', 'rise', 'to', 'power', 'He', 'is', 'widely', 'credited', 'for', 'having', 'played', 'an', 'important', 'role', 'in', 'the']),\n",
       " WordList(['emperor', 'Chandragupta', 'in', 'his', 'rise', 'to', 'power', 'He', 'is', 'widely', 'credited', 'for', 'having', 'played', 'an', 'important', 'role', 'in', 'the', 'establishment']),\n",
       " WordList(['Chandragupta', 'in', 'his', 'rise', 'to', 'power', 'He', 'is', 'widely', 'credited', 'for', 'having', 'played', 'an', 'important', 'role', 'in', 'the', 'establishment', 'of']),\n",
       " WordList(['in', 'his', 'rise', 'to', 'power', 'He', 'is', 'widely', 'credited', 'for', 'having', 'played', 'an', 'important', 'role', 'in', 'the', 'establishment', 'of', 'the']),\n",
       " WordList(['his', 'rise', 'to', 'power', 'He', 'is', 'widely', 'credited', 'for', 'having', 'played', 'an', 'important', 'role', 'in', 'the', 'establishment', 'of', 'the', 'Maurya']),\n",
       " WordList(['rise', 'to', 'power', 'He', 'is', 'widely', 'credited', 'for', 'having', 'played', 'an', 'important', 'role', 'in', 'the', 'establishment', 'of', 'the', 'Maurya', 'Empire']),\n",
       " WordList(['to', 'power', 'He', 'is', 'widely', 'credited', 'for', 'having', 'played', 'an', 'important', 'role', 'in', 'the', 'establishment', 'of', 'the', 'Maurya', 'Empire', 'Chanakya']),\n",
       " WordList(['power', 'He', 'is', 'widely', 'credited', 'for', 'having', 'played', 'an', 'important', 'role', 'in', 'the', 'establishment', 'of', 'the', 'Maurya', 'Empire', 'Chanakya', 'served']),\n",
       " WordList(['He', 'is', 'widely', 'credited', 'for', 'having', 'played', 'an', 'important', 'role', 'in', 'the', 'establishment', 'of', 'the', 'Maurya', 'Empire', 'Chanakya', 'served', 'as']),\n",
       " WordList(['is', 'widely', 'credited', 'for', 'having', 'played', 'an', 'important', 'role', 'in', 'the', 'establishment', 'of', 'the', 'Maurya', 'Empire', 'Chanakya', 'served', 'as', 'the']),\n",
       " WordList(['widely', 'credited', 'for', 'having', 'played', 'an', 'important', 'role', 'in', 'the', 'establishment', 'of', 'the', 'Maurya', 'Empire', 'Chanakya', 'served', 'as', 'the', 'chief']),\n",
       " WordList(['credited', 'for', 'having', 'played', 'an', 'important', 'role', 'in', 'the', 'establishment', 'of', 'the', 'Maurya', 'Empire', 'Chanakya', 'served', 'as', 'the', 'chief', 'advisor']),\n",
       " WordList(['for', 'having', 'played', 'an', 'important', 'role', 'in', 'the', 'establishment', 'of', 'the', 'Maurya', 'Empire', 'Chanakya', 'served', 'as', 'the', 'chief', 'advisor', 'to']),\n",
       " WordList(['having', 'played', 'an', 'important', 'role', 'in', 'the', 'establishment', 'of', 'the', 'Maurya', 'Empire', 'Chanakya', 'served', 'as', 'the', 'chief', 'advisor', 'to', 'both']),\n",
       " WordList(['played', 'an', 'important', 'role', 'in', 'the', 'establishment', 'of', 'the', 'Maurya', 'Empire', 'Chanakya', 'served', 'as', 'the', 'chief', 'advisor', 'to', 'both', 'emperors']),\n",
       " WordList(['an', 'important', 'role', 'in', 'the', 'establishment', 'of', 'the', 'Maurya', 'Empire', 'Chanakya', 'served', 'as', 'the', 'chief', 'advisor', 'to', 'both', 'emperors', 'Chandragupta']),\n",
       " WordList(['important', 'role', 'in', 'the', 'establishment', 'of', 'the', 'Maurya', 'Empire', 'Chanakya', 'served', 'as', 'the', 'chief', 'advisor', 'to', 'both', 'emperors', 'Chandragupta', 'and']),\n",
       " WordList(['role', 'in', 'the', 'establishment', 'of', 'the', 'Maurya', 'Empire', 'Chanakya', 'served', 'as', 'the', 'chief', 'advisor', 'to', 'both', 'emperors', 'Chandragupta', 'and', 'his']),\n",
       " WordList(['in', 'the', 'establishment', 'of', 'the', 'Maurya', 'Empire', 'Chanakya', 'served', 'as', 'the', 'chief', 'advisor', 'to', 'both', 'emperors', 'Chandragupta', 'and', 'his', 'son']),\n",
       " WordList(['the', 'establishment', 'of', 'the', 'Maurya', 'Empire', 'Chanakya', 'served', 'as', 'the', 'chief', 'advisor', 'to', 'both', 'emperors', 'Chandragupta', 'and', 'his', 'son', 'Bindusara']),\n",
       " WordList(['establishment', 'of', 'the', 'Maurya', 'Empire', 'Chanakya', 'served', 'as', 'the', 'chief', 'advisor', 'to', 'both', 'emperors', 'Chandragupta', 'and', 'his', 'son', 'Bindusara', 'In']),\n",
       " WordList(['of', 'the', 'Maurya', 'Empire', 'Chanakya', 'served', 'as', 'the', 'chief', 'advisor', 'to', 'both', 'emperors', 'Chandragupta', 'and', 'his', 'son', 'Bindusara', 'In', 'all']),\n",
       " WordList(['the', 'Maurya', 'Empire', 'Chanakya', 'served', 'as', 'the', 'chief', 'advisor', 'to', 'both', 'emperors', 'Chandragupta', 'and', 'his', 'son', 'Bindusara', 'In', 'all', 'the']),\n",
       " WordList(['Maurya', 'Empire', 'Chanakya', 'served', 'as', 'the', 'chief', 'advisor', 'to', 'both', 'emperors', 'Chandragupta', 'and', 'his', 'son', 'Bindusara', 'In', 'all', 'the', 'four']),\n",
       " WordList(['Empire', 'Chanakya', 'served', 'as', 'the', 'chief', 'advisor', 'to', 'both', 'emperors', 'Chandragupta', 'and', 'his', 'son', 'Bindusara', 'In', 'all', 'the', 'four', 'versions']),\n",
       " WordList(['Chanakya', 'served', 'as', 'the', 'chief', 'advisor', 'to', 'both', 'emperors', 'Chandragupta', 'and', 'his', 'son', 'Bindusara', 'In', 'all', 'the', 'four', 'versions', 'Chanakya']),\n",
       " WordList(['served', 'as', 'the', 'chief', 'advisor', 'to', 'both', 'emperors', 'Chandragupta', 'and', 'his', 'son', 'Bindusara', 'In', 'all', 'the', 'four', 'versions', 'Chanakya', 'feels']),\n",
       " WordList(['as', 'the', 'chief', 'advisor', 'to', 'both', 'emperors', 'Chandragupta', 'and', 'his', 'son', 'Bindusara', 'In', 'all', 'the', 'four', 'versions', 'Chanakya', 'feels', 'insulted']),\n",
       " WordList(['the', 'chief', 'advisor', 'to', 'both', 'emperors', 'Chandragupta', 'and', 'his', 'son', 'Bindusara', 'In', 'all', 'the', 'four', 'versions', 'Chanakya', 'feels', 'insulted', 'by']),\n",
       " WordList(['chief', 'advisor', 'to', 'both', 'emperors', 'Chandragupta', 'and', 'his', 'son', 'Bindusara', 'In', 'all', 'the', 'four', 'versions', 'Chanakya', 'feels', 'insulted', 'by', 'th'])]"
      ]
     },
     "execution_count": 29,
     "metadata": {},
     "output_type": "execute_result"
    }
   ],
   "source": [
    "c.ngrams(n=20) #20 words are grouped"
   ]
  },
  {
   "cell_type": "code",
   "execution_count": 30,
   "metadata": {},
   "outputs": [
    {
     "data": {
      "text/plain": [
       "[WordList(['Chanakya', 'IAST', 'Cāṇakya', 'About', 'this', 'soundpronunciation', 'help·info', 'was', 'an', 'ancient', 'Indian', 'teacher', 'philosopher', 'economist', 'jurist', 'and', 'royal', 'advisor', 'He', 'is', 'traditionally', 'identified', 'as', 'Kauṭilya', 'or', 'Vishnugupta', 'who', 'authored', 'the', 'ancient', 'Indian', 'political', 'treatise', 'the', 'Arthashastra', '3', 'a', 'text', 'dated', 'to', 'roughly', 'between', 'the', '4th', 'century', 'BCE', 'and', 'the', '3rd', 'century', 'CE', '4', 'As', 'such', 'he', 'is', 'considered', 'the', 'pioneer', 'of']),\n",
       " WordList(['IAST', 'Cāṇakya', 'About', 'this', 'soundpronunciation', 'help·info', 'was', 'an', 'ancient', 'Indian', 'teacher', 'philosopher', 'economist', 'jurist', 'and', 'royal', 'advisor', 'He', 'is', 'traditionally', 'identified', 'as', 'Kauṭilya', 'or', 'Vishnugupta', 'who', 'authored', 'the', 'ancient', 'Indian', 'political', 'treatise', 'the', 'Arthashastra', '3', 'a', 'text', 'dated', 'to', 'roughly', 'between', 'the', '4th', 'century', 'BCE', 'and', 'the', '3rd', 'century', 'CE', '4', 'As', 'such', 'he', 'is', 'considered', 'the', 'pioneer', 'of', 'the']),\n",
       " WordList(['Cāṇakya', 'About', 'this', 'soundpronunciation', 'help·info', 'was', 'an', 'ancient', 'Indian', 'teacher', 'philosopher', 'economist', 'jurist', 'and', 'royal', 'advisor', 'He', 'is', 'traditionally', 'identified', 'as', 'Kauṭilya', 'or', 'Vishnugupta', 'who', 'authored', 'the', 'ancient', 'Indian', 'political', 'treatise', 'the', 'Arthashastra', '3', 'a', 'text', 'dated', 'to', 'roughly', 'between', 'the', '4th', 'century', 'BCE', 'and', 'the', '3rd', 'century', 'CE', '4', 'As', 'such', 'he', 'is', 'considered', 'the', 'pioneer', 'of', 'the', 'field']),\n",
       " WordList(['About', 'this', 'soundpronunciation', 'help·info', 'was', 'an', 'ancient', 'Indian', 'teacher', 'philosopher', 'economist', 'jurist', 'and', 'royal', 'advisor', 'He', 'is', 'traditionally', 'identified', 'as', 'Kauṭilya', 'or', 'Vishnugupta', 'who', 'authored', 'the', 'ancient', 'Indian', 'political', 'treatise', 'the', 'Arthashastra', '3', 'a', 'text', 'dated', 'to', 'roughly', 'between', 'the', '4th', 'century', 'BCE', 'and', 'the', '3rd', 'century', 'CE', '4', 'As', 'such', 'he', 'is', 'considered', 'the', 'pioneer', 'of', 'the', 'field', 'of']),\n",
       " WordList(['this', 'soundpronunciation', 'help·info', 'was', 'an', 'ancient', 'Indian', 'teacher', 'philosopher', 'economist', 'jurist', 'and', 'royal', 'advisor', 'He', 'is', 'traditionally', 'identified', 'as', 'Kauṭilya', 'or', 'Vishnugupta', 'who', 'authored', 'the', 'ancient', 'Indian', 'political', 'treatise', 'the', 'Arthashastra', '3', 'a', 'text', 'dated', 'to', 'roughly', 'between', 'the', '4th', 'century', 'BCE', 'and', 'the', '3rd', 'century', 'CE', '4', 'As', 'such', 'he', 'is', 'considered', 'the', 'pioneer', 'of', 'the', 'field', 'of', 'political']),\n",
       " WordList(['soundpronunciation', 'help·info', 'was', 'an', 'ancient', 'Indian', 'teacher', 'philosopher', 'economist', 'jurist', 'and', 'royal', 'advisor', 'He', 'is', 'traditionally', 'identified', 'as', 'Kauṭilya', 'or', 'Vishnugupta', 'who', 'authored', 'the', 'ancient', 'Indian', 'political', 'treatise', 'the', 'Arthashastra', '3', 'a', 'text', 'dated', 'to', 'roughly', 'between', 'the', '4th', 'century', 'BCE', 'and', 'the', '3rd', 'century', 'CE', '4', 'As', 'such', 'he', 'is', 'considered', 'the', 'pioneer', 'of', 'the', 'field', 'of', 'political', 'science']),\n",
       " WordList(['help·info', 'was', 'an', 'ancient', 'Indian', 'teacher', 'philosopher', 'economist', 'jurist', 'and', 'royal', 'advisor', 'He', 'is', 'traditionally', 'identified', 'as', 'Kauṭilya', 'or', 'Vishnugupta', 'who', 'authored', 'the', 'ancient', 'Indian', 'political', 'treatise', 'the', 'Arthashastra', '3', 'a', 'text', 'dated', 'to', 'roughly', 'between', 'the', '4th', 'century', 'BCE', 'and', 'the', '3rd', 'century', 'CE', '4', 'As', 'such', 'he', 'is', 'considered', 'the', 'pioneer', 'of', 'the', 'field', 'of', 'political', 'science', 'and']),\n",
       " WordList(['was', 'an', 'ancient', 'Indian', 'teacher', 'philosopher', 'economist', 'jurist', 'and', 'royal', 'advisor', 'He', 'is', 'traditionally', 'identified', 'as', 'Kauṭilya', 'or', 'Vishnugupta', 'who', 'authored', 'the', 'ancient', 'Indian', 'political', 'treatise', 'the', 'Arthashastra', '3', 'a', 'text', 'dated', 'to', 'roughly', 'between', 'the', '4th', 'century', 'BCE', 'and', 'the', '3rd', 'century', 'CE', '4', 'As', 'such', 'he', 'is', 'considered', 'the', 'pioneer', 'of', 'the', 'field', 'of', 'political', 'science', 'and', 'economics']),\n",
       " WordList(['an', 'ancient', 'Indian', 'teacher', 'philosopher', 'economist', 'jurist', 'and', 'royal', 'advisor', 'He', 'is', 'traditionally', 'identified', 'as', 'Kauṭilya', 'or', 'Vishnugupta', 'who', 'authored', 'the', 'ancient', 'Indian', 'political', 'treatise', 'the', 'Arthashastra', '3', 'a', 'text', 'dated', 'to', 'roughly', 'between', 'the', '4th', 'century', 'BCE', 'and', 'the', '3rd', 'century', 'CE', '4', 'As', 'such', 'he', 'is', 'considered', 'the', 'pioneer', 'of', 'the', 'field', 'of', 'political', 'science', 'and', 'economics', 'in']),\n",
       " WordList(['ancient', 'Indian', 'teacher', 'philosopher', 'economist', 'jurist', 'and', 'royal', 'advisor', 'He', 'is', 'traditionally', 'identified', 'as', 'Kauṭilya', 'or', 'Vishnugupta', 'who', 'authored', 'the', 'ancient', 'Indian', 'political', 'treatise', 'the', 'Arthashastra', '3', 'a', 'text', 'dated', 'to', 'roughly', 'between', 'the', '4th', 'century', 'BCE', 'and', 'the', '3rd', 'century', 'CE', '4', 'As', 'such', 'he', 'is', 'considered', 'the', 'pioneer', 'of', 'the', 'field', 'of', 'political', 'science', 'and', 'economics', 'in', 'India']),\n",
       " WordList(['Indian', 'teacher', 'philosopher', 'economist', 'jurist', 'and', 'royal', 'advisor', 'He', 'is', 'traditionally', 'identified', 'as', 'Kauṭilya', 'or', 'Vishnugupta', 'who', 'authored', 'the', 'ancient', 'Indian', 'political', 'treatise', 'the', 'Arthashastra', '3', 'a', 'text', 'dated', 'to', 'roughly', 'between', 'the', '4th', 'century', 'BCE', 'and', 'the', '3rd', 'century', 'CE', '4', 'As', 'such', 'he', 'is', 'considered', 'the', 'pioneer', 'of', 'the', 'field', 'of', 'political', 'science', 'and', 'economics', 'in', 'India', 'and']),\n",
       " WordList(['teacher', 'philosopher', 'economist', 'jurist', 'and', 'royal', 'advisor', 'He', 'is', 'traditionally', 'identified', 'as', 'Kauṭilya', 'or', 'Vishnugupta', 'who', 'authored', 'the', 'ancient', 'Indian', 'political', 'treatise', 'the', 'Arthashastra', '3', 'a', 'text', 'dated', 'to', 'roughly', 'between', 'the', '4th', 'century', 'BCE', 'and', 'the', '3rd', 'century', 'CE', '4', 'As', 'such', 'he', 'is', 'considered', 'the', 'pioneer', 'of', 'the', 'field', 'of', 'political', 'science', 'and', 'economics', 'in', 'India', 'and', 'his']),\n",
       " WordList(['philosopher', 'economist', 'jurist', 'and', 'royal', 'advisor', 'He', 'is', 'traditionally', 'identified', 'as', 'Kauṭilya', 'or', 'Vishnugupta', 'who', 'authored', 'the', 'ancient', 'Indian', 'political', 'treatise', 'the', 'Arthashastra', '3', 'a', 'text', 'dated', 'to', 'roughly', 'between', 'the', '4th', 'century', 'BCE', 'and', 'the', '3rd', 'century', 'CE', '4', 'As', 'such', 'he', 'is', 'considered', 'the', 'pioneer', 'of', 'the', 'field', 'of', 'political', 'science', 'and', 'economics', 'in', 'India', 'and', 'his', 'work']),\n",
       " WordList(['economist', 'jurist', 'and', 'royal', 'advisor', 'He', 'is', 'traditionally', 'identified', 'as', 'Kauṭilya', 'or', 'Vishnugupta', 'who', 'authored', 'the', 'ancient', 'Indian', 'political', 'treatise', 'the', 'Arthashastra', '3', 'a', 'text', 'dated', 'to', 'roughly', 'between', 'the', '4th', 'century', 'BCE', 'and', 'the', '3rd', 'century', 'CE', '4', 'As', 'such', 'he', 'is', 'considered', 'the', 'pioneer', 'of', 'the', 'field', 'of', 'political', 'science', 'and', 'economics', 'in', 'India', 'and', 'his', 'work', 'is']),\n",
       " WordList(['jurist', 'and', 'royal', 'advisor', 'He', 'is', 'traditionally', 'identified', 'as', 'Kauṭilya', 'or', 'Vishnugupta', 'who', 'authored', 'the', 'ancient', 'Indian', 'political', 'treatise', 'the', 'Arthashastra', '3', 'a', 'text', 'dated', 'to', 'roughly', 'between', 'the', '4th', 'century', 'BCE', 'and', 'the', '3rd', 'century', 'CE', '4', 'As', 'such', 'he', 'is', 'considered', 'the', 'pioneer', 'of', 'the', 'field', 'of', 'political', 'science', 'and', 'economics', 'in', 'India', 'and', 'his', 'work', 'is', 'thought']),\n",
       " WordList(['and', 'royal', 'advisor', 'He', 'is', 'traditionally', 'identified', 'as', 'Kauṭilya', 'or', 'Vishnugupta', 'who', 'authored', 'the', 'ancient', 'Indian', 'political', 'treatise', 'the', 'Arthashastra', '3', 'a', 'text', 'dated', 'to', 'roughly', 'between', 'the', '4th', 'century', 'BCE', 'and', 'the', '3rd', 'century', 'CE', '4', 'As', 'such', 'he', 'is', 'considered', 'the', 'pioneer', 'of', 'the', 'field', 'of', 'political', 'science', 'and', 'economics', 'in', 'India', 'and', 'his', 'work', 'is', 'thought', 'of']),\n",
       " WordList(['royal', 'advisor', 'He', 'is', 'traditionally', 'identified', 'as', 'Kauṭilya', 'or', 'Vishnugupta', 'who', 'authored', 'the', 'ancient', 'Indian', 'political', 'treatise', 'the', 'Arthashastra', '3', 'a', 'text', 'dated', 'to', 'roughly', 'between', 'the', '4th', 'century', 'BCE', 'and', 'the', '3rd', 'century', 'CE', '4', 'As', 'such', 'he', 'is', 'considered', 'the', 'pioneer', 'of', 'the', 'field', 'of', 'political', 'science', 'and', 'economics', 'in', 'India', 'and', 'his', 'work', 'is', 'thought', 'of', 'as']),\n",
       " WordList(['advisor', 'He', 'is', 'traditionally', 'identified', 'as', 'Kauṭilya', 'or', 'Vishnugupta', 'who', 'authored', 'the', 'ancient', 'Indian', 'political', 'treatise', 'the', 'Arthashastra', '3', 'a', 'text', 'dated', 'to', 'roughly', 'between', 'the', '4th', 'century', 'BCE', 'and', 'the', '3rd', 'century', 'CE', '4', 'As', 'such', 'he', 'is', 'considered', 'the', 'pioneer', 'of', 'the', 'field', 'of', 'political', 'science', 'and', 'economics', 'in', 'India', 'and', 'his', 'work', 'is', 'thought', 'of', 'as', 'an']),\n",
       " WordList(['He', 'is', 'traditionally', 'identified', 'as', 'Kauṭilya', 'or', 'Vishnugupta', 'who', 'authored', 'the', 'ancient', 'Indian', 'political', 'treatise', 'the', 'Arthashastra', '3', 'a', 'text', 'dated', 'to', 'roughly', 'between', 'the', '4th', 'century', 'BCE', 'and', 'the', '3rd', 'century', 'CE', '4', 'As', 'such', 'he', 'is', 'considered', 'the', 'pioneer', 'of', 'the', 'field', 'of', 'political', 'science', 'and', 'economics', 'in', 'India', 'and', 'his', 'work', 'is', 'thought', 'of', 'as', 'an', 'important']),\n",
       " WordList(['is', 'traditionally', 'identified', 'as', 'Kauṭilya', 'or', 'Vishnugupta', 'who', 'authored', 'the', 'ancient', 'Indian', 'political', 'treatise', 'the', 'Arthashastra', '3', 'a', 'text', 'dated', 'to', 'roughly', 'between', 'the', '4th', 'century', 'BCE', 'and', 'the', '3rd', 'century', 'CE', '4', 'As', 'such', 'he', 'is', 'considered', 'the', 'pioneer', 'of', 'the', 'field', 'of', 'political', 'science', 'and', 'economics', 'in', 'India', 'and', 'his', 'work', 'is', 'thought', 'of', 'as', 'an', 'important', 'precursor']),\n",
       " WordList(['traditionally', 'identified', 'as', 'Kauṭilya', 'or', 'Vishnugupta', 'who', 'authored', 'the', 'ancient', 'Indian', 'political', 'treatise', 'the', 'Arthashastra', '3', 'a', 'text', 'dated', 'to', 'roughly', 'between', 'the', '4th', 'century', 'BCE', 'and', 'the', '3rd', 'century', 'CE', '4', 'As', 'such', 'he', 'is', 'considered', 'the', 'pioneer', 'of', 'the', 'field', 'of', 'political', 'science', 'and', 'economics', 'in', 'India', 'and', 'his', 'work', 'is', 'thought', 'of', 'as', 'an', 'important', 'precursor', 'to']),\n",
       " WordList(['identified', 'as', 'Kauṭilya', 'or', 'Vishnugupta', 'who', 'authored', 'the', 'ancient', 'Indian', 'political', 'treatise', 'the', 'Arthashastra', '3', 'a', 'text', 'dated', 'to', 'roughly', 'between', 'the', '4th', 'century', 'BCE', 'and', 'the', '3rd', 'century', 'CE', '4', 'As', 'such', 'he', 'is', 'considered', 'the', 'pioneer', 'of', 'the', 'field', 'of', 'political', 'science', 'and', 'economics', 'in', 'India', 'and', 'his', 'work', 'is', 'thought', 'of', 'as', 'an', 'important', 'precursor', 'to', 'classical']),\n",
       " WordList(['as', 'Kauṭilya', 'or', 'Vishnugupta', 'who', 'authored', 'the', 'ancient', 'Indian', 'political', 'treatise', 'the', 'Arthashastra', '3', 'a', 'text', 'dated', 'to', 'roughly', 'between', 'the', '4th', 'century', 'BCE', 'and', 'the', '3rd', 'century', 'CE', '4', 'As', 'such', 'he', 'is', 'considered', 'the', 'pioneer', 'of', 'the', 'field', 'of', 'political', 'science', 'and', 'economics', 'in', 'India', 'and', 'his', 'work', 'is', 'thought', 'of', 'as', 'an', 'important', 'precursor', 'to', 'classical', 'economics']),\n",
       " WordList(['Kauṭilya', 'or', 'Vishnugupta', 'who', 'authored', 'the', 'ancient', 'Indian', 'political', 'treatise', 'the', 'Arthashastra', '3', 'a', 'text', 'dated', 'to', 'roughly', 'between', 'the', '4th', 'century', 'BCE', 'and', 'the', '3rd', 'century', 'CE', '4', 'As', 'such', 'he', 'is', 'considered', 'the', 'pioneer', 'of', 'the', 'field', 'of', 'political', 'science', 'and', 'economics', 'in', 'India', 'and', 'his', 'work', 'is', 'thought', 'of', 'as', 'an', 'important', 'precursor', 'to', 'classical', 'economics', '5']),\n",
       " WordList(['or', 'Vishnugupta', 'who', 'authored', 'the', 'ancient', 'Indian', 'political', 'treatise', 'the', 'Arthashastra', '3', 'a', 'text', 'dated', 'to', 'roughly', 'between', 'the', '4th', 'century', 'BCE', 'and', 'the', '3rd', 'century', 'CE', '4', 'As', 'such', 'he', 'is', 'considered', 'the', 'pioneer', 'of', 'the', 'field', 'of', 'political', 'science', 'and', 'economics', 'in', 'India', 'and', 'his', 'work', 'is', 'thought', 'of', 'as', 'an', 'important', 'precursor', 'to', 'classical', 'economics', '5', '6']),\n",
       " WordList(['Vishnugupta', 'who', 'authored', 'the', 'ancient', 'Indian', 'political', 'treatise', 'the', 'Arthashastra', '3', 'a', 'text', 'dated', 'to', 'roughly', 'between', 'the', '4th', 'century', 'BCE', 'and', 'the', '3rd', 'century', 'CE', '4', 'As', 'such', 'he', 'is', 'considered', 'the', 'pioneer', 'of', 'the', 'field', 'of', 'political', 'science', 'and', 'economics', 'in', 'India', 'and', 'his', 'work', 'is', 'thought', 'of', 'as', 'an', 'important', 'precursor', 'to', 'classical', 'economics', '5', '6', '7']),\n",
       " WordList(['who', 'authored', 'the', 'ancient', 'Indian', 'political', 'treatise', 'the', 'Arthashastra', '3', 'a', 'text', 'dated', 'to', 'roughly', 'between', 'the', '4th', 'century', 'BCE', 'and', 'the', '3rd', 'century', 'CE', '4', 'As', 'such', 'he', 'is', 'considered', 'the', 'pioneer', 'of', 'the', 'field', 'of', 'political', 'science', 'and', 'economics', 'in', 'India', 'and', 'his', 'work', 'is', 'thought', 'of', 'as', 'an', 'important', 'precursor', 'to', 'classical', 'economics', '5', '6', '7', '8']),\n",
       " WordList(['authored', 'the', 'ancient', 'Indian', 'political', 'treatise', 'the', 'Arthashastra', '3', 'a', 'text', 'dated', 'to', 'roughly', 'between', 'the', '4th', 'century', 'BCE', 'and', 'the', '3rd', 'century', 'CE', '4', 'As', 'such', 'he', 'is', 'considered', 'the', 'pioneer', 'of', 'the', 'field', 'of', 'political', 'science', 'and', 'economics', 'in', 'India', 'and', 'his', 'work', 'is', 'thought', 'of', 'as', 'an', 'important', 'precursor', 'to', 'classical', 'economics', '5', '6', '7', '8', 'His']),\n",
       " WordList(['the', 'ancient', 'Indian', 'political', 'treatise', 'the', 'Arthashastra', '3', 'a', 'text', 'dated', 'to', 'roughly', 'between', 'the', '4th', 'century', 'BCE', 'and', 'the', '3rd', 'century', 'CE', '4', 'As', 'such', 'he', 'is', 'considered', 'the', 'pioneer', 'of', 'the', 'field', 'of', 'political', 'science', 'and', 'economics', 'in', 'India', 'and', 'his', 'work', 'is', 'thought', 'of', 'as', 'an', 'important', 'precursor', 'to', 'classical', 'economics', '5', '6', '7', '8', 'His', 'works']),\n",
       " WordList(['ancient', 'Indian', 'political', 'treatise', 'the', 'Arthashastra', '3', 'a', 'text', 'dated', 'to', 'roughly', 'between', 'the', '4th', 'century', 'BCE', 'and', 'the', '3rd', 'century', 'CE', '4', 'As', 'such', 'he', 'is', 'considered', 'the', 'pioneer', 'of', 'the', 'field', 'of', 'political', 'science', 'and', 'economics', 'in', 'India', 'and', 'his', 'work', 'is', 'thought', 'of', 'as', 'an', 'important', 'precursor', 'to', 'classical', 'economics', '5', '6', '7', '8', 'His', 'works', 'were']),\n",
       " WordList(['Indian', 'political', 'treatise', 'the', 'Arthashastra', '3', 'a', 'text', 'dated', 'to', 'roughly', 'between', 'the', '4th', 'century', 'BCE', 'and', 'the', '3rd', 'century', 'CE', '4', 'As', 'such', 'he', 'is', 'considered', 'the', 'pioneer', 'of', 'the', 'field', 'of', 'political', 'science', 'and', 'economics', 'in', 'India', 'and', 'his', 'work', 'is', 'thought', 'of', 'as', 'an', 'important', 'precursor', 'to', 'classical', 'economics', '5', '6', '7', '8', 'His', 'works', 'were', 'lost']),\n",
       " WordList(['political', 'treatise', 'the', 'Arthashastra', '3', 'a', 'text', 'dated', 'to', 'roughly', 'between', 'the', '4th', 'century', 'BCE', 'and', 'the', '3rd', 'century', 'CE', '4', 'As', 'such', 'he', 'is', 'considered', 'the', 'pioneer', 'of', 'the', 'field', 'of', 'political', 'science', 'and', 'economics', 'in', 'India', 'and', 'his', 'work', 'is', 'thought', 'of', 'as', 'an', 'important', 'precursor', 'to', 'classical', 'economics', '5', '6', '7', '8', 'His', 'works', 'were', 'lost', 'near']),\n",
       " WordList(['treatise', 'the', 'Arthashastra', '3', 'a', 'text', 'dated', 'to', 'roughly', 'between', 'the', '4th', 'century', 'BCE', 'and', 'the', '3rd', 'century', 'CE', '4', 'As', 'such', 'he', 'is', 'considered', 'the', 'pioneer', 'of', 'the', 'field', 'of', 'political', 'science', 'and', 'economics', 'in', 'India', 'and', 'his', 'work', 'is', 'thought', 'of', 'as', 'an', 'important', 'precursor', 'to', 'classical', 'economics', '5', '6', '7', '8', 'His', 'works', 'were', 'lost', 'near', 'the']),\n",
       " WordList(['the', 'Arthashastra', '3', 'a', 'text', 'dated', 'to', 'roughly', 'between', 'the', '4th', 'century', 'BCE', 'and', 'the', '3rd', 'century', 'CE', '4', 'As', 'such', 'he', 'is', 'considered', 'the', 'pioneer', 'of', 'the', 'field', 'of', 'political', 'science', 'and', 'economics', 'in', 'India', 'and', 'his', 'work', 'is', 'thought', 'of', 'as', 'an', 'important', 'precursor', 'to', 'classical', 'economics', '5', '6', '7', '8', 'His', 'works', 'were', 'lost', 'near', 'the', 'end']),\n",
       " WordList(['Arthashastra', '3', 'a', 'text', 'dated', 'to', 'roughly', 'between', 'the', '4th', 'century', 'BCE', 'and', 'the', '3rd', 'century', 'CE', '4', 'As', 'such', 'he', 'is', 'considered', 'the', 'pioneer', 'of', 'the', 'field', 'of', 'political', 'science', 'and', 'economics', 'in', 'India', 'and', 'his', 'work', 'is', 'thought', 'of', 'as', 'an', 'important', 'precursor', 'to', 'classical', 'economics', '5', '6', '7', '8', 'His', 'works', 'were', 'lost', 'near', 'the', 'end', 'of']),\n",
       " WordList(['3', 'a', 'text', 'dated', 'to', 'roughly', 'between', 'the', '4th', 'century', 'BCE', 'and', 'the', '3rd', 'century', 'CE', '4', 'As', 'such', 'he', 'is', 'considered', 'the', 'pioneer', 'of', 'the', 'field', 'of', 'political', 'science', 'and', 'economics', 'in', 'India', 'and', 'his', 'work', 'is', 'thought', 'of', 'as', 'an', 'important', 'precursor', 'to', 'classical', 'economics', '5', '6', '7', '8', 'His', 'works', 'were', 'lost', 'near', 'the', 'end', 'of', 'the']),\n",
       " WordList(['a', 'text', 'dated', 'to', 'roughly', 'between', 'the', '4th', 'century', 'BCE', 'and', 'the', '3rd', 'century', 'CE', '4', 'As', 'such', 'he', 'is', 'considered', 'the', 'pioneer', 'of', 'the', 'field', 'of', 'political', 'science', 'and', 'economics', 'in', 'India', 'and', 'his', 'work', 'is', 'thought', 'of', 'as', 'an', 'important', 'precursor', 'to', 'classical', 'economics', '5', '6', '7', '8', 'His', 'works', 'were', 'lost', 'near', 'the', 'end', 'of', 'the', 'Gupta']),\n",
       " WordList(['text', 'dated', 'to', 'roughly', 'between', 'the', '4th', 'century', 'BCE', 'and', 'the', '3rd', 'century', 'CE', '4', 'As', 'such', 'he', 'is', 'considered', 'the', 'pioneer', 'of', 'the', 'field', 'of', 'political', 'science', 'and', 'economics', 'in', 'India', 'and', 'his', 'work', 'is', 'thought', 'of', 'as', 'an', 'important', 'precursor', 'to', 'classical', 'economics', '5', '6', '7', '8', 'His', 'works', 'were', 'lost', 'near', 'the', 'end', 'of', 'the', 'Gupta', 'Empire']),\n",
       " WordList(['dated', 'to', 'roughly', 'between', 'the', '4th', 'century', 'BCE', 'and', 'the', '3rd', 'century', 'CE', '4', 'As', 'such', 'he', 'is', 'considered', 'the', 'pioneer', 'of', 'the', 'field', 'of', 'political', 'science', 'and', 'economics', 'in', 'India', 'and', 'his', 'work', 'is', 'thought', 'of', 'as', 'an', 'important', 'precursor', 'to', 'classical', 'economics', '5', '6', '7', '8', 'His', 'works', 'were', 'lost', 'near', 'the', 'end', 'of', 'the', 'Gupta', 'Empire', 'in']),\n",
       " WordList(['to', 'roughly', 'between', 'the', '4th', 'century', 'BCE', 'and', 'the', '3rd', 'century', 'CE', '4', 'As', 'such', 'he', 'is', 'considered', 'the', 'pioneer', 'of', 'the', 'field', 'of', 'political', 'science', 'and', 'economics', 'in', 'India', 'and', 'his', 'work', 'is', 'thought', 'of', 'as', 'an', 'important', 'precursor', 'to', 'classical', 'economics', '5', '6', '7', '8', 'His', 'works', 'were', 'lost', 'near', 'the', 'end', 'of', 'the', 'Gupta', 'Empire', 'in', 'the']),\n",
       " WordList(['roughly', 'between', 'the', '4th', 'century', 'BCE', 'and', 'the', '3rd', 'century', 'CE', '4', 'As', 'such', 'he', 'is', 'considered', 'the', 'pioneer', 'of', 'the', 'field', 'of', 'political', 'science', 'and', 'economics', 'in', 'India', 'and', 'his', 'work', 'is', 'thought', 'of', 'as', 'an', 'important', 'precursor', 'to', 'classical', 'economics', '5', '6', '7', '8', 'His', 'works', 'were', 'lost', 'near', 'the', 'end', 'of', 'the', 'Gupta', 'Empire', 'in', 'the', '6th']),\n",
       " WordList(['between', 'the', '4th', 'century', 'BCE', 'and', 'the', '3rd', 'century', 'CE', '4', 'As', 'such', 'he', 'is', 'considered', 'the', 'pioneer', 'of', 'the', 'field', 'of', 'political', 'science', 'and', 'economics', 'in', 'India', 'and', 'his', 'work', 'is', 'thought', 'of', 'as', 'an', 'important', 'precursor', 'to', 'classical', 'economics', '5', '6', '7', '8', 'His', 'works', 'were', 'lost', 'near', 'the', 'end', 'of', 'the', 'Gupta', 'Empire', 'in', 'the', '6th', 'century']),\n",
       " WordList(['the', '4th', 'century', 'BCE', 'and', 'the', '3rd', 'century', 'CE', '4', 'As', 'such', 'he', 'is', 'considered', 'the', 'pioneer', 'of', 'the', 'field', 'of', 'political', 'science', 'and', 'economics', 'in', 'India', 'and', 'his', 'work', 'is', 'thought', 'of', 'as', 'an', 'important', 'precursor', 'to', 'classical', 'economics', '5', '6', '7', '8', 'His', 'works', 'were', 'lost', 'near', 'the', 'end', 'of', 'the', 'Gupta', 'Empire', 'in', 'the', '6th', 'century', 'CE']),\n",
       " WordList(['4th', 'century', 'BCE', 'and', 'the', '3rd', 'century', 'CE', '4', 'As', 'such', 'he', 'is', 'considered', 'the', 'pioneer', 'of', 'the', 'field', 'of', 'political', 'science', 'and', 'economics', 'in', 'India', 'and', 'his', 'work', 'is', 'thought', 'of', 'as', 'an', 'important', 'precursor', 'to', 'classical', 'economics', '5', '6', '7', '8', 'His', 'works', 'were', 'lost', 'near', 'the', 'end', 'of', 'the', 'Gupta', 'Empire', 'in', 'the', '6th', 'century', 'CE', 'and']),\n",
       " WordList(['century', 'BCE', 'and', 'the', '3rd', 'century', 'CE', '4', 'As', 'such', 'he', 'is', 'considered', 'the', 'pioneer', 'of', 'the', 'field', 'of', 'political', 'science', 'and', 'economics', 'in', 'India', 'and', 'his', 'work', 'is', 'thought', 'of', 'as', 'an', 'important', 'precursor', 'to', 'classical', 'economics', '5', '6', '7', '8', 'His', 'works', 'were', 'lost', 'near', 'the', 'end', 'of', 'the', 'Gupta', 'Empire', 'in', 'the', '6th', 'century', 'CE', 'and', 'not']),\n",
       " WordList(['BCE', 'and', 'the', '3rd', 'century', 'CE', '4', 'As', 'such', 'he', 'is', 'considered', 'the', 'pioneer', 'of', 'the', 'field', 'of', 'political', 'science', 'and', 'economics', 'in', 'India', 'and', 'his', 'work', 'is', 'thought', 'of', 'as', 'an', 'important', 'precursor', 'to', 'classical', 'economics', '5', '6', '7', '8', 'His', 'works', 'were', 'lost', 'near', 'the', 'end', 'of', 'the', 'Gupta', 'Empire', 'in', 'the', '6th', 'century', 'CE', 'and', 'not', 'rediscovered']),\n",
       " WordList(['and', 'the', '3rd', 'century', 'CE', '4', 'As', 'such', 'he', 'is', 'considered', 'the', 'pioneer', 'of', 'the', 'field', 'of', 'political', 'science', 'and', 'economics', 'in', 'India', 'and', 'his', 'work', 'is', 'thought', 'of', 'as', 'an', 'important', 'precursor', 'to', 'classical', 'economics', '5', '6', '7', '8', 'His', 'works', 'were', 'lost', 'near', 'the', 'end', 'of', 'the', 'Gupta', 'Empire', 'in', 'the', '6th', 'century', 'CE', 'and', 'not', 'rediscovered', 'until']),\n",
       " WordList(['the', '3rd', 'century', 'CE', '4', 'As', 'such', 'he', 'is', 'considered', 'the', 'pioneer', 'of', 'the', 'field', 'of', 'political', 'science', 'and', 'economics', 'in', 'India', 'and', 'his', 'work', 'is', 'thought', 'of', 'as', 'an', 'important', 'precursor', 'to', 'classical', 'economics', '5', '6', '7', '8', 'His', 'works', 'were', 'lost', 'near', 'the', 'end', 'of', 'the', 'Gupta', 'Empire', 'in', 'the', '6th', 'century', 'CE', 'and', 'not', 'rediscovered', 'until', 'the']),\n",
       " WordList(['3rd', 'century', 'CE', '4', 'As', 'such', 'he', 'is', 'considered', 'the', 'pioneer', 'of', 'the', 'field', 'of', 'political', 'science', 'and', 'economics', 'in', 'India', 'and', 'his', 'work', 'is', 'thought', 'of', 'as', 'an', 'important', 'precursor', 'to', 'classical', 'economics', '5', '6', '7', '8', 'His', 'works', 'were', 'lost', 'near', 'the', 'end', 'of', 'the', 'Gupta', 'Empire', 'in', 'the', '6th', 'century', 'CE', 'and', 'not', 'rediscovered', 'until', 'the', 'early']),\n",
       " WordList(['century', 'CE', '4', 'As', 'such', 'he', 'is', 'considered', 'the', 'pioneer', 'of', 'the', 'field', 'of', 'political', 'science', 'and', 'economics', 'in', 'India', 'and', 'his', 'work', 'is', 'thought', 'of', 'as', 'an', 'important', 'precursor', 'to', 'classical', 'economics', '5', '6', '7', '8', 'His', 'works', 'were', 'lost', 'near', 'the', 'end', 'of', 'the', 'Gupta', 'Empire', 'in', 'the', '6th', 'century', 'CE', 'and', 'not', 'rediscovered', 'until', 'the', 'early', '20th']),\n",
       " WordList(['CE', '4', 'As', 'such', 'he', 'is', 'considered', 'the', 'pioneer', 'of', 'the', 'field', 'of', 'political', 'science', 'and', 'economics', 'in', 'India', 'and', 'his', 'work', 'is', 'thought', 'of', 'as', 'an', 'important', 'precursor', 'to', 'classical', 'economics', '5', '6', '7', '8', 'His', 'works', 'were', 'lost', 'near', 'the', 'end', 'of', 'the', 'Gupta', 'Empire', 'in', 'the', '6th', 'century', 'CE', 'and', 'not', 'rediscovered', 'until', 'the', 'early', '20th', 'century']),\n",
       " WordList(['4', 'As', 'such', 'he', 'is', 'considered', 'the', 'pioneer', 'of', 'the', 'field', 'of', 'political', 'science', 'and', 'economics', 'in', 'India', 'and', 'his', 'work', 'is', 'thought', 'of', 'as', 'an', 'important', 'precursor', 'to', 'classical', 'economics', '5', '6', '7', '8', 'His', 'works', 'were', 'lost', 'near', 'the', 'end', 'of', 'the', 'Gupta', 'Empire', 'in', 'the', '6th', 'century', 'CE', 'and', 'not', 'rediscovered', 'until', 'the', 'early', '20th', 'century', '6']),\n",
       " WordList(['As', 'such', 'he', 'is', 'considered', 'the', 'pioneer', 'of', 'the', 'field', 'of', 'political', 'science', 'and', 'economics', 'in', 'India', 'and', 'his', 'work', 'is', 'thought', 'of', 'as', 'an', 'important', 'precursor', 'to', 'classical', 'economics', '5', '6', '7', '8', 'His', 'works', 'were', 'lost', 'near', 'the', 'end', 'of', 'the', 'Gupta', 'Empire', 'in', 'the', '6th', 'century', 'CE', 'and', 'not', 'rediscovered', 'until', 'the', 'early', '20th', 'century', '6', 'Chanakya']),\n",
       " WordList(['such', 'he', 'is', 'considered', 'the', 'pioneer', 'of', 'the', 'field', 'of', 'political', 'science', 'and', 'economics', 'in', 'India', 'and', 'his', 'work', 'is', 'thought', 'of', 'as', 'an', 'important', 'precursor', 'to', 'classical', 'economics', '5', '6', '7', '8', 'His', 'works', 'were', 'lost', 'near', 'the', 'end', 'of', 'the', 'Gupta', 'Empire', 'in', 'the', '6th', 'century', 'CE', 'and', 'not', 'rediscovered', 'until', 'the', 'early', '20th', 'century', '6', 'Chanakya', 'assisted']),\n",
       " WordList(['he', 'is', 'considered', 'the', 'pioneer', 'of', 'the', 'field', 'of', 'political', 'science', 'and', 'economics', 'in', 'India', 'and', 'his', 'work', 'is', 'thought', 'of', 'as', 'an', 'important', 'precursor', 'to', 'classical', 'economics', '5', '6', '7', '8', 'His', 'works', 'were', 'lost', 'near', 'the', 'end', 'of', 'the', 'Gupta', 'Empire', 'in', 'the', '6th', 'century', 'CE', 'and', 'not', 'rediscovered', 'until', 'the', 'early', '20th', 'century', '6', 'Chanakya', 'assisted', 'the']),\n",
       " WordList(['is', 'considered', 'the', 'pioneer', 'of', 'the', 'field', 'of', 'political', 'science', 'and', 'economics', 'in', 'India', 'and', 'his', 'work', 'is', 'thought', 'of', 'as', 'an', 'important', 'precursor', 'to', 'classical', 'economics', '5', '6', '7', '8', 'His', 'works', 'were', 'lost', 'near', 'the', 'end', 'of', 'the', 'Gupta', 'Empire', 'in', 'the', '6th', 'century', 'CE', 'and', 'not', 'rediscovered', 'until', 'the', 'early', '20th', 'century', '6', 'Chanakya', 'assisted', 'the', 'first']),\n",
       " WordList(['considered', 'the', 'pioneer', 'of', 'the', 'field', 'of', 'political', 'science', 'and', 'economics', 'in', 'India', 'and', 'his', 'work', 'is', 'thought', 'of', 'as', 'an', 'important', 'precursor', 'to', 'classical', 'economics', '5', '6', '7', '8', 'His', 'works', 'were', 'lost', 'near', 'the', 'end', 'of', 'the', 'Gupta', 'Empire', 'in', 'the', '6th', 'century', 'CE', 'and', 'not', 'rediscovered', 'until', 'the', 'early', '20th', 'century', '6', 'Chanakya', 'assisted', 'the', 'first', 'Mauryan']),\n",
       " WordList(['the', 'pioneer', 'of', 'the', 'field', 'of', 'political', 'science', 'and', 'economics', 'in', 'India', 'and', 'his', 'work', 'is', 'thought', 'of', 'as', 'an', 'important', 'precursor', 'to', 'classical', 'economics', '5', '6', '7', '8', 'His', 'works', 'were', 'lost', 'near', 'the', 'end', 'of', 'the', 'Gupta', 'Empire', 'in', 'the', '6th', 'century', 'CE', 'and', 'not', 'rediscovered', 'until', 'the', 'early', '20th', 'century', '6', 'Chanakya', 'assisted', 'the', 'first', 'Mauryan', 'emperor']),\n",
       " WordList(['pioneer', 'of', 'the', 'field', 'of', 'political', 'science', 'and', 'economics', 'in', 'India', 'and', 'his', 'work', 'is', 'thought', 'of', 'as', 'an', 'important', 'precursor', 'to', 'classical', 'economics', '5', '6', '7', '8', 'His', 'works', 'were', 'lost', 'near', 'the', 'end', 'of', 'the', 'Gupta', 'Empire', 'in', 'the', '6th', 'century', 'CE', 'and', 'not', 'rediscovered', 'until', 'the', 'early', '20th', 'century', '6', 'Chanakya', 'assisted', 'the', 'first', 'Mauryan', 'emperor', 'Chandragupta']),\n",
       " WordList(['of', 'the', 'field', 'of', 'political', 'science', 'and', 'economics', 'in', 'India', 'and', 'his', 'work', 'is', 'thought', 'of', 'as', 'an', 'important', 'precursor', 'to', 'classical', 'economics', '5', '6', '7', '8', 'His', 'works', 'were', 'lost', 'near', 'the', 'end', 'of', 'the', 'Gupta', 'Empire', 'in', 'the', '6th', 'century', 'CE', 'and', 'not', 'rediscovered', 'until', 'the', 'early', '20th', 'century', '6', 'Chanakya', 'assisted', 'the', 'first', 'Mauryan', 'emperor', 'Chandragupta', 'in']),\n",
       " WordList(['the', 'field', 'of', 'political', 'science', 'and', 'economics', 'in', 'India', 'and', 'his', 'work', 'is', 'thought', 'of', 'as', 'an', 'important', 'precursor', 'to', 'classical', 'economics', '5', '6', '7', '8', 'His', 'works', 'were', 'lost', 'near', 'the', 'end', 'of', 'the', 'Gupta', 'Empire', 'in', 'the', '6th', 'century', 'CE', 'and', 'not', 'rediscovered', 'until', 'the', 'early', '20th', 'century', '6', 'Chanakya', 'assisted', 'the', 'first', 'Mauryan', 'emperor', 'Chandragupta', 'in', 'his']),\n",
       " WordList(['field', 'of', 'political', 'science', 'and', 'economics', 'in', 'India', 'and', 'his', 'work', 'is', 'thought', 'of', 'as', 'an', 'important', 'precursor', 'to', 'classical', 'economics', '5', '6', '7', '8', 'His', 'works', 'were', 'lost', 'near', 'the', 'end', 'of', 'the', 'Gupta', 'Empire', 'in', 'the', '6th', 'century', 'CE', 'and', 'not', 'rediscovered', 'until', 'the', 'early', '20th', 'century', '6', 'Chanakya', 'assisted', 'the', 'first', 'Mauryan', 'emperor', 'Chandragupta', 'in', 'his', 'rise']),\n",
       " WordList(['of', 'political', 'science', 'and', 'economics', 'in', 'India', 'and', 'his', 'work', 'is', 'thought', 'of', 'as', 'an', 'important', 'precursor', 'to', 'classical', 'economics', '5', '6', '7', '8', 'His', 'works', 'were', 'lost', 'near', 'the', 'end', 'of', 'the', 'Gupta', 'Empire', 'in', 'the', '6th', 'century', 'CE', 'and', 'not', 'rediscovered', 'until', 'the', 'early', '20th', 'century', '6', 'Chanakya', 'assisted', 'the', 'first', 'Mauryan', 'emperor', 'Chandragupta', 'in', 'his', 'rise', 'to']),\n",
       " WordList(['political', 'science', 'and', 'economics', 'in', 'India', 'and', 'his', 'work', 'is', 'thought', 'of', 'as', 'an', 'important', 'precursor', 'to', 'classical', 'economics', '5', '6', '7', '8', 'His', 'works', 'were', 'lost', 'near', 'the', 'end', 'of', 'the', 'Gupta', 'Empire', 'in', 'the', '6th', 'century', 'CE', 'and', 'not', 'rediscovered', 'until', 'the', 'early', '20th', 'century', '6', 'Chanakya', 'assisted', 'the', 'first', 'Mauryan', 'emperor', 'Chandragupta', 'in', 'his', 'rise', 'to', 'power']),\n",
       " WordList(['science', 'and', 'economics', 'in', 'India', 'and', 'his', 'work', 'is', 'thought', 'of', 'as', 'an', 'important', 'precursor', 'to', 'classical', 'economics', '5', '6', '7', '8', 'His', 'works', 'were', 'lost', 'near', 'the', 'end', 'of', 'the', 'Gupta', 'Empire', 'in', 'the', '6th', 'century', 'CE', 'and', 'not', 'rediscovered', 'until', 'the', 'early', '20th', 'century', '6', 'Chanakya', 'assisted', 'the', 'first', 'Mauryan', 'emperor', 'Chandragupta', 'in', 'his', 'rise', 'to', 'power', 'He']),\n",
       " WordList(['and', 'economics', 'in', 'India', 'and', 'his', 'work', 'is', 'thought', 'of', 'as', 'an', 'important', 'precursor', 'to', 'classical', 'economics', '5', '6', '7', '8', 'His', 'works', 'were', 'lost', 'near', 'the', 'end', 'of', 'the', 'Gupta', 'Empire', 'in', 'the', '6th', 'century', 'CE', 'and', 'not', 'rediscovered', 'until', 'the', 'early', '20th', 'century', '6', 'Chanakya', 'assisted', 'the', 'first', 'Mauryan', 'emperor', 'Chandragupta', 'in', 'his', 'rise', 'to', 'power', 'He', 'is']),\n",
       " WordList(['economics', 'in', 'India', 'and', 'his', 'work', 'is', 'thought', 'of', 'as', 'an', 'important', 'precursor', 'to', 'classical', 'economics', '5', '6', '7', '8', 'His', 'works', 'were', 'lost', 'near', 'the', 'end', 'of', 'the', 'Gupta', 'Empire', 'in', 'the', '6th', 'century', 'CE', 'and', 'not', 'rediscovered', 'until', 'the', 'early', '20th', 'century', '6', 'Chanakya', 'assisted', 'the', 'first', 'Mauryan', 'emperor', 'Chandragupta', 'in', 'his', 'rise', 'to', 'power', 'He', 'is', 'widely']),\n",
       " WordList(['in', 'India', 'and', 'his', 'work', 'is', 'thought', 'of', 'as', 'an', 'important', 'precursor', 'to', 'classical', 'economics', '5', '6', '7', '8', 'His', 'works', 'were', 'lost', 'near', 'the', 'end', 'of', 'the', 'Gupta', 'Empire', 'in', 'the', '6th', 'century', 'CE', 'and', 'not', 'rediscovered', 'until', 'the', 'early', '20th', 'century', '6', 'Chanakya', 'assisted', 'the', 'first', 'Mauryan', 'emperor', 'Chandragupta', 'in', 'his', 'rise', 'to', 'power', 'He', 'is', 'widely', 'credited']),\n",
       " WordList(['India', 'and', 'his', 'work', 'is', 'thought', 'of', 'as', 'an', 'important', 'precursor', 'to', 'classical', 'economics', '5', '6', '7', '8', 'His', 'works', 'were', 'lost', 'near', 'the', 'end', 'of', 'the', 'Gupta', 'Empire', 'in', 'the', '6th', 'century', 'CE', 'and', 'not', 'rediscovered', 'until', 'the', 'early', '20th', 'century', '6', 'Chanakya', 'assisted', 'the', 'first', 'Mauryan', 'emperor', 'Chandragupta', 'in', 'his', 'rise', 'to', 'power', 'He', 'is', 'widely', 'credited', 'for']),\n",
       " WordList(['and', 'his', 'work', 'is', 'thought', 'of', 'as', 'an', 'important', 'precursor', 'to', 'classical', 'economics', '5', '6', '7', '8', 'His', 'works', 'were', 'lost', 'near', 'the', 'end', 'of', 'the', 'Gupta', 'Empire', 'in', 'the', '6th', 'century', 'CE', 'and', 'not', 'rediscovered', 'until', 'the', 'early', '20th', 'century', '6', 'Chanakya', 'assisted', 'the', 'first', 'Mauryan', 'emperor', 'Chandragupta', 'in', 'his', 'rise', 'to', 'power', 'He', 'is', 'widely', 'credited', 'for', 'having']),\n",
       " WordList(['his', 'work', 'is', 'thought', 'of', 'as', 'an', 'important', 'precursor', 'to', 'classical', 'economics', '5', '6', '7', '8', 'His', 'works', 'were', 'lost', 'near', 'the', 'end', 'of', 'the', 'Gupta', 'Empire', 'in', 'the', '6th', 'century', 'CE', 'and', 'not', 'rediscovered', 'until', 'the', 'early', '20th', 'century', '6', 'Chanakya', 'assisted', 'the', 'first', 'Mauryan', 'emperor', 'Chandragupta', 'in', 'his', 'rise', 'to', 'power', 'He', 'is', 'widely', 'credited', 'for', 'having', 'played']),\n",
       " WordList(['work', 'is', 'thought', 'of', 'as', 'an', 'important', 'precursor', 'to', 'classical', 'economics', '5', '6', '7', '8', 'His', 'works', 'were', 'lost', 'near', 'the', 'end', 'of', 'the', 'Gupta', 'Empire', 'in', 'the', '6th', 'century', 'CE', 'and', 'not', 'rediscovered', 'until', 'the', 'early', '20th', 'century', '6', 'Chanakya', 'assisted', 'the', 'first', 'Mauryan', 'emperor', 'Chandragupta', 'in', 'his', 'rise', 'to', 'power', 'He', 'is', 'widely', 'credited', 'for', 'having', 'played', 'an']),\n",
       " WordList(['is', 'thought', 'of', 'as', 'an', 'important', 'precursor', 'to', 'classical', 'economics', '5', '6', '7', '8', 'His', 'works', 'were', 'lost', 'near', 'the', 'end', 'of', 'the', 'Gupta', 'Empire', 'in', 'the', '6th', 'century', 'CE', 'and', 'not', 'rediscovered', 'until', 'the', 'early', '20th', 'century', '6', 'Chanakya', 'assisted', 'the', 'first', 'Mauryan', 'emperor', 'Chandragupta', 'in', 'his', 'rise', 'to', 'power', 'He', 'is', 'widely', 'credited', 'for', 'having', 'played', 'an', 'important']),\n",
       " WordList(['thought', 'of', 'as', 'an', 'important', 'precursor', 'to', 'classical', 'economics', '5', '6', '7', '8', 'His', 'works', 'were', 'lost', 'near', 'the', 'end', 'of', 'the', 'Gupta', 'Empire', 'in', 'the', '6th', 'century', 'CE', 'and', 'not', 'rediscovered', 'until', 'the', 'early', '20th', 'century', '6', 'Chanakya', 'assisted', 'the', 'first', 'Mauryan', 'emperor', 'Chandragupta', 'in', 'his', 'rise', 'to', 'power', 'He', 'is', 'widely', 'credited', 'for', 'having', 'played', 'an', 'important', 'role']),\n",
       " WordList(['of', 'as', 'an', 'important', 'precursor', 'to', 'classical', 'economics', '5', '6', '7', '8', 'His', 'works', 'were', 'lost', 'near', 'the', 'end', 'of', 'the', 'Gupta', 'Empire', 'in', 'the', '6th', 'century', 'CE', 'and', 'not', 'rediscovered', 'until', 'the', 'early', '20th', 'century', '6', 'Chanakya', 'assisted', 'the', 'first', 'Mauryan', 'emperor', 'Chandragupta', 'in', 'his', 'rise', 'to', 'power', 'He', 'is', 'widely', 'credited', 'for', 'having', 'played', 'an', 'important', 'role', 'in']),\n",
       " WordList(['as', 'an', 'important', 'precursor', 'to', 'classical', 'economics', '5', '6', '7', '8', 'His', 'works', 'were', 'lost', 'near', 'the', 'end', 'of', 'the', 'Gupta', 'Empire', 'in', 'the', '6th', 'century', 'CE', 'and', 'not', 'rediscovered', 'until', 'the', 'early', '20th', 'century', '6', 'Chanakya', 'assisted', 'the', 'first', 'Mauryan', 'emperor', 'Chandragupta', 'in', 'his', 'rise', 'to', 'power', 'He', 'is', 'widely', 'credited', 'for', 'having', 'played', 'an', 'important', 'role', 'in', 'the']),\n",
       " WordList(['an', 'important', 'precursor', 'to', 'classical', 'economics', '5', '6', '7', '8', 'His', 'works', 'were', 'lost', 'near', 'the', 'end', 'of', 'the', 'Gupta', 'Empire', 'in', 'the', '6th', 'century', 'CE', 'and', 'not', 'rediscovered', 'until', 'the', 'early', '20th', 'century', '6', 'Chanakya', 'assisted', 'the', 'first', 'Mauryan', 'emperor', 'Chandragupta', 'in', 'his', 'rise', 'to', 'power', 'He', 'is', 'widely', 'credited', 'for', 'having', 'played', 'an', 'important', 'role', 'in', 'the', 'establishment']),\n",
       " WordList(['important', 'precursor', 'to', 'classical', 'economics', '5', '6', '7', '8', 'His', 'works', 'were', 'lost', 'near', 'the', 'end', 'of', 'the', 'Gupta', 'Empire', 'in', 'the', '6th', 'century', 'CE', 'and', 'not', 'rediscovered', 'until', 'the', 'early', '20th', 'century', '6', 'Chanakya', 'assisted', 'the', 'first', 'Mauryan', 'emperor', 'Chandragupta', 'in', 'his', 'rise', 'to', 'power', 'He', 'is', 'widely', 'credited', 'for', 'having', 'played', 'an', 'important', 'role', 'in', 'the', 'establishment', 'of']),\n",
       " WordList(['precursor', 'to', 'classical', 'economics', '5', '6', '7', '8', 'His', 'works', 'were', 'lost', 'near', 'the', 'end', 'of', 'the', 'Gupta', 'Empire', 'in', 'the', '6th', 'century', 'CE', 'and', 'not', 'rediscovered', 'until', 'the', 'early', '20th', 'century', '6', 'Chanakya', 'assisted', 'the', 'first', 'Mauryan', 'emperor', 'Chandragupta', 'in', 'his', 'rise', 'to', 'power', 'He', 'is', 'widely', 'credited', 'for', 'having', 'played', 'an', 'important', 'role', 'in', 'the', 'establishment', 'of', 'the']),\n",
       " WordList(['to', 'classical', 'economics', '5', '6', '7', '8', 'His', 'works', 'were', 'lost', 'near', 'the', 'end', 'of', 'the', 'Gupta', 'Empire', 'in', 'the', '6th', 'century', 'CE', 'and', 'not', 'rediscovered', 'until', 'the', 'early', '20th', 'century', '6', 'Chanakya', 'assisted', 'the', 'first', 'Mauryan', 'emperor', 'Chandragupta', 'in', 'his', 'rise', 'to', 'power', 'He', 'is', 'widely', 'credited', 'for', 'having', 'played', 'an', 'important', 'role', 'in', 'the', 'establishment', 'of', 'the', 'Maurya']),\n",
       " WordList(['classical', 'economics', '5', '6', '7', '8', 'His', 'works', 'were', 'lost', 'near', 'the', 'end', 'of', 'the', 'Gupta', 'Empire', 'in', 'the', '6th', 'century', 'CE', 'and', 'not', 'rediscovered', 'until', 'the', 'early', '20th', 'century', '6', 'Chanakya', 'assisted', 'the', 'first', 'Mauryan', 'emperor', 'Chandragupta', 'in', 'his', 'rise', 'to', 'power', 'He', 'is', 'widely', 'credited', 'for', 'having', 'played', 'an', 'important', 'role', 'in', 'the', 'establishment', 'of', 'the', 'Maurya', 'Empire']),\n",
       " WordList(['economics', '5', '6', '7', '8', 'His', 'works', 'were', 'lost', 'near', 'the', 'end', 'of', 'the', 'Gupta', 'Empire', 'in', 'the', '6th', 'century', 'CE', 'and', 'not', 'rediscovered', 'until', 'the', 'early', '20th', 'century', '6', 'Chanakya', 'assisted', 'the', 'first', 'Mauryan', 'emperor', 'Chandragupta', 'in', 'his', 'rise', 'to', 'power', 'He', 'is', 'widely', 'credited', 'for', 'having', 'played', 'an', 'important', 'role', 'in', 'the', 'establishment', 'of', 'the', 'Maurya', 'Empire', 'Chanakya']),\n",
       " WordList(['5', '6', '7', '8', 'His', 'works', 'were', 'lost', 'near', 'the', 'end', 'of', 'the', 'Gupta', 'Empire', 'in', 'the', '6th', 'century', 'CE', 'and', 'not', 'rediscovered', 'until', 'the', 'early', '20th', 'century', '6', 'Chanakya', 'assisted', 'the', 'first', 'Mauryan', 'emperor', 'Chandragupta', 'in', 'his', 'rise', 'to', 'power', 'He', 'is', 'widely', 'credited', 'for', 'having', 'played', 'an', 'important', 'role', 'in', 'the', 'establishment', 'of', 'the', 'Maurya', 'Empire', 'Chanakya', 'served']),\n",
       " WordList(['6', '7', '8', 'His', 'works', 'were', 'lost', 'near', 'the', 'end', 'of', 'the', 'Gupta', 'Empire', 'in', 'the', '6th', 'century', 'CE', 'and', 'not', 'rediscovered', 'until', 'the', 'early', '20th', 'century', '6', 'Chanakya', 'assisted', 'the', 'first', 'Mauryan', 'emperor', 'Chandragupta', 'in', 'his', 'rise', 'to', 'power', 'He', 'is', 'widely', 'credited', 'for', 'having', 'played', 'an', 'important', 'role', 'in', 'the', 'establishment', 'of', 'the', 'Maurya', 'Empire', 'Chanakya', 'served', 'as']),\n",
       " WordList(['7', '8', 'His', 'works', 'were', 'lost', 'near', 'the', 'end', 'of', 'the', 'Gupta', 'Empire', 'in', 'the', '6th', 'century', 'CE', 'and', 'not', 'rediscovered', 'until', 'the', 'early', '20th', 'century', '6', 'Chanakya', 'assisted', 'the', 'first', 'Mauryan', 'emperor', 'Chandragupta', 'in', 'his', 'rise', 'to', 'power', 'He', 'is', 'widely', 'credited', 'for', 'having', 'played', 'an', 'important', 'role', 'in', 'the', 'establishment', 'of', 'the', 'Maurya', 'Empire', 'Chanakya', 'served', 'as', 'the']),\n",
       " WordList(['8', 'His', 'works', 'were', 'lost', 'near', 'the', 'end', 'of', 'the', 'Gupta', 'Empire', 'in', 'the', '6th', 'century', 'CE', 'and', 'not', 'rediscovered', 'until', 'the', 'early', '20th', 'century', '6', 'Chanakya', 'assisted', 'the', 'first', 'Mauryan', 'emperor', 'Chandragupta', 'in', 'his', 'rise', 'to', 'power', 'He', 'is', 'widely', 'credited', 'for', 'having', 'played', 'an', 'important', 'role', 'in', 'the', 'establishment', 'of', 'the', 'Maurya', 'Empire', 'Chanakya', 'served', 'as', 'the', 'chief']),\n",
       " WordList(['His', 'works', 'were', 'lost', 'near', 'the', 'end', 'of', 'the', 'Gupta', 'Empire', 'in', 'the', '6th', 'century', 'CE', 'and', 'not', 'rediscovered', 'until', 'the', 'early', '20th', 'century', '6', 'Chanakya', 'assisted', 'the', 'first', 'Mauryan', 'emperor', 'Chandragupta', 'in', 'his', 'rise', 'to', 'power', 'He', 'is', 'widely', 'credited', 'for', 'having', 'played', 'an', 'important', 'role', 'in', 'the', 'establishment', 'of', 'the', 'Maurya', 'Empire', 'Chanakya', 'served', 'as', 'the', 'chief', 'advisor']),\n",
       " WordList(['works', 'were', 'lost', 'near', 'the', 'end', 'of', 'the', 'Gupta', 'Empire', 'in', 'the', '6th', 'century', 'CE', 'and', 'not', 'rediscovered', 'until', 'the', 'early', '20th', 'century', '6', 'Chanakya', 'assisted', 'the', 'first', 'Mauryan', 'emperor', 'Chandragupta', 'in', 'his', 'rise', 'to', 'power', 'He', 'is', 'widely', 'credited', 'for', 'having', 'played', 'an', 'important', 'role', 'in', 'the', 'establishment', 'of', 'the', 'Maurya', 'Empire', 'Chanakya', 'served', 'as', 'the', 'chief', 'advisor', 'to']),\n",
       " WordList(['were', 'lost', 'near', 'the', 'end', 'of', 'the', 'Gupta', 'Empire', 'in', 'the', '6th', 'century', 'CE', 'and', 'not', 'rediscovered', 'until', 'the', 'early', '20th', 'century', '6', 'Chanakya', 'assisted', 'the', 'first', 'Mauryan', 'emperor', 'Chandragupta', 'in', 'his', 'rise', 'to', 'power', 'He', 'is', 'widely', 'credited', 'for', 'having', 'played', 'an', 'important', 'role', 'in', 'the', 'establishment', 'of', 'the', 'Maurya', 'Empire', 'Chanakya', 'served', 'as', 'the', 'chief', 'advisor', 'to', 'both']),\n",
       " WordList(['lost', 'near', 'the', 'end', 'of', 'the', 'Gupta', 'Empire', 'in', 'the', '6th', 'century', 'CE', 'and', 'not', 'rediscovered', 'until', 'the', 'early', '20th', 'century', '6', 'Chanakya', 'assisted', 'the', 'first', 'Mauryan', 'emperor', 'Chandragupta', 'in', 'his', 'rise', 'to', 'power', 'He', 'is', 'widely', 'credited', 'for', 'having', 'played', 'an', 'important', 'role', 'in', 'the', 'establishment', 'of', 'the', 'Maurya', 'Empire', 'Chanakya', 'served', 'as', 'the', 'chief', 'advisor', 'to', 'both', 'emperors']),\n",
       " WordList(['near', 'the', 'end', 'of', 'the', 'Gupta', 'Empire', 'in', 'the', '6th', 'century', 'CE', 'and', 'not', 'rediscovered', 'until', 'the', 'early', '20th', 'century', '6', 'Chanakya', 'assisted', 'the', 'first', 'Mauryan', 'emperor', 'Chandragupta', 'in', 'his', 'rise', 'to', 'power', 'He', 'is', 'widely', 'credited', 'for', 'having', 'played', 'an', 'important', 'role', 'in', 'the', 'establishment', 'of', 'the', 'Maurya', 'Empire', 'Chanakya', 'served', 'as', 'the', 'chief', 'advisor', 'to', 'both', 'emperors', 'Chandragupta']),\n",
       " WordList(['the', 'end', 'of', 'the', 'Gupta', 'Empire', 'in', 'the', '6th', 'century', 'CE', 'and', 'not', 'rediscovered', 'until', 'the', 'early', '20th', 'century', '6', 'Chanakya', 'assisted', 'the', 'first', 'Mauryan', 'emperor', 'Chandragupta', 'in', 'his', 'rise', 'to', 'power', 'He', 'is', 'widely', 'credited', 'for', 'having', 'played', 'an', 'important', 'role', 'in', 'the', 'establishment', 'of', 'the', 'Maurya', 'Empire', 'Chanakya', 'served', 'as', 'the', 'chief', 'advisor', 'to', 'both', 'emperors', 'Chandragupta', 'and']),\n",
       " WordList(['end', 'of', 'the', 'Gupta', 'Empire', 'in', 'the', '6th', 'century', 'CE', 'and', 'not', 'rediscovered', 'until', 'the', 'early', '20th', 'century', '6', 'Chanakya', 'assisted', 'the', 'first', 'Mauryan', 'emperor', 'Chandragupta', 'in', 'his', 'rise', 'to', 'power', 'He', 'is', 'widely', 'credited', 'for', 'having', 'played', 'an', 'important', 'role', 'in', 'the', 'establishment', 'of', 'the', 'Maurya', 'Empire', 'Chanakya', 'served', 'as', 'the', 'chief', 'advisor', 'to', 'both', 'emperors', 'Chandragupta', 'and', 'his']),\n",
       " WordList(['of', 'the', 'Gupta', 'Empire', 'in', 'the', '6th', 'century', 'CE', 'and', 'not', 'rediscovered', 'until', 'the', 'early', '20th', 'century', '6', 'Chanakya', 'assisted', 'the', 'first', 'Mauryan', 'emperor', 'Chandragupta', 'in', 'his', 'rise', 'to', 'power', 'He', 'is', 'widely', 'credited', 'for', 'having', 'played', 'an', 'important', 'role', 'in', 'the', 'establishment', 'of', 'the', 'Maurya', 'Empire', 'Chanakya', 'served', 'as', 'the', 'chief', 'advisor', 'to', 'both', 'emperors', 'Chandragupta', 'and', 'his', 'son']),\n",
       " WordList(['the', 'Gupta', 'Empire', 'in', 'the', '6th', 'century', 'CE', 'and', 'not', 'rediscovered', 'until', 'the', 'early', '20th', 'century', '6', 'Chanakya', 'assisted', 'the', 'first', 'Mauryan', 'emperor', 'Chandragupta', 'in', 'his', 'rise', 'to', 'power', 'He', 'is', 'widely', 'credited', 'for', 'having', 'played', 'an', 'important', 'role', 'in', 'the', 'establishment', 'of', 'the', 'Maurya', 'Empire', 'Chanakya', 'served', 'as', 'the', 'chief', 'advisor', 'to', 'both', 'emperors', 'Chandragupta', 'and', 'his', 'son', 'Bindusara']),\n",
       " WordList(['Gupta', 'Empire', 'in', 'the', '6th', 'century', 'CE', 'and', 'not', 'rediscovered', 'until', 'the', 'early', '20th', 'century', '6', 'Chanakya', 'assisted', 'the', 'first', 'Mauryan', 'emperor', 'Chandragupta', 'in', 'his', 'rise', 'to', 'power', 'He', 'is', 'widely', 'credited', 'for', 'having', 'played', 'an', 'important', 'role', 'in', 'the', 'establishment', 'of', 'the', 'Maurya', 'Empire', 'Chanakya', 'served', 'as', 'the', 'chief', 'advisor', 'to', 'both', 'emperors', 'Chandragupta', 'and', 'his', 'son', 'Bindusara', 'In']),\n",
       " WordList(['Empire', 'in', 'the', '6th', 'century', 'CE', 'and', 'not', 'rediscovered', 'until', 'the', 'early', '20th', 'century', '6', 'Chanakya', 'assisted', 'the', 'first', 'Mauryan', 'emperor', 'Chandragupta', 'in', 'his', 'rise', 'to', 'power', 'He', 'is', 'widely', 'credited', 'for', 'having', 'played', 'an', 'important', 'role', 'in', 'the', 'establishment', 'of', 'the', 'Maurya', 'Empire', 'Chanakya', 'served', 'as', 'the', 'chief', 'advisor', 'to', 'both', 'emperors', 'Chandragupta', 'and', 'his', 'son', 'Bindusara', 'In', 'all']),\n",
       " WordList(['in', 'the', '6th', 'century', 'CE', 'and', 'not', 'rediscovered', 'until', 'the', 'early', '20th', 'century', '6', 'Chanakya', 'assisted', 'the', 'first', 'Mauryan', 'emperor', 'Chandragupta', 'in', 'his', 'rise', 'to', 'power', 'He', 'is', 'widely', 'credited', 'for', 'having', 'played', 'an', 'important', 'role', 'in', 'the', 'establishment', 'of', 'the', 'Maurya', 'Empire', 'Chanakya', 'served', 'as', 'the', 'chief', 'advisor', 'to', 'both', 'emperors', 'Chandragupta', 'and', 'his', 'son', 'Bindusara', 'In', 'all', 'the']),\n",
       " WordList(['the', '6th', 'century', 'CE', 'and', 'not', 'rediscovered', 'until', 'the', 'early', '20th', 'century', '6', 'Chanakya', 'assisted', 'the', 'first', 'Mauryan', 'emperor', 'Chandragupta', 'in', 'his', 'rise', 'to', 'power', 'He', 'is', 'widely', 'credited', 'for', 'having', 'played', 'an', 'important', 'role', 'in', 'the', 'establishment', 'of', 'the', 'Maurya', 'Empire', 'Chanakya', 'served', 'as', 'the', 'chief', 'advisor', 'to', 'both', 'emperors', 'Chandragupta', 'and', 'his', 'son', 'Bindusara', 'In', 'all', 'the', 'four']),\n",
       " WordList(['6th', 'century', 'CE', 'and', 'not', 'rediscovered', 'until', 'the', 'early', '20th', 'century', '6', 'Chanakya', 'assisted', 'the', 'first', 'Mauryan', 'emperor', 'Chandragupta', 'in', 'his', 'rise', 'to', 'power', 'He', 'is', 'widely', 'credited', 'for', 'having', 'played', 'an', 'important', 'role', 'in', 'the', 'establishment', 'of', 'the', 'Maurya', 'Empire', 'Chanakya', 'served', 'as', 'the', 'chief', 'advisor', 'to', 'both', 'emperors', 'Chandragupta', 'and', 'his', 'son', 'Bindusara', 'In', 'all', 'the', 'four', 'versions']),\n",
       " WordList(['century', 'CE', 'and', 'not', 'rediscovered', 'until', 'the', 'early', '20th', 'century', '6', 'Chanakya', 'assisted', 'the', 'first', 'Mauryan', 'emperor', 'Chandragupta', 'in', 'his', 'rise', 'to', 'power', 'He', 'is', 'widely', 'credited', 'for', 'having', 'played', 'an', 'important', 'role', 'in', 'the', 'establishment', 'of', 'the', 'Maurya', 'Empire', 'Chanakya', 'served', 'as', 'the', 'chief', 'advisor', 'to', 'both', 'emperors', 'Chandragupta', 'and', 'his', 'son', 'Bindusara', 'In', 'all', 'the', 'four', 'versions', 'Chanakya']),\n",
       " WordList(['CE', 'and', 'not', 'rediscovered', 'until', 'the', 'early', '20th', 'century', '6', 'Chanakya', 'assisted', 'the', 'first', 'Mauryan', 'emperor', 'Chandragupta', 'in', 'his', 'rise', 'to', 'power', 'He', 'is', 'widely', 'credited', 'for', 'having', 'played', 'an', 'important', 'role', 'in', 'the', 'establishment', 'of', 'the', 'Maurya', 'Empire', 'Chanakya', 'served', 'as', 'the', 'chief', 'advisor', 'to', 'both', 'emperors', 'Chandragupta', 'and', 'his', 'son', 'Bindusara', 'In', 'all', 'the', 'four', 'versions', 'Chanakya', 'feels']),\n",
       " WordList(['and', 'not', 'rediscovered', 'until', 'the', 'early', '20th', 'century', '6', 'Chanakya', 'assisted', 'the', 'first', 'Mauryan', 'emperor', 'Chandragupta', 'in', 'his', 'rise', 'to', 'power', 'He', 'is', 'widely', 'credited', 'for', 'having', 'played', 'an', 'important', 'role', 'in', 'the', 'establishment', 'of', 'the', 'Maurya', 'Empire', 'Chanakya', 'served', 'as', 'the', 'chief', 'advisor', 'to', 'both', 'emperors', 'Chandragupta', 'and', 'his', 'son', 'Bindusara', 'In', 'all', 'the', 'four', 'versions', 'Chanakya', 'feels', 'insulted']),\n",
       " WordList(['not', 'rediscovered', 'until', 'the', 'early', '20th', 'century', '6', 'Chanakya', 'assisted', 'the', 'first', 'Mauryan', 'emperor', 'Chandragupta', 'in', 'his', 'rise', 'to', 'power', 'He', 'is', 'widely', 'credited', 'for', 'having', 'played', 'an', 'important', 'role', 'in', 'the', 'establishment', 'of', 'the', 'Maurya', 'Empire', 'Chanakya', 'served', 'as', 'the', 'chief', 'advisor', 'to', 'both', 'emperors', 'Chandragupta', 'and', 'his', 'son', 'Bindusara', 'In', 'all', 'the', 'four', 'versions', 'Chanakya', 'feels', 'insulted', 'by']),\n",
       " WordList(['rediscovered', 'until', 'the', 'early', '20th', 'century', '6', 'Chanakya', 'assisted', 'the', 'first', 'Mauryan', 'emperor', 'Chandragupta', 'in', 'his', 'rise', 'to', 'power', 'He', 'is', 'widely', 'credited', 'for', 'having', 'played', 'an', 'important', 'role', 'in', 'the', 'establishment', 'of', 'the', 'Maurya', 'Empire', 'Chanakya', 'served', 'as', 'the', 'chief', 'advisor', 'to', 'both', 'emperors', 'Chandragupta', 'and', 'his', 'son', 'Bindusara', 'In', 'all', 'the', 'four', 'versions', 'Chanakya', 'feels', 'insulted', 'by', 'th'])]"
      ]
     },
     "execution_count": 30,
     "metadata": {},
     "output_type": "execute_result"
    }
   ],
   "source": [
    "c.ngrams(n=60) #60 words are grouped"
   ]
  },
  {
   "cell_type": "code",
   "execution_count": null,
   "metadata": {},
   "outputs": [],
   "source": []
  }
 ],
 "metadata": {
  "kernelspec": {
   "display_name": "Python 3",
   "language": "python",
   "name": "python3"
  },
  "language_info": {
   "codemirror_mode": {
    "name": "ipython",
    "version": 3
   },
   "file_extension": ".py",
   "mimetype": "text/x-python",
   "name": "python",
   "nbconvert_exporter": "python",
   "pygments_lexer": "ipython3",
   "version": "3.8.5"
  }
 },
 "nbformat": 4,
 "nbformat_minor": 4
}
