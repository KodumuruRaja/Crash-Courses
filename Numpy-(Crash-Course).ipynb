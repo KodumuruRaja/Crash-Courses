{
  "nbformat": 4,
  "nbformat_minor": 0,
  "metadata": {
    "colab": {
      "name": "Numpy Crash Course (KGP Talkies).ipynb",
      "provenance": [],
      "collapsed_sections": [],
      "authorship_tag": "ABX9TyOQo94hoP2wo5b0H6s/fiQz",
      "include_colab_link": true
    },
    "kernelspec": {
      "name": "python3",
      "display_name": "Python 3"
    }
  },
  "cells": [
    {
      "cell_type": "markdown",
      "metadata": {
        "id": "view-in-github",
        "colab_type": "text"
      },
      "source": [
        "<a href=\"https://colab.research.google.com/github/KodumuruRaja/Crash-Courses/blob/main/Numpy-(Crash-Course).ipynb\" target=\"_parent\"><img src=\"https://colab.research.google.com/assets/colab-badge.svg\" alt=\"Open In Colab\"/></a>"
      ]
    },
    {
      "cell_type": "code",
      "metadata": {
        "id": "UjQzWA732snl"
      },
      "source": [
        "import numpy as np"
      ],
      "execution_count": null,
      "outputs": []
    },
    {
      "cell_type": "code",
      "metadata": {
        "id": "M8IEuFtK3PQF"
      },
      "source": [
        "# List and Numpy Array\r\n",
        "list1=[0,1,2,3,4]"
      ],
      "execution_count": null,
      "outputs": []
    },
    {
      "cell_type": "code",
      "metadata": {
        "colab": {
          "base_uri": "https://localhost:8080/"
        },
        "id": "_NTcGGUd309q",
        "outputId": "703d1187-37f7-4048-de48-643cd91d8ab7"
      },
      "source": [
        "list1"
      ],
      "execution_count": null,
      "outputs": [
        {
          "output_type": "execute_result",
          "data": {
            "text/plain": [
              "[0, 1, 2, 3, 4]"
            ]
          },
          "metadata": {
            "tags": []
          },
          "execution_count": 3
        }
      ]
    },
    {
      "cell_type": "code",
      "metadata": {
        "id": "zw31JhWG31ho"
      },
      "source": [
        "arr1d=np.array(list1)"
      ],
      "execution_count": null,
      "outputs": []
    },
    {
      "cell_type": "code",
      "metadata": {
        "colab": {
          "base_uri": "https://localhost:8080/"
        },
        "id": "HHze9DPA38vC",
        "outputId": "f1697f18-f618-4982-a848-eb5aa9a79bbe"
      },
      "source": [
        "arr1d"
      ],
      "execution_count": null,
      "outputs": [
        {
          "output_type": "execute_result",
          "data": {
            "text/plain": [
              "array([0, 1, 2, 3, 4])"
            ]
          },
          "metadata": {
            "tags": []
          },
          "execution_count": 5
        }
      ]
    },
    {
      "cell_type": "code",
      "metadata": {
        "id": "hskffZ08396d"
      },
      "source": [
        "list1.append(5)"
      ],
      "execution_count": null,
      "outputs": []
    },
    {
      "cell_type": "code",
      "metadata": {
        "colab": {
          "base_uri": "https://localhost:8080/"
        },
        "id": "kPuKFRQu4LAJ",
        "outputId": "f58b76d1-cfbe-4902-b743-2e8fe4c2a642"
      },
      "source": [
        "list1"
      ],
      "execution_count": null,
      "outputs": [
        {
          "output_type": "execute_result",
          "data": {
            "text/plain": [
              "[0, 1, 2, 3, 4, 5]"
            ]
          },
          "metadata": {
            "tags": []
          },
          "execution_count": 7
        }
      ]
    },
    {
      "cell_type": "code",
      "metadata": {
        "colab": {
          "base_uri": "https://localhost:8080/"
        },
        "id": "Q9KGwyDT4WgV",
        "outputId": "3cde8fff-dd04-4bd1-a4aa-0b78297d3e7c"
      },
      "source": [
        "arr1d + 2"
      ],
      "execution_count": null,
      "outputs": [
        {
          "output_type": "execute_result",
          "data": {
            "text/plain": [
              "array([2, 3, 4, 5, 6])"
            ]
          },
          "metadata": {
            "tags": []
          },
          "execution_count": 8
        }
      ]
    },
    {
      "cell_type": "code",
      "metadata": {
        "id": "r32Uo2bI4Xuz"
      },
      "source": [
        "list2=[[1,1,1],[2,2,2],[3,3,3]]\r\n",
        "arr2d=np.array(list2)"
      ],
      "execution_count": null,
      "outputs": []
    },
    {
      "cell_type": "code",
      "metadata": {
        "colab": {
          "base_uri": "https://localhost:8080/"
        },
        "id": "CGDl7UHF45Wt",
        "outputId": "ee3231ec-561c-4c56-b05d-42af4d37b77c"
      },
      "source": [
        "arr2d"
      ],
      "execution_count": null,
      "outputs": [
        {
          "output_type": "execute_result",
          "data": {
            "text/plain": [
              "array([[1, 1, 1],\n",
              "       [2, 2, 2],\n",
              "       [3, 3, 3]])"
            ]
          },
          "metadata": {
            "tags": []
          },
          "execution_count": 10
        }
      ]
    },
    {
      "cell_type": "code",
      "metadata": {
        "colab": {
          "base_uri": "https://localhost:8080/"
        },
        "id": "b3Oh9CZg46Yz",
        "outputId": "4656280b-41f6-4a79-a555-b9c0fd53bf63"
      },
      "source": [
        "type(arr2d)"
      ],
      "execution_count": null,
      "outputs": [
        {
          "output_type": "execute_result",
          "data": {
            "text/plain": [
              "numpy.ndarray"
            ]
          },
          "metadata": {
            "tags": []
          },
          "execution_count": 11
        }
      ]
    },
    {
      "cell_type": "code",
      "metadata": {
        "colab": {
          "base_uri": "https://localhost:8080/"
        },
        "id": "wBM2e51q5BOF",
        "outputId": "5323696f-8b40-4f5e-8080-55c881e124af"
      },
      "source": [
        "arr2d.dtype"
      ],
      "execution_count": null,
      "outputs": [
        {
          "output_type": "execute_result",
          "data": {
            "text/plain": [
              "dtype('int64')"
            ]
          },
          "metadata": {
            "tags": []
          },
          "execution_count": 12
        }
      ]
    },
    {
      "cell_type": "code",
      "metadata": {
        "id": "jSdAlmrS5FVl"
      },
      "source": [
        "#converting int64 numpy array to float\r\n",
        "arr2d=np.array(list2,dtype='float')"
      ],
      "execution_count": null,
      "outputs": []
    },
    {
      "cell_type": "code",
      "metadata": {
        "colab": {
          "base_uri": "https://localhost:8080/"
        },
        "id": "1n0d4pcx5Tie",
        "outputId": "9fa0192b-acce-49da-9dc6-faefe3a85dce"
      },
      "source": [
        "arr2d.dtype"
      ],
      "execution_count": null,
      "outputs": [
        {
          "output_type": "execute_result",
          "data": {
            "text/plain": [
              "dtype('float64')"
            ]
          },
          "metadata": {
            "tags": []
          },
          "execution_count": 14
        }
      ]
    },
    {
      "cell_type": "code",
      "metadata": {
        "colab": {
          "base_uri": "https://localhost:8080/"
        },
        "id": "RfLF3fvG5WfU",
        "outputId": "cfa05e50-87d7-44af-bfd6-e2348c14ca48"
      },
      "source": [
        "arr2d"
      ],
      "execution_count": null,
      "outputs": [
        {
          "output_type": "execute_result",
          "data": {
            "text/plain": [
              "array([[1., 1., 1.],\n",
              "       [2., 2., 2.],\n",
              "       [3., 3., 3.]])"
            ]
          },
          "metadata": {
            "tags": []
          },
          "execution_count": 15
        }
      ]
    },
    {
      "cell_type": "code",
      "metadata": {
        "id": "O5dhlSic5oey"
      },
      "source": [
        "#change dtype of array\r\n",
        "arr2d=arr2d.astype('int')"
      ],
      "execution_count": null,
      "outputs": []
    },
    {
      "cell_type": "code",
      "metadata": {
        "id": "-_53_xxP5y7P"
      },
      "source": [
        "list1.append('6')"
      ],
      "execution_count": null,
      "outputs": []
    },
    {
      "cell_type": "code",
      "metadata": {
        "colab": {
          "base_uri": "https://localhost:8080/"
        },
        "id": "cArAkUH953EF",
        "outputId": "d8d1f81f-dcdc-4e50-898e-a943ac0128cd"
      },
      "source": [
        "list1"
      ],
      "execution_count": null,
      "outputs": [
        {
          "output_type": "execute_result",
          "data": {
            "text/plain": [
              "[0, 1, 2, 3, 4, 5, '6']"
            ]
          },
          "metadata": {
            "tags": []
          },
          "execution_count": 18
        }
      ]
    },
    {
      "cell_type": "code",
      "metadata": {
        "id": "r_6UgObj6NoV"
      },
      "source": [
        "#changing array to list\r\n",
        "np2list=arr2d.tolist()"
      ],
      "execution_count": null,
      "outputs": []
    },
    {
      "cell_type": "code",
      "metadata": {
        "colab": {
          "base_uri": "https://localhost:8080/"
        },
        "id": "8-XWrxPw6nhF",
        "outputId": "9d52dea8-8a93-4094-d47d-e839c6b175a9"
      },
      "source": [
        "np2list"
      ],
      "execution_count": null,
      "outputs": [
        {
          "output_type": "execute_result",
          "data": {
            "text/plain": [
              "[[1, 1, 1], [2, 2, 2], [3, 3, 3]]"
            ]
          },
          "metadata": {
            "tags": []
          },
          "execution_count": 20
        }
      ]
    },
    {
      "cell_type": "code",
      "metadata": {
        "colab": {
          "base_uri": "https://localhost:8080/"
        },
        "id": "SJPxgoIr6omZ",
        "outputId": "cc113cd4-cee7-4100-fdf0-b06238398130"
      },
      "source": [
        "#array to string\r\n",
        "arr2d.tostring()"
      ],
      "execution_count": null,
      "outputs": [
        {
          "output_type": "stream",
          "text": [
            "/usr/local/lib/python3.6/dist-packages/ipykernel_launcher.py:2: DeprecationWarning: tostring() is deprecated. Use tobytes() instead.\n",
            "  \n"
          ],
          "name": "stderr"
        },
        {
          "output_type": "execute_result",
          "data": {
            "text/plain": [
              "b'\\x01\\x00\\x00\\x00\\x00\\x00\\x00\\x00\\x01\\x00\\x00\\x00\\x00\\x00\\x00\\x00\\x01\\x00\\x00\\x00\\x00\\x00\\x00\\x00\\x02\\x00\\x00\\x00\\x00\\x00\\x00\\x00\\x02\\x00\\x00\\x00\\x00\\x00\\x00\\x00\\x02\\x00\\x00\\x00\\x00\\x00\\x00\\x00\\x03\\x00\\x00\\x00\\x00\\x00\\x00\\x00\\x03\\x00\\x00\\x00\\x00\\x00\\x00\\x00\\x03\\x00\\x00\\x00\\x00\\x00\\x00\\x00'"
            ]
          },
          "metadata": {
            "tags": []
          },
          "execution_count": 21
        }
      ]
    },
    {
      "cell_type": "code",
      "metadata": {
        "colab": {
          "base_uri": "https://localhost:8080/"
        },
        "id": "-KF3v8nS6y_I",
        "outputId": "a430ef29-8ea2-458d-95ff-e790e949bebd"
      },
      "source": [
        "#array to bytes\r\n",
        "arr2d.tobytes()"
      ],
      "execution_count": null,
      "outputs": [
        {
          "output_type": "execute_result",
          "data": {
            "text/plain": [
              "b'\\x01\\x00\\x00\\x00\\x00\\x00\\x00\\x00\\x01\\x00\\x00\\x00\\x00\\x00\\x00\\x00\\x01\\x00\\x00\\x00\\x00\\x00\\x00\\x00\\x02\\x00\\x00\\x00\\x00\\x00\\x00\\x00\\x02\\x00\\x00\\x00\\x00\\x00\\x00\\x00\\x02\\x00\\x00\\x00\\x00\\x00\\x00\\x00\\x03\\x00\\x00\\x00\\x00\\x00\\x00\\x00\\x03\\x00\\x00\\x00\\x00\\x00\\x00\\x00\\x03\\x00\\x00\\x00\\x00\\x00\\x00\\x00'"
            ]
          },
          "metadata": {
            "tags": []
          },
          "execution_count": 22
        }
      ]
    },
    {
      "cell_type": "markdown",
      "metadata": {
        "id": "oQHPcFig7IWZ"
      },
      "source": [
        "# **dtype and shape**"
      ]
    },
    {
      "cell_type": "code",
      "metadata": {
        "colab": {
          "base_uri": "https://localhost:8080/"
        },
        "id": "NwP-hfI866ci",
        "outputId": "353a331d-cd41-47f3-e4d2-e2d9f4277f77"
      },
      "source": [
        "list2"
      ],
      "execution_count": null,
      "outputs": [
        {
          "output_type": "execute_result",
          "data": {
            "text/plain": [
              "[[1, 1, 1], [2, 2, 2], [3, 3, 3]]"
            ]
          },
          "metadata": {
            "tags": []
          },
          "execution_count": 23
        }
      ]
    },
    {
      "cell_type": "code",
      "metadata": {
        "id": "wbHoWofk7MB5"
      },
      "source": [
        "arr2d=arr2d.astype('float')"
      ],
      "execution_count": null,
      "outputs": []
    },
    {
      "cell_type": "code",
      "metadata": {
        "colab": {
          "base_uri": "https://localhost:8080/"
        },
        "id": "FauJ_G0X7PY6",
        "outputId": "5ac0c2be-2da5-4f7b-8b99-42f7b2b9b9e8"
      },
      "source": [
        "arr2d"
      ],
      "execution_count": null,
      "outputs": [
        {
          "output_type": "execute_result",
          "data": {
            "text/plain": [
              "array([[1., 1., 1.],\n",
              "       [2., 2., 2.],\n",
              "       [3., 3., 3.]])"
            ]
          },
          "metadata": {
            "tags": []
          },
          "execution_count": 25
        }
      ]
    },
    {
      "cell_type": "code",
      "metadata": {
        "colab": {
          "base_uri": "https://localhost:8080/"
        },
        "id": "bSU1g-Nz7Zh1",
        "outputId": "1f141351-20da-43d3-d262-2f446339b32f"
      },
      "source": [
        "print(\"Shape:\", arr2d.shape)"
      ],
      "execution_count": null,
      "outputs": [
        {
          "output_type": "stream",
          "text": [
            "Shape: (3, 3)\n"
          ],
          "name": "stdout"
        }
      ]
    },
    {
      "cell_type": "code",
      "metadata": {
        "id": "L0CtmA607mX6",
        "colab": {
          "base_uri": "https://localhost:8080/"
        },
        "outputId": "9278f7b1-99cf-4196-cb45-3a0b4fe35d5d"
      },
      "source": [
        "arr2d.dtype"
      ],
      "execution_count": null,
      "outputs": [
        {
          "output_type": "execute_result",
          "data": {
            "text/plain": [
              "dtype('float64')"
            ]
          },
          "metadata": {
            "tags": []
          },
          "execution_count": 27
        }
      ]
    },
    {
      "cell_type": "code",
      "metadata": {
        "colab": {
          "base_uri": "https://localhost:8080/"
        },
        "id": "kUwIeN4Z79iU",
        "outputId": "f68f0bc8-47c0-454c-e74b-466309035880"
      },
      "source": [
        "arr2d.size"
      ],
      "execution_count": null,
      "outputs": [
        {
          "output_type": "execute_result",
          "data": {
            "text/plain": [
              "9"
            ]
          },
          "metadata": {
            "tags": []
          },
          "execution_count": 28
        }
      ]
    },
    {
      "cell_type": "code",
      "metadata": {
        "colab": {
          "base_uri": "https://localhost:8080/"
        },
        "id": "ZZoHnUAz7-yM",
        "outputId": "8457ddd6-4c5e-4f0f-c111-79ee6e748e3e"
      },
      "source": [
        "arr1d.size"
      ],
      "execution_count": null,
      "outputs": [
        {
          "output_type": "execute_result",
          "data": {
            "text/plain": [
              "5"
            ]
          },
          "metadata": {
            "tags": []
          },
          "execution_count": 29
        }
      ]
    },
    {
      "cell_type": "code",
      "metadata": {
        "colab": {
          "base_uri": "https://localhost:8080/"
        },
        "id": "Z5sjBl-Y8A7a",
        "outputId": "427228d0-8be4-4744-839f-d9fcf433d28e"
      },
      "source": [
        "arr2d.ndim"
      ],
      "execution_count": null,
      "outputs": [
        {
          "output_type": "execute_result",
          "data": {
            "text/plain": [
              "2"
            ]
          },
          "metadata": {
            "tags": []
          },
          "execution_count": 30
        }
      ]
    },
    {
      "cell_type": "code",
      "metadata": {
        "colab": {
          "base_uri": "https://localhost:8080/"
        },
        "id": "CtAmGw558CeH",
        "outputId": "5c8b7df5-b23f-48fc-f71f-c4ba57082666"
      },
      "source": [
        "arr1d.ndim"
      ],
      "execution_count": null,
      "outputs": [
        {
          "output_type": "execute_result",
          "data": {
            "text/plain": [
              "1"
            ]
          },
          "metadata": {
            "tags": []
          },
          "execution_count": 31
        }
      ]
    },
    {
      "cell_type": "code",
      "metadata": {
        "id": "rW4nHtRm8Dk1"
      },
      "source": [
        "arr1d=arr1d*arr1d"
      ],
      "execution_count": null,
      "outputs": []
    },
    {
      "cell_type": "code",
      "metadata": {
        "colab": {
          "base_uri": "https://localhost:8080/"
        },
        "id": "q5d8dcrT8OM6",
        "outputId": "e8469cc3-d678-4675-bd96-3aeae6f35e1b"
      },
      "source": [
        "arr1d"
      ],
      "execution_count": null,
      "outputs": [
        {
          "output_type": "execute_result",
          "data": {
            "text/plain": [
              "array([ 0,  1,  4,  9, 16])"
            ]
          },
          "metadata": {
            "tags": []
          },
          "execution_count": 33
        }
      ]
    },
    {
      "cell_type": "code",
      "metadata": {
        "colab": {
          "base_uri": "https://localhost:8080/"
        },
        "id": "ueOvEk5X8O7j",
        "outputId": "2124f880-3cc3-4f6a-a09a-74eb7528fe99"
      },
      "source": [
        "arr1d[0]"
      ],
      "execution_count": null,
      "outputs": [
        {
          "output_type": "execute_result",
          "data": {
            "text/plain": [
              "0"
            ]
          },
          "metadata": {
            "tags": []
          },
          "execution_count": 34
        }
      ]
    },
    {
      "cell_type": "code",
      "metadata": {
        "colab": {
          "base_uri": "https://localhost:8080/"
        },
        "id": "wlpMlg7U8VSP",
        "outputId": "33bcb3cf-c7d1-47e4-c882-34dd6384183c"
      },
      "source": [
        "arr1d[3]"
      ],
      "execution_count": null,
      "outputs": [
        {
          "output_type": "execute_result",
          "data": {
            "text/plain": [
              "9"
            ]
          },
          "metadata": {
            "tags": []
          },
          "execution_count": 35
        }
      ]
    },
    {
      "cell_type": "code",
      "metadata": {
        "colab": {
          "base_uri": "https://localhost:8080/"
        },
        "id": "O3VsjfQ08X8W",
        "outputId": "a3dcf8fb-cb67-4a8f-f7c2-e7ce483a6cd0"
      },
      "source": [
        "arr1d[0:4]"
      ],
      "execution_count": null,
      "outputs": [
        {
          "output_type": "execute_result",
          "data": {
            "text/plain": [
              "array([0, 1, 4, 9])"
            ]
          },
          "metadata": {
            "tags": []
          },
          "execution_count": 36
        }
      ]
    },
    {
      "cell_type": "code",
      "metadata": {
        "colab": {
          "base_uri": "https://localhost:8080/"
        },
        "id": "usbB5vvi8a3E",
        "outputId": "0580ce41-316f-4920-955a-4967ed24fb28"
      },
      "source": [
        "arr1d[1:3]"
      ],
      "execution_count": null,
      "outputs": [
        {
          "output_type": "execute_result",
          "data": {
            "text/plain": [
              "array([1, 4])"
            ]
          },
          "metadata": {
            "tags": []
          },
          "execution_count": 37
        }
      ]
    },
    {
      "cell_type": "code",
      "metadata": {
        "colab": {
          "base_uri": "https://localhost:8080/"
        },
        "id": "pcHMSuPb8oJn",
        "outputId": "b9b14498-2fa2-4767-a9e7-1961242a7748"
      },
      "source": [
        "arr1d[:3]"
      ],
      "execution_count": null,
      "outputs": [
        {
          "output_type": "execute_result",
          "data": {
            "text/plain": [
              "array([0, 1, 4])"
            ]
          },
          "metadata": {
            "tags": []
          },
          "execution_count": 38
        }
      ]
    },
    {
      "cell_type": "code",
      "metadata": {
        "colab": {
          "base_uri": "https://localhost:8080/"
        },
        "id": "Nh_MBbUz8rb6",
        "outputId": "9414ea1e-4aa5-49b9-acda-66b17ebf241e"
      },
      "source": [
        "arr1d[1:]"
      ],
      "execution_count": null,
      "outputs": [
        {
          "output_type": "execute_result",
          "data": {
            "text/plain": [
              "array([ 1,  4,  9, 16])"
            ]
          },
          "metadata": {
            "tags": []
          },
          "execution_count": 39
        }
      ]
    },
    {
      "cell_type": "code",
      "metadata": {
        "id": "ldA1GJIu8ePr"
      },
      "source": [
        "arr2d=arr2d.astype('int')"
      ],
      "execution_count": null,
      "outputs": []
    },
    {
      "cell_type": "code",
      "metadata": {
        "colab": {
          "base_uri": "https://localhost:8080/"
        },
        "id": "47s_rnMe8it4",
        "outputId": "c92694b1-b88b-45a5-8496-2aff32801238"
      },
      "source": [
        "arr2d"
      ],
      "execution_count": null,
      "outputs": [
        {
          "output_type": "execute_result",
          "data": {
            "text/plain": [
              "array([[1, 1, 1],\n",
              "       [2, 2, 2],\n",
              "       [3, 3, 3]])"
            ]
          },
          "metadata": {
            "tags": []
          },
          "execution_count": 41
        }
      ]
    },
    {
      "cell_type": "code",
      "metadata": {
        "colab": {
          "base_uri": "https://localhost:8080/"
        },
        "id": "9ZXCXzSG84Gd",
        "outputId": "a7a32458-87d9-4b17-f8c8-f3d6822e42a9"
      },
      "source": [
        "arr2d[0][0]"
      ],
      "execution_count": null,
      "outputs": [
        {
          "output_type": "execute_result",
          "data": {
            "text/plain": [
              "1"
            ]
          },
          "metadata": {
            "tags": []
          },
          "execution_count": 42
        }
      ]
    },
    {
      "cell_type": "code",
      "metadata": {
        "colab": {
          "base_uri": "https://localhost:8080/"
        },
        "id": "6ylGdxas9Con",
        "outputId": "aff5ae5a-bd72-4b17-f717-30039a2c6104"
      },
      "source": [
        "arr2d[1][0]"
      ],
      "execution_count": null,
      "outputs": [
        {
          "output_type": "execute_result",
          "data": {
            "text/plain": [
              "2"
            ]
          },
          "metadata": {
            "tags": []
          },
          "execution_count": 43
        }
      ]
    },
    {
      "cell_type": "code",
      "metadata": {
        "id": "PncEJnVm9Eo5"
      },
      "source": [
        "boolarr=arr2d<3"
      ],
      "execution_count": null,
      "outputs": []
    },
    {
      "cell_type": "code",
      "metadata": {
        "colab": {
          "base_uri": "https://localhost:8080/"
        },
        "id": "ECyS6NJY9K68",
        "outputId": "d54d5c33-a2eb-4dc9-aaa6-14cb049ca92e"
      },
      "source": [
        "boolarr"
      ],
      "execution_count": null,
      "outputs": [
        {
          "output_type": "execute_result",
          "data": {
            "text/plain": [
              "array([[ True,  True,  True],\n",
              "       [ True,  True,  True],\n",
              "       [False, False, False]])"
            ]
          },
          "metadata": {
            "tags": []
          },
          "execution_count": 45
        }
      ]
    },
    {
      "cell_type": "code",
      "metadata": {
        "colab": {
          "base_uri": "https://localhost:8080/"
        },
        "id": "S95xGHxy9L1k",
        "outputId": "fe3b1535-28dc-4c49-83ab-64c2feb7d158"
      },
      "source": [
        "arr2d"
      ],
      "execution_count": null,
      "outputs": [
        {
          "output_type": "execute_result",
          "data": {
            "text/plain": [
              "array([[1, 1, 1],\n",
              "       [2, 2, 2],\n",
              "       [3, 3, 3]])"
            ]
          },
          "metadata": {
            "tags": []
          },
          "execution_count": 46
        }
      ]
    },
    {
      "cell_type": "code",
      "metadata": {
        "colab": {
          "base_uri": "https://localhost:8080/"
        },
        "id": "yjDDxkIK9aTd",
        "outputId": "f6e5c4a5-04a3-4a06-c357-781497a491e2"
      },
      "source": [
        "#to reverse the array\r\n",
        "#here rows are changed\r\n",
        "arr2d[::-1]"
      ],
      "execution_count": null,
      "outputs": [
        {
          "output_type": "execute_result",
          "data": {
            "text/plain": [
              "array([[3, 3, 3],\n",
              "       [2, 2, 2],\n",
              "       [1, 1, 1]])"
            ]
          },
          "metadata": {
            "tags": []
          },
          "execution_count": 47
        }
      ]
    },
    {
      "cell_type": "code",
      "metadata": {
        "colab": {
          "base_uri": "https://localhost:8080/"
        },
        "id": "VT5wPWJi9g0I",
        "outputId": "0a168de3-d5fd-439d-e843-b225a0dc7cc3"
      },
      "source": [
        "#here rows and columns are changed\r\n",
        "arr2d[::-1,::-1]"
      ],
      "execution_count": null,
      "outputs": [
        {
          "output_type": "execute_result",
          "data": {
            "text/plain": [
              "array([[3, 3, 3],\n",
              "       [2, 2, 2],\n",
              "       [1, 1, 1]])"
            ]
          },
          "metadata": {
            "tags": []
          },
          "execution_count": 48
        }
      ]
    },
    {
      "cell_type": "code",
      "metadata": {
        "id": "kYWXmC73-hK-"
      },
      "source": [
        "arr2d=arr2d.astype('float')"
      ],
      "execution_count": null,
      "outputs": []
    },
    {
      "cell_type": "code",
      "metadata": {
        "colab": {
          "base_uri": "https://localhost:8080/"
        },
        "id": "kLeIdrLk-kqj",
        "outputId": "f0ee2507-fd6c-4138-c59c-250feb017fd4"
      },
      "source": [
        "arr2d"
      ],
      "execution_count": null,
      "outputs": [
        {
          "output_type": "execute_result",
          "data": {
            "text/plain": [
              "array([[1., 1., 1.],\n",
              "       [2., 2., 2.],\n",
              "       [3., 3., 3.]])"
            ]
          },
          "metadata": {
            "tags": []
          },
          "execution_count": 50
        }
      ]
    },
    {
      "cell_type": "markdown",
      "metadata": {
        "id": "-qN2lrAj97Do"
      },
      "source": [
        "# **np.nan, np.inf**"
      ]
    },
    {
      "cell_type": "code",
      "metadata": {
        "colab": {
          "base_uri": "https://localhost:8080/"
        },
        "id": "ParD6WeM9j8r",
        "outputId": "06257269-9808-4505-a449-0f2be28b3a6e"
      },
      "source": [
        "np.nan"
      ],
      "execution_count": null,
      "outputs": [
        {
          "output_type": "execute_result",
          "data": {
            "text/plain": [
              "nan"
            ]
          },
          "metadata": {
            "tags": []
          },
          "execution_count": 51
        }
      ]
    },
    {
      "cell_type": "code",
      "metadata": {
        "colab": {
          "base_uri": "https://localhost:8080/"
        },
        "id": "_5Vw9Usk9_Yo",
        "outputId": "1ff28c12-d70b-4bbf-aa4b-ccc8f21bc1e7"
      },
      "source": [
        "np.inf"
      ],
      "execution_count": null,
      "outputs": [
        {
          "output_type": "execute_result",
          "data": {
            "text/plain": [
              "inf"
            ]
          },
          "metadata": {
            "tags": []
          },
          "execution_count": 52
        }
      ]
    },
    {
      "cell_type": "code",
      "metadata": {
        "colab": {
          "base_uri": "https://localhost:8080/"
        },
        "id": "Y_PAdjYG-AP_",
        "outputId": "cb6c8338-a892-498d-b763-0e2d0f551a9a"
      },
      "source": [
        "arr2d[0][0]=np.nan\r\n",
        "arr2d[0][1]=np.inf\r\n",
        "arr2d"
      ],
      "execution_count": null,
      "outputs": [
        {
          "output_type": "execute_result",
          "data": {
            "text/plain": [
              "array([[nan, inf,  1.],\n",
              "       [ 2.,  2.,  2.],\n",
              "       [ 3.,  3.,  3.]])"
            ]
          },
          "metadata": {
            "tags": []
          },
          "execution_count": 53
        }
      ]
    },
    {
      "cell_type": "code",
      "metadata": {
        "colab": {
          "base_uri": "https://localhost:8080/"
        },
        "id": "XoTP8d4B-aZN",
        "outputId": "ae581b8d-df22-41ac-a26b-90e3aec16268"
      },
      "source": [
        "np.isnan(arr2d)"
      ],
      "execution_count": null,
      "outputs": [
        {
          "output_type": "execute_result",
          "data": {
            "text/plain": [
              "array([[ True, False, False],\n",
              "       [False, False, False],\n",
              "       [False, False, False]])"
            ]
          },
          "metadata": {
            "tags": []
          },
          "execution_count": 54
        }
      ]
    },
    {
      "cell_type": "code",
      "metadata": {
        "colab": {
          "base_uri": "https://localhost:8080/"
        },
        "id": "vG4dPzPc-8UT",
        "outputId": "924f9c61-0f60-460e-d4cb-20b8f036bdec"
      },
      "source": [
        "np.isinf(arr2d)"
      ],
      "execution_count": null,
      "outputs": [
        {
          "output_type": "execute_result",
          "data": {
            "text/plain": [
              "array([[False,  True, False],\n",
              "       [False, False, False],\n",
              "       [False, False, False]])"
            ]
          },
          "metadata": {
            "tags": []
          },
          "execution_count": 55
        }
      ]
    },
    {
      "cell_type": "code",
      "metadata": {
        "colab": {
          "base_uri": "https://localhost:8080/"
        },
        "id": "TX2Z3rrq-_l4",
        "outputId": "447f6e62-3250-4308-fde0-b08519601146"
      },
      "source": [
        "mf=np.isnan(arr2d) | np.isinf(arr2d)\r\n",
        "mf"
      ],
      "execution_count": null,
      "outputs": [
        {
          "output_type": "execute_result",
          "data": {
            "text/plain": [
              "array([[ True,  True, False],\n",
              "       [False, False, False],\n",
              "       [False, False, False]])"
            ]
          },
          "metadata": {
            "tags": []
          },
          "execution_count": 56
        }
      ]
    },
    {
      "cell_type": "code",
      "metadata": {
        "colab": {
          "base_uri": "https://localhost:8080/"
        },
        "id": "e9HKNklQ_Whm",
        "outputId": "c7f24405-0a24-4aca-8957-24e55f5891a5"
      },
      "source": [
        "#replace inf and nan with zero(0)\r\n",
        "arr2d[mf]"
      ],
      "execution_count": null,
      "outputs": [
        {
          "output_type": "execute_result",
          "data": {
            "text/plain": [
              "array([nan, inf])"
            ]
          },
          "metadata": {
            "tags": []
          },
          "execution_count": 57
        }
      ]
    },
    {
      "cell_type": "code",
      "metadata": {
        "id": "Tui-DJxT_jZV"
      },
      "source": [
        "arr2d[mf]=0"
      ],
      "execution_count": null,
      "outputs": []
    },
    {
      "cell_type": "code",
      "metadata": {
        "colab": {
          "base_uri": "https://localhost:8080/"
        },
        "id": "uqFXhSQ0_mQA",
        "outputId": "4e4fdd82-bfc7-4eaf-8a32-0fd139bc81f0"
      },
      "source": [
        "arr2d"
      ],
      "execution_count": null,
      "outputs": [
        {
          "output_type": "execute_result",
          "data": {
            "text/plain": [
              "array([[0., 0., 1.],\n",
              "       [2., 2., 2.],\n",
              "       [3., 3., 3.]])"
            ]
          },
          "metadata": {
            "tags": []
          },
          "execution_count": 59
        }
      ]
    },
    {
      "cell_type": "markdown",
      "metadata": {
        "id": "hIXgyo_X_xsd"
      },
      "source": [
        "# **Statistical Operations**"
      ]
    },
    {
      "cell_type": "code",
      "metadata": {
        "colab": {
          "base_uri": "https://localhost:8080/"
        },
        "id": "TUvSXLqt_qC2",
        "outputId": "3a14f3e1-18a3-4860-df06-70c428b6f326"
      },
      "source": [
        "#mean,std,var\r\n",
        "arr2d.mean()"
      ],
      "execution_count": null,
      "outputs": [
        {
          "output_type": "execute_result",
          "data": {
            "text/plain": [
              "1.7777777777777777"
            ]
          },
          "metadata": {
            "tags": []
          },
          "execution_count": 60
        }
      ]
    },
    {
      "cell_type": "code",
      "metadata": {
        "colab": {
          "base_uri": "https://localhost:8080/"
        },
        "id": "Ch6Sqnm8_7O2",
        "outputId": "2c3b66af-646c-48b3-fef2-f0d4e22e3df6"
      },
      "source": [
        "arr2d.max()"
      ],
      "execution_count": null,
      "outputs": [
        {
          "output_type": "execute_result",
          "data": {
            "text/plain": [
              "3.0"
            ]
          },
          "metadata": {
            "tags": []
          },
          "execution_count": 61
        }
      ]
    },
    {
      "cell_type": "code",
      "metadata": {
        "colab": {
          "base_uri": "https://localhost:8080/"
        },
        "id": "UZRyT8e9AA1b",
        "outputId": "d717909a-240f-4dca-b180-fbfabcd0989b"
      },
      "source": [
        "arr2d.min()"
      ],
      "execution_count": null,
      "outputs": [
        {
          "output_type": "execute_result",
          "data": {
            "text/plain": [
              "0.0"
            ]
          },
          "metadata": {
            "tags": []
          },
          "execution_count": 62
        }
      ]
    },
    {
      "cell_type": "code",
      "metadata": {
        "colab": {
          "base_uri": "https://localhost:8080/"
        },
        "id": "eSGT4bViACAx",
        "outputId": "99098a04-ee16-4474-a707-cdde8591a5bf"
      },
      "source": [
        "arr2d.std()"
      ],
      "execution_count": null,
      "outputs": [
        {
          "output_type": "execute_result",
          "data": {
            "text/plain": [
              "1.1331154474650633"
            ]
          },
          "metadata": {
            "tags": []
          },
          "execution_count": 63
        }
      ]
    },
    {
      "cell_type": "code",
      "metadata": {
        "colab": {
          "base_uri": "https://localhost:8080/"
        },
        "id": "HaW-jfcsAD0C",
        "outputId": "c0330513-bc31-4bb4-a71e-a02934b90f04"
      },
      "source": [
        "arr2d.var()"
      ],
      "execution_count": null,
      "outputs": [
        {
          "output_type": "execute_result",
          "data": {
            "text/plain": [
              "1.2839506172839505"
            ]
          },
          "metadata": {
            "tags": []
          },
          "execution_count": 64
        }
      ]
    },
    {
      "cell_type": "code",
      "metadata": {
        "colab": {
          "base_uri": "https://localhost:8080/"
        },
        "id": "nRMtUCpDAFE2",
        "outputId": "e6efae13-c697-46d3-a3d5-a5d74b07cb54"
      },
      "source": [
        "arr2d.squeeze()"
      ],
      "execution_count": null,
      "outputs": [
        {
          "output_type": "execute_result",
          "data": {
            "text/plain": [
              "array([[0., 0., 1.],\n",
              "       [2., 2., 2.],\n",
              "       [3., 3., 3.]])"
            ]
          },
          "metadata": {
            "tags": []
          },
          "execution_count": 65
        }
      ]
    },
    {
      "cell_type": "code",
      "metadata": {
        "colab": {
          "base_uri": "https://localhost:8080/"
        },
        "id": "M9NzKB96ANSV",
        "outputId": "0769ce86-2f19-4fcf-e6fd-fd59d12864db"
      },
      "source": [
        "arr2d.cumsum()"
      ],
      "execution_count": null,
      "outputs": [
        {
          "output_type": "execute_result",
          "data": {
            "text/plain": [
              "array([ 0.,  0.,  1.,  3.,  5.,  7., 10., 13., 16.])"
            ]
          },
          "metadata": {
            "tags": []
          },
          "execution_count": 66
        }
      ]
    },
    {
      "cell_type": "code",
      "metadata": {
        "colab": {
          "base_uri": "https://localhost:8080/"
        },
        "id": "iH9LgiLjAYKJ",
        "outputId": "d249d9d2-f149-4ba5-ccbf-18df5d41da0b"
      },
      "source": [
        "arr2d"
      ],
      "execution_count": null,
      "outputs": [
        {
          "output_type": "execute_result",
          "data": {
            "text/plain": [
              "array([[0., 0., 1.],\n",
              "       [2., 2., 2.],\n",
              "       [3., 3., 3.]])"
            ]
          },
          "metadata": {
            "tags": []
          },
          "execution_count": 67
        }
      ]
    },
    {
      "cell_type": "code",
      "metadata": {
        "id": "pfiSjaRdAiEn"
      },
      "source": [
        "#building 2x2 array\r\n",
        "arr=arr2d[:2,:2]"
      ],
      "execution_count": null,
      "outputs": []
    },
    {
      "cell_type": "code",
      "metadata": {
        "colab": {
          "base_uri": "https://localhost:8080/"
        },
        "id": "QMijWiPuAnFB",
        "outputId": "b3f1a00f-575c-477a-a236-560d6594ceab"
      },
      "source": [
        "arr"
      ],
      "execution_count": null,
      "outputs": [
        {
          "output_type": "execute_result",
          "data": {
            "text/plain": [
              "array([[0., 0.],\n",
              "       [2., 2.]])"
            ]
          },
          "metadata": {
            "tags": []
          },
          "execution_count": 69
        }
      ]
    },
    {
      "cell_type": "code",
      "metadata": {
        "colab": {
          "base_uri": "https://localhost:8080/"
        },
        "id": "93-amk0BAnyf",
        "outputId": "4d17ee44-5a81-4c62-d3fe-3a1e63b28cf6"
      },
      "source": [
        "arr2d[1:3,1:2]"
      ],
      "execution_count": null,
      "outputs": [
        {
          "output_type": "execute_result",
          "data": {
            "text/plain": [
              "array([[2.],\n",
              "       [3.]])"
            ]
          },
          "metadata": {
            "tags": []
          },
          "execution_count": 70
        }
      ]
    },
    {
      "cell_type": "code",
      "metadata": {
        "colab": {
          "base_uri": "https://localhost:8080/"
        },
        "id": "NxziSUQZAxkX",
        "outputId": "ed7c1c36-ef98-495f-8fed-aaf29434edda"
      },
      "source": [
        "arr2d"
      ],
      "execution_count": null,
      "outputs": [
        {
          "output_type": "execute_result",
          "data": {
            "text/plain": [
              "array([[0., 0., 1.],\n",
              "       [2., 2., 2.],\n",
              "       [3., 3., 3.]])"
            ]
          },
          "metadata": {
            "tags": []
          },
          "execution_count": 71
        }
      ]
    },
    {
      "cell_type": "code",
      "metadata": {
        "id": "Mm4Xgrg-A8qM"
      },
      "source": [
        "a=arr2d.reshape(1,9)"
      ],
      "execution_count": null,
      "outputs": []
    },
    {
      "cell_type": "code",
      "metadata": {
        "colab": {
          "base_uri": "https://localhost:8080/"
        },
        "id": "2s6NPAq9Bn7j",
        "outputId": "75b105d8-e8e3-4aab-c1cd-bb707abd13df"
      },
      "source": [
        "a"
      ],
      "execution_count": null,
      "outputs": [
        {
          "output_type": "execute_result",
          "data": {
            "text/plain": [
              "array([[0., 0., 1., 2., 2., 2., 3., 3., 3.]])"
            ]
          },
          "metadata": {
            "tags": []
          },
          "execution_count": 73
        }
      ]
    },
    {
      "cell_type": "code",
      "metadata": {
        "colab": {
          "base_uri": "https://localhost:8080/"
        },
        "id": "7Ery32G2BqOB",
        "outputId": "11a2a0d7-c591-4351-f707-324f5e184e0b"
      },
      "source": [
        "a.ndim"
      ],
      "execution_count": null,
      "outputs": [
        {
          "output_type": "execute_result",
          "data": {
            "text/plain": [
              "2"
            ]
          },
          "metadata": {
            "tags": []
          },
          "execution_count": 74
        }
      ]
    },
    {
      "cell_type": "code",
      "metadata": {
        "colab": {
          "base_uri": "https://localhost:8080/"
        },
        "id": "7AlGlnwNBJhR",
        "outputId": "0e7c6329-36eb-49c6-b155-d848ad12bdea"
      },
      "source": [
        "arr2d.reshape(9,1)"
      ],
      "execution_count": null,
      "outputs": [
        {
          "output_type": "execute_result",
          "data": {
            "text/plain": [
              "array([[0.],\n",
              "       [0.],\n",
              "       [1.],\n",
              "       [2.],\n",
              "       [2.],\n",
              "       [2.],\n",
              "       [3.],\n",
              "       [3.],\n",
              "       [3.]])"
            ]
          },
          "metadata": {
            "tags": []
          },
          "execution_count": 75
        }
      ]
    },
    {
      "cell_type": "code",
      "metadata": {
        "colab": {
          "base_uri": "https://localhost:8080/"
        },
        "id": "D09de9XqBdGJ",
        "outputId": "ea76916f-d00f-4090-e616-9aba90c7aed4"
      },
      "source": [
        "arr2d"
      ],
      "execution_count": null,
      "outputs": [
        {
          "output_type": "execute_result",
          "data": {
            "text/plain": [
              "array([[0., 0., 1.],\n",
              "       [2., 2., 2.],\n",
              "       [3., 3., 3.]])"
            ]
          },
          "metadata": {
            "tags": []
          },
          "execution_count": 76
        }
      ]
    },
    {
      "cell_type": "code",
      "metadata": {
        "colab": {
          "base_uri": "https://localhost:8080/"
        },
        "id": "6FFKG7wMBNfR",
        "outputId": "2205a6ce-cda6-4d7f-e9fa-1c103d5ac745"
      },
      "source": [
        "a=arr2d.flatten()\r\n",
        "a #copy"
      ],
      "execution_count": null,
      "outputs": [
        {
          "output_type": "execute_result",
          "data": {
            "text/plain": [
              "array([0., 0., 1., 2., 2., 2., 3., 3., 3.])"
            ]
          },
          "metadata": {
            "tags": []
          },
          "execution_count": 77
        }
      ]
    },
    {
      "cell_type": "code",
      "metadata": {
        "colab": {
          "base_uri": "https://localhost:8080/"
        },
        "id": "CKt4t48eBbEa",
        "outputId": "8a7a79d6-1fcc-4c5b-90b5-f0daf41dfd2a"
      },
      "source": [
        "b=arr2d.ravel()\r\n",
        "b #reference"
      ],
      "execution_count": null,
      "outputs": [
        {
          "output_type": "execute_result",
          "data": {
            "text/plain": [
              "array([0., 0., 1., 2., 2., 2., 3., 3., 3.])"
            ]
          },
          "metadata": {
            "tags": []
          },
          "execution_count": 78
        }
      ]
    },
    {
      "cell_type": "code",
      "metadata": {
        "colab": {
          "base_uri": "https://localhost:8080/"
        },
        "id": "oIaJadHeBvwe",
        "outputId": "b6bd5932-669d-4bed-c48a-1167cd9a71b7"
      },
      "source": [
        "arr2d"
      ],
      "execution_count": null,
      "outputs": [
        {
          "output_type": "execute_result",
          "data": {
            "text/plain": [
              "array([[0., 0., 1.],\n",
              "       [2., 2., 2.],\n",
              "       [3., 3., 3.]])"
            ]
          },
          "metadata": {
            "tags": []
          },
          "execution_count": 79
        }
      ]
    },
    {
      "cell_type": "code",
      "metadata": {
        "id": "ZzyY42L8Bwwa"
      },
      "source": [
        "b[0]=-1"
      ],
      "execution_count": null,
      "outputs": []
    },
    {
      "cell_type": "code",
      "metadata": {
        "colab": {
          "base_uri": "https://localhost:8080/"
        },
        "id": "oBEmssXOB_9n",
        "outputId": "0ab1d4d9-d8cb-4dcc-a1c2-f515d4a8ff9c"
      },
      "source": [
        "arr2d"
      ],
      "execution_count": null,
      "outputs": [
        {
          "output_type": "execute_result",
          "data": {
            "text/plain": [
              "array([[-1.,  0.,  1.],\n",
              "       [ 2.,  2.,  2.],\n",
              "       [ 3.,  3.,  3.]])"
            ]
          },
          "metadata": {
            "tags": []
          },
          "execution_count": 81
        }
      ]
    },
    {
      "cell_type": "markdown",
      "metadata": {
        "id": "dzH_8CrSCMNu"
      },
      "source": [
        "# **Sequence, Repetitions, and Random Numbers**"
      ]
    },
    {
      "cell_type": "code",
      "metadata": {
        "colab": {
          "base_uri": "https://localhost:8080/"
        },
        "id": "rHe4_eYJCDxM",
        "outputId": "7ca5b7f2-9a7a-4c29-e381-1a7eef917415"
      },
      "source": [
        "np.arange(1,5,dtype='int')"
      ],
      "execution_count": null,
      "outputs": [
        {
          "output_type": "execute_result",
          "data": {
            "text/plain": [
              "array([1, 2, 3, 4])"
            ]
          },
          "metadata": {
            "tags": []
          },
          "execution_count": 82
        }
      ]
    },
    {
      "cell_type": "code",
      "metadata": {
        "colab": {
          "base_uri": "https://localhost:8080/"
        },
        "id": "3-u3py_3CWs5",
        "outputId": "110fc6e7-87cb-4f59-b1ad-295f4e10b544"
      },
      "source": [
        "np.arange(1,10,2,dtype='int')"
      ],
      "execution_count": null,
      "outputs": [
        {
          "output_type": "execute_result",
          "data": {
            "text/plain": [
              "array([1, 3, 5, 7, 9])"
            ]
          },
          "metadata": {
            "tags": []
          },
          "execution_count": 83
        }
      ]
    },
    {
      "cell_type": "code",
      "metadata": {
        "colab": {
          "base_uri": "https://localhost:8080/"
        },
        "id": "NN7ULkINC0uH",
        "outputId": "a7e38626-c5f1-4e94-f07b-54a24110363e"
      },
      "source": [
        "np.arange(2,50,2)"
      ],
      "execution_count": null,
      "outputs": [
        {
          "output_type": "execute_result",
          "data": {
            "text/plain": [
              "array([ 2,  4,  6,  8, 10, 12, 14, 16, 18, 20, 22, 24, 26, 28, 30, 32, 34,\n",
              "       36, 38, 40, 42, 44, 46, 48])"
            ]
          },
          "metadata": {
            "tags": []
          },
          "execution_count": 84
        }
      ]
    },
    {
      "cell_type": "code",
      "metadata": {
        "colab": {
          "base_uri": "https://localhost:8080/"
        },
        "id": "o1csathZC6AO",
        "outputId": "ce59990f-2bd0-455c-be5c-b4e55dee1eca"
      },
      "source": [
        "np.arange(1,50,2)"
      ],
      "execution_count": null,
      "outputs": [
        {
          "output_type": "execute_result",
          "data": {
            "text/plain": [
              "array([ 1,  3,  5,  7,  9, 11, 13, 15, 17, 19, 21, 23, 25, 27, 29, 31, 33,\n",
              "       35, 37, 39, 41, 43, 45, 47, 49])"
            ]
          },
          "metadata": {
            "tags": []
          },
          "execution_count": 85
        }
      ]
    },
    {
      "cell_type": "code",
      "metadata": {
        "colab": {
          "base_uri": "https://localhost:8080/"
        },
        "id": "o3aheEqsC_2P",
        "outputId": "7a30628f-fb20-4a57-d022-f220dae5ca95"
      },
      "source": [
        "np.linspace(1,20,2)"
      ],
      "execution_count": null,
      "outputs": [
        {
          "output_type": "execute_result",
          "data": {
            "text/plain": [
              "array([ 1., 20.])"
            ]
          },
          "metadata": {
            "tags": []
          },
          "execution_count": 86
        }
      ]
    },
    {
      "cell_type": "code",
      "metadata": {
        "colab": {
          "base_uri": "https://localhost:8080/"
        },
        "id": "A_gEokWzDL7z",
        "outputId": "6eeaee6e-f374-4e55-f7a3-1b39853db553"
      },
      "source": [
        "np.linspace(1,50,10)"
      ],
      "execution_count": null,
      "outputs": [
        {
          "output_type": "execute_result",
          "data": {
            "text/plain": [
              "array([ 1.        ,  6.44444444, 11.88888889, 17.33333333, 22.77777778,\n",
              "       28.22222222, 33.66666667, 39.11111111, 44.55555556, 50.        ])"
            ]
          },
          "metadata": {
            "tags": []
          },
          "execution_count": 87
        }
      ]
    },
    {
      "cell_type": "code",
      "metadata": {
        "colab": {
          "base_uri": "https://localhost:8080/"
        },
        "id": "PyNPdo9QDWyT",
        "outputId": "ca3c1208-8d7e-4ae8-fb82-d9d489d1c932"
      },
      "source": [
        "np.logspace(1,50,10)"
      ],
      "execution_count": null,
      "outputs": [
        {
          "output_type": "execute_result",
          "data": {
            "text/plain": [
              "array([1.00000000e+01, 2.78255940e+06, 7.74263683e+11, 2.15443469e+17,\n",
              "       5.99484250e+22, 1.66810054e+28, 4.64158883e+33, 1.29154967e+39,\n",
              "       3.59381366e+44, 1.00000000e+50])"
            ]
          },
          "metadata": {
            "tags": []
          },
          "execution_count": 88
        }
      ]
    },
    {
      "cell_type": "code",
      "metadata": {
        "colab": {
          "base_uri": "https://localhost:8080/"
        },
        "id": "NaIYxXvJDeb2",
        "outputId": "7c94c962-c5c3-4bcf-ca5e-b569a04ece6d"
      },
      "source": [
        "np.zeros([2,2])"
      ],
      "execution_count": null,
      "outputs": [
        {
          "output_type": "execute_result",
          "data": {
            "text/plain": [
              "array([[0., 0.],\n",
              "       [0., 0.]])"
            ]
          },
          "metadata": {
            "tags": []
          },
          "execution_count": 89
        }
      ]
    },
    {
      "cell_type": "code",
      "metadata": {
        "colab": {
          "base_uri": "https://localhost:8080/"
        },
        "id": "QQBw43M3Ds2X",
        "outputId": "17f8a2d5-d884-485c-9c01-b387bad36292"
      },
      "source": [
        "np.ones([2,2])"
      ],
      "execution_count": null,
      "outputs": [
        {
          "output_type": "execute_result",
          "data": {
            "text/plain": [
              "array([[1., 1.],\n",
              "       [1., 1.]])"
            ]
          },
          "metadata": {
            "tags": []
          },
          "execution_count": 90
        }
      ]
    },
    {
      "cell_type": "code",
      "metadata": {
        "id": "chHxPZ-xD0xA"
      },
      "source": [
        "a=[1,2,3]"
      ],
      "execution_count": null,
      "outputs": []
    },
    {
      "cell_type": "code",
      "metadata": {
        "colab": {
          "base_uri": "https://localhost:8080/"
        },
        "id": "e8RJW3JVD3HK",
        "outputId": "79f4e01e-9adf-4e30-a1ce-207016ac1de1"
      },
      "source": [
        "a"
      ],
      "execution_count": null,
      "outputs": [
        {
          "output_type": "execute_result",
          "data": {
            "text/plain": [
              "[1, 2, 3]"
            ]
          },
          "metadata": {
            "tags": []
          },
          "execution_count": 92
        }
      ]
    },
    {
      "cell_type": "code",
      "metadata": {
        "colab": {
          "base_uri": "https://localhost:8080/"
        },
        "id": "up1-dLKXD3e9",
        "outputId": "035820ed-c42a-4ced-c8db-6417f1d34780"
      },
      "source": [
        "#repeating array given number of times\r\n",
        "np.tile(a,3)"
      ],
      "execution_count": null,
      "outputs": [
        {
          "output_type": "execute_result",
          "data": {
            "text/plain": [
              "array([1, 2, 3, 1, 2, 3, 1, 2, 3])"
            ]
          },
          "metadata": {
            "tags": []
          },
          "execution_count": 93
        }
      ]
    },
    {
      "cell_type": "code",
      "metadata": {
        "colab": {
          "base_uri": "https://localhost:8080/"
        },
        "id": "atbJhmIoD54K",
        "outputId": "ca1ec25f-a262-4a4b-c358-9632a49d1cc2"
      },
      "source": [
        "np.repeat(a,3)"
      ],
      "execution_count": null,
      "outputs": [
        {
          "output_type": "execute_result",
          "data": {
            "text/plain": [
              "array([1, 1, 1, 2, 2, 2, 3, 3, 3])"
            ]
          },
          "metadata": {
            "tags": []
          },
          "execution_count": 94
        }
      ]
    },
    {
      "cell_type": "code",
      "metadata": {
        "colab": {
          "base_uri": "https://localhost:8080/"
        },
        "id": "zuUDOUAAEAvj",
        "outputId": "f946b7de-4854-44c0-8e91-b81c5cf7b0be"
      },
      "source": [
        "np.repeat(arr2d,3)"
      ],
      "execution_count": null,
      "outputs": [
        {
          "output_type": "execute_result",
          "data": {
            "text/plain": [
              "array([-1., -1., -1.,  0.,  0.,  0.,  1.,  1.,  1.,  2.,  2.,  2.,  2.,\n",
              "        2.,  2.,  2.,  2.,  2.,  3.,  3.,  3.,  3.,  3.,  3.,  3.,  3.,\n",
              "        3.])"
            ]
          },
          "metadata": {
            "tags": []
          },
          "execution_count": 95
        }
      ]
    },
    {
      "cell_type": "code",
      "metadata": {
        "colab": {
          "base_uri": "https://localhost:8080/"
        },
        "id": "Pf1I8uCGEFg2",
        "outputId": "2b0f235e-ad40-46c3-99af-2eece4f97226"
      },
      "source": [
        "np.tile(arr2d,3)"
      ],
      "execution_count": null,
      "outputs": [
        {
          "output_type": "execute_result",
          "data": {
            "text/plain": [
              "array([[-1.,  0.,  1., -1.,  0.,  1., -1.,  0.,  1.],\n",
              "       [ 2.,  2.,  2.,  2.,  2.,  2.,  2.,  2.,  2.],\n",
              "       [ 3.,  3.,  3.,  3.,  3.,  3.,  3.,  3.,  3.]])"
            ]
          },
          "metadata": {
            "tags": []
          },
          "execution_count": 96
        }
      ]
    },
    {
      "cell_type": "code",
      "metadata": {
        "colab": {
          "base_uri": "https://localhost:8080/"
        },
        "id": "JqA6sg9HEIwg",
        "outputId": "b74a8151-4553-46a8-a296-43c0a80ddb05"
      },
      "source": [
        "#random numbers generation\r\n",
        "np.random.rand()"
      ],
      "execution_count": null,
      "outputs": [
        {
          "output_type": "execute_result",
          "data": {
            "text/plain": [
              "0.309694078089905"
            ]
          },
          "metadata": {
            "tags": []
          },
          "execution_count": 97
        }
      ]
    },
    {
      "cell_type": "code",
      "metadata": {
        "colab": {
          "base_uri": "https://localhost:8080/"
        },
        "id": "Z_He65v9EXHY",
        "outputId": "7ef31f06-fc99-4a87-9423-42332ac72d0c"
      },
      "source": [
        "np.random.rand(1,3)"
      ],
      "execution_count": null,
      "outputs": [
        {
          "output_type": "execute_result",
          "data": {
            "text/plain": [
              "array([[0.70899486, 0.60800165, 0.12225553]])"
            ]
          },
          "metadata": {
            "tags": []
          },
          "execution_count": 98
        }
      ]
    },
    {
      "cell_type": "code",
      "metadata": {
        "colab": {
          "base_uri": "https://localhost:8080/"
        },
        "id": "zu84OiTLEeBT",
        "outputId": "46b295b0-df1c-49dc-b19c-58319929b8c0"
      },
      "source": [
        "np.random.rand(3,3)"
      ],
      "execution_count": null,
      "outputs": [
        {
          "output_type": "execute_result",
          "data": {
            "text/plain": [
              "array([[0.20215232, 0.86576114, 0.26537279],\n",
              "       [0.42723655, 0.41924121, 0.57763505],\n",
              "       [0.76470011, 0.80776115, 0.17770051]])"
            ]
          },
          "metadata": {
            "tags": []
          },
          "execution_count": 99
        }
      ]
    },
    {
      "cell_type": "code",
      "metadata": {
        "colab": {
          "base_uri": "https://localhost:8080/"
        },
        "id": "BS_NzXrGEg9l",
        "outputId": "c5e764fe-5fb5-4e55-afa5-2770c6eef3e0"
      },
      "source": [
        "np.random.randn(3,3)"
      ],
      "execution_count": null,
      "outputs": [
        {
          "output_type": "execute_result",
          "data": {
            "text/plain": [
              "array([[-0.41654424, -0.17240244, -0.33252941],\n",
              "       [ 0.80220716,  0.68725905, -0.94299294],\n",
              "       [-0.8247923 ,  0.5720361 ,  0.06385854]])"
            ]
          },
          "metadata": {
            "tags": []
          },
          "execution_count": 100
        }
      ]
    },
    {
      "cell_type": "code",
      "metadata": {
        "colab": {
          "base_uri": "https://localhost:8080/"
        },
        "id": "F4y_3-8lEsRx",
        "outputId": "2d425089-c8fb-4db3-903c-316146246a15"
      },
      "source": [
        "np.random.randint(0,10,[3,3])"
      ],
      "execution_count": null,
      "outputs": [
        {
          "output_type": "execute_result",
          "data": {
            "text/plain": [
              "array([[9, 1, 1],\n",
              "       [0, 9, 0],\n",
              "       [8, 9, 6]])"
            ]
          },
          "metadata": {
            "tags": []
          },
          "execution_count": 101
        }
      ]
    },
    {
      "cell_type": "code",
      "metadata": {
        "colab": {
          "base_uri": "https://localhost:8080/"
        },
        "id": "fBoThRg3E-Pr",
        "outputId": "a0342170-6c6c-4176-82e4-63be0bbfd94e"
      },
      "source": [
        "#not changing random number even after reloading\r\n",
        "np.random.seed(0)\r\n",
        "np.random.randint(0,10,[3,3])"
      ],
      "execution_count": null,
      "outputs": [
        {
          "output_type": "execute_result",
          "data": {
            "text/plain": [
              "array([[5, 0, 3],\n",
              "       [3, 7, 9],\n",
              "       [3, 5, 2]])"
            ]
          },
          "metadata": {
            "tags": []
          },
          "execution_count": 102
        }
      ]
    },
    {
      "cell_type": "code",
      "metadata": {
        "colab": {
          "base_uri": "https://localhost:8080/"
        },
        "id": "y7PlVlnUFX00",
        "outputId": "c38c132f-36ce-4950-d346-3ce471bc0827"
      },
      "source": [
        "np.random.seed(1)\r\n",
        "np.random.randint(0,10,[3,3])"
      ],
      "execution_count": null,
      "outputs": [
        {
          "output_type": "execute_result",
          "data": {
            "text/plain": [
              "array([[5, 8, 9],\n",
              "       [5, 0, 0],\n",
              "       [1, 7, 6]])"
            ]
          },
          "metadata": {
            "tags": []
          },
          "execution_count": 103
        }
      ]
    },
    {
      "cell_type": "code",
      "metadata": {
        "colab": {
          "base_uri": "https://localhost:8080/"
        },
        "id": "QFcb2dEwFb6U",
        "outputId": "20ccc2cb-7ed3-4617-a54f-063248a70cdc"
      },
      "source": [
        "np.unique(arr2d)"
      ],
      "execution_count": null,
      "outputs": [
        {
          "output_type": "execute_result",
          "data": {
            "text/plain": [
              "array([-1.,  0.,  1.,  2.,  3.])"
            ]
          },
          "metadata": {
            "tags": []
          },
          "execution_count": 104
        }
      ]
    },
    {
      "cell_type": "code",
      "metadata": {
        "id": "HQwd5be3F0QM"
      },
      "source": [
        "uniques,counts=np.unique(arr2d,return_counts=True)"
      ],
      "execution_count": null,
      "outputs": []
    },
    {
      "cell_type": "code",
      "metadata": {
        "colab": {
          "base_uri": "https://localhost:8080/"
        },
        "id": "fE1MENlTF-XX",
        "outputId": "0f7e6a57-dc11-4e65-95a5-1b8b27e2f772"
      },
      "source": [
        "uniques"
      ],
      "execution_count": null,
      "outputs": [
        {
          "output_type": "execute_result",
          "data": {
            "text/plain": [
              "array([-1.,  0.,  1.,  2.,  3.])"
            ]
          },
          "metadata": {
            "tags": []
          },
          "execution_count": 106
        }
      ]
    },
    {
      "cell_type": "code",
      "metadata": {
        "colab": {
          "base_uri": "https://localhost:8080/"
        },
        "id": "URRe9NrIGNDD",
        "outputId": "14870295-ce12-4bba-fa6b-486fe3bce196"
      },
      "source": [
        "counts"
      ],
      "execution_count": null,
      "outputs": [
        {
          "output_type": "execute_result",
          "data": {
            "text/plain": [
              "array([1, 1, 1, 3, 3])"
            ]
          },
          "metadata": {
            "tags": []
          },
          "execution_count": 107
        }
      ]
    },
    {
      "cell_type": "code",
      "metadata": {
        "colab": {
          "base_uri": "https://localhost:8080/"
        },
        "id": "CqTPJTtaGN8J",
        "outputId": "cc229818-50e4-4b96-d370-b49490e7ac79"
      },
      "source": [
        "arr=np.array([8,94,2,4,5,6,48,8,5,3,4343])\r\n",
        "arr"
      ],
      "execution_count": null,
      "outputs": [
        {
          "output_type": "execute_result",
          "data": {
            "text/plain": [
              "array([   8,   94,    2,    4,    5,    6,   48,    8,    5,    3, 4343])"
            ]
          },
          "metadata": {
            "tags": []
          },
          "execution_count": 108
        }
      ]
    },
    {
      "cell_type": "code",
      "metadata": {
        "id": "0bWfR45iIZtj"
      },
      "source": [
        "index_gt10=np.where(arr>10)"
      ],
      "execution_count": null,
      "outputs": []
    },
    {
      "cell_type": "code",
      "metadata": {
        "colab": {
          "base_uri": "https://localhost:8080/"
        },
        "id": "6djzKCC1Ilz-",
        "outputId": "8fb696e1-c3db-4919-a97f-7036e99dce8d"
      },
      "source": [
        "index_gt10"
      ],
      "execution_count": null,
      "outputs": [
        {
          "output_type": "execute_result",
          "data": {
            "text/plain": [
              "(array([ 1,  6, 10]),)"
            ]
          },
          "metadata": {
            "tags": []
          },
          "execution_count": 110
        }
      ]
    },
    {
      "cell_type": "code",
      "metadata": {
        "colab": {
          "base_uri": "https://localhost:8080/"
        },
        "id": "225yKV72In06",
        "outputId": "e6e8f6b6-9938-46fd-b47e-1f908cbc7b46"
      },
      "source": [
        "arr[index_gt10]"
      ],
      "execution_count": null,
      "outputs": [
        {
          "output_type": "execute_result",
          "data": {
            "text/plain": [
              "array([  94,   48, 4343])"
            ]
          },
          "metadata": {
            "tags": []
          },
          "execution_count": 111
        }
      ]
    },
    {
      "cell_type": "code",
      "metadata": {
        "colab": {
          "base_uri": "https://localhost:8080/"
        },
        "id": "W10BFncmIs2K",
        "outputId": "06c631ca-097f-4e79-c429-02c4e3519201"
      },
      "source": [
        "arr[arr>10]"
      ],
      "execution_count": null,
      "outputs": [
        {
          "output_type": "execute_result",
          "data": {
            "text/plain": [
              "array([  94,   48, 4343])"
            ]
          },
          "metadata": {
            "tags": []
          },
          "execution_count": 112
        }
      ]
    },
    {
      "cell_type": "code",
      "metadata": {
        "colab": {
          "base_uri": "https://localhost:8080/"
        },
        "id": "7yAaAGzdIyry",
        "outputId": "7af372e7-5168-42af-f2a0-f566d9ed9b71"
      },
      "source": [
        "arr>10"
      ],
      "execution_count": null,
      "outputs": [
        {
          "output_type": "execute_result",
          "data": {
            "text/plain": [
              "array([False,  True, False, False, False, False,  True, False, False,\n",
              "       False,  True])"
            ]
          },
          "metadata": {
            "tags": []
          },
          "execution_count": 113
        }
      ]
    },
    {
      "cell_type": "code",
      "metadata": {
        "colab": {
          "base_uri": "https://localhost:8080/"
        },
        "id": "XeOyrFqSI7Z4",
        "outputId": "7b5f344e-c011-4f67-a8f1-e1a3ef15a025"
      },
      "source": [
        "np.where(arr>10,'gt10','lt10')"
      ],
      "execution_count": null,
      "outputs": [
        {
          "output_type": "execute_result",
          "data": {
            "text/plain": [
              "array(['lt10', 'gt10', 'lt10', 'lt10', 'lt10', 'lt10', 'gt10', 'lt10',\n",
              "       'lt10', 'lt10', 'gt10'], dtype='<U4')"
            ]
          },
          "metadata": {
            "tags": []
          },
          "execution_count": 114
        }
      ]
    },
    {
      "cell_type": "code",
      "metadata": {
        "colab": {
          "base_uri": "https://localhost:8080/"
        },
        "id": "FGO25QUDJUax",
        "outputId": "6694e317-d221-481a-a413-5a71126daa09"
      },
      "source": [
        "arr"
      ],
      "execution_count": null,
      "outputs": [
        {
          "output_type": "execute_result",
          "data": {
            "text/plain": [
              "array([   8,   94,    2,    4,    5,    6,   48,    8,    5,    3, 4343])"
            ]
          },
          "metadata": {
            "tags": []
          },
          "execution_count": 115
        }
      ]
    },
    {
      "cell_type": "code",
      "metadata": {
        "colab": {
          "base_uri": "https://localhost:8080/"
        },
        "id": "bgcrldmPJe-e",
        "outputId": "dfae3462-0f9d-442f-e036-e4bccbda634e"
      },
      "source": [
        "arr.max()"
      ],
      "execution_count": null,
      "outputs": [
        {
          "output_type": "execute_result",
          "data": {
            "text/plain": [
              "4343"
            ]
          },
          "metadata": {
            "tags": []
          },
          "execution_count": 116
        }
      ]
    },
    {
      "cell_type": "code",
      "metadata": {
        "colab": {
          "base_uri": "https://localhost:8080/"
        },
        "id": "r0D9dAjpJhIC",
        "outputId": "9316c1f0-abb2-41f0-ee4e-b001fbac8ba1"
      },
      "source": [
        "arr.argmax()"
      ],
      "execution_count": null,
      "outputs": [
        {
          "output_type": "execute_result",
          "data": {
            "text/plain": [
              "10"
            ]
          },
          "metadata": {
            "tags": []
          },
          "execution_count": 117
        }
      ]
    },
    {
      "cell_type": "code",
      "metadata": {
        "colab": {
          "base_uri": "https://localhost:8080/"
        },
        "id": "Ev_jUv41JjHj",
        "outputId": "120e7fad-600d-4251-abaa-fbcae5d4b596"
      },
      "source": [
        "arr[arr.argmax()]"
      ],
      "execution_count": null,
      "outputs": [
        {
          "output_type": "execute_result",
          "data": {
            "text/plain": [
              "4343"
            ]
          },
          "metadata": {
            "tags": []
          },
          "execution_count": 118
        }
      ]
    },
    {
      "cell_type": "code",
      "metadata": {
        "colab": {
          "base_uri": "https://localhost:8080/"
        },
        "id": "zj9ydBquJmYU",
        "outputId": "54c74144-4893-406d-d59d-93b8896bf48c"
      },
      "source": [
        "arr[arr.argmin()]"
      ],
      "execution_count": null,
      "outputs": [
        {
          "output_type": "execute_result",
          "data": {
            "text/plain": [
              "2"
            ]
          },
          "metadata": {
            "tags": []
          },
          "execution_count": 119
        }
      ]
    },
    {
      "cell_type": "code",
      "metadata": {
        "colab": {
          "base_uri": "https://localhost:8080/"
        },
        "id": "STLToWtqJrPX",
        "outputId": "09ab0442-eccf-4b7e-9743-920f07199109"
      },
      "source": [
        "arr.argmin()"
      ],
      "execution_count": null,
      "outputs": [
        {
          "output_type": "execute_result",
          "data": {
            "text/plain": [
              "2"
            ]
          },
          "metadata": {
            "tags": []
          },
          "execution_count": 120
        }
      ]
    },
    {
      "cell_type": "markdown",
      "metadata": {
        "id": "3jhPJmcOJ1og"
      },
      "source": [
        "# **Read and Write CSV file**"
      ]
    },
    {
      "cell_type": "code",
      "metadata": {
        "id": "qmnVzJqTJsXa"
      },
      "source": [
        "#np.genfromtxt(),np.loadtxt()"
      ],
      "execution_count": null,
      "outputs": []
    },
    {
      "cell_type": "code",
      "metadata": {
        "id": "uxnS6EPfYB0q"
      },
      "source": [
        "data=np.genfromtxt(\"https://raw.githubusercontent.com/selva86/datasets/master/Auto.csv\",delimiter=',',skip_header=1,filling_values=-1000,dtype='float')"
      ],
      "execution_count": null,
      "outputs": []
    },
    {
      "cell_type": "code",
      "metadata": {
        "colab": {
          "base_uri": "https://localhost:8080/"
        },
        "id": "D-ZovwjSaSdp",
        "outputId": "e69de1a4-c005-4900-99ea-8b7fad2bc2f7"
      },
      "source": [
        "data.shape"
      ],
      "execution_count": null,
      "outputs": [
        {
          "output_type": "execute_result",
          "data": {
            "text/plain": [
              "(392, 9)"
            ]
          },
          "metadata": {
            "tags": []
          },
          "execution_count": 123
        }
      ]
    },
    {
      "cell_type": "code",
      "metadata": {
        "colab": {
          "base_uri": "https://localhost:8080/"
        },
        "id": "feCUrwcIc8n2",
        "outputId": "f55d88aa-1629-4b24-df5b-fd55b2719fdb"
      },
      "source": [
        "np.set_printoptions(suppress=True)\r\n",
        "data[:3]"
      ],
      "execution_count": null,
      "outputs": [
        {
          "output_type": "execute_result",
          "data": {
            "text/plain": [
              "array([[   18. ,     8. ,   307. ,   130. ,  3504. ,    12. ,    70. ,\n",
              "            1. , -1000. ],\n",
              "       [   15. ,     8. ,   350. ,   165. ,  3693. ,    11.5,    70. ,\n",
              "            1. , -1000. ],\n",
              "       [   18. ,     8. ,   318. ,   150. ,  3436. ,    11. ,    70. ,\n",
              "            1. , -1000. ]])"
            ]
          },
          "metadata": {
            "tags": []
          },
          "execution_count": 124
        }
      ]
    },
    {
      "cell_type": "code",
      "metadata": {
        "colab": {
          "base_uri": "https://localhost:8080/"
        },
        "id": "9PC3qMnNdFKo",
        "outputId": "3f588472-f565-44c9-a0b1-bff97e36edb3"
      },
      "source": [
        "data2=np.genfromtxt(\"https://raw.githubusercontent.com/selva86/datasets/master/Auto.csv\",delimiter=',',skip_header=1,filling_values=-1000,dtype=None)\r\n",
        "data2[:3]"
      ],
      "execution_count": null,
      "outputs": [
        {
          "output_type": "stream",
          "text": [
            "/usr/local/lib/python3.6/dist-packages/ipykernel_launcher.py:1: VisibleDeprecationWarning: Reading unicode strings without specifying the encoding argument is deprecated. Set the encoding, use None for the system default.\n",
            "  \"\"\"Entry point for launching an IPython kernel.\n"
          ],
          "name": "stderr"
        },
        {
          "output_type": "execute_result",
          "data": {
            "text/plain": [
              "array([(18., 8, 307., 130, 3504, 12. , 70, 1, b'\"chevrolet chevelle malibu\"'),\n",
              "       (15., 8, 350., 165, 3693, 11.5, 70, 1, b'\"buick skylark 320\"'),\n",
              "       (18., 8, 318., 150, 3436, 11. , 70, 1, b'\"plymouth satellite\"')],\n",
              "      dtype=[('f0', '<f8'), ('f1', '<i8'), ('f2', '<f8'), ('f3', '<i8'), ('f4', '<i8'), ('f5', '<f8'), ('f6', '<i8'), ('f7', '<i8'), ('f8', 'S38')])"
            ]
          },
          "metadata": {
            "tags": []
          },
          "execution_count": 125
        }
      ]
    },
    {
      "cell_type": "code",
      "metadata": {
        "id": "PSaJFN7OdyhJ"
      },
      "source": [
        "np.savetxt('data.csv',data,delimiter=',')"
      ],
      "execution_count": null,
      "outputs": []
    },
    {
      "cell_type": "code",
      "metadata": {
        "colab": {
          "base_uri": "https://localhost:8080/"
        },
        "id": "aI1ejojagc1g",
        "outputId": "7427f4ff-60f6-424a-cd59-3a0447be3e9a"
      },
      "source": [
        "data"
      ],
      "execution_count": null,
      "outputs": [
        {
          "output_type": "execute_result",
          "data": {
            "text/plain": [
              "array([[   18.,     8.,   307., ...,    70.,     1., -1000.],\n",
              "       [   15.,     8.,   350., ...,    70.,     1., -1000.],\n",
              "       [   18.,     8.,   318., ...,    70.,     1., -1000.],\n",
              "       ...,\n",
              "       [   32.,     4.,   135., ...,    82.,     1., -1000.],\n",
              "       [   28.,     4.,   120., ...,    82.,     1., -1000.],\n",
              "       [   31.,     4.,   119., ...,    82.,     1., -1000.]])"
            ]
          },
          "metadata": {
            "tags": []
          },
          "execution_count": 127
        }
      ]
    },
    {
      "cell_type": "code",
      "metadata": {
        "id": "EEQKtE_7gfA1"
      },
      "source": [
        "np.save('data.npy',data)"
      ],
      "execution_count": null,
      "outputs": []
    },
    {
      "cell_type": "code",
      "metadata": {
        "id": "LMBos0sZgoa5"
      },
      "source": [
        "np.save('data2.npz',data,data2)"
      ],
      "execution_count": null,
      "outputs": []
    },
    {
      "cell_type": "code",
      "metadata": {
        "colab": {
          "base_uri": "https://localhost:8080/"
        },
        "id": "h77whzAQg928",
        "outputId": "95622fb5-0205-4b88-cb5b-596927246a71"
      },
      "source": [
        "d=np.load('data.npy')\r\n",
        "d"
      ],
      "execution_count": null,
      "outputs": [
        {
          "output_type": "execute_result",
          "data": {
            "text/plain": [
              "array([[   18.,     8.,   307., ...,    70.,     1., -1000.],\n",
              "       [   15.,     8.,   350., ...,    70.,     1., -1000.],\n",
              "       [   18.,     8.,   318., ...,    70.,     1., -1000.],\n",
              "       ...,\n",
              "       [   32.,     4.,   135., ...,    82.,     1., -1000.],\n",
              "       [   28.,     4.,   120., ...,    82.,     1., -1000.],\n",
              "       [   31.,     4.,   119., ...,    82.,     1., -1000.]])"
            ]
          },
          "metadata": {
            "tags": []
          },
          "execution_count": 130
        }
      ]
    },
    {
      "cell_type": "code",
      "metadata": {
        "id": "0pOksjDwhEQw"
      },
      "source": [
        "d2=np.load('data2.npz.npy')"
      ],
      "execution_count": null,
      "outputs": []
    },
    {
      "cell_type": "code",
      "metadata": {
        "colab": {
          "base_uri": "https://localhost:8080/"
        },
        "id": "pPQS6X0QhJ56",
        "outputId": "ea828a72-140d-48d9-9c75-ac2a7affaf84"
      },
      "source": [
        "d2"
      ],
      "execution_count": null,
      "outputs": [
        {
          "output_type": "execute_result",
          "data": {
            "text/plain": [
              "array([[   18.,     8.,   307., ...,    70.,     1., -1000.],\n",
              "       [   15.,     8.,   350., ...,    70.,     1., -1000.],\n",
              "       [   18.,     8.,   318., ...,    70.,     1., -1000.],\n",
              "       ...,\n",
              "       [   32.,     4.,   135., ...,    82.,     1., -1000.],\n",
              "       [   28.,     4.,   120., ...,    82.,     1., -1000.],\n",
              "       [   31.,     4.,   119., ...,    82.,     1., -1000.]])"
            ]
          },
          "metadata": {
            "tags": []
          },
          "execution_count": 132
        }
      ]
    },
    {
      "cell_type": "markdown",
      "metadata": {
        "id": "KlWGJxD3hfaf"
      },
      "source": [
        ""
      ]
    },
    {
      "cell_type": "code",
      "metadata": {
        "id": "9wSNRAoahb2n"
      },
      "source": [
        "# **Concat with row and col wise**"
      ],
      "execution_count": null,
      "outputs": []
    },
    {
      "cell_type": "code",
      "metadata": {
        "id": "sBh0uh-OhmUX"
      },
      "source": [
        "arr1=np.zeros([4,4])\r\n",
        "arr2=np.ones([4,4])"
      ],
      "execution_count": null,
      "outputs": []
    },
    {
      "cell_type": "code",
      "metadata": {
        "colab": {
          "base_uri": "https://localhost:8080/"
        },
        "id": "aSyTVvhkh3gS",
        "outputId": "cd8c512e-bbf9-4655-de7c-7b7f780d804c"
      },
      "source": [
        "arr1"
      ],
      "execution_count": null,
      "outputs": [
        {
          "output_type": "execute_result",
          "data": {
            "text/plain": [
              "array([[0., 0., 0., 0.],\n",
              "       [0., 0., 0., 0.],\n",
              "       [0., 0., 0., 0.],\n",
              "       [0., 0., 0., 0.]])"
            ]
          },
          "metadata": {
            "tags": []
          },
          "execution_count": 135
        }
      ]
    },
    {
      "cell_type": "code",
      "metadata": {
        "colab": {
          "base_uri": "https://localhost:8080/"
        },
        "id": "um0kgYDZh4Ij",
        "outputId": "0b9d31de-bbb2-4bab-a5da-2832e45ef09c"
      },
      "source": [
        "arr2"
      ],
      "execution_count": null,
      "outputs": [
        {
          "output_type": "execute_result",
          "data": {
            "text/plain": [
              "array([[1., 1., 1., 1.],\n",
              "       [1., 1., 1., 1.],\n",
              "       [1., 1., 1., 1.],\n",
              "       [1., 1., 1., 1.]])"
            ]
          },
          "metadata": {
            "tags": []
          },
          "execution_count": 136
        }
      ]
    },
    {
      "cell_type": "code",
      "metadata": {
        "colab": {
          "base_uri": "https://localhost:8080/"
        },
        "id": "E_3v_GWAh4r0",
        "outputId": "22e84ecd-5ecf-4aed-cc21-7b0b7caa5f6f"
      },
      "source": [
        "# np.concatenate,np.vstack,np.r_\r\n",
        "np.concatenate([arr1,arr2],axis=0)"
      ],
      "execution_count": null,
      "outputs": [
        {
          "output_type": "execute_result",
          "data": {
            "text/plain": [
              "array([[0., 0., 0., 0.],\n",
              "       [0., 0., 0., 0.],\n",
              "       [0., 0., 0., 0.],\n",
              "       [0., 0., 0., 0.],\n",
              "       [1., 1., 1., 1.],\n",
              "       [1., 1., 1., 1.],\n",
              "       [1., 1., 1., 1.],\n",
              "       [1., 1., 1., 1.]])"
            ]
          },
          "metadata": {
            "tags": []
          },
          "execution_count": 137
        }
      ]
    },
    {
      "cell_type": "code",
      "metadata": {
        "colab": {
          "base_uri": "https://localhost:8080/"
        },
        "id": "CIOPttrViEo2",
        "outputId": "5cfbc843-5346-4139-9e40-7b8def446cde"
      },
      "source": [
        "np.vstack([arr1,arr2])"
      ],
      "execution_count": null,
      "outputs": [
        {
          "output_type": "execute_result",
          "data": {
            "text/plain": [
              "array([[0., 0., 0., 0.],\n",
              "       [0., 0., 0., 0.],\n",
              "       [0., 0., 0., 0.],\n",
              "       [0., 0., 0., 0.],\n",
              "       [1., 1., 1., 1.],\n",
              "       [1., 1., 1., 1.],\n",
              "       [1., 1., 1., 1.],\n",
              "       [1., 1., 1., 1.]])"
            ]
          },
          "metadata": {
            "tags": []
          },
          "execution_count": 138
        }
      ]
    },
    {
      "cell_type": "code",
      "metadata": {
        "colab": {
          "base_uri": "https://localhost:8080/"
        },
        "id": "IWZBkqAViKga",
        "outputId": "c9d7151e-f63a-4ecb-9098-d2ff77d4dad4"
      },
      "source": [
        "np.r_[arr1,arr2]"
      ],
      "execution_count": null,
      "outputs": [
        {
          "output_type": "execute_result",
          "data": {
            "text/plain": [
              "array([[0., 0., 0., 0.],\n",
              "       [0., 0., 0., 0.],\n",
              "       [0., 0., 0., 0.],\n",
              "       [0., 0., 0., 0.],\n",
              "       [1., 1., 1., 1.],\n",
              "       [1., 1., 1., 1.],\n",
              "       [1., 1., 1., 1.],\n",
              "       [1., 1., 1., 1.]])"
            ]
          },
          "metadata": {
            "tags": []
          },
          "execution_count": 139
        }
      ]
    },
    {
      "cell_type": "code",
      "metadata": {
        "colab": {
          "base_uri": "https://localhost:8080/"
        },
        "id": "inMRrkeYiTU2",
        "outputId": "371b6fdd-54b4-4277-965a-20f7182d3c88"
      },
      "source": [
        "np.concatenate([arr1,arr2],axis=1)"
      ],
      "execution_count": null,
      "outputs": [
        {
          "output_type": "execute_result",
          "data": {
            "text/plain": [
              "array([[0., 0., 0., 0., 1., 1., 1., 1.],\n",
              "       [0., 0., 0., 0., 1., 1., 1., 1.],\n",
              "       [0., 0., 0., 0., 1., 1., 1., 1.],\n",
              "       [0., 0., 0., 0., 1., 1., 1., 1.]])"
            ]
          },
          "metadata": {
            "tags": []
          },
          "execution_count": 140
        }
      ]
    },
    {
      "cell_type": "code",
      "metadata": {
        "colab": {
          "base_uri": "https://localhost:8080/"
        },
        "id": "NpPm_Wi0jglF",
        "outputId": "d65766dd-5353-4027-d603-6dc41900df7c"
      },
      "source": [
        "np.hstack([arr1,arr2])"
      ],
      "execution_count": null,
      "outputs": [
        {
          "output_type": "execute_result",
          "data": {
            "text/plain": [
              "array([[0., 0., 0., 0., 1., 1., 1., 1.],\n",
              "       [0., 0., 0., 0., 1., 1., 1., 1.],\n",
              "       [0., 0., 0., 0., 1., 1., 1., 1.],\n",
              "       [0., 0., 0., 0., 1., 1., 1., 1.]])"
            ]
          },
          "metadata": {
            "tags": []
          },
          "execution_count": 141
        }
      ]
    },
    {
      "cell_type": "code",
      "metadata": {
        "colab": {
          "base_uri": "https://localhost:8080/"
        },
        "id": "irk3d-jWjkgV",
        "outputId": "863469de-93a3-469b-de7b-774caeac3862"
      },
      "source": [
        "np.c_[arr1,arr2]"
      ],
      "execution_count": null,
      "outputs": [
        {
          "output_type": "execute_result",
          "data": {
            "text/plain": [
              "array([[0., 0., 0., 0., 1., 1., 1., 1.],\n",
              "       [0., 0., 0., 0., 1., 1., 1., 1.],\n",
              "       [0., 0., 0., 0., 1., 1., 1., 1.],\n",
              "       [0., 0., 0., 0., 1., 1., 1., 1.]])"
            ]
          },
          "metadata": {
            "tags": []
          },
          "execution_count": 142
        }
      ]
    },
    {
      "cell_type": "markdown",
      "metadata": {
        "id": "CxjhqPXljsXp"
      },
      "source": [
        "# **Sort a numpy array**"
      ]
    },
    {
      "cell_type": "code",
      "metadata": {
        "id": "WWpeVLifjpi0"
      },
      "source": [
        "arr=np.random.randint(1,10,size=[10,5])"
      ],
      "execution_count": null,
      "outputs": []
    },
    {
      "cell_type": "code",
      "metadata": {
        "colab": {
          "base_uri": "https://localhost:8080/"
        },
        "id": "Xl__QXAfj3by",
        "outputId": "69f22254-422b-47ad-d24e-cb05d0b30bb1"
      },
      "source": [
        "arr"
      ],
      "execution_count": null,
      "outputs": [
        {
          "output_type": "execute_result",
          "data": {
            "text/plain": [
              "array([[3, 5, 6, 3, 5],\n",
              "       [3, 5, 8, 8, 2],\n",
              "       [8, 1, 7, 8, 7],\n",
              "       [2, 1, 2, 9, 9],\n",
              "       [4, 9, 8, 4, 7],\n",
              "       [6, 2, 4, 5, 9],\n",
              "       [2, 5, 1, 4, 3],\n",
              "       [1, 5, 3, 8, 8],\n",
              "       [9, 7, 4, 8, 8],\n",
              "       [5, 6, 4, 7, 9]])"
            ]
          },
          "metadata": {
            "tags": []
          },
          "execution_count": 144
        }
      ]
    },
    {
      "cell_type": "code",
      "metadata": {
        "colab": {
          "base_uri": "https://localhost:8080/"
        },
        "id": "aGe91IKfj3zu",
        "outputId": "8ae1316c-c59c-4e88-ec66-3481729d57e1"
      },
      "source": [
        "np.sort(arr,axis=0)"
      ],
      "execution_count": null,
      "outputs": [
        {
          "output_type": "execute_result",
          "data": {
            "text/plain": [
              "array([[1, 1, 1, 3, 2],\n",
              "       [2, 1, 2, 4, 3],\n",
              "       [2, 2, 3, 4, 5],\n",
              "       [3, 5, 4, 5, 7],\n",
              "       [3, 5, 4, 7, 7],\n",
              "       [4, 5, 4, 8, 8],\n",
              "       [5, 5, 6, 8, 8],\n",
              "       [6, 6, 7, 8, 9],\n",
              "       [8, 7, 8, 8, 9],\n",
              "       [9, 9, 8, 9, 9]])"
            ]
          },
          "metadata": {
            "tags": []
          },
          "execution_count": 145
        }
      ]
    },
    {
      "cell_type": "code",
      "metadata": {
        "id": "umHXT_tBkMRo"
      },
      "source": [
        "si=arr[:,0].argsort()"
      ],
      "execution_count": null,
      "outputs": []
    },
    {
      "cell_type": "code",
      "metadata": {
        "colab": {
          "base_uri": "https://localhost:8080/"
        },
        "id": "0qY3Un2mkros",
        "outputId": "f45f04da-769c-4482-8c1e-c8bc9565b060"
      },
      "source": [
        "arr[si]"
      ],
      "execution_count": null,
      "outputs": [
        {
          "output_type": "execute_result",
          "data": {
            "text/plain": [
              "array([[1, 5, 3, 8, 8],\n",
              "       [2, 1, 2, 9, 9],\n",
              "       [2, 5, 1, 4, 3],\n",
              "       [3, 5, 6, 3, 5],\n",
              "       [3, 5, 8, 8, 2],\n",
              "       [4, 9, 8, 4, 7],\n",
              "       [5, 6, 4, 7, 9],\n",
              "       [6, 2, 4, 5, 9],\n",
              "       [8, 1, 7, 8, 7],\n",
              "       [9, 7, 4, 8, 8]])"
            ]
          },
          "metadata": {
            "tags": []
          },
          "execution_count": 147
        }
      ]
    },
    {
      "cell_type": "code",
      "metadata": {
        "colab": {
          "base_uri": "https://localhost:8080/"
        },
        "id": "4DMsSPndk9hG",
        "outputId": "9b55ef00-bb5e-418d-8b8f-0ddfe02c3504"
      },
      "source": [
        "arr"
      ],
      "execution_count": null,
      "outputs": [
        {
          "output_type": "execute_result",
          "data": {
            "text/plain": [
              "array([[3, 5, 6, 3, 5],\n",
              "       [3, 5, 8, 8, 2],\n",
              "       [8, 1, 7, 8, 7],\n",
              "       [2, 1, 2, 9, 9],\n",
              "       [4, 9, 8, 4, 7],\n",
              "       [6, 2, 4, 5, 9],\n",
              "       [2, 5, 1, 4, 3],\n",
              "       [1, 5, 3, 8, 8],\n",
              "       [9, 7, 4, 8, 8],\n",
              "       [5, 6, 4, 7, 9]])"
            ]
          },
          "metadata": {
            "tags": []
          },
          "execution_count": 148
        }
      ]
    },
    {
      "cell_type": "markdown",
      "metadata": {
        "id": "gUnEVYa2lD-4"
      },
      "source": [
        "# **Working With Dates**"
      ]
    },
    {
      "cell_type": "code",
      "metadata": {
        "id": "x5RE-nNAlCmr"
      },
      "source": [
        "d=np.datetime64('2019-06-02 23:10:00')"
      ],
      "execution_count": null,
      "outputs": []
    },
    {
      "cell_type": "code",
      "metadata": {
        "colab": {
          "base_uri": "https://localhost:8080/"
        },
        "id": "YZvkyTCKlr6f",
        "outputId": "d8c4c47b-2892-46a1-e004-8c39321835f6"
      },
      "source": [
        "d"
      ],
      "execution_count": null,
      "outputs": [
        {
          "output_type": "execute_result",
          "data": {
            "text/plain": [
              "numpy.datetime64('2019-06-02T23:10:00')"
            ]
          },
          "metadata": {
            "tags": []
          },
          "execution_count": 150
        }
      ]
    },
    {
      "cell_type": "code",
      "metadata": {
        "colab": {
          "base_uri": "https://localhost:8080/"
        },
        "id": "GjkfFmvGlsE5",
        "outputId": "e5376a4a-72aa-453b-9c3d-bf146d845ce3"
      },
      "source": [
        "d+1000"
      ],
      "execution_count": null,
      "outputs": [
        {
          "output_type": "execute_result",
          "data": {
            "text/plain": [
              "numpy.datetime64('2019-06-02T23:26:40')"
            ]
          },
          "metadata": {
            "tags": []
          },
          "execution_count": 151
        }
      ]
    },
    {
      "cell_type": "code",
      "metadata": {
        "colab": {
          "base_uri": "https://localhost:8080/"
        },
        "id": "sTs-vUoal3Fn",
        "outputId": "7261baf7-d102-45ef-aa4a-8bbf70936e40"
      },
      "source": [
        "16*60+40"
      ],
      "execution_count": null,
      "outputs": [
        {
          "output_type": "execute_result",
          "data": {
            "text/plain": [
              "1000"
            ]
          },
          "metadata": {
            "tags": []
          },
          "execution_count": 152
        }
      ]
    },
    {
      "cell_type": "code",
      "metadata": {
        "id": "wd1SehdLl6cn"
      },
      "source": [
        "oneday=np.timedelta64(1,'D')"
      ],
      "execution_count": null,
      "outputs": []
    },
    {
      "cell_type": "code",
      "metadata": {
        "colab": {
          "base_uri": "https://localhost:8080/"
        },
        "id": "JkZMqNJ6mI1B",
        "outputId": "9b1cc5c1-59d7-497c-f57d-0dccda716f1b"
      },
      "source": [
        "oneday"
      ],
      "execution_count": null,
      "outputs": [
        {
          "output_type": "execute_result",
          "data": {
            "text/plain": [
              "numpy.timedelta64(1,'D')"
            ]
          },
          "metadata": {
            "tags": []
          },
          "execution_count": 154
        }
      ]
    },
    {
      "cell_type": "code",
      "metadata": {
        "colab": {
          "base_uri": "https://localhost:8080/"
        },
        "id": "Rps31oU8mJta",
        "outputId": "9cd6e4d5-d186-4296-f1cd-5ced1f8af01b"
      },
      "source": [
        "d+oneday"
      ],
      "execution_count": null,
      "outputs": [
        {
          "output_type": "execute_result",
          "data": {
            "text/plain": [
              "numpy.datetime64('2019-06-03T23:10:00')"
            ]
          },
          "metadata": {
            "tags": []
          },
          "execution_count": 155
        }
      ]
    },
    {
      "cell_type": "code",
      "metadata": {
        "id": "vh_Bm2KUmKzG"
      },
      "source": [
        "oneminute=np.timedelta64(1,'m')"
      ],
      "execution_count": null,
      "outputs": []
    },
    {
      "cell_type": "code",
      "metadata": {
        "colab": {
          "base_uri": "https://localhost:8080/"
        },
        "id": "bzl0ugVXmQK-",
        "outputId": "4d34d894-d2c3-4395-ceb9-737ccdc978b8"
      },
      "source": [
        "d+oneminute"
      ],
      "execution_count": null,
      "outputs": [
        {
          "output_type": "execute_result",
          "data": {
            "text/plain": [
              "numpy.datetime64('2019-06-02T23:11:00')"
            ]
          },
          "metadata": {
            "tags": []
          },
          "execution_count": 157
        }
      ]
    },
    {
      "cell_type": "code",
      "metadata": {
        "colab": {
          "base_uri": "https://localhost:8080/"
        },
        "id": "dKC0pEe8mRp2",
        "outputId": "6b36c51d-129f-4fe0-9945-f6d2c8fd9d5c"
      },
      "source": [
        "dates=np.arange(np.datetime64('2019-06-02'),np.datetime64('2020-06-02'))\r\n",
        "dates"
      ],
      "execution_count": null,
      "outputs": [
        {
          "output_type": "execute_result",
          "data": {
            "text/plain": [
              "array(['2019-06-02', '2019-06-03', '2019-06-04', '2019-06-05',\n",
              "       '2019-06-06', '2019-06-07', '2019-06-08', '2019-06-09',\n",
              "       '2019-06-10', '2019-06-11', '2019-06-12', '2019-06-13',\n",
              "       '2019-06-14', '2019-06-15', '2019-06-16', '2019-06-17',\n",
              "       '2019-06-18', '2019-06-19', '2019-06-20', '2019-06-21',\n",
              "       '2019-06-22', '2019-06-23', '2019-06-24', '2019-06-25',\n",
              "       '2019-06-26', '2019-06-27', '2019-06-28', '2019-06-29',\n",
              "       '2019-06-30', '2019-07-01', '2019-07-02', '2019-07-03',\n",
              "       '2019-07-04', '2019-07-05', '2019-07-06', '2019-07-07',\n",
              "       '2019-07-08', '2019-07-09', '2019-07-10', '2019-07-11',\n",
              "       '2019-07-12', '2019-07-13', '2019-07-14', '2019-07-15',\n",
              "       '2019-07-16', '2019-07-17', '2019-07-18', '2019-07-19',\n",
              "       '2019-07-20', '2019-07-21', '2019-07-22', '2019-07-23',\n",
              "       '2019-07-24', '2019-07-25', '2019-07-26', '2019-07-27',\n",
              "       '2019-07-28', '2019-07-29', '2019-07-30', '2019-07-31',\n",
              "       '2019-08-01', '2019-08-02', '2019-08-03', '2019-08-04',\n",
              "       '2019-08-05', '2019-08-06', '2019-08-07', '2019-08-08',\n",
              "       '2019-08-09', '2019-08-10', '2019-08-11', '2019-08-12',\n",
              "       '2019-08-13', '2019-08-14', '2019-08-15', '2019-08-16',\n",
              "       '2019-08-17', '2019-08-18', '2019-08-19', '2019-08-20',\n",
              "       '2019-08-21', '2019-08-22', '2019-08-23', '2019-08-24',\n",
              "       '2019-08-25', '2019-08-26', '2019-08-27', '2019-08-28',\n",
              "       '2019-08-29', '2019-08-30', '2019-08-31', '2019-09-01',\n",
              "       '2019-09-02', '2019-09-03', '2019-09-04', '2019-09-05',\n",
              "       '2019-09-06', '2019-09-07', '2019-09-08', '2019-09-09',\n",
              "       '2019-09-10', '2019-09-11', '2019-09-12', '2019-09-13',\n",
              "       '2019-09-14', '2019-09-15', '2019-09-16', '2019-09-17',\n",
              "       '2019-09-18', '2019-09-19', '2019-09-20', '2019-09-21',\n",
              "       '2019-09-22', '2019-09-23', '2019-09-24', '2019-09-25',\n",
              "       '2019-09-26', '2019-09-27', '2019-09-28', '2019-09-29',\n",
              "       '2019-09-30', '2019-10-01', '2019-10-02', '2019-10-03',\n",
              "       '2019-10-04', '2019-10-05', '2019-10-06', '2019-10-07',\n",
              "       '2019-10-08', '2019-10-09', '2019-10-10', '2019-10-11',\n",
              "       '2019-10-12', '2019-10-13', '2019-10-14', '2019-10-15',\n",
              "       '2019-10-16', '2019-10-17', '2019-10-18', '2019-10-19',\n",
              "       '2019-10-20', '2019-10-21', '2019-10-22', '2019-10-23',\n",
              "       '2019-10-24', '2019-10-25', '2019-10-26', '2019-10-27',\n",
              "       '2019-10-28', '2019-10-29', '2019-10-30', '2019-10-31',\n",
              "       '2019-11-01', '2019-11-02', '2019-11-03', '2019-11-04',\n",
              "       '2019-11-05', '2019-11-06', '2019-11-07', '2019-11-08',\n",
              "       '2019-11-09', '2019-11-10', '2019-11-11', '2019-11-12',\n",
              "       '2019-11-13', '2019-11-14', '2019-11-15', '2019-11-16',\n",
              "       '2019-11-17', '2019-11-18', '2019-11-19', '2019-11-20',\n",
              "       '2019-11-21', '2019-11-22', '2019-11-23', '2019-11-24',\n",
              "       '2019-11-25', '2019-11-26', '2019-11-27', '2019-11-28',\n",
              "       '2019-11-29', '2019-11-30', '2019-12-01', '2019-12-02',\n",
              "       '2019-12-03', '2019-12-04', '2019-12-05', '2019-12-06',\n",
              "       '2019-12-07', '2019-12-08', '2019-12-09', '2019-12-10',\n",
              "       '2019-12-11', '2019-12-12', '2019-12-13', '2019-12-14',\n",
              "       '2019-12-15', '2019-12-16', '2019-12-17', '2019-12-18',\n",
              "       '2019-12-19', '2019-12-20', '2019-12-21', '2019-12-22',\n",
              "       '2019-12-23', '2019-12-24', '2019-12-25', '2019-12-26',\n",
              "       '2019-12-27', '2019-12-28', '2019-12-29', '2019-12-30',\n",
              "       '2019-12-31', '2020-01-01', '2020-01-02', '2020-01-03',\n",
              "       '2020-01-04', '2020-01-05', '2020-01-06', '2020-01-07',\n",
              "       '2020-01-08', '2020-01-09', '2020-01-10', '2020-01-11',\n",
              "       '2020-01-12', '2020-01-13', '2020-01-14', '2020-01-15',\n",
              "       '2020-01-16', '2020-01-17', '2020-01-18', '2020-01-19',\n",
              "       '2020-01-20', '2020-01-21', '2020-01-22', '2020-01-23',\n",
              "       '2020-01-24', '2020-01-25', '2020-01-26', '2020-01-27',\n",
              "       '2020-01-28', '2020-01-29', '2020-01-30', '2020-01-31',\n",
              "       '2020-02-01', '2020-02-02', '2020-02-03', '2020-02-04',\n",
              "       '2020-02-05', '2020-02-06', '2020-02-07', '2020-02-08',\n",
              "       '2020-02-09', '2020-02-10', '2020-02-11', '2020-02-12',\n",
              "       '2020-02-13', '2020-02-14', '2020-02-15', '2020-02-16',\n",
              "       '2020-02-17', '2020-02-18', '2020-02-19', '2020-02-20',\n",
              "       '2020-02-21', '2020-02-22', '2020-02-23', '2020-02-24',\n",
              "       '2020-02-25', '2020-02-26', '2020-02-27', '2020-02-28',\n",
              "       '2020-02-29', '2020-03-01', '2020-03-02', '2020-03-03',\n",
              "       '2020-03-04', '2020-03-05', '2020-03-06', '2020-03-07',\n",
              "       '2020-03-08', '2020-03-09', '2020-03-10', '2020-03-11',\n",
              "       '2020-03-12', '2020-03-13', '2020-03-14', '2020-03-15',\n",
              "       '2020-03-16', '2020-03-17', '2020-03-18', '2020-03-19',\n",
              "       '2020-03-20', '2020-03-21', '2020-03-22', '2020-03-23',\n",
              "       '2020-03-24', '2020-03-25', '2020-03-26', '2020-03-27',\n",
              "       '2020-03-28', '2020-03-29', '2020-03-30', '2020-03-31',\n",
              "       '2020-04-01', '2020-04-02', '2020-04-03', '2020-04-04',\n",
              "       '2020-04-05', '2020-04-06', '2020-04-07', '2020-04-08',\n",
              "       '2020-04-09', '2020-04-10', '2020-04-11', '2020-04-12',\n",
              "       '2020-04-13', '2020-04-14', '2020-04-15', '2020-04-16',\n",
              "       '2020-04-17', '2020-04-18', '2020-04-19', '2020-04-20',\n",
              "       '2020-04-21', '2020-04-22', '2020-04-23', '2020-04-24',\n",
              "       '2020-04-25', '2020-04-26', '2020-04-27', '2020-04-28',\n",
              "       '2020-04-29', '2020-04-30', '2020-05-01', '2020-05-02',\n",
              "       '2020-05-03', '2020-05-04', '2020-05-05', '2020-05-06',\n",
              "       '2020-05-07', '2020-05-08', '2020-05-09', '2020-05-10',\n",
              "       '2020-05-11', '2020-05-12', '2020-05-13', '2020-05-14',\n",
              "       '2020-05-15', '2020-05-16', '2020-05-17', '2020-05-18',\n",
              "       '2020-05-19', '2020-05-20', '2020-05-21', '2020-05-22',\n",
              "       '2020-05-23', '2020-05-24', '2020-05-25', '2020-05-26',\n",
              "       '2020-05-27', '2020-05-28', '2020-05-29', '2020-05-30',\n",
              "       '2020-05-31', '2020-06-01'], dtype='datetime64[D]')"
            ]
          },
          "metadata": {
            "tags": []
          },
          "execution_count": 158
        }
      ]
    },
    {
      "cell_type": "markdown",
      "metadata": {
        "id": "R1-I7ve9ndsP"
      },
      "source": [
        "# **Numpy advanced function**"
      ]
    },
    {
      "cell_type": "code",
      "metadata": {
        "id": "YeQyxQZemkYs"
      },
      "source": [
        "#vectorize()"
      ],
      "execution_count": null,
      "outputs": []
    },
    {
      "cell_type": "code",
      "metadata": {
        "colab": {
          "base_uri": "https://localhost:8080/"
        },
        "id": "-rdQfFKfnk15",
        "outputId": "d8bf8dbb-1b6a-4e0e-a165-c9fc9a8a6cab"
      },
      "source": [
        "def fool(x):\r\n",
        "  if x%2==1:\r\n",
        "    return x**2\r\n",
        "  else:\r\n",
        "    return x/2\r\n",
        "fool(11)"
      ],
      "execution_count": null,
      "outputs": [
        {
          "output_type": "execute_result",
          "data": {
            "text/plain": [
              "121"
            ]
          },
          "metadata": {
            "tags": []
          },
          "execution_count": 160
        }
      ]
    },
    {
      "cell_type": "code",
      "metadata": {
        "id": "D4lHv0bdnuSQ"
      },
      "source": [
        "fool_v=np.vectorize(fool,otypes=[float])"
      ],
      "execution_count": null,
      "outputs": []
    },
    {
      "cell_type": "code",
      "metadata": {
        "colab": {
          "base_uri": "https://localhost:8080/"
        },
        "id": "hc00-p11n6y0",
        "outputId": "c0994b00-f8a6-45c8-c8af-f90712e78f1f"
      },
      "source": [
        "arr"
      ],
      "execution_count": null,
      "outputs": [
        {
          "output_type": "execute_result",
          "data": {
            "text/plain": [
              "array([[3, 5, 6, 3, 5],\n",
              "       [3, 5, 8, 8, 2],\n",
              "       [8, 1, 7, 8, 7],\n",
              "       [2, 1, 2, 9, 9],\n",
              "       [4, 9, 8, 4, 7],\n",
              "       [6, 2, 4, 5, 9],\n",
              "       [2, 5, 1, 4, 3],\n",
              "       [1, 5, 3, 8, 8],\n",
              "       [9, 7, 4, 8, 8],\n",
              "       [5, 6, 4, 7, 9]])"
            ]
          },
          "metadata": {
            "tags": []
          },
          "execution_count": 162
        }
      ]
    },
    {
      "cell_type": "code",
      "metadata": {
        "colab": {
          "base_uri": "https://localhost:8080/"
        },
        "id": "GE0mC9w9n7KB",
        "outputId": "88ae44b6-4956-406e-f381-e586440193d8"
      },
      "source": [
        "fool_v(arr)"
      ],
      "execution_count": null,
      "outputs": [
        {
          "output_type": "execute_result",
          "data": {
            "text/plain": [
              "array([[ 9., 25.,  3.,  9., 25.],\n",
              "       [ 9., 25.,  4.,  4.,  1.],\n",
              "       [ 4.,  1., 49.,  4., 49.],\n",
              "       [ 1.,  1.,  1., 81., 81.],\n",
              "       [ 2., 81.,  4.,  2., 49.],\n",
              "       [ 3.,  1.,  2., 25., 81.],\n",
              "       [ 1., 25.,  1.,  2.,  9.],\n",
              "       [ 1., 25.,  9.,  4.,  4.],\n",
              "       [81., 49.,  2.,  4.,  4.],\n",
              "       [25.,  3.,  2., 49., 81.]])"
            ]
          },
          "metadata": {
            "tags": []
          },
          "execution_count": 163
        }
      ]
    },
    {
      "cell_type": "code",
      "metadata": {
        "id": "Y05FK2PQn9oa"
      },
      "source": [
        ""
      ],
      "execution_count": null,
      "outputs": []
    }
  ]
}